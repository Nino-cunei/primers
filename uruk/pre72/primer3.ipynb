{
 "cells": [
  {
   "cell_type": "markdown",
   "metadata": {
    "toc": true
   },
   "source": [
    "<h1>Table of Contents<span class=\"tocSkip\"></span></h1>\n",
    "<div class=\"toc\" style=\"margin-top: 1em;\"><ul class=\"toc-item\"><li><span><a href=\"#Installing-Text-Fabric\" data-toc-modified-id=\"Installing-Text-Fabric-1\"><span class=\"toc-item-num\">1&nbsp;&nbsp;</span>Installing Text-Fabric</a></span><ul class=\"toc-item\"><li><span><a href=\"#Prerequisites\" data-toc-modified-id=\"Prerequisites-1.1\"><span class=\"toc-item-num\">1.1&nbsp;&nbsp;</span>Prerequisites</a></span></li><li><span><a href=\"#TF-itself\" data-toc-modified-id=\"TF-itself-1.2\"><span class=\"toc-item-num\">1.2&nbsp;&nbsp;</span>TF itself</a></span></li></ul></li><li><span><a href=\"#Checking-our-results-with-GREP\" data-toc-modified-id=\"Checking-our-results-with-GREP-2\"><span class=\"toc-item-num\">2&nbsp;&nbsp;</span>Checking our results with GREP</a></span></li><li><span><a href=\"#Reflection-on-GREP\" data-toc-modified-id=\"Reflection-on-GREP-3\"><span class=\"toc-item-num\">3&nbsp;&nbsp;</span>Reflection on GREP</a></span></li></ul></div>"
   ]
  },
  {
   "cell_type": "markdown",
   "metadata": {},
   "source": [
    "# Primer 3\n",
    "\n",
    "This is the third in a series of primers on the use of [Text-Fabric](https://github.com/Dans-labs/text-fabric) for analyzing proto-cuneiform. This primer continues with our exploration of subcases in proto-cuneiform, but focuses the use of queries within Text-Fabric and verifying the results of a TF query, using regular expressions in the source text.\n",
    "\n",
    "Primer 1 is available [here](primer1.ipnynb), and Primer 2 [here](primer2.ipynb), and there is also a set of tutorials on the use of Text-Fabric to analyze proto-cuneiform are available [here](https://github.com/Nino-cunei/tutorials/blob/master/start.ipynb).\n",
    "\n",
    "In this primer we are going to focus on a tablet in which individual portions of meat and fish are being distributed to a group of elites personnel or office-holders on a specific occasion: [P005213](https://cdli.ucla.edu/P005213), which was published as MSVO 1, 146. Two orthographies are characteristic of this text, the occurrence of SZITA~a1 or related signs for elite distributions such as |SILA3~axKU6~a|, typically alongside a numeral in a subcase, and |ZATU659x1(N01)| alongside a job title in the superordinate case."
   ]
  },
  {
   "cell_type": "markdown",
   "metadata": {},
   "source": [
    "## Installing Text-Fabric\n",
    "\n",
    "You need to have Python on your system. Most systems have it out of the box,\n",
    "but alas, that is python2 and we need at least python 3.6.\n",
    "\n",
    "Install it from [python.org]() or from [Anaconda]().\n",
    "If you got it from python.org, you also have to install [Jupyter]().\n",
    "\n",
    "```\n",
    "pip install text-fabric\n",
    "```\n",
    "\n",
    "if you have installed Python with the help of Anaconda, or\n",
    "\n",
    "```\n",
    "sudo -H pip3 install text-fabric\n",
    "```\n",
    "if you have installed Python from [python.org](https://www.python.org).\n",
    "\n",
    "###### Execute: If all this is done, the following cells can be executed."
   ]
  },
  {
   "cell_type": "code",
   "execution_count": 1,
   "metadata": {
    "ExecuteTime": {
     "end_time": "2018-05-01T18:03:07.212447Z",
     "start_time": "2018-05-01T18:03:07.146455Z"
    }
   },
   "outputs": [],
   "source": [
    "import sys, os\n",
    "import collections\n",
    "from IPython.display import display, Markdown\n",
    "from tf.extra.cunei import Cunei"
   ]
  },
  {
   "cell_type": "code",
   "execution_count": 2,
   "metadata": {
    "ExecuteTime": {
     "end_time": "2018-05-01T18:03:09.850642Z",
     "start_time": "2018-05-01T18:03:08.471888Z"
    }
   },
   "outputs": [
    {
     "name": "stdout",
     "output_type": "stream",
     "text": [
      "Found data in GitHub repo: /Users/johnsojc/github/Nino-cunei/uruk/tf/uruk/1.0\n",
      "Found 2095 ideograph linearts\n",
      "Found 2724 tablet linearts\n",
      "Found 5495 tablet photos\n"
     ]
    },
    {
     "data": {
      "text/markdown": [
       "**Documentation:** <a target=\"_blank\" href=\"https://github.com/Nino-cunei/uruk/blob/master/docs/about.md\" title=\"provenance of this corpus\">Uruk IV-III (v1.0)</a> <a target=\"_blank\" href=\"https://github.com/Nino-cunei/uruk/blob/master/docs/transcription.md\" title=\"feature documentation\">Feature docs</a> <a target=\"_blank\" href=\"https://dans-labs.github.io/text-fabric/Api/Cunei/\" title=\"cunei api documentation\">Cunei API</a> <a target=\"_blank\" href=\"https://dans-labs.github.io/text-fabric/Api/General/\" title=\"text-fabric-api\">Text-Fabric API 5.5.21</a> <a target=\"_blank\" href=\"https://dans-labs.github.io/text-fabric/Api/General/#search-templates\" title=\"Search Templates Introduction and Reference\">Search help</a>"
      ],
      "text/plain": [
       "<IPython.core.display.Markdown object>"
      ]
     },
     "metadata": {},
     "output_type": "display_data"
    },
    {
     "data": {
      "text/markdown": [
       "\n",
       "This notebook online:\n",
       "<a target=\"_blank\" href=\"http://nbviewer.jupyter.org/github/Nino-cunei/primers/blob/master/primer3.ipynb\">NBViewer</a>\n",
       "<a target=\"_blank\" href=\"https://github.com/Nino-cunei/primers/blob/master/primer3.ipynb\">GitHub</a>\n"
      ],
      "text/plain": [
       "<IPython.core.display.Markdown object>"
      ]
     },
     "metadata": {},
     "output_type": "display_data"
    },
    {
     "data": {
      "text/html": [
       "\n",
       "<style type=\"text/css\">\n",
       ".pnum {\n",
       "    font-family: sans-serif;\n",
       "    font-size: small;\n",
       "    font-weight: bold;\n",
       "    color: #444444;\n",
       "}\n",
       ".nd {\n",
       "    font-family: monospace;\n",
       "    font-size: x-small;\n",
       "    color: #999999;\n",
       "}\n",
       ".meta {\n",
       "    display: flex;\n",
       "    justify-content: flex-start;\n",
       "    align-items: flex-start;\n",
       "    align-content: flex-start;\n",
       "    flex-flow: row nowrap;\n",
       "}\n",
       ".features,.comments {\n",
       "    display: flex;\n",
       "    justify-content: flex-start;\n",
       "    align-items: flex-start;\n",
       "    align-content: flex-start;\n",
       "    flex-flow: column nowrap;\n",
       "}\n",
       ".children {\n",
       "    display: flex;\n",
       "    justify-content: flex-start;\n",
       "    align-items: flex-start;\n",
       "    align-content: flex-start;\n",
       "    border: 0;\n",
       "    background-color: #ffffff;\n",
       "}\n",
       ".children.tablet,.children.face {\n",
       "    flex-flow: row nowrap;\n",
       "}\n",
       ".children.column {\n",
       "    align-items: stretch;\n",
       "    flex-flow: column nowrap;\n",
       "}\n",
       ".children.line,.children.case {\n",
       "    align-items: stretch;\n",
       "    flex-flow: row nowrap;\n",
       "}\n",
       ".children.caseh,.children.trminalh {\n",
       "    flex-flow: row nowrap;\n",
       "}\n",
       ".children.casev,.children.trminalv {\n",
       "    flex-flow: column nowrap;\n",
       "}\n",
       ".children.trminal {\n",
       "    flex-flow: row nowrap;\n",
       "}\n",
       ".children.cluster {\n",
       "    flex-flow: row wrap;\n",
       "}\n",
       ".children.quad {\n",
       "    flex-flow: row wrap;\n",
       "}\n",
       ".children.sign {\n",
       "    flex-flow: column nowrap;\n",
       "}\n",
       ".contnr {\n",
       "    width: fit-content;\n",
       "}\n",
       ".contnr.tablet,.contnr.face,.contnr.column,\n",
       ".contnr.line,.contnr.case,.contnr.trminal,\n",
       ".contnr.comment,\n",
       ".contnr.cluster,\n",
       ".contnr.quad,.contnr.sign {\n",
       "    display: flex;\n",
       "    justify-content: flex-start;\n",
       "    align-items: flex-start;\n",
       "    align-content: flex-start;\n",
       "    flex-flow: column nowrap;\n",
       "    background: #ffffff none repeat scroll 0 0;\n",
       "    padding:  0.5em 0.1em 0.1em 0.1em;\n",
       "    margin: 0.8em 0.1em 0.1em 0.1em;\n",
       "    border-radius: 0.2em;\n",
       "    border-style: solid;\n",
       "    border-width: 0.2em;\n",
       "    font-size: small;\n",
       "}\n",
       ".contnr.tablet,.contnr.face,.contnr.column {\n",
       "    border-color: #bb8800;\n",
       "}\n",
       ".contnr.line,.contnr.case,.contnr.trminal {\n",
       "    border-color: #0088bb;\n",
       "}\n",
       ".contnr.cluster {\n",
       "    flex-flow: row wrap;\n",
       "    border: 0;\n",
       "}\n",
       ".contnr.sign,.contnr.quad {\n",
       "    border-color: #bbbbbb;\n",
       "}\n",
       ".contnr.comment {\n",
       "    background-color: #ffddaa;\n",
       "    border: 0.2em solid #eecc99;\n",
       "    border-radius: 0.3em;\n",
       "}\n",
       ".contnr.hl {\n",
       "    background-color: #ffee66;\n",
       "}\n",
       ".lbl.tablet,.lbl.face,.lbl.column,\n",
       ".lbl.line,.lbl.case,.lbl.trminal,\n",
       ".lbl.comment,\n",
       ".lbl.cluster,\n",
       ".lbl.quad,.lbl.sign {\n",
       "    margin-top: -1.2em;\n",
       "    margin-left: 1em;\n",
       "    background: #ffffff none repeat scroll 0 0;\n",
       "    padding: 0 0.3em;\n",
       "    border-style: solid;\n",
       "    font-size: small;\n",
       "    color: #0000cc;\n",
       "    display: block;\n",
       "}\n",
       ".lbl.tablet,.lbl.face,.lbl.column {\n",
       "    border-color: #bb8800;\n",
       "    border-width: 0.2em;\n",
       "    border-radius: 0.2em;\n",
       "    color: #bb8800;\n",
       "}\n",
       ".lbl.line,.lbl.case,.lbl.trminal {\n",
       "    border-color: #0088bb;\n",
       "    border-width: 0.2em;\n",
       "    border-radius: 0.2em;\n",
       "    color: #0088bb;\n",
       "}\n",
       ".lbl.comment {\n",
       "    border-color: #eecc99;\n",
       "    border-width: 0.2em;\n",
       "    border-radius: 0.2em;\n",
       "    color: #eecc99;\n",
       "    background-color: #ffddaa none repeat scroll 0 0;\n",
       "}\n",
       ".lbl.clusterB,.lbl.clusterE {\n",
       "    padding:  0.5em 0.1em 0.1em 0.1em;\n",
       "    margin: 0.8em 0.1em 0.1em 0.1em;\n",
       "    color: #888844;\n",
       "    font-size: x-small;\n",
       "}\n",
       ".lbl.clusterB {\n",
       "    border-left: 0.3em solid #cccc99;\n",
       "    border-right: 0;\n",
       "    border-top: 0;\n",
       "    border-bottom: 0;\n",
       "    border-radius: 1em;\n",
       "}\n",
       ".lbl.clusterE {\n",
       "    border-left: 0;\n",
       "    border-right: 0.3em solid #cccc99;\n",
       "    border-top: 0;\n",
       "    border-bottom: 0;\n",
       "    border-radius: 1em;\n",
       "}\n",
       ".lbl.quad,.lbl.sign {\n",
       "    border-color: #bbbbbb;\n",
       "    border-width: 0.1em;\n",
       "    border-radius: 0.1em;\n",
       "    color: #bbbbbb;\n",
       "}\n",
       ".op {\n",
       "    padding:  0.5em 0.1em 0.1em 0.1em;\n",
       "    margin: 0.8em 0.1em 0.1em 0.1em;\n",
       "    font-family: monospace;\n",
       "    font-size: x-large;\n",
       "    font-weight: bold;\n",
       "}\n",
       ".name {\n",
       "    font-family: monospace;\n",
       "    font-size: medium;\n",
       "    color: #0000bb;\n",
       "}\n",
       ".period {\n",
       "    font-family: monospace;\n",
       "    font-size: medium;\n",
       "    font-weight: bold;\n",
       "    color: #0000bb;\n",
       "}\n",
       ".excavation {\n",
       "    font-family: monospace;\n",
       "    font-size: medium;\n",
       "    font-style: italic;\n",
       "    color: #779900;\n",
       "}\n",
       ".text {\n",
       "    font-family: sans-serif;\n",
       "    font-size: x-small;\n",
       "    color: #000000;\n",
       "}\n",
       ".srcLn {\n",
       "    font-family: monospace;\n",
       "    font-size: medium;\n",
       "    color: #000000;\n",
       "}\n",
       ".srcLnNum {\n",
       "    font-family: monospace;\n",
       "    font-size: x-small;\n",
       "    color: #0000bb;\n",
       "}\n",
       "</style>\n"
      ],
      "text/plain": [
       "<IPython.core.display.HTML object>"
      ]
     },
     "metadata": {},
     "output_type": "display_data"
    }
   ],
   "source": [
    "A = Cunei('primer3')\n",
    "A.api.makeAvailableIn(globals())"
   ]
  },
  {
   "cell_type": "code",
   "execution_count": 3,
   "metadata": {
    "ExecuteTime": {
     "end_time": "2018-05-01T18:03:10.758808Z",
     "start_time": "2018-05-01T18:03:10.748903Z"
    }
   },
   "outputs": [],
   "source": [
    "def dm(markdown): display(Markdown(markdown))"
   ]
  },
  {
   "cell_type": "markdown",
   "metadata": {},
   "source": [
    "So let's pull up our text in Text-Fabric and then walk through how to create a query in Text-Fabric that brings up all examples with the same key orthographies."
   ]
  },
  {
   "cell_type": "code",
   "execution_count": 4,
   "metadata": {
    "ExecuteTime": {
     "end_time": "2018-05-01T18:04:17.304517Z",
     "start_time": "2018-05-01T18:04:17.222756Z"
    },
    "scrolled": false
   },
   "outputs": [
    {
     "name": "stdout",
     "output_type": "stream",
     "text": [
      "  0.01s 1 result\n"
     ]
    },
    {
     "data": {
      "text/html": [
       "<div style=\"display: flex;flex-flow: row nowrap;justify-content: flex-start;align-items: center;align-content: flex-start;\"><div style=\"padding: 0.5rem;\"><div style=\"display: flex;flex-flow: column nowrap;justify-content: space-between;align-items: center;align-content: space-between;\"><div><a target=\"_blank\" href=\"https://cdli.ucla.edu/dl/lineart/P005213_l.jpg\" title=\"to higher resolution lineart on CDLI\"><img src=\"cdli-imagery/lineart-p005213.jpg\" style=\"display: inline;max-width: 400px;\"  /></a></div><div><a target=\"_blank\" href=\"https://cdli.ucla.edu/search/search_results.php?SearchMode=Text&ObjectID=P005213\" title=\"to CDLI main page for this item\">P005213</a></div></div></div></div>"
      ],
      "text/plain": [
       "<IPython.core.display.HTML object>"
      ]
     },
     "metadata": {},
     "output_type": "display_data"
    },
    {
     "data": {
      "text/plain": [
       "['&P005213 = MSVO 1, 146',\n",
       " '#atf: lang qpc ',\n",
       " '@obverse ',\n",
       " '@column 1 ',\n",
       " '1.a. [...] , [...] ',\n",
       " '1.b. [...] , [...] X ',\n",
       " '2.a. [...] 2(N01)# , SZITA~a1 ',\n",
       " '2.b. 1(N01) , |SILA3~axKU6~a| ',\n",
       " '3.a. 1(N08) , [...] X ',\n",
       " '3.b. 2(N01) , SZITA~a1 ',\n",
       " '4.a. |ZATU659x1(N01)|# , SAG# [...] ',\n",
       " '4.b. 1(N01) , SZITA~a1 ',\n",
       " '5.a. |ZATU659x1(N01)|# , SIG7# SAL#? X ',\n",
       " '5.b. [...] , X ',\n",
       " '6.a. |ZATU659x1(N01)| , TU~b HI SZA3~a2 ',\n",
       " '6.b. 1(N01) , SZITA~a1 ',\n",
       " '7.a. |ZATU659x1(N01)| , AMA~a AGAR2 ',\n",
       " '7.b. 1(N01) , SZITA~a1 ',\n",
       " '8.a. |ZATU659x1(N01)| , AN NIM~b3 ',\n",
       " '8.b. 1(N01) , SZITA~a1 ',\n",
       " '9.a. 2(N01) , GAR |NI~a.RU| ME~a ',\n",
       " '9.b1. 1(N01) , KASZ~a ',\n",
       " '9.b2. 1(N01) , SZITA~a1 ',\n",
       " '@column 2 ',\n",
       " '1.a. [...] , ENGIZ# SZAGAN# ',\n",
       " '1.b. 1(N01) , SZITA~a1 ',\n",
       " '2.a. 1(N08) , EN~a UMUN2 ABGAL ',\n",
       " '2.b. 1(N01) , SZITA~a1 ',\n",
       " '3.a. |ZATU659x1(N01)|# , SANGA~a# |NI~a.RU|# ',\n",
       " '3.b. 1(N01) , SZITA~a1 ',\n",
       " '4.a. 1(N08) , SANGA~a AB~a ',\n",
       " '4.b. 1(N01) , SZITA~a1 ',\n",
       " '5.a. 1(N08) , [...] IB~a# ',\n",
       " '5.b. 1(N01) , SZITA~a1 ',\n",
       " '6.a. [...] , [...] X ',\n",
       " '6.b. 1(N01) , SZITA~a1 ',\n",
       " '7. |ZATU659x1(N01)|# , [...] U2~b A ',\n",
       " '8. |ZATU659x1(N01)| , SZIDIM ',\n",
       " '9. 2(N01) , MU |ZATU714xHI@g~a| ',\n",
       " '10. , KASZ~a GAR |NI~a.RU| |U4x1(N57)|# ',\n",
       " '@reverse ',\n",
       " '@column 1 ',\n",
       " '1. [...] 1(N01)# , [...] X ',\n",
       " '2. [...] 2(N01)# , [...] SZITA~a1 ',\n",
       " '3. , |U4x1(N57)|# KASZ~a GAR [|NI~a.RU|] ',\n",
       " '@column 2 ',\n",
       " '1.a. 2(N42~a) 1(N25) , ',\n",
       " '1.b1. 1(N42~a) , PA~a GIR3@g~b# ',\n",
       " '1.b2. 1(N42~a)# , X [...] ',\n",
       " '1.b3A. [1(N14)] 2(N01) , GAR ',\n",
       " '1.b3B. 2(N42~a) , ',\n",
       " '1.b4A. [...] , [...] KASZ~a# ',\n",
       " '1.b4B. 1(N25) , ME~a ',\n",
       " '2.a. |ZATU659x1(N01)|#? , |KU6~a+KU6~a| MU ',\n",
       " '2.b. 5(N08) , SUHUR# ',\n",
       " '2.c. , MASZ |(SUKUD+SUKUD)~b| ',\n",
       " '3. 1(N01) , UDU~a |U4.(1(N14).5(N08))| GAL~a [SZAB~a] ',\n",
       " '4. 1(N01) , UDU~a |U4x1(N01)| DI#? [GIR3@g~b?] ']"
      ]
     },
     "execution_count": 4,
     "metadata": {},
     "output_type": "execute_result"
    }
   ],
   "source": [
    "pNum = 'P005213'\n",
    "query = f'''\n",
    "tablet catalogId={pNum}\n",
    "'''\n",
    "results = A.search(query)\n",
    "tablet = results[0][0]\n",
    "A.lineart(tablet, width=400)\n",
    "A.getSource(tablet)"
   ]
  },
  {
   "cell_type": "markdown",
   "metadata": {},
   "source": [
    "Let's start by bring up one line, namely the second line in the second column, and once we have described its specific form, we can try and construct a query that will bring up all similar examples.\n",
    "\n",
    "First, a simple query that directly refers to this line. "
   ]
  },
  {
   "cell_type": "code",
   "execution_count": 5,
   "metadata": {},
   "outputs": [
    {
     "name": "stdout",
     "output_type": "stream",
     "text": [
      "  0.10s 1 result\n"
     ]
    },
    {
     "data": {
      "text/markdown": [
       "n | tablet | face | column | line\n",
       "--- | --- | --- | --- | ---\n",
       "1|<a href=\"https://cdli.ucla.edu/search/search_results.php?SearchMode=Text&ObjectID=P005213\" title=\"to CDLI main page for this tablet\">tablet P005213</a>|face obverse|column 2|line 2"
      ],
      "text/plain": [
       "<IPython.core.display.Markdown object>"
      ]
     },
     "metadata": {},
     "output_type": "display_data"
    }
   ],
   "source": [
    "query = f'''\n",
    "tablet catalogId={pNum}\n",
    "  face type=obverse\n",
    "    column number=2\n",
    "        line number=2\n",
    "'''\n",
    "results = A.search(query)\n",
    "A.table(results)"
   ]
  },
  {
   "cell_type": "code",
   "execution_count": 6,
   "metadata": {},
   "outputs": [
    {
     "data": {
      "text/html": [
       "\n",
       "<div class=\"contnr line\" style=\"background-color: None;\">\n",
       "    \n",
       "    <div class=\"lbl line\">\n",
       "        <a href=\"https://cdli.ucla.edu/search/search_results.php?SearchMode=Text&ObjectID=P005213\" title=\"to CDLI main page for this tablet\">line 2</a>\n",
       "        <a href=\"#\" class=\"nd\">252933</a>\n",
       "    </div>\n",
       "\n",
       "    <div class=\"meta\">\n",
       "        \n",
       "        \n",
       "    </div>\n",
       "\n",
       "\n",
       "    <div class=\"children line\">\n",
       "\n",
       "\n",
       "<div class=\"contnr trminal\" style=\"background-color: None;\">\n",
       "    \n",
       "    <div class=\"lbl trminal\">\n",
       "        2a\n",
       "        <a href=\"#\" class=\"nd\">167110</a>\n",
       "    </div>\n",
       "\n",
       "    <div class=\"meta\">\n",
       "        <div class=\"features\"></div>\n",
       "        \n",
       "    </div>\n",
       "\n",
       "\n",
       "    <div class=\"children trminalv\">\n",
       "\n",
       "\n",
       "<div class=\"contnr sign\" style=\"background-color: None;\">\n",
       "    \n",
       "    <div class=\"lbl sign\">\n",
       "        \n",
       "        <a href=\"#\" class=\"nd\">100944</a>\n",
       "    </div>\n",
       "\n",
       "    <div class=\"meta\">\n",
       "         <span class=\"srcLn\">1(N08)</span>\n",
       "        \n",
       "    </div>\n",
       "\n",
       "<div><a target=\"_blank\" href=\"https://cdli.ucla.edu/tools/SignLists/protocuneiform/archsigns/1(N08).jpg\" title=\"to higher resolution lineart on CDLI\"><img src=\"cdli-imagery/lineart-1(n08).jpg\" style=\"display: inline;max-width: 2em; max-height: 4em;\"  /></a></div>\n",
       "\n",
       "</div>\n",
       "\n",
       "\n",
       "<div class=\"contnr sign\" style=\"background-color: None;\">\n",
       "    \n",
       "    <div class=\"lbl sign\">\n",
       "        \n",
       "        <a href=\"#\" class=\"nd\">100945</a>\n",
       "    </div>\n",
       "\n",
       "    <div class=\"meta\">\n",
       "         <span class=\"srcLn\">EN~a</span>\n",
       "        \n",
       "    </div>\n",
       "\n",
       "<div><a target=\"_blank\" href=\"https://cdli.ucla.edu/tools/SignLists/protocuneiform/archsigns/EN~a.jpg\" title=\"to higher resolution lineart on CDLI\"><img src=\"cdli-imagery/lineart-en-a.jpg\" style=\"display: inline;max-width: 2em; max-height: 4em;\"  /></a></div>\n",
       "\n",
       "</div>\n",
       "\n",
       "\n",
       "<div class=\"contnr sign\" style=\"background-color: None;\">\n",
       "    \n",
       "    <div class=\"lbl sign\">\n",
       "        \n",
       "        <a href=\"#\" class=\"nd\">100946</a>\n",
       "    </div>\n",
       "\n",
       "    <div class=\"meta\">\n",
       "         <span class=\"srcLn\">UMUN2</span>\n",
       "        \n",
       "    </div>\n",
       "\n",
       "<div><a target=\"_blank\" href=\"https://cdli.ucla.edu/tools/SignLists/protocuneiform/archsigns/UMUN2.jpg\" title=\"to higher resolution lineart on CDLI\"><img src=\"cdli-imagery/lineart-umun2.jpg\" style=\"display: inline;max-width: 2em; max-height: 4em;\"  /></a></div>\n",
       "\n",
       "</div>\n",
       "\n",
       "\n",
       "<div class=\"contnr sign\" style=\"background-color: None;\">\n",
       "    \n",
       "    <div class=\"lbl sign\">\n",
       "        \n",
       "        <a href=\"#\" class=\"nd\">100947</a>\n",
       "    </div>\n",
       "\n",
       "    <div class=\"meta\">\n",
       "         <span class=\"srcLn\">ABGAL</span>\n",
       "        \n",
       "    </div>\n",
       "\n",
       "<div><a target=\"_blank\" href=\"https://cdli.ucla.edu/tools/SignLists/protocuneiform/archsigns/ABGAL.jpg\" title=\"to higher resolution lineart on CDLI\"><img src=\"cdli-imagery/lineart-abgal.jpg\" style=\"display: inline;max-width: 2em; max-height: 4em;\"  /></a></div>\n",
       "\n",
       "</div>\n",
       "\n",
       "\n",
       "    </div>\n",
       "\n",
       "\n",
       "</div>\n",
       "\n",
       "\n",
       "<div class=\"contnr trminal\" style=\"background-color: None;\">\n",
       "    \n",
       "    <div class=\"lbl trminal\">\n",
       "        2b\n",
       "        <a href=\"#\" class=\"nd\">167111</a>\n",
       "    </div>\n",
       "\n",
       "    <div class=\"meta\">\n",
       "        <div class=\"features\"></div>\n",
       "        \n",
       "    </div>\n",
       "\n",
       "\n",
       "    <div class=\"children trminalv\">\n",
       "\n",
       "\n",
       "<div class=\"contnr sign\" style=\"background-color: None;\">\n",
       "    \n",
       "    <div class=\"lbl sign\">\n",
       "        \n",
       "        <a href=\"#\" class=\"nd\">100948</a>\n",
       "    </div>\n",
       "\n",
       "    <div class=\"meta\">\n",
       "         <span class=\"srcLn\">1(N01)</span>\n",
       "        \n",
       "    </div>\n",
       "\n",
       "<div><a target=\"_blank\" href=\"https://cdli.ucla.edu/tools/SignLists/protocuneiform/archsigns/1(N01).jpg\" title=\"to higher resolution lineart on CDLI\"><img src=\"cdli-imagery/lineart-1(n01).jpg\" style=\"display: inline;max-width: 2em; max-height: 4em;\"  /></a></div>\n",
       "\n",
       "</div>\n",
       "\n",
       "\n",
       "<div class=\"contnr sign\" style=\"background-color: None;\">\n",
       "    \n",
       "    <div class=\"lbl sign\">\n",
       "        \n",
       "        <a href=\"#\" class=\"nd\">100949</a>\n",
       "    </div>\n",
       "\n",
       "    <div class=\"meta\">\n",
       "         <span class=\"srcLn\">SZITA~a1</span>\n",
       "        \n",
       "    </div>\n",
       "\n",
       "<div><a target=\"_blank\" href=\"https://cdli.ucla.edu/tools/SignLists/protocuneiform/archsigns/SZITA~a1.jpg\" title=\"to higher resolution lineart on CDLI\"><img src=\"cdli-imagery/lineart-szita-a1.jpg\" style=\"display: inline;max-width: 2em; max-height: 4em;\"  /></a></div>\n",
       "\n",
       "</div>\n",
       "\n",
       "\n",
       "    </div>\n",
       "\n",
       "\n",
       "</div>\n",
       "\n",
       "\n",
       "    </div>\n",
       "\n",
       "\n",
       "</div>\n"
      ],
      "text/plain": [
       "<IPython.core.display.HTML object>"
      ]
     },
     "metadata": {},
     "output_type": "display_data"
    }
   ],
   "source": [
    "oneLine = results[0][3]\n",
    "A.pretty(oneLine, withNodes=True, lineart=True)"
   ]
  },
  {
   "cell_type": "markdown",
   "metadata": {},
   "source": [
    "Here we can see nine nodes in Text-Fabric, each marked by a grey box with a six digit number. The top level node belongs to the line (252933), each case has its own node (2a = 167110, and 2b = 167111) and so on.\n",
    "\n",
    "The distinctive orthography we want to look at first is the occurrence of SZITA~a1 in a subcase (2b), as a qualification of the official or individual listed in the other half of the line (2a).\n",
    "\n",
    "Now let's formulate a query that looks for any occurrence of SZITA~1 at sublevel 1 or lower."
   ]
  },
  {
   "cell_type": "code",
   "execution_count": 7,
   "metadata": {},
   "outputs": [
    {
     "name": "stdout",
     "output_type": "stream",
     "text": [
      "  0.20s 78 results\n"
     ]
    },
    {
     "data": {
      "text/markdown": [
       "n | case | sign\n",
       "--- | --- | ---\n",
       "1|<a href=\"https://cdli.ucla.edu/search/search_results.php?SearchMode=Text&ObjectID=P002113\" title=\"to CDLI main page for this tablet\">case 1a</a> *159945* |SZITA~a1 *5882* \n",
       "2|<a href=\"https://cdli.ucla.edu/search/search_results.php?SearchMode=Text&ObjectID=P002179\" title=\"to CDLI main page for this tablet\">case 1a</a> *159964* |SZITA~a1 *6287* \n",
       "3|<a href=\"https://cdli.ucla.edu/search/search_results.php?SearchMode=Text&ObjectID=P002179\" title=\"to CDLI main page for this tablet\">case 3c</a> *159972* |SZITA~a1 *6316* \n",
       "4|<a href=\"https://cdli.ucla.edu/search/search_results.php?SearchMode=Text&ObjectID=P002179\" title=\"to CDLI main page for this tablet\">case 6d</a> *159993* |SZITA~a1 *6390* \n",
       "5|<a href=\"https://cdli.ucla.edu/search/search_results.php?SearchMode=Text&ObjectID=P002179\" title=\"to CDLI main page for this tablet\">case 9c</a> *160005* |SZITA~a1 *6437* \n",
       "6|<a href=\"https://cdli.ucla.edu/search/search_results.php?SearchMode=Text&ObjectID=P002399\" title=\"to CDLI main page for this tablet\">case 2b</a> *160107* |SZITA~a1 *8262* \n",
       "7|<a href=\"https://cdli.ucla.edu/search/search_results.php?SearchMode=Text&ObjectID=P002522\" title=\"to CDLI main page for this tablet\">case 1c</a> *160130* |SZITA~a1 *8808* \n",
       "8|<a href=\"https://cdli.ucla.edu/search/search_results.php?SearchMode=Text&ObjectID=P003654\" title=\"to CDLI main page for this tablet\">case 6b</a> *160467* |SZITA~a1 *12531* \n",
       "9|<a href=\"https://cdli.ucla.edu/search/search_results.php?SearchMode=Text&ObjectID=P004442\" title=\"to CDLI main page for this tablet\">case 3b</a> *160666* |SZITA~a1 *14742* \n",
       "10|<a href=\"https://cdli.ucla.edu/search/search_results.php?SearchMode=Text&ObjectID=P004442\" title=\"to CDLI main page for this tablet\">case 1a</a> *160667* |SZITA~a1 *14749* \n",
       "11|<a href=\"https://cdli.ucla.edu/search/search_results.php?SearchMode=Text&ObjectID=P004442\" title=\"to CDLI main page for this tablet\">case 1b</a> *160670* |SZITA~a1 *14754* \n",
       "12|<a href=\"https://cdli.ucla.edu/search/search_results.php?SearchMode=Text&ObjectID=P004676\" title=\"to CDLI main page for this tablet\">case 3b</a> *160770* |SZITA~a1 *16619* \n",
       "13|<a href=\"https://cdli.ucla.edu/search/search_results.php?SearchMode=Text&ObjectID=P004684\" title=\"to CDLI main page for this tablet\">case 2a</a> *160808* |SZITA~a1 *16907* \n",
       "14|<a href=\"https://cdli.ucla.edu/search/search_results.php?SearchMode=Text&ObjectID=P004884\" title=\"to CDLI main page for this tablet\">case 1a</a> *161115* |SZITA~a1 *20930* \n",
       "15|<a href=\"https://cdli.ucla.edu/search/search_results.php?SearchMode=Text&ObjectID=P212396\" title=\"to CDLI main page for this tablet\">case 2a</a> *161251* |SZITA~a1 *22873* \n",
       "16|<a href=\"https://cdli.ucla.edu/search/search_results.php?SearchMode=Text&ObjectID=P325063\" title=\"to CDLI main page for this tablet\">case 5a</a> *162089* |SZITA~a1 *52820* \n",
       "17|<a href=\"https://cdli.ucla.edu/search/search_results.php?SearchMode=Text&ObjectID=P325063\" title=\"to CDLI main page for this tablet\">case 1a</a> *162095* |SZITA~a1 *52833* \n",
       "18|<a href=\"https://cdli.ucla.edu/search/search_results.php?SearchMode=Text&ObjectID=P325074\" title=\"to CDLI main page for this tablet\">case 3a</a> *162265* |SZITA~a1 *53831* \n",
       "19|<a href=\"https://cdli.ucla.edu/search/search_results.php?SearchMode=Text&ObjectID=P325069\" title=\"to CDLI main page for this tablet\">case 1a</a> *162277* |SZITA~a1 *53978* \n",
       "20|<a href=\"https://cdli.ucla.edu/search/search_results.php?SearchMode=Text&ObjectID=P325069\" title=\"to CDLI main page for this tablet\">case 3a</a> *162279* |SZITA~a1 *53985* \n",
       "21|<a href=\"https://cdli.ucla.edu/search/search_results.php?SearchMode=Text&ObjectID=P002425\" title=\"to CDLI main page for this tablet\">case 3a</a> *163664* |SZITA~a1 *68284* \n",
       "22|<a href=\"https://cdli.ucla.edu/search/search_results.php?SearchMode=Text&ObjectID=P002387\" title=\"to CDLI main page for this tablet\">case 2a</a> *163674* |SZITA~a1 *68445* \n",
       "23|<a href=\"https://cdli.ucla.edu/search/search_results.php?SearchMode=Text&ObjectID=P004499\" title=\"to CDLI main page for this tablet\">case 1b</a> *164005* |SZITA~a1 *71918* \n",
       "24|<a href=\"https://cdli.ucla.edu/search/search_results.php?SearchMode=Text&ObjectID=P004499\" title=\"to CDLI main page for this tablet\">case 2b</a> *164007* |SZITA~a1 *71923* \n",
       "25|<a href=\"https://cdli.ucla.edu/search/search_results.php?SearchMode=Text&ObjectID=P004499\" title=\"to CDLI main page for this tablet\">case 3b</a> *164009* |SZITA~a1 *71928* \n",
       "26|<a href=\"https://cdli.ucla.edu/search/search_results.php?SearchMode=Text&ObjectID=P004499\" title=\"to CDLI main page for this tablet\">case 10b</a> *164011* |SZITA~a1 *71989* \n",
       "27|<a href=\"https://cdli.ucla.edu/search/search_results.php?SearchMode=Text&ObjectID=P004313\" title=\"to CDLI main page for this tablet\">case 1a</a> *164022* |SZITA~a1 *72342* \n",
       "28|<a href=\"https://cdli.ucla.edu/search/search_results.php?SearchMode=Text&ObjectID=P003807\" title=\"to CDLI main page for this tablet\">case 1c</a> *164101* |SZITA~a1 *72932* \n",
       "29|<a href=\"https://cdli.ucla.edu/search/search_results.php?SearchMode=Text&ObjectID=P003617\" title=\"to CDLI main page for this tablet\">case 2b</a> *164176* |SZITA~a1 *74294* \n",
       "30|<a href=\"https://cdli.ucla.edu/search/search_results.php?SearchMode=Text&ObjectID=P003655\" title=\"to CDLI main page for this tablet\">case 1a</a> *164229* |SZITA~a1 *74852* \n",
       "31|<a href=\"https://cdli.ucla.edu/search/search_results.php?SearchMode=Text&ObjectID=P004299\" title=\"to CDLI main page for this tablet\">case 2a</a> *164363* |SZITA~a1 *77575* \n",
       "32|<a href=\"https://cdli.ucla.edu/search/search_results.php?SearchMode=Text&ObjectID=P004501\" title=\"to CDLI main page for this tablet\">case 1a</a> *164422* |SZITA~a1 *78954* \n",
       "33|<a href=\"https://cdli.ucla.edu/search/search_results.php?SearchMode=Text&ObjectID=P004501\" title=\"to CDLI main page for this tablet\">case 1b</a> *164423* |SZITA~a1 *78956* \n",
       "34|<a href=\"https://cdli.ucla.edu/search/search_results.php?SearchMode=Text&ObjectID=P004501\" title=\"to CDLI main page for this tablet\">case 2b</a> *164425* |SZITA~a1 *78963* \n",
       "35|<a href=\"https://cdli.ucla.edu/search/search_results.php?SearchMode=Text&ObjectID=P004501\" title=\"to CDLI main page for this tablet\">case 3b</a> *164427* |SZITA~a1 *78968* \n",
       "36|<a href=\"https://cdli.ucla.edu/search/search_results.php?SearchMode=Text&ObjectID=P004501\" title=\"to CDLI main page for this tablet\">case 4b</a> *164429* |SZITA~a1 *78973* \n",
       "37|<a href=\"https://cdli.ucla.edu/search/search_results.php?SearchMode=Text&ObjectID=P004510\" title=\"to CDLI main page for this tablet\">case 2a</a> *164441* |SZITA~a1 *79080* \n",
       "38|<a href=\"https://cdli.ucla.edu/search/search_results.php?SearchMode=Text&ObjectID=P006253\" title=\"to CDLI main page for this tablet\">case 6a</a> *165953* |SZITA~a1 *90035* \n",
       "39|<a href=\"https://cdli.ucla.edu/search/search_results.php?SearchMode=Text&ObjectID=P006286\" title=\"to CDLI main page for this tablet\">case 6a</a> *166128* |SZITA~a1 *91971* \n",
       "40|<a href=\"https://cdli.ucla.edu/search/search_results.php?SearchMode=Text&ObjectID=P006286\" title=\"to CDLI main page for this tablet\">case 6b</a> *166129* |SZITA~a1 *91977* \n",
       "41|<a href=\"https://cdli.ucla.edu/search/search_results.php?SearchMode=Text&ObjectID=P005151\" title=\"to CDLI main page for this tablet\">case 3b</a> *166743* |SZITA~a1 *97957* \n",
       "42|<a href=\"https://cdli.ucla.edu/search/search_results.php?SearchMode=Text&ObjectID=P005175\" title=\"to CDLI main page for this tablet\">case 2a</a> *166924* |SZITA~a1 *99477* \n",
       "43|<a href=\"https://cdli.ucla.edu/search/search_results.php?SearchMode=Text&ObjectID=P005178\" title=\"to CDLI main page for this tablet\">case 7a</a> *166958* |SZITA~a1 *99707* \n",
       "44|<a href=\"https://cdli.ucla.edu/search/search_results.php?SearchMode=Text&ObjectID=P005213\" title=\"to CDLI main page for this tablet\">case 2a</a> *167090* |SZITA~a1 *100889* \n",
       "45|<a href=\"https://cdli.ucla.edu/search/search_results.php?SearchMode=Text&ObjectID=P005213\" title=\"to CDLI main page for this tablet\">case 3b</a> *167093* |SZITA~a1 *100897* \n",
       "46|<a href=\"https://cdli.ucla.edu/search/search_results.php?SearchMode=Text&ObjectID=P005213\" title=\"to CDLI main page for this tablet\">case 4b</a> *167095* |SZITA~a1 *100903* \n",
       "47|<a href=\"https://cdli.ucla.edu/search/search_results.php?SearchMode=Text&ObjectID=P005213\" title=\"to CDLI main page for this tablet\">case 6b</a> *167099* |SZITA~a1 *100917* \n",
       "48|<a href=\"https://cdli.ucla.edu/search/search_results.php?SearchMode=Text&ObjectID=P005213\" title=\"to CDLI main page for this tablet\">case 7b</a> *167101* |SZITA~a1 *100923* \n",
       "49|<a href=\"https://cdli.ucla.edu/search/search_results.php?SearchMode=Text&ObjectID=P005213\" title=\"to CDLI main page for this tablet\">case 8b</a> *167103* |SZITA~a1 *100929* \n",
       "50|<a href=\"https://cdli.ucla.edu/search/search_results.php?SearchMode=Text&ObjectID=P005213\" title=\"to CDLI main page for this tablet\">case 9b</a> *167105* |SZITA~a1 *100938* \n",
       "51|<a href=\"https://cdli.ucla.edu/search/search_results.php?SearchMode=Text&ObjectID=P005213\" title=\"to CDLI main page for this tablet\">case 1b</a> *167109* |SZITA~a1 *100943* \n",
       "52|<a href=\"https://cdli.ucla.edu/search/search_results.php?SearchMode=Text&ObjectID=P005213\" title=\"to CDLI main page for this tablet\">case 2b</a> *167111* |SZITA~a1 *100949* \n",
       "53|<a href=\"https://cdli.ucla.edu/search/search_results.php?SearchMode=Text&ObjectID=P005213\" title=\"to CDLI main page for this tablet\">case 3b</a> *167113* |SZITA~a1 *100956* \n",
       "54|<a href=\"https://cdli.ucla.edu/search/search_results.php?SearchMode=Text&ObjectID=P005213\" title=\"to CDLI main page for this tablet\">case 4b</a> *167115* |SZITA~a1 *100961* \n",
       "55|<a href=\"https://cdli.ucla.edu/search/search_results.php?SearchMode=Text&ObjectID=P005213\" title=\"to CDLI main page for this tablet\">case 5b</a> *167117* |SZITA~a1 *100966* \n",
       "56|<a href=\"https://cdli.ucla.edu/search/search_results.php?SearchMode=Text&ObjectID=P005213\" title=\"to CDLI main page for this tablet\">case 6b</a> *167119* |SZITA~a1 *100971* \n",
       "57|<a href=\"https://cdli.ucla.edu/search/search_results.php?SearchMode=Text&ObjectID=P005214\" title=\"to CDLI main page for this tablet\">case 1c</a> *167135* |SZITA~a1 *101052* \n",
       "58|<a href=\"https://cdli.ucla.edu/search/search_results.php?SearchMode=Text&ObjectID=P005214\" title=\"to CDLI main page for this tablet\">case 2c</a> *167140* |SZITA~a1 *101062* \n",
       "59|<a href=\"https://cdli.ucla.edu/search/search_results.php?SearchMode=Text&ObjectID=P005214\" title=\"to CDLI main page for this tablet\">case 3c</a> *167145* |SZITA~a1 *101071* \n",
       "60|<a href=\"https://cdli.ucla.edu/search/search_results.php?SearchMode=Text&ObjectID=P005214\" title=\"to CDLI main page for this tablet\">case 4c</a> *167148* |SZITA~a1 *101079* \n",
       "61|<a href=\"https://cdli.ucla.edu/search/search_results.php?SearchMode=Text&ObjectID=P005214\" title=\"to CDLI main page for this tablet\">case 5b</a> *167150* |SZITA~a1 *101087* \n",
       "62|<a href=\"https://cdli.ucla.edu/search/search_results.php?SearchMode=Text&ObjectID=P005214\" title=\"to CDLI main page for this tablet\">case 6b</a> *167152* |SZITA~a1 *101091* \n",
       "63|<a href=\"https://cdli.ucla.edu/search/search_results.php?SearchMode=Text&ObjectID=P005215\" title=\"to CDLI main page for this tablet\">case 1b</a> *167154* |SZITA~a1 *101137* \n",
       "64|<a href=\"https://cdli.ucla.edu/search/search_results.php?SearchMode=Text&ObjectID=P005217\" title=\"to CDLI main page for this tablet\">case 1b</a> *167156* |SZITA~a1 *101157* \n",
       "65|<a href=\"https://cdli.ucla.edu/search/search_results.php?SearchMode=Text&ObjectID=P005217\" title=\"to CDLI main page for this tablet\">case 3b</a> *167160* |SZITA~a1 *101169* \n",
       "66|<a href=\"https://cdli.ucla.edu/search/search_results.php?SearchMode=Text&ObjectID=P005300\" title=\"to CDLI main page for this tablet\">case 2a</a> *167488* |SZITA~a1 *103740* \n",
       "67|<a href=\"https://cdli.ucla.edu/search/search_results.php?SearchMode=Text&ObjectID=P005458\" title=\"to CDLI main page for this tablet\">case 4a</a> *167955* |SZITA~a1 *109529* \n",
       "68|<a href=\"https://cdli.ucla.edu/search/search_results.php?SearchMode=Text&ObjectID=P003499\" title=\"to CDLI main page for this tablet\">case 2a</a> *168153* |SZITA~a1 *111960* \n",
       "69|<a href=\"https://cdli.ucla.edu/search/search_results.php?SearchMode=Text&ObjectID=P003541\" title=\"to CDLI main page for this tablet\">case 1b</a> *168431* |SZITA~a1 *113331* \n",
       "70|<a href=\"https://cdli.ucla.edu/search/search_results.php?SearchMode=Text&ObjectID=P003593\" title=\"to CDLI main page for this tablet\">case 2a</a> *168537* |SZITA~a1 *114236* \n",
       "71|<a href=\"https://cdli.ucla.edu/search/search_results.php?SearchMode=Text&ObjectID=P003593\" title=\"to CDLI main page for this tablet\">case 3b</a> *168542* |SZITA~a1 *114248* \n",
       "72|<a href=\"https://cdli.ucla.edu/search/search_results.php?SearchMode=Text&ObjectID=P003808\" title=\"to CDLI main page for this tablet\">case 2b</a> *168685* |SZITA~a1 *114965* \n",
       "73|<a href=\"https://cdli.ucla.edu/search/search_results.php?SearchMode=Text&ObjectID=P003808\" title=\"to CDLI main page for this tablet\">case 3b</a> *168702* |SZITA~a1 *114999* \n",
       "74|<a href=\"https://cdli.ucla.edu/search/search_results.php?SearchMode=Text&ObjectID=P003808\" title=\"to CDLI main page for this tablet\">case 2a</a> *168707* |SZITA~a1 *115035* \n",
       "75|<a href=\"https://cdli.ucla.edu/search/search_results.php?SearchMode=Text&ObjectID=P003808\" title=\"to CDLI main page for this tablet\">case 2b</a> *168715* |SZITA~a1 *115046* \n",
       "76|<a href=\"https://cdli.ucla.edu/search/search_results.php?SearchMode=Text&ObjectID=P003808\" title=\"to CDLI main page for this tablet\">case 1b</a> *168725* |SZITA~a1 *115073* \n",
       "77|<a href=\"https://cdli.ucla.edu/search/search_results.php?SearchMode=Text&ObjectID=P003808\" title=\"to CDLI main page for this tablet\">case 2b</a> *168736* |SZITA~a1 *115108* \n",
       "78|<a href=\"https://cdli.ucla.edu/search/search_results.php?SearchMode=Text&ObjectID=P002545\" title=\"to CDLI main page for this tablet\">case 1a</a> *169064* |SZITA~a1 *128468* "
      ],
      "text/plain": [
       "<IPython.core.display.Markdown object>"
      ]
     },
     "metadata": {},
     "output_type": "display_data"
    }
   ],
   "source": [
    "query = '''\n",
    "case depth=1\n",
    "  sign grapheme=SZITA variant=a1\n",
    "'''\n",
    "results = A.search(query)\n",
    "A.table(results, withNodes=True, lineart=False)"
   ]
  },
  {
   "cell_type": "markdown",
   "metadata": {
    "collapsed": true
   },
   "source": [
    "So 78 hits in the corpus as a whole, but this simply tells us that SZITA~a1 is a frequent occupant of divided lines. Let's check some other levels and then, after that, try to limit the search to a specific tablet."
   ]
  },
  {
   "cell_type": "code",
   "execution_count": 8,
   "metadata": {},
   "outputs": [
    {
     "name": "stdout",
     "output_type": "stream",
     "text": [
      "  0.19s 12 results\n"
     ]
    },
    {
     "data": {
      "text/markdown": [
       "n | case | sign\n",
       "--- | --- | ---\n",
       "1|<a href=\"https://cdli.ucla.edu/search/search_results.php?SearchMode=Text&ObjectID=P003654\" title=\"to CDLI main page for this tablet\">case 6b1</a> *160468* |SZITA~a1 *12531* \n",
       "2|<a href=\"https://cdli.ucla.edu/search/search_results.php?SearchMode=Text&ObjectID=P004442\" title=\"to CDLI main page for this tablet\">case 1a2</a> *160669* |SZITA~a1 *14749* \n",
       "3|<a href=\"https://cdli.ucla.edu/search/search_results.php?SearchMode=Text&ObjectID=P004684\" title=\"to CDLI main page for this tablet\">case 2a3</a> *160811* |SZITA~a1 *16907* \n",
       "4|<a href=\"https://cdli.ucla.edu/search/search_results.php?SearchMode=Text&ObjectID=P325074\" title=\"to CDLI main page for this tablet\">case 3a1</a> *162266* |SZITA~a1 *53831* \n",
       "5|<a href=\"https://cdli.ucla.edu/search/search_results.php?SearchMode=Text&ObjectID=P003655\" title=\"to CDLI main page for this tablet\">case 1a3</a> *164232* |SZITA~a1 *74852* \n",
       "6|<a href=\"https://cdli.ucla.edu/search/search_results.php?SearchMode=Text&ObjectID=P006286\" title=\"to CDLI main page for this tablet\">case 6b2</a> *166131* |SZITA~a1 *91977* \n",
       "7|<a href=\"https://cdli.ucla.edu/search/search_results.php?SearchMode=Text&ObjectID=P005151\" title=\"to CDLI main page for this tablet\">case 3b1</a> *166744* |SZITA~a1 *97957* \n",
       "8|<a href=\"https://cdli.ucla.edu/search/search_results.php?SearchMode=Text&ObjectID=P005213\" title=\"to CDLI main page for this tablet\">case 9b2</a> *167107* |SZITA~a1 *100938* \n",
       "9|<a href=\"https://cdli.ucla.edu/search/search_results.php?SearchMode=Text&ObjectID=P005214\" title=\"to CDLI main page for this tablet\">case 1c1</a> *167136* |SZITA~a1 *101052* \n",
       "10|<a href=\"https://cdli.ucla.edu/search/search_results.php?SearchMode=Text&ObjectID=P005214\" title=\"to CDLI main page for this tablet\">case 2c1</a> *167141* |SZITA~a1 *101062* \n",
       "11|<a href=\"https://cdli.ucla.edu/search/search_results.php?SearchMode=Text&ObjectID=P003808\" title=\"to CDLI main page for this tablet\">case 2b1</a> *168686* |SZITA~a1 *114965* \n",
       "12|<a href=\"https://cdli.ucla.edu/search/search_results.php?SearchMode=Text&ObjectID=P003808\" title=\"to CDLI main page for this tablet\">case 2a4</a> *168713* |SZITA~a1 *115035* "
      ],
      "text/plain": [
       "<IPython.core.display.Markdown object>"
      ]
     },
     "metadata": {},
     "output_type": "display_data"
    }
   ],
   "source": [
    "query = '''\n",
    "case depth=2\n",
    "  sign grapheme=SZITA variant=a1\n",
    "'''\n",
    "results = A.search(query)\n",
    "A.table(results, withNodes=True, lineart=False)"
   ]
  },
  {
   "cell_type": "code",
   "execution_count": 9,
   "metadata": {},
   "outputs": [
    {
     "name": "stdout",
     "output_type": "stream",
     "text": [
      "  0.19s 1 result\n"
     ]
    },
    {
     "data": {
      "text/markdown": [
       "n | case | sign\n",
       "--- | --- | ---\n",
       "1|<a href=\"https://cdli.ucla.edu/search/search_results.php?SearchMode=Text&ObjectID=P003808\" title=\"to CDLI main page for this tablet\">case 2b1B</a> *168688* |SZITA~a1 *114965* "
      ],
      "text/plain": [
       "<IPython.core.display.Markdown object>"
      ]
     },
     "metadata": {},
     "output_type": "display_data"
    }
   ],
   "source": [
    "query = '''\n",
    "case depth=3\n",
    "  sign grapheme=SZITA variant=a1\n",
    "'''\n",
    "results = A.search(query)\n",
    "A.table(results, withNodes=True, lineart=False)"
   ]
  },
  {
   "cell_type": "code",
   "execution_count": 10,
   "metadata": {},
   "outputs": [
    {
     "name": "stdout",
     "output_type": "stream",
     "text": [
      "  0.19s 1 result\n"
     ]
    },
    {
     "data": {
      "text/markdown": [
       "n | case | sign\n",
       "--- | --- | ---\n",
       "1|<a href=\"https://cdli.ucla.edu/search/search_results.php?SearchMode=Text&ObjectID=P003808\" title=\"to CDLI main page for this tablet\">case 2b1B2</a> *168690* |SZITA~a1 *114965* "
      ],
      "text/plain": [
       "<IPython.core.display.Markdown object>"
      ]
     },
     "metadata": {},
     "output_type": "display_data"
    }
   ],
   "source": [
    "query = '''\n",
    "case depth=4\n",
    "  sign grapheme=SZITA variant=a1\n",
    "'''\n",
    "results = A.search(query)\n",
    "A.table(results, withNodes=True, lineart=False)"
   ]
  },
  {
   "cell_type": "markdown",
   "metadata": {},
   "source": [
    "Note in particular that our query with depth=3 is actually picking up the same single item at depth=4 because we are not focusing here on terminal subdivisions like we did in primer 2. This is made particularly visible by leaving the Text-Fabric node labels in, so as soon as we see that the sign in question is at node 114965, we know that this is the same proto-cuneiform sign in all four of these queries.\n",
    "\n",
    "Now let's limit this query to the tablet that we are focusing on here, namely P005213 aka MSVO 1, 146."
   ]
  },
  {
   "cell_type": "code",
   "execution_count": 11,
   "metadata": {},
   "outputs": [
    {
     "name": "stdout",
     "output_type": "stream",
     "text": [
      "  0.19s 13 results\n"
     ]
    },
    {
     "data": {
      "text/markdown": [
       "n | tablet | case | sign\n",
       "--- | --- | --- | ---\n",
       "1|<a href=\"https://cdli.ucla.edu/search/search_results.php?SearchMode=Text&ObjectID=P005213\" title=\"to CDLI main page for this tablet\">tablet P005213</a>|case 2a|SZITA~a1\n",
       "2|<a href=\"https://cdli.ucla.edu/search/search_results.php?SearchMode=Text&ObjectID=P005213\" title=\"to CDLI main page for this tablet\">tablet P005213</a>|case 3b|SZITA~a1\n",
       "3|<a href=\"https://cdli.ucla.edu/search/search_results.php?SearchMode=Text&ObjectID=P005213\" title=\"to CDLI main page for this tablet\">tablet P005213</a>|case 4b|SZITA~a1\n",
       "4|<a href=\"https://cdli.ucla.edu/search/search_results.php?SearchMode=Text&ObjectID=P005213\" title=\"to CDLI main page for this tablet\">tablet P005213</a>|case 6b|SZITA~a1\n",
       "5|<a href=\"https://cdli.ucla.edu/search/search_results.php?SearchMode=Text&ObjectID=P005213\" title=\"to CDLI main page for this tablet\">tablet P005213</a>|case 7b|SZITA~a1\n",
       "6|<a href=\"https://cdli.ucla.edu/search/search_results.php?SearchMode=Text&ObjectID=P005213\" title=\"to CDLI main page for this tablet\">tablet P005213</a>|case 8b|SZITA~a1\n",
       "7|<a href=\"https://cdli.ucla.edu/search/search_results.php?SearchMode=Text&ObjectID=P005213\" title=\"to CDLI main page for this tablet\">tablet P005213</a>|case 9b|SZITA~a1\n",
       "8|<a href=\"https://cdli.ucla.edu/search/search_results.php?SearchMode=Text&ObjectID=P005213\" title=\"to CDLI main page for this tablet\">tablet P005213</a>|case 1b|SZITA~a1\n",
       "9|<a href=\"https://cdli.ucla.edu/search/search_results.php?SearchMode=Text&ObjectID=P005213\" title=\"to CDLI main page for this tablet\">tablet P005213</a>|case 2b|SZITA~a1\n",
       "10|<a href=\"https://cdli.ucla.edu/search/search_results.php?SearchMode=Text&ObjectID=P005213\" title=\"to CDLI main page for this tablet\">tablet P005213</a>|case 3b|SZITA~a1\n",
       "11|<a href=\"https://cdli.ucla.edu/search/search_results.php?SearchMode=Text&ObjectID=P005213\" title=\"to CDLI main page for this tablet\">tablet P005213</a>|case 4b|SZITA~a1\n",
       "12|<a href=\"https://cdli.ucla.edu/search/search_results.php?SearchMode=Text&ObjectID=P005213\" title=\"to CDLI main page for this tablet\">tablet P005213</a>|case 5b|SZITA~a1\n",
       "13|<a href=\"https://cdli.ucla.edu/search/search_results.php?SearchMode=Text&ObjectID=P005213\" title=\"to CDLI main page for this tablet\">tablet P005213</a>|case 6b|SZITA~a1"
      ],
      "text/plain": [
       "<IPython.core.display.Markdown object>"
      ]
     },
     "metadata": {},
     "output_type": "display_data"
    }
   ],
   "source": [
    "query = f'''\n",
    "tablet catalogId={pNum}\n",
    " case depth=1\n",
    "   sign grapheme=SZITA variant=a1\n",
    "'''\n",
    "results = A.search(query)\n",
    "A.table(results, withNodes=False, lineart=False)"
   ]
  },
  {
   "cell_type": "markdown",
   "metadata": {},
   "source": [
    "There are thirteen occurrences of SZITA~a1 in P005213, which means that one-sixth (13/78) of all occurrences of SZITA~a1 in the entire corpus occur in this one tablet. \n",
    "\n",
    "The other orthography that plays a central role in P005213 is ZATU659x1(N01), which regularly occurs in the other half of the subdivided lines that include SZITA~a1 in the other case in the line."
   ]
  },
  {
   "cell_type": "code",
   "execution_count": 12,
   "metadata": {},
   "outputs": [
    {
     "name": "stdout",
     "output_type": "stream",
     "text": [
      "  0.37s 7 results\n"
     ]
    },
    {
     "data": {
      "text/markdown": [
       "n | tablet | case | quad | sign | sign\n",
       "--- | --- | --- | --- | --- | ---\n",
       "1|<a href=\"https://cdli.ucla.edu/search/search_results.php?SearchMode=Text&ObjectID=P005213\" title=\"to CDLI main page for this tablet\">tablet P005213</a>|case 4a|&#124;ZATU659x1(N01)&#124;|ZATU659|1(N01)\n",
       "2|<a href=\"https://cdli.ucla.edu/search/search_results.php?SearchMode=Text&ObjectID=P005213\" title=\"to CDLI main page for this tablet\">tablet P005213</a>|case 5a|&#124;ZATU659x1(N01)&#124;|ZATU659|1(N01)\n",
       "3|<a href=\"https://cdli.ucla.edu/search/search_results.php?SearchMode=Text&ObjectID=P005213\" title=\"to CDLI main page for this tablet\">tablet P005213</a>|case 6a|&#124;ZATU659x1(N01)&#124;|ZATU659|1(N01)\n",
       "4|<a href=\"https://cdli.ucla.edu/search/search_results.php?SearchMode=Text&ObjectID=P005213\" title=\"to CDLI main page for this tablet\">tablet P005213</a>|case 7a|&#124;ZATU659x1(N01)&#124;|ZATU659|1(N01)\n",
       "5|<a href=\"https://cdli.ucla.edu/search/search_results.php?SearchMode=Text&ObjectID=P005213\" title=\"to CDLI main page for this tablet\">tablet P005213</a>|case 8a|&#124;ZATU659x1(N01)&#124;|ZATU659|1(N01)\n",
       "6|<a href=\"https://cdli.ucla.edu/search/search_results.php?SearchMode=Text&ObjectID=P005213\" title=\"to CDLI main page for this tablet\">tablet P005213</a>|case 3a|&#124;ZATU659x1(N01)&#124;|ZATU659|1(N01)\n",
       "7|<a href=\"https://cdli.ucla.edu/search/search_results.php?SearchMode=Text&ObjectID=P005213\" title=\"to CDLI main page for this tablet\">tablet P005213</a>|case 2a|&#124;ZATU659x1(N01)&#124;|ZATU659|1(N01)"
      ],
      "text/plain": [
       "<IPython.core.display.Markdown object>"
      ]
     },
     "metadata": {},
     "output_type": "display_data"
    }
   ],
   "source": [
    "query = f'''\n",
    "tablet catalogId={pNum}\n",
    "  case\n",
    "    quad\n",
    "      =: sign grapheme=ZATU659\n",
    "      <: sign grapheme=N01 repeat=1\n",
    "'''\n",
    "results = A.search(query)\n",
    "A.table(results, withNodes=False, lineart=False)"
   ]
  },
  {
   "cell_type": "markdown",
   "metadata": {},
   "source": [
    "Up to this point, our queries have consisted of \"atom\" lines, which identify a particular node in the corpus. The preceding query, however, also includes \"relation\" lines, namely the two lines that begin with \"=:\" and \"<:\". The first of these, =:, means \"=: left and right start at the same slot\", while <: means \"<: :>: adjacent before and after (with respect to the slots occupied: left ends immediately before right starts and vice versa)\"."
   ]
  },
  {
   "cell_type": "code",
   "execution_count": 13,
   "metadata": {},
   "outputs": [
    {
     "name": "stdout",
     "output_type": "stream",
     "text": [
      "  0.54s 95 results\n"
     ]
    },
    {
     "data": {
      "text/markdown": [
       "n | tablet | case | sign | case | quad | sign | sign\n",
       "--- | --- | --- | --- | --- | --- | --- | ---\n",
       "1|<a href=\"https://cdli.ucla.edu/search/search_results.php?SearchMode=Text&ObjectID=P002399\" title=\"to CDLI main page for this tablet\">tablet P002399</a>|case 2b|SZITA~a1|case 2a|&#124;ZATU659x1(N01)&#124;|ZATU659|1(N01)\n",
       "2|<a href=\"https://cdli.ucla.edu/search/search_results.php?SearchMode=Text&ObjectID=P002399\" title=\"to CDLI main page for this tablet\">tablet P002399</a>|case 2b|SZITA~a1|case 3a|&#124;ZATU659x1(N01)&#124;|ZATU659|1(N01)\n",
       "3|<a href=\"https://cdli.ucla.edu/search/search_results.php?SearchMode=Text&ObjectID=P005213\" title=\"to CDLI main page for this tablet\">tablet P005213</a>|case 2a|SZITA~a1|case 4a|&#124;ZATU659x1(N01)&#124;|ZATU659|1(N01)\n",
       "4|<a href=\"https://cdli.ucla.edu/search/search_results.php?SearchMode=Text&ObjectID=P005213\" title=\"to CDLI main page for this tablet\">tablet P005213</a>|case 2a|SZITA~a1|case 5a|&#124;ZATU659x1(N01)&#124;|ZATU659|1(N01)\n",
       "5|<a href=\"https://cdli.ucla.edu/search/search_results.php?SearchMode=Text&ObjectID=P005213\" title=\"to CDLI main page for this tablet\">tablet P005213</a>|case 2a|SZITA~a1|case 6a|&#124;ZATU659x1(N01)&#124;|ZATU659|1(N01)\n",
       "6|<a href=\"https://cdli.ucla.edu/search/search_results.php?SearchMode=Text&ObjectID=P005213\" title=\"to CDLI main page for this tablet\">tablet P005213</a>|case 2a|SZITA~a1|case 7a|&#124;ZATU659x1(N01)&#124;|ZATU659|1(N01)\n",
       "7|<a href=\"https://cdli.ucla.edu/search/search_results.php?SearchMode=Text&ObjectID=P005213\" title=\"to CDLI main page for this tablet\">tablet P005213</a>|case 2a|SZITA~a1|case 8a|&#124;ZATU659x1(N01)&#124;|ZATU659|1(N01)\n",
       "8|<a href=\"https://cdli.ucla.edu/search/search_results.php?SearchMode=Text&ObjectID=P005213\" title=\"to CDLI main page for this tablet\">tablet P005213</a>|case 2a|SZITA~a1|case 3a|&#124;ZATU659x1(N01)&#124;|ZATU659|1(N01)\n",
       "9|<a href=\"https://cdli.ucla.edu/search/search_results.php?SearchMode=Text&ObjectID=P005213\" title=\"to CDLI main page for this tablet\">tablet P005213</a>|case 2a|SZITA~a1|case 2a|&#124;ZATU659x1(N01)&#124;|ZATU659|1(N01)\n",
       "10|<a href=\"https://cdli.ucla.edu/search/search_results.php?SearchMode=Text&ObjectID=P005213\" title=\"to CDLI main page for this tablet\">tablet P005213</a>|case 3b|SZITA~a1|case 4a|&#124;ZATU659x1(N01)&#124;|ZATU659|1(N01)\n",
       "11|<a href=\"https://cdli.ucla.edu/search/search_results.php?SearchMode=Text&ObjectID=P005213\" title=\"to CDLI main page for this tablet\">tablet P005213</a>|case 3b|SZITA~a1|case 5a|&#124;ZATU659x1(N01)&#124;|ZATU659|1(N01)\n",
       "12|<a href=\"https://cdli.ucla.edu/search/search_results.php?SearchMode=Text&ObjectID=P005213\" title=\"to CDLI main page for this tablet\">tablet P005213</a>|case 3b|SZITA~a1|case 6a|&#124;ZATU659x1(N01)&#124;|ZATU659|1(N01)\n",
       "13|<a href=\"https://cdli.ucla.edu/search/search_results.php?SearchMode=Text&ObjectID=P005213\" title=\"to CDLI main page for this tablet\">tablet P005213</a>|case 3b|SZITA~a1|case 7a|&#124;ZATU659x1(N01)&#124;|ZATU659|1(N01)\n",
       "14|<a href=\"https://cdli.ucla.edu/search/search_results.php?SearchMode=Text&ObjectID=P005213\" title=\"to CDLI main page for this tablet\">tablet P005213</a>|case 3b|SZITA~a1|case 8a|&#124;ZATU659x1(N01)&#124;|ZATU659|1(N01)\n",
       "15|<a href=\"https://cdli.ucla.edu/search/search_results.php?SearchMode=Text&ObjectID=P005213\" title=\"to CDLI main page for this tablet\">tablet P005213</a>|case 3b|SZITA~a1|case 3a|&#124;ZATU659x1(N01)&#124;|ZATU659|1(N01)\n",
       "16|<a href=\"https://cdli.ucla.edu/search/search_results.php?SearchMode=Text&ObjectID=P005213\" title=\"to CDLI main page for this tablet\">tablet P005213</a>|case 3b|SZITA~a1|case 2a|&#124;ZATU659x1(N01)&#124;|ZATU659|1(N01)\n",
       "17|<a href=\"https://cdli.ucla.edu/search/search_results.php?SearchMode=Text&ObjectID=P005213\" title=\"to CDLI main page for this tablet\">tablet P005213</a>|case 4b|SZITA~a1|case 4a|&#124;ZATU659x1(N01)&#124;|ZATU659|1(N01)\n",
       "18|<a href=\"https://cdli.ucla.edu/search/search_results.php?SearchMode=Text&ObjectID=P005213\" title=\"to CDLI main page for this tablet\">tablet P005213</a>|case 4b|SZITA~a1|case 5a|&#124;ZATU659x1(N01)&#124;|ZATU659|1(N01)\n",
       "19|<a href=\"https://cdli.ucla.edu/search/search_results.php?SearchMode=Text&ObjectID=P005213\" title=\"to CDLI main page for this tablet\">tablet P005213</a>|case 4b|SZITA~a1|case 6a|&#124;ZATU659x1(N01)&#124;|ZATU659|1(N01)\n",
       "20|<a href=\"https://cdli.ucla.edu/search/search_results.php?SearchMode=Text&ObjectID=P005213\" title=\"to CDLI main page for this tablet\">tablet P005213</a>|case 4b|SZITA~a1|case 7a|&#124;ZATU659x1(N01)&#124;|ZATU659|1(N01)\n",
       "21|<a href=\"https://cdli.ucla.edu/search/search_results.php?SearchMode=Text&ObjectID=P005213\" title=\"to CDLI main page for this tablet\">tablet P005213</a>|case 4b|SZITA~a1|case 8a|&#124;ZATU659x1(N01)&#124;|ZATU659|1(N01)\n",
       "22|<a href=\"https://cdli.ucla.edu/search/search_results.php?SearchMode=Text&ObjectID=P005213\" title=\"to CDLI main page for this tablet\">tablet P005213</a>|case 4b|SZITA~a1|case 3a|&#124;ZATU659x1(N01)&#124;|ZATU659|1(N01)\n",
       "23|<a href=\"https://cdli.ucla.edu/search/search_results.php?SearchMode=Text&ObjectID=P005213\" title=\"to CDLI main page for this tablet\">tablet P005213</a>|case 4b|SZITA~a1|case 2a|&#124;ZATU659x1(N01)&#124;|ZATU659|1(N01)\n",
       "24|<a href=\"https://cdli.ucla.edu/search/search_results.php?SearchMode=Text&ObjectID=P005213\" title=\"to CDLI main page for this tablet\">tablet P005213</a>|case 6b|SZITA~a1|case 4a|&#124;ZATU659x1(N01)&#124;|ZATU659|1(N01)\n",
       "25|<a href=\"https://cdli.ucla.edu/search/search_results.php?SearchMode=Text&ObjectID=P005213\" title=\"to CDLI main page for this tablet\">tablet P005213</a>|case 6b|SZITA~a1|case 5a|&#124;ZATU659x1(N01)&#124;|ZATU659|1(N01)\n",
       "26|<a href=\"https://cdli.ucla.edu/search/search_results.php?SearchMode=Text&ObjectID=P005213\" title=\"to CDLI main page for this tablet\">tablet P005213</a>|case 6b|SZITA~a1|case 6a|&#124;ZATU659x1(N01)&#124;|ZATU659|1(N01)\n",
       "27|<a href=\"https://cdli.ucla.edu/search/search_results.php?SearchMode=Text&ObjectID=P005213\" title=\"to CDLI main page for this tablet\">tablet P005213</a>|case 6b|SZITA~a1|case 7a|&#124;ZATU659x1(N01)&#124;|ZATU659|1(N01)\n",
       "28|<a href=\"https://cdli.ucla.edu/search/search_results.php?SearchMode=Text&ObjectID=P005213\" title=\"to CDLI main page for this tablet\">tablet P005213</a>|case 6b|SZITA~a1|case 8a|&#124;ZATU659x1(N01)&#124;|ZATU659|1(N01)\n",
       "29|<a href=\"https://cdli.ucla.edu/search/search_results.php?SearchMode=Text&ObjectID=P005213\" title=\"to CDLI main page for this tablet\">tablet P005213</a>|case 6b|SZITA~a1|case 3a|&#124;ZATU659x1(N01)&#124;|ZATU659|1(N01)\n",
       "30|<a href=\"https://cdli.ucla.edu/search/search_results.php?SearchMode=Text&ObjectID=P005213\" title=\"to CDLI main page for this tablet\">tablet P005213</a>|case 6b|SZITA~a1|case 2a|&#124;ZATU659x1(N01)&#124;|ZATU659|1(N01)\n",
       "31|<a href=\"https://cdli.ucla.edu/search/search_results.php?SearchMode=Text&ObjectID=P005213\" title=\"to CDLI main page for this tablet\">tablet P005213</a>|case 7b|SZITA~a1|case 4a|&#124;ZATU659x1(N01)&#124;|ZATU659|1(N01)\n",
       "32|<a href=\"https://cdli.ucla.edu/search/search_results.php?SearchMode=Text&ObjectID=P005213\" title=\"to CDLI main page for this tablet\">tablet P005213</a>|case 7b|SZITA~a1|case 5a|&#124;ZATU659x1(N01)&#124;|ZATU659|1(N01)\n",
       "33|<a href=\"https://cdli.ucla.edu/search/search_results.php?SearchMode=Text&ObjectID=P005213\" title=\"to CDLI main page for this tablet\">tablet P005213</a>|case 7b|SZITA~a1|case 6a|&#124;ZATU659x1(N01)&#124;|ZATU659|1(N01)\n",
       "34|<a href=\"https://cdli.ucla.edu/search/search_results.php?SearchMode=Text&ObjectID=P005213\" title=\"to CDLI main page for this tablet\">tablet P005213</a>|case 7b|SZITA~a1|case 7a|&#124;ZATU659x1(N01)&#124;|ZATU659|1(N01)\n",
       "35|<a href=\"https://cdli.ucla.edu/search/search_results.php?SearchMode=Text&ObjectID=P005213\" title=\"to CDLI main page for this tablet\">tablet P005213</a>|case 7b|SZITA~a1|case 8a|&#124;ZATU659x1(N01)&#124;|ZATU659|1(N01)\n",
       "36|<a href=\"https://cdli.ucla.edu/search/search_results.php?SearchMode=Text&ObjectID=P005213\" title=\"to CDLI main page for this tablet\">tablet P005213</a>|case 7b|SZITA~a1|case 3a|&#124;ZATU659x1(N01)&#124;|ZATU659|1(N01)\n",
       "37|<a href=\"https://cdli.ucla.edu/search/search_results.php?SearchMode=Text&ObjectID=P005213\" title=\"to CDLI main page for this tablet\">tablet P005213</a>|case 7b|SZITA~a1|case 2a|&#124;ZATU659x1(N01)&#124;|ZATU659|1(N01)\n",
       "38|<a href=\"https://cdli.ucla.edu/search/search_results.php?SearchMode=Text&ObjectID=P005213\" title=\"to CDLI main page for this tablet\">tablet P005213</a>|case 8b|SZITA~a1|case 4a|&#124;ZATU659x1(N01)&#124;|ZATU659|1(N01)\n",
       "39|<a href=\"https://cdli.ucla.edu/search/search_results.php?SearchMode=Text&ObjectID=P005213\" title=\"to CDLI main page for this tablet\">tablet P005213</a>|case 8b|SZITA~a1|case 5a|&#124;ZATU659x1(N01)&#124;|ZATU659|1(N01)\n",
       "40|<a href=\"https://cdli.ucla.edu/search/search_results.php?SearchMode=Text&ObjectID=P005213\" title=\"to CDLI main page for this tablet\">tablet P005213</a>|case 8b|SZITA~a1|case 6a|&#124;ZATU659x1(N01)&#124;|ZATU659|1(N01)\n",
       "41|<a href=\"https://cdli.ucla.edu/search/search_results.php?SearchMode=Text&ObjectID=P005213\" title=\"to CDLI main page for this tablet\">tablet P005213</a>|case 8b|SZITA~a1|case 7a|&#124;ZATU659x1(N01)&#124;|ZATU659|1(N01)\n",
       "42|<a href=\"https://cdli.ucla.edu/search/search_results.php?SearchMode=Text&ObjectID=P005213\" title=\"to CDLI main page for this tablet\">tablet P005213</a>|case 8b|SZITA~a1|case 8a|&#124;ZATU659x1(N01)&#124;|ZATU659|1(N01)\n",
       "43|<a href=\"https://cdli.ucla.edu/search/search_results.php?SearchMode=Text&ObjectID=P005213\" title=\"to CDLI main page for this tablet\">tablet P005213</a>|case 8b|SZITA~a1|case 3a|&#124;ZATU659x1(N01)&#124;|ZATU659|1(N01)\n",
       "44|<a href=\"https://cdli.ucla.edu/search/search_results.php?SearchMode=Text&ObjectID=P005213\" title=\"to CDLI main page for this tablet\">tablet P005213</a>|case 8b|SZITA~a1|case 2a|&#124;ZATU659x1(N01)&#124;|ZATU659|1(N01)\n",
       "45|<a href=\"https://cdli.ucla.edu/search/search_results.php?SearchMode=Text&ObjectID=P005213\" title=\"to CDLI main page for this tablet\">tablet P005213</a>|case 1b|SZITA~a1|case 4a|&#124;ZATU659x1(N01)&#124;|ZATU659|1(N01)\n",
       "46|<a href=\"https://cdli.ucla.edu/search/search_results.php?SearchMode=Text&ObjectID=P005213\" title=\"to CDLI main page for this tablet\">tablet P005213</a>|case 1b|SZITA~a1|case 5a|&#124;ZATU659x1(N01)&#124;|ZATU659|1(N01)\n",
       "47|<a href=\"https://cdli.ucla.edu/search/search_results.php?SearchMode=Text&ObjectID=P005213\" title=\"to CDLI main page for this tablet\">tablet P005213</a>|case 1b|SZITA~a1|case 6a|&#124;ZATU659x1(N01)&#124;|ZATU659|1(N01)\n",
       "48|<a href=\"https://cdli.ucla.edu/search/search_results.php?SearchMode=Text&ObjectID=P005213\" title=\"to CDLI main page for this tablet\">tablet P005213</a>|case 1b|SZITA~a1|case 7a|&#124;ZATU659x1(N01)&#124;|ZATU659|1(N01)\n",
       "49|<a href=\"https://cdli.ucla.edu/search/search_results.php?SearchMode=Text&ObjectID=P005213\" title=\"to CDLI main page for this tablet\">tablet P005213</a>|case 1b|SZITA~a1|case 8a|&#124;ZATU659x1(N01)&#124;|ZATU659|1(N01)\n",
       "50|<a href=\"https://cdli.ucla.edu/search/search_results.php?SearchMode=Text&ObjectID=P005213\" title=\"to CDLI main page for this tablet\">tablet P005213</a>|case 1b|SZITA~a1|case 3a|&#124;ZATU659x1(N01)&#124;|ZATU659|1(N01)\n",
       "51|<a href=\"https://cdli.ucla.edu/search/search_results.php?SearchMode=Text&ObjectID=P005213\" title=\"to CDLI main page for this tablet\">tablet P005213</a>|case 1b|SZITA~a1|case 2a|&#124;ZATU659x1(N01)&#124;|ZATU659|1(N01)\n",
       "52|<a href=\"https://cdli.ucla.edu/search/search_results.php?SearchMode=Text&ObjectID=P005213\" title=\"to CDLI main page for this tablet\">tablet P005213</a>|case 2b|SZITA~a1|case 4a|&#124;ZATU659x1(N01)&#124;|ZATU659|1(N01)\n",
       "53|<a href=\"https://cdli.ucla.edu/search/search_results.php?SearchMode=Text&ObjectID=P005213\" title=\"to CDLI main page for this tablet\">tablet P005213</a>|case 2b|SZITA~a1|case 5a|&#124;ZATU659x1(N01)&#124;|ZATU659|1(N01)\n",
       "54|<a href=\"https://cdli.ucla.edu/search/search_results.php?SearchMode=Text&ObjectID=P005213\" title=\"to CDLI main page for this tablet\">tablet P005213</a>|case 2b|SZITA~a1|case 6a|&#124;ZATU659x1(N01)&#124;|ZATU659|1(N01)\n",
       "55|<a href=\"https://cdli.ucla.edu/search/search_results.php?SearchMode=Text&ObjectID=P005213\" title=\"to CDLI main page for this tablet\">tablet P005213</a>|case 2b|SZITA~a1|case 7a|&#124;ZATU659x1(N01)&#124;|ZATU659|1(N01)\n",
       "56|<a href=\"https://cdli.ucla.edu/search/search_results.php?SearchMode=Text&ObjectID=P005213\" title=\"to CDLI main page for this tablet\">tablet P005213</a>|case 2b|SZITA~a1|case 8a|&#124;ZATU659x1(N01)&#124;|ZATU659|1(N01)\n",
       "57|<a href=\"https://cdli.ucla.edu/search/search_results.php?SearchMode=Text&ObjectID=P005213\" title=\"to CDLI main page for this tablet\">tablet P005213</a>|case 2b|SZITA~a1|case 3a|&#124;ZATU659x1(N01)&#124;|ZATU659|1(N01)\n",
       "58|<a href=\"https://cdli.ucla.edu/search/search_results.php?SearchMode=Text&ObjectID=P005213\" title=\"to CDLI main page for this tablet\">tablet P005213</a>|case 2b|SZITA~a1|case 2a|&#124;ZATU659x1(N01)&#124;|ZATU659|1(N01)\n",
       "59|<a href=\"https://cdli.ucla.edu/search/search_results.php?SearchMode=Text&ObjectID=P005213\" title=\"to CDLI main page for this tablet\">tablet P005213</a>|case 3b|SZITA~a1|case 4a|&#124;ZATU659x1(N01)&#124;|ZATU659|1(N01)\n",
       "60|<a href=\"https://cdli.ucla.edu/search/search_results.php?SearchMode=Text&ObjectID=P005213\" title=\"to CDLI main page for this tablet\">tablet P005213</a>|case 3b|SZITA~a1|case 5a|&#124;ZATU659x1(N01)&#124;|ZATU659|1(N01)\n",
       "61|<a href=\"https://cdli.ucla.edu/search/search_results.php?SearchMode=Text&ObjectID=P005213\" title=\"to CDLI main page for this tablet\">tablet P005213</a>|case 3b|SZITA~a1|case 6a|&#124;ZATU659x1(N01)&#124;|ZATU659|1(N01)\n",
       "62|<a href=\"https://cdli.ucla.edu/search/search_results.php?SearchMode=Text&ObjectID=P005213\" title=\"to CDLI main page for this tablet\">tablet P005213</a>|case 3b|SZITA~a1|case 7a|&#124;ZATU659x1(N01)&#124;|ZATU659|1(N01)\n",
       "63|<a href=\"https://cdli.ucla.edu/search/search_results.php?SearchMode=Text&ObjectID=P005213\" title=\"to CDLI main page for this tablet\">tablet P005213</a>|case 3b|SZITA~a1|case 8a|&#124;ZATU659x1(N01)&#124;|ZATU659|1(N01)\n",
       "64|<a href=\"https://cdli.ucla.edu/search/search_results.php?SearchMode=Text&ObjectID=P005213\" title=\"to CDLI main page for this tablet\">tablet P005213</a>|case 3b|SZITA~a1|case 3a|&#124;ZATU659x1(N01)&#124;|ZATU659|1(N01)\n",
       "65|<a href=\"https://cdli.ucla.edu/search/search_results.php?SearchMode=Text&ObjectID=P005213\" title=\"to CDLI main page for this tablet\">tablet P005213</a>|case 3b|SZITA~a1|case 2a|&#124;ZATU659x1(N01)&#124;|ZATU659|1(N01)\n",
       "66|<a href=\"https://cdli.ucla.edu/search/search_results.php?SearchMode=Text&ObjectID=P005213\" title=\"to CDLI main page for this tablet\">tablet P005213</a>|case 4b|SZITA~a1|case 4a|&#124;ZATU659x1(N01)&#124;|ZATU659|1(N01)\n",
       "67|<a href=\"https://cdli.ucla.edu/search/search_results.php?SearchMode=Text&ObjectID=P005213\" title=\"to CDLI main page for this tablet\">tablet P005213</a>|case 4b|SZITA~a1|case 5a|&#124;ZATU659x1(N01)&#124;|ZATU659|1(N01)\n",
       "68|<a href=\"https://cdli.ucla.edu/search/search_results.php?SearchMode=Text&ObjectID=P005213\" title=\"to CDLI main page for this tablet\">tablet P005213</a>|case 4b|SZITA~a1|case 6a|&#124;ZATU659x1(N01)&#124;|ZATU659|1(N01)\n",
       "69|<a href=\"https://cdli.ucla.edu/search/search_results.php?SearchMode=Text&ObjectID=P005213\" title=\"to CDLI main page for this tablet\">tablet P005213</a>|case 4b|SZITA~a1|case 7a|&#124;ZATU659x1(N01)&#124;|ZATU659|1(N01)\n",
       "70|<a href=\"https://cdli.ucla.edu/search/search_results.php?SearchMode=Text&ObjectID=P005213\" title=\"to CDLI main page for this tablet\">tablet P005213</a>|case 4b|SZITA~a1|case 8a|&#124;ZATU659x1(N01)&#124;|ZATU659|1(N01)\n",
       "71|<a href=\"https://cdli.ucla.edu/search/search_results.php?SearchMode=Text&ObjectID=P005213\" title=\"to CDLI main page for this tablet\">tablet P005213</a>|case 4b|SZITA~a1|case 3a|&#124;ZATU659x1(N01)&#124;|ZATU659|1(N01)\n",
       "72|<a href=\"https://cdli.ucla.edu/search/search_results.php?SearchMode=Text&ObjectID=P005213\" title=\"to CDLI main page for this tablet\">tablet P005213</a>|case 4b|SZITA~a1|case 2a|&#124;ZATU659x1(N01)&#124;|ZATU659|1(N01)\n",
       "73|<a href=\"https://cdli.ucla.edu/search/search_results.php?SearchMode=Text&ObjectID=P005213\" title=\"to CDLI main page for this tablet\">tablet P005213</a>|case 5b|SZITA~a1|case 4a|&#124;ZATU659x1(N01)&#124;|ZATU659|1(N01)\n",
       "74|<a href=\"https://cdli.ucla.edu/search/search_results.php?SearchMode=Text&ObjectID=P005213\" title=\"to CDLI main page for this tablet\">tablet P005213</a>|case 5b|SZITA~a1|case 5a|&#124;ZATU659x1(N01)&#124;|ZATU659|1(N01)\n",
       "75|<a href=\"https://cdli.ucla.edu/search/search_results.php?SearchMode=Text&ObjectID=P005213\" title=\"to CDLI main page for this tablet\">tablet P005213</a>|case 5b|SZITA~a1|case 6a|&#124;ZATU659x1(N01)&#124;|ZATU659|1(N01)\n",
       "76|<a href=\"https://cdli.ucla.edu/search/search_results.php?SearchMode=Text&ObjectID=P005213\" title=\"to CDLI main page for this tablet\">tablet P005213</a>|case 5b|SZITA~a1|case 7a|&#124;ZATU659x1(N01)&#124;|ZATU659|1(N01)\n",
       "77|<a href=\"https://cdli.ucla.edu/search/search_results.php?SearchMode=Text&ObjectID=P005213\" title=\"to CDLI main page for this tablet\">tablet P005213</a>|case 5b|SZITA~a1|case 8a|&#124;ZATU659x1(N01)&#124;|ZATU659|1(N01)\n",
       "78|<a href=\"https://cdli.ucla.edu/search/search_results.php?SearchMode=Text&ObjectID=P005213\" title=\"to CDLI main page for this tablet\">tablet P005213</a>|case 5b|SZITA~a1|case 3a|&#124;ZATU659x1(N01)&#124;|ZATU659|1(N01)\n",
       "79|<a href=\"https://cdli.ucla.edu/search/search_results.php?SearchMode=Text&ObjectID=P005213\" title=\"to CDLI main page for this tablet\">tablet P005213</a>|case 5b|SZITA~a1|case 2a|&#124;ZATU659x1(N01)&#124;|ZATU659|1(N01)\n",
       "80|<a href=\"https://cdli.ucla.edu/search/search_results.php?SearchMode=Text&ObjectID=P005213\" title=\"to CDLI main page for this tablet\">tablet P005213</a>|case 6b|SZITA~a1|case 4a|&#124;ZATU659x1(N01)&#124;|ZATU659|1(N01)\n",
       "81|<a href=\"https://cdli.ucla.edu/search/search_results.php?SearchMode=Text&ObjectID=P005213\" title=\"to CDLI main page for this tablet\">tablet P005213</a>|case 6b|SZITA~a1|case 5a|&#124;ZATU659x1(N01)&#124;|ZATU659|1(N01)\n",
       "82|<a href=\"https://cdli.ucla.edu/search/search_results.php?SearchMode=Text&ObjectID=P005213\" title=\"to CDLI main page for this tablet\">tablet P005213</a>|case 6b|SZITA~a1|case 6a|&#124;ZATU659x1(N01)&#124;|ZATU659|1(N01)\n",
       "83|<a href=\"https://cdli.ucla.edu/search/search_results.php?SearchMode=Text&ObjectID=P005213\" title=\"to CDLI main page for this tablet\">tablet P005213</a>|case 6b|SZITA~a1|case 7a|&#124;ZATU659x1(N01)&#124;|ZATU659|1(N01)\n",
       "84|<a href=\"https://cdli.ucla.edu/search/search_results.php?SearchMode=Text&ObjectID=P005213\" title=\"to CDLI main page for this tablet\">tablet P005213</a>|case 6b|SZITA~a1|case 8a|&#124;ZATU659x1(N01)&#124;|ZATU659|1(N01)\n",
       "85|<a href=\"https://cdli.ucla.edu/search/search_results.php?SearchMode=Text&ObjectID=P005213\" title=\"to CDLI main page for this tablet\">tablet P005213</a>|case 6b|SZITA~a1|case 3a|&#124;ZATU659x1(N01)&#124;|ZATU659|1(N01)\n",
       "86|<a href=\"https://cdli.ucla.edu/search/search_results.php?SearchMode=Text&ObjectID=P005213\" title=\"to CDLI main page for this tablet\">tablet P005213</a>|case 6b|SZITA~a1|case 2a|&#124;ZATU659x1(N01)&#124;|ZATU659|1(N01)\n",
       "87|<a href=\"https://cdli.ucla.edu/search/search_results.php?SearchMode=Text&ObjectID=P005214\" title=\"to CDLI main page for this tablet\">tablet P005214</a>|case 3c|SZITA~a1|case 4a|&#124;ZATU659x1(N01)&#124;|ZATU659|1(N01)\n",
       "88|<a href=\"https://cdli.ucla.edu/search/search_results.php?SearchMode=Text&ObjectID=P005214\" title=\"to CDLI main page for this tablet\">tablet P005214</a>|case 3c|SZITA~a1|case 5a|&#124;ZATU659x1(N01)&#124;|ZATU659|1(N01)\n",
       "89|<a href=\"https://cdli.ucla.edu/search/search_results.php?SearchMode=Text&ObjectID=P005214\" title=\"to CDLI main page for this tablet\">tablet P005214</a>|case 4c|SZITA~a1|case 4a|&#124;ZATU659x1(N01)&#124;|ZATU659|1(N01)\n",
       "90|<a href=\"https://cdli.ucla.edu/search/search_results.php?SearchMode=Text&ObjectID=P005214\" title=\"to CDLI main page for this tablet\">tablet P005214</a>|case 4c|SZITA~a1|case 5a|&#124;ZATU659x1(N01)&#124;|ZATU659|1(N01)\n",
       "91|<a href=\"https://cdli.ucla.edu/search/search_results.php?SearchMode=Text&ObjectID=P005214\" title=\"to CDLI main page for this tablet\">tablet P005214</a>|case 5b|SZITA~a1|case 4a|&#124;ZATU659x1(N01)&#124;|ZATU659|1(N01)\n",
       "92|<a href=\"https://cdli.ucla.edu/search/search_results.php?SearchMode=Text&ObjectID=P005214\" title=\"to CDLI main page for this tablet\">tablet P005214</a>|case 5b|SZITA~a1|case 5a|&#124;ZATU659x1(N01)&#124;|ZATU659|1(N01)\n",
       "93|<a href=\"https://cdli.ucla.edu/search/search_results.php?SearchMode=Text&ObjectID=P005214\" title=\"to CDLI main page for this tablet\">tablet P005214</a>|case 6b|SZITA~a1|case 4a|&#124;ZATU659x1(N01)&#124;|ZATU659|1(N01)\n",
       "94|<a href=\"https://cdli.ucla.edu/search/search_results.php?SearchMode=Text&ObjectID=P005214\" title=\"to CDLI main page for this tablet\">tablet P005214</a>|case 6b|SZITA~a1|case 5a|&#124;ZATU659x1(N01)&#124;|ZATU659|1(N01)\n",
       "95|<a href=\"https://cdli.ucla.edu/search/search_results.php?SearchMode=Text&ObjectID=P005215\" title=\"to CDLI main page for this tablet\">tablet P005215</a>|case 1b|SZITA~a1|case 1a|&#124;ZATU659x1(N01)&#124;|ZATU659|1(N01)"
      ],
      "text/plain": [
       "<IPython.core.display.Markdown object>"
      ]
     },
     "metadata": {},
     "output_type": "display_data"
    }
   ],
   "source": [
    "query = '''\n",
    "tablet\n",
    "  case depth=1 terminal\n",
    "    sign grapheme=SZITA variant=a1\n",
    "  case\n",
    "    quad\n",
    "      =: sign grapheme=ZATU659\n",
    "      <: sign grapheme=N01 repeat=1\n",
    "      :=\n",
    "'''\n",
    "results = A.search(query)\n",
    "A.table(results, withNodes=False, lineart=False)"
   ]
  },
  {
   "cell_type": "markdown",
   "metadata": {},
   "source": [
    "This query gives us 95 occurrences in four distinct proto-cuneiform tablets: P005213, P005214, P005215 and P002399.\n",
    "\n",
    "The two indented lines starting with \"case\" identify a distinct sign; \n",
    "\n",
    "=: left and right start at the same slot\n",
    "\n",
    "<: :>: adjacent before and after (with respect to the slots occupied: left ends immediately before right starts and vice versa)\n",
    "\n",
    ":= left and right end at the same slot"
   ]
  },
  {
   "cell_type": "code",
   "execution_count": 14,
   "metadata": {},
   "outputs": [
    {
     "name": "stdout",
     "output_type": "stream",
     "text": [
      "  0.54s 95 results\n"
     ]
    },
    {
     "data": {
      "text/markdown": [
       "n | tablet | case | sign | case | quad | sign | sign\n",
       "--- | --- | --- | --- | --- | --- | --- | ---\n",
       "1|<a href=\"https://cdli.ucla.edu/search/search_results.php?SearchMode=Text&ObjectID=P002399\" title=\"to CDLI main page for this tablet\">tablet P002399</a>|case 2b|SZITA~a1|case 2a|&#124;ZATU659x1(N01)&#124;|ZATU659|1(N01)\n",
       "2|<a href=\"https://cdli.ucla.edu/search/search_results.php?SearchMode=Text&ObjectID=P002399\" title=\"to CDLI main page for this tablet\">tablet P002399</a>|case 2b|SZITA~a1|case 3a|&#124;ZATU659x1(N01)&#124;|ZATU659|1(N01)\n",
       "3|<a href=\"https://cdli.ucla.edu/search/search_results.php?SearchMode=Text&ObjectID=P005213\" title=\"to CDLI main page for this tablet\">tablet P005213</a>|case 2a|SZITA~a1|case 4a|&#124;ZATU659x1(N01)&#124;|ZATU659|1(N01)\n",
       "4|<a href=\"https://cdli.ucla.edu/search/search_results.php?SearchMode=Text&ObjectID=P005213\" title=\"to CDLI main page for this tablet\">tablet P005213</a>|case 2a|SZITA~a1|case 5a|&#124;ZATU659x1(N01)&#124;|ZATU659|1(N01)\n",
       "5|<a href=\"https://cdli.ucla.edu/search/search_results.php?SearchMode=Text&ObjectID=P005213\" title=\"to CDLI main page for this tablet\">tablet P005213</a>|case 2a|SZITA~a1|case 6a|&#124;ZATU659x1(N01)&#124;|ZATU659|1(N01)\n",
       "6|<a href=\"https://cdli.ucla.edu/search/search_results.php?SearchMode=Text&ObjectID=P005213\" title=\"to CDLI main page for this tablet\">tablet P005213</a>|case 2a|SZITA~a1|case 7a|&#124;ZATU659x1(N01)&#124;|ZATU659|1(N01)\n",
       "7|<a href=\"https://cdli.ucla.edu/search/search_results.php?SearchMode=Text&ObjectID=P005213\" title=\"to CDLI main page for this tablet\">tablet P005213</a>|case 2a|SZITA~a1|case 8a|&#124;ZATU659x1(N01)&#124;|ZATU659|1(N01)\n",
       "8|<a href=\"https://cdli.ucla.edu/search/search_results.php?SearchMode=Text&ObjectID=P005213\" title=\"to CDLI main page for this tablet\">tablet P005213</a>|case 2a|SZITA~a1|case 3a|&#124;ZATU659x1(N01)&#124;|ZATU659|1(N01)\n",
       "9|<a href=\"https://cdli.ucla.edu/search/search_results.php?SearchMode=Text&ObjectID=P005213\" title=\"to CDLI main page for this tablet\">tablet P005213</a>|case 2a|SZITA~a1|case 2a|&#124;ZATU659x1(N01)&#124;|ZATU659|1(N01)\n",
       "10|<a href=\"https://cdli.ucla.edu/search/search_results.php?SearchMode=Text&ObjectID=P005213\" title=\"to CDLI main page for this tablet\">tablet P005213</a>|case 3b|SZITA~a1|case 4a|&#124;ZATU659x1(N01)&#124;|ZATU659|1(N01)\n",
       "11|<a href=\"https://cdli.ucla.edu/search/search_results.php?SearchMode=Text&ObjectID=P005213\" title=\"to CDLI main page for this tablet\">tablet P005213</a>|case 3b|SZITA~a1|case 5a|&#124;ZATU659x1(N01)&#124;|ZATU659|1(N01)\n",
       "12|<a href=\"https://cdli.ucla.edu/search/search_results.php?SearchMode=Text&ObjectID=P005213\" title=\"to CDLI main page for this tablet\">tablet P005213</a>|case 3b|SZITA~a1|case 6a|&#124;ZATU659x1(N01)&#124;|ZATU659|1(N01)\n",
       "13|<a href=\"https://cdli.ucla.edu/search/search_results.php?SearchMode=Text&ObjectID=P005213\" title=\"to CDLI main page for this tablet\">tablet P005213</a>|case 3b|SZITA~a1|case 7a|&#124;ZATU659x1(N01)&#124;|ZATU659|1(N01)\n",
       "14|<a href=\"https://cdli.ucla.edu/search/search_results.php?SearchMode=Text&ObjectID=P005213\" title=\"to CDLI main page for this tablet\">tablet P005213</a>|case 3b|SZITA~a1|case 8a|&#124;ZATU659x1(N01)&#124;|ZATU659|1(N01)\n",
       "15|<a href=\"https://cdli.ucla.edu/search/search_results.php?SearchMode=Text&ObjectID=P005213\" title=\"to CDLI main page for this tablet\">tablet P005213</a>|case 3b|SZITA~a1|case 3a|&#124;ZATU659x1(N01)&#124;|ZATU659|1(N01)\n",
       "16|<a href=\"https://cdli.ucla.edu/search/search_results.php?SearchMode=Text&ObjectID=P005213\" title=\"to CDLI main page for this tablet\">tablet P005213</a>|case 3b|SZITA~a1|case 2a|&#124;ZATU659x1(N01)&#124;|ZATU659|1(N01)\n",
       "17|<a href=\"https://cdli.ucla.edu/search/search_results.php?SearchMode=Text&ObjectID=P005213\" title=\"to CDLI main page for this tablet\">tablet P005213</a>|case 4b|SZITA~a1|case 4a|&#124;ZATU659x1(N01)&#124;|ZATU659|1(N01)\n",
       "18|<a href=\"https://cdli.ucla.edu/search/search_results.php?SearchMode=Text&ObjectID=P005213\" title=\"to CDLI main page for this tablet\">tablet P005213</a>|case 4b|SZITA~a1|case 5a|&#124;ZATU659x1(N01)&#124;|ZATU659|1(N01)\n",
       "19|<a href=\"https://cdli.ucla.edu/search/search_results.php?SearchMode=Text&ObjectID=P005213\" title=\"to CDLI main page for this tablet\">tablet P005213</a>|case 4b|SZITA~a1|case 6a|&#124;ZATU659x1(N01)&#124;|ZATU659|1(N01)\n",
       "20|<a href=\"https://cdli.ucla.edu/search/search_results.php?SearchMode=Text&ObjectID=P005213\" title=\"to CDLI main page for this tablet\">tablet P005213</a>|case 4b|SZITA~a1|case 7a|&#124;ZATU659x1(N01)&#124;|ZATU659|1(N01)\n",
       "21|<a href=\"https://cdli.ucla.edu/search/search_results.php?SearchMode=Text&ObjectID=P005213\" title=\"to CDLI main page for this tablet\">tablet P005213</a>|case 4b|SZITA~a1|case 8a|&#124;ZATU659x1(N01)&#124;|ZATU659|1(N01)\n",
       "22|<a href=\"https://cdli.ucla.edu/search/search_results.php?SearchMode=Text&ObjectID=P005213\" title=\"to CDLI main page for this tablet\">tablet P005213</a>|case 4b|SZITA~a1|case 3a|&#124;ZATU659x1(N01)&#124;|ZATU659|1(N01)\n",
       "23|<a href=\"https://cdli.ucla.edu/search/search_results.php?SearchMode=Text&ObjectID=P005213\" title=\"to CDLI main page for this tablet\">tablet P005213</a>|case 4b|SZITA~a1|case 2a|&#124;ZATU659x1(N01)&#124;|ZATU659|1(N01)\n",
       "24|<a href=\"https://cdli.ucla.edu/search/search_results.php?SearchMode=Text&ObjectID=P005213\" title=\"to CDLI main page for this tablet\">tablet P005213</a>|case 6b|SZITA~a1|case 4a|&#124;ZATU659x1(N01)&#124;|ZATU659|1(N01)\n",
       "25|<a href=\"https://cdli.ucla.edu/search/search_results.php?SearchMode=Text&ObjectID=P005213\" title=\"to CDLI main page for this tablet\">tablet P005213</a>|case 6b|SZITA~a1|case 5a|&#124;ZATU659x1(N01)&#124;|ZATU659|1(N01)\n",
       "26|<a href=\"https://cdli.ucla.edu/search/search_results.php?SearchMode=Text&ObjectID=P005213\" title=\"to CDLI main page for this tablet\">tablet P005213</a>|case 6b|SZITA~a1|case 6a|&#124;ZATU659x1(N01)&#124;|ZATU659|1(N01)\n",
       "27|<a href=\"https://cdli.ucla.edu/search/search_results.php?SearchMode=Text&ObjectID=P005213\" title=\"to CDLI main page for this tablet\">tablet P005213</a>|case 6b|SZITA~a1|case 7a|&#124;ZATU659x1(N01)&#124;|ZATU659|1(N01)\n",
       "28|<a href=\"https://cdli.ucla.edu/search/search_results.php?SearchMode=Text&ObjectID=P005213\" title=\"to CDLI main page for this tablet\">tablet P005213</a>|case 6b|SZITA~a1|case 8a|&#124;ZATU659x1(N01)&#124;|ZATU659|1(N01)\n",
       "29|<a href=\"https://cdli.ucla.edu/search/search_results.php?SearchMode=Text&ObjectID=P005213\" title=\"to CDLI main page for this tablet\">tablet P005213</a>|case 6b|SZITA~a1|case 3a|&#124;ZATU659x1(N01)&#124;|ZATU659|1(N01)\n",
       "30|<a href=\"https://cdli.ucla.edu/search/search_results.php?SearchMode=Text&ObjectID=P005213\" title=\"to CDLI main page for this tablet\">tablet P005213</a>|case 6b|SZITA~a1|case 2a|&#124;ZATU659x1(N01)&#124;|ZATU659|1(N01)\n",
       "31|<a href=\"https://cdli.ucla.edu/search/search_results.php?SearchMode=Text&ObjectID=P005213\" title=\"to CDLI main page for this tablet\">tablet P005213</a>|case 7b|SZITA~a1|case 4a|&#124;ZATU659x1(N01)&#124;|ZATU659|1(N01)\n",
       "32|<a href=\"https://cdli.ucla.edu/search/search_results.php?SearchMode=Text&ObjectID=P005213\" title=\"to CDLI main page for this tablet\">tablet P005213</a>|case 7b|SZITA~a1|case 5a|&#124;ZATU659x1(N01)&#124;|ZATU659|1(N01)\n",
       "33|<a href=\"https://cdli.ucla.edu/search/search_results.php?SearchMode=Text&ObjectID=P005213\" title=\"to CDLI main page for this tablet\">tablet P005213</a>|case 7b|SZITA~a1|case 6a|&#124;ZATU659x1(N01)&#124;|ZATU659|1(N01)\n",
       "34|<a href=\"https://cdli.ucla.edu/search/search_results.php?SearchMode=Text&ObjectID=P005213\" title=\"to CDLI main page for this tablet\">tablet P005213</a>|case 7b|SZITA~a1|case 7a|&#124;ZATU659x1(N01)&#124;|ZATU659|1(N01)\n",
       "35|<a href=\"https://cdli.ucla.edu/search/search_results.php?SearchMode=Text&ObjectID=P005213\" title=\"to CDLI main page for this tablet\">tablet P005213</a>|case 7b|SZITA~a1|case 8a|&#124;ZATU659x1(N01)&#124;|ZATU659|1(N01)\n",
       "36|<a href=\"https://cdli.ucla.edu/search/search_results.php?SearchMode=Text&ObjectID=P005213\" title=\"to CDLI main page for this tablet\">tablet P005213</a>|case 7b|SZITA~a1|case 3a|&#124;ZATU659x1(N01)&#124;|ZATU659|1(N01)\n",
       "37|<a href=\"https://cdli.ucla.edu/search/search_results.php?SearchMode=Text&ObjectID=P005213\" title=\"to CDLI main page for this tablet\">tablet P005213</a>|case 7b|SZITA~a1|case 2a|&#124;ZATU659x1(N01)&#124;|ZATU659|1(N01)\n",
       "38|<a href=\"https://cdli.ucla.edu/search/search_results.php?SearchMode=Text&ObjectID=P005213\" title=\"to CDLI main page for this tablet\">tablet P005213</a>|case 8b|SZITA~a1|case 4a|&#124;ZATU659x1(N01)&#124;|ZATU659|1(N01)\n",
       "39|<a href=\"https://cdli.ucla.edu/search/search_results.php?SearchMode=Text&ObjectID=P005213\" title=\"to CDLI main page for this tablet\">tablet P005213</a>|case 8b|SZITA~a1|case 5a|&#124;ZATU659x1(N01)&#124;|ZATU659|1(N01)\n",
       "40|<a href=\"https://cdli.ucla.edu/search/search_results.php?SearchMode=Text&ObjectID=P005213\" title=\"to CDLI main page for this tablet\">tablet P005213</a>|case 8b|SZITA~a1|case 6a|&#124;ZATU659x1(N01)&#124;|ZATU659|1(N01)\n",
       "41|<a href=\"https://cdli.ucla.edu/search/search_results.php?SearchMode=Text&ObjectID=P005213\" title=\"to CDLI main page for this tablet\">tablet P005213</a>|case 8b|SZITA~a1|case 7a|&#124;ZATU659x1(N01)&#124;|ZATU659|1(N01)\n",
       "42|<a href=\"https://cdli.ucla.edu/search/search_results.php?SearchMode=Text&ObjectID=P005213\" title=\"to CDLI main page for this tablet\">tablet P005213</a>|case 8b|SZITA~a1|case 8a|&#124;ZATU659x1(N01)&#124;|ZATU659|1(N01)\n",
       "43|<a href=\"https://cdli.ucla.edu/search/search_results.php?SearchMode=Text&ObjectID=P005213\" title=\"to CDLI main page for this tablet\">tablet P005213</a>|case 8b|SZITA~a1|case 3a|&#124;ZATU659x1(N01)&#124;|ZATU659|1(N01)\n",
       "44|<a href=\"https://cdli.ucla.edu/search/search_results.php?SearchMode=Text&ObjectID=P005213\" title=\"to CDLI main page for this tablet\">tablet P005213</a>|case 8b|SZITA~a1|case 2a|&#124;ZATU659x1(N01)&#124;|ZATU659|1(N01)\n",
       "45|<a href=\"https://cdli.ucla.edu/search/search_results.php?SearchMode=Text&ObjectID=P005213\" title=\"to CDLI main page for this tablet\">tablet P005213</a>|case 1b|SZITA~a1|case 4a|&#124;ZATU659x1(N01)&#124;|ZATU659|1(N01)\n",
       "46|<a href=\"https://cdli.ucla.edu/search/search_results.php?SearchMode=Text&ObjectID=P005213\" title=\"to CDLI main page for this tablet\">tablet P005213</a>|case 1b|SZITA~a1|case 5a|&#124;ZATU659x1(N01)&#124;|ZATU659|1(N01)\n",
       "47|<a href=\"https://cdli.ucla.edu/search/search_results.php?SearchMode=Text&ObjectID=P005213\" title=\"to CDLI main page for this tablet\">tablet P005213</a>|case 1b|SZITA~a1|case 6a|&#124;ZATU659x1(N01)&#124;|ZATU659|1(N01)\n",
       "48|<a href=\"https://cdli.ucla.edu/search/search_results.php?SearchMode=Text&ObjectID=P005213\" title=\"to CDLI main page for this tablet\">tablet P005213</a>|case 1b|SZITA~a1|case 7a|&#124;ZATU659x1(N01)&#124;|ZATU659|1(N01)\n",
       "49|<a href=\"https://cdli.ucla.edu/search/search_results.php?SearchMode=Text&ObjectID=P005213\" title=\"to CDLI main page for this tablet\">tablet P005213</a>|case 1b|SZITA~a1|case 8a|&#124;ZATU659x1(N01)&#124;|ZATU659|1(N01)\n",
       "50|<a href=\"https://cdli.ucla.edu/search/search_results.php?SearchMode=Text&ObjectID=P005213\" title=\"to CDLI main page for this tablet\">tablet P005213</a>|case 1b|SZITA~a1|case 3a|&#124;ZATU659x1(N01)&#124;|ZATU659|1(N01)\n",
       "51|<a href=\"https://cdli.ucla.edu/search/search_results.php?SearchMode=Text&ObjectID=P005213\" title=\"to CDLI main page for this tablet\">tablet P005213</a>|case 1b|SZITA~a1|case 2a|&#124;ZATU659x1(N01)&#124;|ZATU659|1(N01)\n",
       "52|<a href=\"https://cdli.ucla.edu/search/search_results.php?SearchMode=Text&ObjectID=P005213\" title=\"to CDLI main page for this tablet\">tablet P005213</a>|case 2b|SZITA~a1|case 4a|&#124;ZATU659x1(N01)&#124;|ZATU659|1(N01)\n",
       "53|<a href=\"https://cdli.ucla.edu/search/search_results.php?SearchMode=Text&ObjectID=P005213\" title=\"to CDLI main page for this tablet\">tablet P005213</a>|case 2b|SZITA~a1|case 5a|&#124;ZATU659x1(N01)&#124;|ZATU659|1(N01)\n",
       "54|<a href=\"https://cdli.ucla.edu/search/search_results.php?SearchMode=Text&ObjectID=P005213\" title=\"to CDLI main page for this tablet\">tablet P005213</a>|case 2b|SZITA~a1|case 6a|&#124;ZATU659x1(N01)&#124;|ZATU659|1(N01)\n",
       "55|<a href=\"https://cdli.ucla.edu/search/search_results.php?SearchMode=Text&ObjectID=P005213\" title=\"to CDLI main page for this tablet\">tablet P005213</a>|case 2b|SZITA~a1|case 7a|&#124;ZATU659x1(N01)&#124;|ZATU659|1(N01)\n",
       "56|<a href=\"https://cdli.ucla.edu/search/search_results.php?SearchMode=Text&ObjectID=P005213\" title=\"to CDLI main page for this tablet\">tablet P005213</a>|case 2b|SZITA~a1|case 8a|&#124;ZATU659x1(N01)&#124;|ZATU659|1(N01)\n",
       "57|<a href=\"https://cdli.ucla.edu/search/search_results.php?SearchMode=Text&ObjectID=P005213\" title=\"to CDLI main page for this tablet\">tablet P005213</a>|case 2b|SZITA~a1|case 3a|&#124;ZATU659x1(N01)&#124;|ZATU659|1(N01)\n",
       "58|<a href=\"https://cdli.ucla.edu/search/search_results.php?SearchMode=Text&ObjectID=P005213\" title=\"to CDLI main page for this tablet\">tablet P005213</a>|case 2b|SZITA~a1|case 2a|&#124;ZATU659x1(N01)&#124;|ZATU659|1(N01)\n",
       "59|<a href=\"https://cdli.ucla.edu/search/search_results.php?SearchMode=Text&ObjectID=P005213\" title=\"to CDLI main page for this tablet\">tablet P005213</a>|case 3b|SZITA~a1|case 4a|&#124;ZATU659x1(N01)&#124;|ZATU659|1(N01)\n",
       "60|<a href=\"https://cdli.ucla.edu/search/search_results.php?SearchMode=Text&ObjectID=P005213\" title=\"to CDLI main page for this tablet\">tablet P005213</a>|case 3b|SZITA~a1|case 5a|&#124;ZATU659x1(N01)&#124;|ZATU659|1(N01)\n",
       "61|<a href=\"https://cdli.ucla.edu/search/search_results.php?SearchMode=Text&ObjectID=P005213\" title=\"to CDLI main page for this tablet\">tablet P005213</a>|case 3b|SZITA~a1|case 6a|&#124;ZATU659x1(N01)&#124;|ZATU659|1(N01)\n",
       "62|<a href=\"https://cdli.ucla.edu/search/search_results.php?SearchMode=Text&ObjectID=P005213\" title=\"to CDLI main page for this tablet\">tablet P005213</a>|case 3b|SZITA~a1|case 7a|&#124;ZATU659x1(N01)&#124;|ZATU659|1(N01)\n",
       "63|<a href=\"https://cdli.ucla.edu/search/search_results.php?SearchMode=Text&ObjectID=P005213\" title=\"to CDLI main page for this tablet\">tablet P005213</a>|case 3b|SZITA~a1|case 8a|&#124;ZATU659x1(N01)&#124;|ZATU659|1(N01)\n",
       "64|<a href=\"https://cdli.ucla.edu/search/search_results.php?SearchMode=Text&ObjectID=P005213\" title=\"to CDLI main page for this tablet\">tablet P005213</a>|case 3b|SZITA~a1|case 3a|&#124;ZATU659x1(N01)&#124;|ZATU659|1(N01)\n",
       "65|<a href=\"https://cdli.ucla.edu/search/search_results.php?SearchMode=Text&ObjectID=P005213\" title=\"to CDLI main page for this tablet\">tablet P005213</a>|case 3b|SZITA~a1|case 2a|&#124;ZATU659x1(N01)&#124;|ZATU659|1(N01)\n",
       "66|<a href=\"https://cdli.ucla.edu/search/search_results.php?SearchMode=Text&ObjectID=P005213\" title=\"to CDLI main page for this tablet\">tablet P005213</a>|case 4b|SZITA~a1|case 4a|&#124;ZATU659x1(N01)&#124;|ZATU659|1(N01)\n",
       "67|<a href=\"https://cdli.ucla.edu/search/search_results.php?SearchMode=Text&ObjectID=P005213\" title=\"to CDLI main page for this tablet\">tablet P005213</a>|case 4b|SZITA~a1|case 5a|&#124;ZATU659x1(N01)&#124;|ZATU659|1(N01)\n",
       "68|<a href=\"https://cdli.ucla.edu/search/search_results.php?SearchMode=Text&ObjectID=P005213\" title=\"to CDLI main page for this tablet\">tablet P005213</a>|case 4b|SZITA~a1|case 6a|&#124;ZATU659x1(N01)&#124;|ZATU659|1(N01)\n",
       "69|<a href=\"https://cdli.ucla.edu/search/search_results.php?SearchMode=Text&ObjectID=P005213\" title=\"to CDLI main page for this tablet\">tablet P005213</a>|case 4b|SZITA~a1|case 7a|&#124;ZATU659x1(N01)&#124;|ZATU659|1(N01)\n",
       "70|<a href=\"https://cdli.ucla.edu/search/search_results.php?SearchMode=Text&ObjectID=P005213\" title=\"to CDLI main page for this tablet\">tablet P005213</a>|case 4b|SZITA~a1|case 8a|&#124;ZATU659x1(N01)&#124;|ZATU659|1(N01)\n",
       "71|<a href=\"https://cdli.ucla.edu/search/search_results.php?SearchMode=Text&ObjectID=P005213\" title=\"to CDLI main page for this tablet\">tablet P005213</a>|case 4b|SZITA~a1|case 3a|&#124;ZATU659x1(N01)&#124;|ZATU659|1(N01)\n",
       "72|<a href=\"https://cdli.ucla.edu/search/search_results.php?SearchMode=Text&ObjectID=P005213\" title=\"to CDLI main page for this tablet\">tablet P005213</a>|case 4b|SZITA~a1|case 2a|&#124;ZATU659x1(N01)&#124;|ZATU659|1(N01)\n",
       "73|<a href=\"https://cdli.ucla.edu/search/search_results.php?SearchMode=Text&ObjectID=P005213\" title=\"to CDLI main page for this tablet\">tablet P005213</a>|case 5b|SZITA~a1|case 4a|&#124;ZATU659x1(N01)&#124;|ZATU659|1(N01)\n",
       "74|<a href=\"https://cdli.ucla.edu/search/search_results.php?SearchMode=Text&ObjectID=P005213\" title=\"to CDLI main page for this tablet\">tablet P005213</a>|case 5b|SZITA~a1|case 5a|&#124;ZATU659x1(N01)&#124;|ZATU659|1(N01)\n",
       "75|<a href=\"https://cdli.ucla.edu/search/search_results.php?SearchMode=Text&ObjectID=P005213\" title=\"to CDLI main page for this tablet\">tablet P005213</a>|case 5b|SZITA~a1|case 6a|&#124;ZATU659x1(N01)&#124;|ZATU659|1(N01)\n",
       "76|<a href=\"https://cdli.ucla.edu/search/search_results.php?SearchMode=Text&ObjectID=P005213\" title=\"to CDLI main page for this tablet\">tablet P005213</a>|case 5b|SZITA~a1|case 7a|&#124;ZATU659x1(N01)&#124;|ZATU659|1(N01)\n",
       "77|<a href=\"https://cdli.ucla.edu/search/search_results.php?SearchMode=Text&ObjectID=P005213\" title=\"to CDLI main page for this tablet\">tablet P005213</a>|case 5b|SZITA~a1|case 8a|&#124;ZATU659x1(N01)&#124;|ZATU659|1(N01)\n",
       "78|<a href=\"https://cdli.ucla.edu/search/search_results.php?SearchMode=Text&ObjectID=P005213\" title=\"to CDLI main page for this tablet\">tablet P005213</a>|case 5b|SZITA~a1|case 3a|&#124;ZATU659x1(N01)&#124;|ZATU659|1(N01)\n",
       "79|<a href=\"https://cdli.ucla.edu/search/search_results.php?SearchMode=Text&ObjectID=P005213\" title=\"to CDLI main page for this tablet\">tablet P005213</a>|case 5b|SZITA~a1|case 2a|&#124;ZATU659x1(N01)&#124;|ZATU659|1(N01)\n",
       "80|<a href=\"https://cdli.ucla.edu/search/search_results.php?SearchMode=Text&ObjectID=P005213\" title=\"to CDLI main page for this tablet\">tablet P005213</a>|case 6b|SZITA~a1|case 4a|&#124;ZATU659x1(N01)&#124;|ZATU659|1(N01)\n",
       "81|<a href=\"https://cdli.ucla.edu/search/search_results.php?SearchMode=Text&ObjectID=P005213\" title=\"to CDLI main page for this tablet\">tablet P005213</a>|case 6b|SZITA~a1|case 5a|&#124;ZATU659x1(N01)&#124;|ZATU659|1(N01)\n",
       "82|<a href=\"https://cdli.ucla.edu/search/search_results.php?SearchMode=Text&ObjectID=P005213\" title=\"to CDLI main page for this tablet\">tablet P005213</a>|case 6b|SZITA~a1|case 6a|&#124;ZATU659x1(N01)&#124;|ZATU659|1(N01)\n",
       "83|<a href=\"https://cdli.ucla.edu/search/search_results.php?SearchMode=Text&ObjectID=P005213\" title=\"to CDLI main page for this tablet\">tablet P005213</a>|case 6b|SZITA~a1|case 7a|&#124;ZATU659x1(N01)&#124;|ZATU659|1(N01)\n",
       "84|<a href=\"https://cdli.ucla.edu/search/search_results.php?SearchMode=Text&ObjectID=P005213\" title=\"to CDLI main page for this tablet\">tablet P005213</a>|case 6b|SZITA~a1|case 8a|&#124;ZATU659x1(N01)&#124;|ZATU659|1(N01)\n",
       "85|<a href=\"https://cdli.ucla.edu/search/search_results.php?SearchMode=Text&ObjectID=P005213\" title=\"to CDLI main page for this tablet\">tablet P005213</a>|case 6b|SZITA~a1|case 3a|&#124;ZATU659x1(N01)&#124;|ZATU659|1(N01)\n",
       "86|<a href=\"https://cdli.ucla.edu/search/search_results.php?SearchMode=Text&ObjectID=P005213\" title=\"to CDLI main page for this tablet\">tablet P005213</a>|case 6b|SZITA~a1|case 2a|&#124;ZATU659x1(N01)&#124;|ZATU659|1(N01)\n",
       "87|<a href=\"https://cdli.ucla.edu/search/search_results.php?SearchMode=Text&ObjectID=P005214\" title=\"to CDLI main page for this tablet\">tablet P005214</a>|case 3c|SZITA~a1|case 4a|&#124;ZATU659x1(N01)&#124;|ZATU659|1(N01)\n",
       "88|<a href=\"https://cdli.ucla.edu/search/search_results.php?SearchMode=Text&ObjectID=P005214\" title=\"to CDLI main page for this tablet\">tablet P005214</a>|case 3c|SZITA~a1|case 5a|&#124;ZATU659x1(N01)&#124;|ZATU659|1(N01)\n",
       "89|<a href=\"https://cdli.ucla.edu/search/search_results.php?SearchMode=Text&ObjectID=P005214\" title=\"to CDLI main page for this tablet\">tablet P005214</a>|case 4c|SZITA~a1|case 4a|&#124;ZATU659x1(N01)&#124;|ZATU659|1(N01)\n",
       "90|<a href=\"https://cdli.ucla.edu/search/search_results.php?SearchMode=Text&ObjectID=P005214\" title=\"to CDLI main page for this tablet\">tablet P005214</a>|case 4c|SZITA~a1|case 5a|&#124;ZATU659x1(N01)&#124;|ZATU659|1(N01)\n",
       "91|<a href=\"https://cdli.ucla.edu/search/search_results.php?SearchMode=Text&ObjectID=P005214\" title=\"to CDLI main page for this tablet\">tablet P005214</a>|case 5b|SZITA~a1|case 4a|&#124;ZATU659x1(N01)&#124;|ZATU659|1(N01)\n",
       "92|<a href=\"https://cdli.ucla.edu/search/search_results.php?SearchMode=Text&ObjectID=P005214\" title=\"to CDLI main page for this tablet\">tablet P005214</a>|case 5b|SZITA~a1|case 5a|&#124;ZATU659x1(N01)&#124;|ZATU659|1(N01)\n",
       "93|<a href=\"https://cdli.ucla.edu/search/search_results.php?SearchMode=Text&ObjectID=P005214\" title=\"to CDLI main page for this tablet\">tablet P005214</a>|case 6b|SZITA~a1|case 4a|&#124;ZATU659x1(N01)&#124;|ZATU659|1(N01)\n",
       "94|<a href=\"https://cdli.ucla.edu/search/search_results.php?SearchMode=Text&ObjectID=P005214\" title=\"to CDLI main page for this tablet\">tablet P005214</a>|case 6b|SZITA~a1|case 5a|&#124;ZATU659x1(N01)&#124;|ZATU659|1(N01)\n",
       "95|<a href=\"https://cdli.ucla.edu/search/search_results.php?SearchMode=Text&ObjectID=P005215\" title=\"to CDLI main page for this tablet\">tablet P005215</a>|case 1b|SZITA~a1|case 1a|&#124;ZATU659x1(N01)&#124;|ZATU659|1(N01)"
      ],
      "text/plain": [
       "<IPython.core.display.Markdown object>"
      ]
     },
     "metadata": {},
     "output_type": "display_data"
    }
   ],
   "source": [
    "query = '''\n",
    "tablet\n",
    "  case depth=1 terminal\n",
    "    sign grapheme=SZITA variant=a1\n",
    "  case\n",
    "    quad\n",
    "      =: sign grapheme=ZATU659\n",
    "      <: sign grapheme=N01 repeat=1\n",
    "      :=\n",
    "'''\n",
    "results = A.search(query)\n",
    "A.table(results, withNodes=False, lineart=False)"
   ]
  },
  {
   "cell_type": "code",
   "execution_count": null,
   "metadata": {},
   "outputs": [],
   "source": []
  },
  {
   "cell_type": "code",
   "execution_count": null,
   "metadata": {
    "collapsed": true
   },
   "outputs": [],
   "source": []
  }
 ],
 "metadata": {
  "kernelspec": {
   "display_name": "Python 3",
   "language": "python",
   "name": "python3"
  },
  "language_info": {
   "codemirror_mode": {
    "name": "ipython",
    "version": 3
   },
   "file_extension": ".py",
   "mimetype": "text/x-python",
   "name": "python",
   "nbconvert_exporter": "python",
   "pygments_lexer": "ipython3",
   "version": "3.6.5"
  },
  "toc": {
   "nav_menu": {},
   "number_sections": true,
   "sideBar": true,
   "skip_h1_title": true,
   "toc_cell": true,
   "toc_position": {},
   "toc_section_display": "block",
   "toc_window_display": false
  }
 },
 "nbformat": 4,
 "nbformat_minor": 2
}
