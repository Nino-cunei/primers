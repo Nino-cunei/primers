{
 "cells": [
  {
   "cell_type": "markdown",
   "metadata": {
    "toc": true
   },
   "source": [
    "<h1>Table of Contents<span class=\"tocSkip\"></span></h1>\n",
    "<div class=\"toc\" style=\"margin-top: 1em;\"><ul class=\"toc-item\"><li><span><a href=\"#Installing-Text-Fabric\" data-toc-modified-id=\"Installing-Text-Fabric-1\"><span class=\"toc-item-num\">1&nbsp;&nbsp;</span>Installing Text-Fabric</a></span><ul class=\"toc-item\"><li><span><a href=\"#Prerequisites\" data-toc-modified-id=\"Prerequisites-1.1\"><span class=\"toc-item-num\">1.1&nbsp;&nbsp;</span>Prerequisites</a></span></li><li><span><a href=\"#TF-itself\" data-toc-modified-id=\"TF-itself-1.2\"><span class=\"toc-item-num\">1.2&nbsp;&nbsp;</span>TF itself</a></span></li></ul></li><li><span><a href=\"#Checking-our-results-with-GREP\" data-toc-modified-id=\"Checking-our-results-with-GREP-2\"><span class=\"toc-item-num\">2&nbsp;&nbsp;</span>Checking our results with GREP</a></span></li><li><span><a href=\"#Reflection-on-GREP\" data-toc-modified-id=\"Reflection-on-GREP-3\"><span class=\"toc-item-num\">3&nbsp;&nbsp;</span>Reflection on GREP</a></span></li></ul></div>"
   ]
  },
  {
   "cell_type": "markdown",
   "metadata": {},
   "source": [
    "# Primer 3\n",
    "\n",
    "This is the third in a series of primers on the use of [Text-Fabric](https://github.com/Dans-labs/text-fabric) for analyzing proto-cuneiform. This primer continues with our exploration of subcases in proto-cuneiform, but focuses the use of queries within Text-Fabric and verifying the results of a TF query, using regular expressions in the source text.\n",
    "\n",
    "Primer 1 is available [here](primer1.ipnynb), and Primer 2 [here](primer2.ipynb), and there is also a set of tutorials on the use of Text-Fabric to analyze proto-cuneiform are available\n",
    "[here](https://nbviewer.jupyter.org/github/Nino-cunei/tutorials/blob/master/start.ipynb).\n",
    "\n",
    "In this primer we are going to focus on a tablet in which individual portions of meat and fish are being distributed to a group of elites personnel or office-holders on a specific occasion: [P005213](https://cdli.ucla.edu/P005213), which was published as MSVO 1, 146. Two orthographies are characteristic of this text, the occurrence of SZITA~a1 or related signs for elite distributions such as |SILA3~axKU6~a|, typically alongside a numeral in a subcase, and |ZATU659x1(N01)| alongside a job title in the superordinate case."
   ]
  },
  {
   "cell_type": "markdown",
   "metadata": {},
   "source": [
    "## Installing Text-Fabric\n",
    "\n",
    "You need to have Python on your system. Most systems have it out of the box,\n",
    "but alas, that is python2 and we need at least python 3.6.\n",
    "\n",
    "Install it from [python.org]() or from [Anaconda]().\n",
    "If you got it from python.org, you also have to install [Jupyter]().\n",
    "\n",
    "```\n",
    "pip install text-fabric\n",
    "```\n",
    "\n",
    "if you have installed Python with the help of Anaconda, or\n",
    "\n",
    "```\n",
    "sudo -H pip3 install text-fabric\n",
    "```\n",
    "if you have installed Python from [python.org](https://www.python.org).\n",
    "\n",
    "###### Execute: If all this is done, the following cells can be executed."
   ]
  },
  {
   "cell_type": "code",
   "execution_count": 1,
   "metadata": {
    "ExecuteTime": {
     "end_time": "2018-05-01T18:03:07.212447Z",
     "start_time": "2018-05-01T18:03:07.146455Z"
    }
   },
   "outputs": [],
   "source": [
    "from tf.app import use"
   ]
  },
  {
   "cell_type": "code",
   "execution_count": 2,
   "metadata": {
    "ExecuteTime": {
     "end_time": "2018-05-02T20:57:45.655776Z",
     "start_time": "2018-05-02T20:57:44.691288Z"
    }
   },
   "outputs": [
    {
     "name": "stdout",
     "output_type": "stream",
     "text": [
      "Using Nino-cunei/uruk/tf/uruk - 1.0 r1.2 in /Users/dirk/text-fabric-data\n"
     ]
    },
    {
     "data": {
      "text/markdown": [
       "**Documentation:** <a target=\"_blank\" href=\"https://github.com/Nino-cunei/uruk/blob/master/docs/\" title=\"provenance of Uruk IV/III: Proto-cuneiform tablets \">URUK</a> <a target=\"_blank\" href=\"https://github.com/Nino-cunei/uruk/blob/master/docs/transcription.md\" title=\"How TF features represent ATF\">Character table</a> <a target=\"_blank\" href=\"https://github.com/Nino-cunei/uruk/blob/master/docs//transcription.md\" title=\"URUK feature documentation\">Feature docs</a> <a target=\"_blank\" href=\"https://dans-labs.github.io/text-fabric/Apps/Uruk/\" title=\"uruk API documentation\">uruk API</a> <a target=\"_blank\" href=\"https://dans-labs.github.io/text-fabric/Api/General/\" title=\"text-fabric-api\">Text-Fabric API 7.2.2</a> <a target=\"_blank\" href=\"https://dans-labs.github.io/text-fabric/Use/Search/\" title=\"Search Templates Introduction and Reference\">Search Reference</a>"
      ],
      "text/plain": [
       "<IPython.core.display.Markdown object>"
      ]
     },
     "metadata": {},
     "output_type": "display_data"
    },
    {
     "data": {
      "text/html": [
       "<details open><summary><b>Loaded features</b>:</summary>\n",
       "<p><b>Uruk IV/III: Proto-cuneiform tablets </b>: <a target=\"_blank\" href=\"https://github.com/Nino-cunei/uruk/blob/master/docs//transcription.md\" title=\"/Users/dirk/text-fabric-data/Nino-cunei/uruk/tf/uruk/1.0/catalogId.tf\">catalogId</a>  <a target=\"_blank\" href=\"https://github.com/Nino-cunei/uruk/blob/master/docs//transcription.md\" title=\"/Users/dirk/text-fabric-data/Nino-cunei/uruk/tf/uruk/1.0/crossref.tf\">crossref</a>  <a target=\"_blank\" href=\"https://github.com/Nino-cunei/uruk/blob/master/docs//transcription.md\" title=\"/Users/dirk/text-fabric-data/Nino-cunei/uruk/tf/uruk/1.0/damage.tf\">damage</a>  <a target=\"_blank\" href=\"https://github.com/Nino-cunei/uruk/blob/master/docs//transcription.md\" title=\"/Users/dirk/text-fabric-data/Nino-cunei/uruk/tf/uruk/1.0/depth.tf\">depth</a>  <a target=\"_blank\" href=\"https://github.com/Nino-cunei/uruk/blob/master/docs//transcription.md\" title=\"/Users/dirk/text-fabric-data/Nino-cunei/uruk/tf/uruk/1.0/excavation.tf\">excavation</a>  <a target=\"_blank\" href=\"https://github.com/Nino-cunei/uruk/blob/master/docs//transcription.md\" title=\"/Users/dirk/text-fabric-data/Nino-cunei/uruk/tf/uruk/1.0/fragment.tf\">fragment</a>  <a target=\"_blank\" href=\"https://github.com/Nino-cunei/uruk/blob/master/docs//transcription.md\" title=\"/Users/dirk/text-fabric-data/Nino-cunei/uruk/tf/uruk/1.0/fullNumber.tf\">fullNumber</a>  <a target=\"_blank\" href=\"https://github.com/Nino-cunei/uruk/blob/master/docs//transcription.md\" title=\"/Users/dirk/text-fabric-data/Nino-cunei/uruk/tf/uruk/1.0/grapheme.tf\">grapheme</a>  <a target=\"_blank\" href=\"https://github.com/Nino-cunei/uruk/blob/master/docs//transcription.md\" title=\"/Users/dirk/text-fabric-data/Nino-cunei/uruk/tf/uruk/1.0/identifier.tf\">identifier</a>  <a target=\"_blank\" href=\"https://github.com/Nino-cunei/uruk/blob/master/docs//transcription.md\" title=\"/Users/dirk/text-fabric-data/Nino-cunei/uruk/tf/uruk/1.0/modifier.tf\">modifier</a>  <a target=\"_blank\" href=\"https://github.com/Nino-cunei/uruk/blob/master/docs//transcription.md\" title=\"/Users/dirk/text-fabric-data/Nino-cunei/uruk/tf/uruk/1.0/modifierFirst.tf\">modifierFirst</a>  <a target=\"_blank\" href=\"https://github.com/Nino-cunei/uruk/blob/master/docs//transcription.md\" title=\"/Users/dirk/text-fabric-data/Nino-cunei/uruk/tf/uruk/1.0/modifierInner.tf\">modifierInner</a>  <a target=\"_blank\" href=\"https://github.com/Nino-cunei/uruk/blob/master/docs//transcription.md\" title=\"/Users/dirk/text-fabric-data/Nino-cunei/uruk/tf/uruk/1.0/name.tf\">name</a>  <a target=\"_blank\" href=\"https://github.com/Nino-cunei/uruk/blob/master/docs//transcription.md\" title=\"/Users/dirk/text-fabric-data/Nino-cunei/uruk/tf/uruk/1.0/number.tf\">number</a>  <a target=\"_blank\" href=\"https://github.com/Nino-cunei/uruk/blob/master/docs//transcription.md\" title=\"/Users/dirk/text-fabric-data/Nino-cunei/uruk/tf/uruk/1.0/otype.tf\">otype</a>  <a target=\"_blank\" href=\"https://github.com/Nino-cunei/uruk/blob/master/docs//transcription.md\" title=\"/Users/dirk/text-fabric-data/Nino-cunei/uruk/tf/uruk/1.0/period.tf\">period</a>  <a target=\"_blank\" href=\"https://github.com/Nino-cunei/uruk/blob/master/docs//transcription.md\" title=\"/Users/dirk/text-fabric-data/Nino-cunei/uruk/tf/uruk/1.0/prime.tf\">prime</a>  <a target=\"_blank\" href=\"https://github.com/Nino-cunei/uruk/blob/master/docs//transcription.md\" title=\"/Users/dirk/text-fabric-data/Nino-cunei/uruk/tf/uruk/1.0/remarkable.tf\">remarkable</a>  <a target=\"_blank\" href=\"https://github.com/Nino-cunei/uruk/blob/master/docs//transcription.md\" title=\"/Users/dirk/text-fabric-data/Nino-cunei/uruk/tf/uruk/1.0/repeat.tf\">repeat</a>  <a target=\"_blank\" href=\"https://github.com/Nino-cunei/uruk/blob/master/docs//transcription.md\" title=\"/Users/dirk/text-fabric-data/Nino-cunei/uruk/tf/uruk/1.0/srcLn.tf\">srcLn</a>  <a target=\"_blank\" href=\"https://github.com/Nino-cunei/uruk/blob/master/docs//transcription.md\" title=\"/Users/dirk/text-fabric-data/Nino-cunei/uruk/tf/uruk/1.0/srcLnNum.tf\">srcLnNum</a>  <a target=\"_blank\" href=\"https://github.com/Nino-cunei/uruk/blob/master/docs//transcription.md\" title=\"/Users/dirk/text-fabric-data/Nino-cunei/uruk/tf/uruk/1.0/terminal.tf\">terminal</a>  <a target=\"_blank\" href=\"https://github.com/Nino-cunei/uruk/blob/master/docs//transcription.md\" title=\"/Users/dirk/text-fabric-data/Nino-cunei/uruk/tf/uruk/1.0/text.tf\">text</a>  <a target=\"_blank\" href=\"https://github.com/Nino-cunei/uruk/blob/master/docs//transcription.md\" title=\"/Users/dirk/text-fabric-data/Nino-cunei/uruk/tf/uruk/1.0/type.tf\">type</a>  <a target=\"_blank\" href=\"https://github.com/Nino-cunei/uruk/blob/master/docs//transcription.md\" title=\"/Users/dirk/text-fabric-data/Nino-cunei/uruk/tf/uruk/1.0/uncertain.tf\">uncertain</a>  <a target=\"_blank\" href=\"https://github.com/Nino-cunei/uruk/blob/master/docs//transcription.md\" title=\"/Users/dirk/text-fabric-data/Nino-cunei/uruk/tf/uruk/1.0/variant.tf\">variant</a>  <a target=\"_blank\" href=\"https://github.com/Nino-cunei/uruk/blob/master/docs//transcription.md\" title=\"/Users/dirk/text-fabric-data/Nino-cunei/uruk/tf/uruk/1.0/variantOuter.tf\">variantOuter</a>  <a target=\"_blank\" href=\"https://github.com/Nino-cunei/uruk/blob/master/docs//transcription.md\" title=\"/Users/dirk/text-fabric-data/Nino-cunei/uruk/tf/uruk/1.0/written.tf\">written</a>  <b><i><a target=\"_blank\" href=\"https://github.com/Nino-cunei/uruk/blob/master/docs//transcription.md\" title=\"/Users/dirk/text-fabric-data/Nino-cunei/uruk/tf/uruk/1.0/comments.tf\">comments</a></i></b>  <b><i><a target=\"_blank\" href=\"https://github.com/Nino-cunei/uruk/blob/master/docs//transcription.md\" title=\"/Users/dirk/text-fabric-data/Nino-cunei/uruk/tf/uruk/1.0/op.tf\">op</a></i></b>  <b><i><a target=\"_blank\" href=\"https://github.com/Nino-cunei/uruk/blob/master/docs//transcription.md\" title=\"/Users/dirk/text-fabric-data/Nino-cunei/uruk/tf/uruk/1.0/oslots.tf\">oslots</a></i></b>  <b><i><a target=\"_blank\" href=\"https://github.com/Nino-cunei/uruk/blob/master/docs//transcription.md\" title=\"/Users/dirk/text-fabric-data/Nino-cunei/uruk/tf/uruk/1.0/sub.tf\">sub</a></i></b> </p></details>"
      ],
      "text/plain": [
       "<IPython.core.display.HTML object>"
      ]
     },
     "metadata": {},
     "output_type": "display_data"
    },
    {
     "data": {
      "text/html": [
       "<style>.features {\n",
       "    font-family: monospace;\n",
       "    font-size: medium;\n",
       "    font-weight: bold;\n",
       "    color: #0a6611;\n",
       "    display: flex;\n",
       "    flex-flow: column nowrap;\n",
       "    padding: 0.1em;\n",
       "    margin: 0.1em;\n",
       "    direction: ltr;\n",
       "}\n",
       ".features div,.features span {\n",
       "    padding: 0;\n",
       "    margin: -0.1rem 0;\n",
       "}\n",
       ".features .f {\n",
       "    font-family: sans-serif;\n",
       "    font-size: x-small;\n",
       "    font-weight: normal;\n",
       "    color: #5555bb;\n",
       "}\n",
       ".features .xft {\n",
       "  color: #000000;\n",
       "  background-color: #eeeeee;\n",
       "  font-size: medium;\n",
       "  margin: 0.1em 0em;\n",
       "}\n",
       ".features .xft .f {\n",
       "  color: #000000;\n",
       "  background-color: #eeeeee;\n",
       "  font-style: italic;\n",
       "  font-size: small;\n",
       "  font-weight: normal;\n",
       "}\n",
       ".pnum {\n",
       "    font-family: sans-serif;\n",
       "    font-size: small;\n",
       "    font-weight: bold;\n",
       "    color: #444444;\n",
       "}\n",
       ".nd {\n",
       "    font-family: monospace;\n",
       "    font-size: x-small;\n",
       "    color: #999999;\n",
       "}\n",
       ".meta {\n",
       "    display: flex;\n",
       "    justify-content: flex-start;\n",
       "    align-items: flex-start;\n",
       "    align-content: flex-start;\n",
       "    flex-flow: row nowrap;\n",
       "}\n",
       ".features,.comments {\n",
       "    display: flex;\n",
       "    justify-content: flex-start;\n",
       "    align-items: flex-start;\n",
       "    align-content: flex-start;\n",
       "    flex-flow: column nowrap;\n",
       "}\n",
       ".children {\n",
       "    display: flex;\n",
       "    justify-content: flex-start;\n",
       "    align-items: flex-start;\n",
       "    align-content: flex-start;\n",
       "    border: 0;\n",
       "    background-color: #ffffff;\n",
       "}\n",
       ".children.tablet,.children.face {\n",
       "    flex-flow: row nowrap;\n",
       "}\n",
       ".children.column {\n",
       "    align-items: stretch;\n",
       "    flex-flow: column nowrap;\n",
       "}\n",
       ".children.line,.children.case {\n",
       "    align-items: stretch;\n",
       "    flex-flow: row nowrap;\n",
       "}\n",
       ".children.caseh,.children.trminalh {\n",
       "    flex-flow: row nowrap;\n",
       "}\n",
       ".children.casev,.children.trminalv {\n",
       "    flex-flow: column nowrap;\n",
       "}\n",
       ".children.trminal {\n",
       "    flex-flow: row nowrap;\n",
       "}\n",
       ".children.cluster {\n",
       "    flex-flow: row wrap;\n",
       "}\n",
       ".children.quad {\n",
       "    flex-flow: row wrap;\n",
       "}\n",
       ".children.sign {\n",
       "    flex-flow: column nowrap;\n",
       "}\n",
       ".contnr {\n",
       "    width: fit-content;\n",
       "}\n",
       ".contnr.tablet,.contnr.face,.contnr.column,\n",
       ".contnr.line,.contnr.case,.contnr.trminal,\n",
       ".contnr.comment,\n",
       ".contnr.cluster,\n",
       ".contnr.quad,.contnr.sign {\n",
       "    display: flex;\n",
       "    justify-content: flex-start;\n",
       "    align-items: flex-start;\n",
       "    align-content: flex-start;\n",
       "    flex-flow: column nowrap;\n",
       "    background: #ffffff none repeat scroll 0 0;\n",
       "    padding:  0.5em 0.1em 0.1em 0.1em;\n",
       "    margin: 0.8em 0.1em 0.1em 0.1em;\n",
       "    border-radius: 0.2em;\n",
       "    border-style: solid;\n",
       "    border-width: 0.2em;\n",
       "    font-size: small;\n",
       "}\n",
       ".contnr.tablet,.contnr.face,.contnr.column {\n",
       "    border-color: #bb8800;\n",
       "}\n",
       ".contnr.line,.contnr.case,.contnr.trminal {\n",
       "    border-color: #0088bb;\n",
       "}\n",
       ".contnr.cluster {\n",
       "    flex-flow: row wrap;\n",
       "    border: 0;\n",
       "}\n",
       ".contnr.sign,.contnr.quad {\n",
       "    border-color: #bbbbbb;\n",
       "}\n",
       ".contnr.comment {\n",
       "    background-color: #ffddaa;\n",
       "    border: 0.2em solid #eecc99;\n",
       "    border-radius: 0.3em;\n",
       "}\n",
       ".contnr.hl {\n",
       "    background-color: #ffee66;\n",
       "}\n",
       ".lbl.tablet,.lbl.face,.lbl.column,\n",
       ".lbl.line,.lbl.case,.lbl.trminal,\n",
       ".lbl.comment,\n",
       ".lbl.cluster,\n",
       ".lbl.quad,.lbl.sign {\n",
       "    margin-top: -1.2em;\n",
       "    margin-left: 1em;\n",
       "    background: #ffffff none repeat scroll 0 0;\n",
       "    padding: 0 0.3em;\n",
       "    border-style: solid;\n",
       "    font-size: small;\n",
       "    color: #0000cc;\n",
       "    display: block;\n",
       "}\n",
       ".lbl.tablet,.lbl.face,.lbl.column {\n",
       "    border-color: #bb8800;\n",
       "    border-width: 0.2em;\n",
       "    border-radius: 0.2em;\n",
       "    color: #bb8800;\n",
       "}\n",
       ".lbl.line,.lbl.case,.lbl.trminal {\n",
       "    border-color: #0088bb;\n",
       "    border-width: 0.2em;\n",
       "    border-radius: 0.2em;\n",
       "    color: #0088bb;\n",
       "}\n",
       ".lbl.comment {\n",
       "    border-color: #eecc99;\n",
       "    border-width: 0.2em;\n",
       "    border-radius: 0.2em;\n",
       "    color: #eecc99;\n",
       "    background-color: #ffddaa none repeat scroll 0 0;\n",
       "}\n",
       ".lbl.clusterb,.lbl.clustere {\n",
       "    padding:  0.5em 0.1em 0.1em 0.1em;\n",
       "    margin: 0.8em 0.1em 0.1em 0.1em;\n",
       "    color: #888844;\n",
       "    font-size: x-small;\n",
       "}\n",
       ".lbl.clusterb {\n",
       "    border-left: 0.3em solid #cccc99;\n",
       "    border-right: 0;\n",
       "    border-top: 0;\n",
       "    border-bottom: 0;\n",
       "    border-radius: 1em;\n",
       "}\n",
       ".lbl.clustere {\n",
       "    border-left: 0;\n",
       "    border-right: 0.3em solid #cccc99;\n",
       "    border-top: 0;\n",
       "    border-bottom: 0;\n",
       "    border-radius: 1em;\n",
       "}\n",
       ".lbl.quad,.lbl.sign {\n",
       "    border-color: #bbbbbb;\n",
       "    border-width: 0.1em;\n",
       "    border-radius: 0.1em;\n",
       "    color: #bbbbbb;\n",
       "}\n",
       ".op {\n",
       "    padding:  0.5em 0.1em 0.1em 0.1em;\n",
       "    margin: 0.8em 0.1em 0.1em 0.1em;\n",
       "    font-family: monospace;\n",
       "    font-size: x-large;\n",
       "    font-weight: bold;\n",
       "}\n",
       ".name {\n",
       "    font-family: monospace;\n",
       "    font-size: medium;\n",
       "    color: #0000bb;\n",
       "}\n",
       ".period {\n",
       "    font-family: monospace;\n",
       "    font-size: medium;\n",
       "    font-weight: bold;\n",
       "    color: #0000bb;\n",
       "}\n",
       ".excavation {\n",
       "    font-family: monospace;\n",
       "    font-size: medium;\n",
       "    font-style: italic;\n",
       "    color: #779900;\n",
       "}\n",
       ".text {\n",
       "    font-family: sans-serif;\n",
       "    font-size: x-small;\n",
       "    color: #000000;\n",
       "}\n",
       ".srcln {\n",
       "    font-family: monospace;\n",
       "    font-size: medium;\n",
       "    color: #000000;\n",
       "}\n",
       ".srclnnum {\n",
       "    font-family: monospace;\n",
       "    font-size: x-small;\n",
       "    color: #0000bb;\n",
       "}\n",
       "\n",
       "span.hldot {\n",
       "\tbackground-color: var(--hl-strong);\n",
       "\tborder: 0.2rem solid var(--hl-rim);\n",
       "\tborder-radius: 0.4rem;\n",
       "\t/*\n",
       "\tdisplay: inline-block;\n",
       "\twidth: 0.8rem;\n",
       "\theight: 0.8rem;\n",
       "\t*/\n",
       "}\n",
       "span.hl {\n",
       "\tbackground-color: var(--hl-strong);\n",
       "\tborder-width: 0;\n",
       "\tborder-radius: 0.1rem;\n",
       "\tborder-style: solid;\n",
       "}\n",
       "\n",
       "span.hlup {\n",
       "\tborder-color: var(--hl-dark);\n",
       "\tborder-width: 0.1rem;\n",
       "\tborder-style: solid;\n",
       "\tborder-radius: 0.2rem;\n",
       "  padding: 0.2rem;\n",
       "}\n",
       "\n",
       ":root {\n",
       "\t--hl-strong:        hsla( 60, 100%,  70%, 0.9  );\n",
       "\t--hl-rim:           hsla( 55, 100%,  60%, 0.9  );\n",
       "\t--hl-dark:          hsla( 55, 100%,  40%, 0.9  );\n",
       "}\n",
       "</style>"
      ],
      "text/plain": [
       "<IPython.core.display.HTML object>"
      ]
     },
     "metadata": {},
     "output_type": "display_data"
    },
    {
     "data": {
      "text/html": [
       "<details open><summary><b>API members</b>:</summary>\n",
       "<a target=\"_blank\" href=\"https://dans-labs.github.io/text-fabric/Api/Computed/#computed-data\" title=\"doc\">C Computed</a>, <a target=\"_blank\" href=\"https://dans-labs.github.io/text-fabric/Api/Computed/#computed-data\" title=\"doc\">Call AllComputeds</a>, <a target=\"_blank\" href=\"https://dans-labs.github.io/text-fabric/Api/Computed/#computed-data\" title=\"doc\">Cs ComputedString</a><br/>\n",
       "<a target=\"_blank\" href=\"https://dans-labs.github.io/text-fabric/Api/Features/#edge-features\" title=\"doc\">E Edge</a>, <a target=\"_blank\" href=\"https://dans-labs.github.io/text-fabric/Api/Features/#edge-features\" title=\"doc\">Eall AllEdges</a>, <a target=\"_blank\" href=\"https://dans-labs.github.io/text-fabric/Api/Features/#edge-features\" title=\"doc\">Es EdgeString</a><br/>\n",
       "<a target=\"_blank\" href=\"https://dans-labs.github.io/text-fabric/Api/Fabric/#loading\" title=\"doc\">ensureLoaded</a>, <a target=\"_blank\" href=\"https://dans-labs.github.io/text-fabric/Api/Fabric/#loading\" title=\"doc\">TF</a>, <a target=\"_blank\" href=\"https://dans-labs.github.io/text-fabric/Api/Fabric/#loading\" title=\"doc\">ignored</a>, <a target=\"_blank\" href=\"https://dans-labs.github.io/text-fabric/Api/Fabric/#loading\" title=\"doc\">loadLog</a><br/>\n",
       "<a target=\"_blank\" href=\"https://dans-labs.github.io/text-fabric/Api/Locality/#locality\" title=\"doc\">L Locality</a><br/>\n",
       "<a target=\"_blank\" href=\"https://dans-labs.github.io/text-fabric/Api/Misc/#messaging\" title=\"doc\">cache</a>, <a target=\"_blank\" href=\"https://dans-labs.github.io/text-fabric/Api/Misc/#messaging\" title=\"doc\">error</a>, <a target=\"_blank\" href=\"https://dans-labs.github.io/text-fabric/Api/Misc/#messaging\" title=\"doc\">indent</a>, <a target=\"_blank\" href=\"https://dans-labs.github.io/text-fabric/Api/Misc/#messaging\" title=\"doc\">info</a>, <a target=\"_blank\" href=\"https://dans-labs.github.io/text-fabric/Api/Misc/#messaging\" title=\"doc\">reset</a><br/>\n",
       "<a target=\"_blank\" href=\"https://dans-labs.github.io/text-fabric/Api/Nodes/#navigating-nodes\" title=\"doc\">N Nodes</a>, <a target=\"_blank\" href=\"https://dans-labs.github.io/text-fabric/Api/Nodes/#navigating-nodes\" title=\"doc\">sortKey</a>, <a target=\"_blank\" href=\"https://dans-labs.github.io/text-fabric/Api/Nodes/#navigating-nodes\" title=\"doc\">sortKeyTuple</a>, <a target=\"_blank\" href=\"https://dans-labs.github.io/text-fabric/Api/Nodes/#navigating-nodes\" title=\"doc\">otypeRank</a>, <a target=\"_blank\" href=\"https://dans-labs.github.io/text-fabric/Api/Nodes/#navigating-nodes\" title=\"doc\">sortNodes</a><br/>\n",
       "<a target=\"_blank\" href=\"https://dans-labs.github.io/text-fabric/Api/Features/#node-features\" title=\"doc\">F Feature</a>, <a target=\"_blank\" href=\"https://dans-labs.github.io/text-fabric/Api/Features/#node-features\" title=\"doc\">Fall AllFeatures</a>, <a target=\"_blank\" href=\"https://dans-labs.github.io/text-fabric/Api/Features/#node-features\" title=\"doc\">Fs FeatureString</a><br/>\n",
       "<a target=\"_blank\" href=\"https://dans-labs.github.io/text-fabric/Api/Search/#search\" title=\"doc\">S Search</a><br/>\n",
       "<a target=\"_blank\" href=\"https://dans-labs.github.io/text-fabric/Api/Text/#text\" title=\"doc\">T Text</a></details>"
      ],
      "text/plain": [
       "<IPython.core.display.HTML object>"
      ]
     },
     "metadata": {},
     "output_type": "display_data"
    },
    {
     "name": "stdout",
     "output_type": "stream",
     "text": [
      "Using Nino-cunei/uruk/sources/cdli/images r1.2 in /Users/dirk/text-fabric-data\n",
      "Found 2095 ideograph linearts\n",
      "Found 2724 tablet linearts\n",
      "Found 5495 tablet photos\n"
     ]
    }
   ],
   "source": [
    "A = use(\"uruk\", hoist=globals())"
   ]
  },
  {
   "cell_type": "markdown",
   "metadata": {},
   "source": [
    "So let's pull up our text in Text-Fabric and then walk through how to create a query in Text-Fabric that brings up all examples with the same key orthographies."
   ]
  },
  {
   "cell_type": "code",
   "execution_count": 3,
   "metadata": {
    "ExecuteTime": {
     "end_time": "2018-05-01T18:04:17.304517Z",
     "start_time": "2018-05-01T18:04:17.222756Z"
    }
   },
   "outputs": [
    {
     "name": "stdout",
     "output_type": "stream",
     "text": [
      "  0.01s 1 result\n"
     ]
    },
    {
     "data": {
      "text/html": [
       "<div style=\"display: flex;flex-flow: row nowrap;justify-content: flex-start;align-items: center;align-content: flex-start;\"><div style=\"padding: 0.5rem;\"><div style=\"display: flex;flex-flow: column nowrap;justify-content: space-between;align-items: center;align-content: space-between;\"><div><a target=\"_blank\" href=\"https://cdli.ucla.edu/dl/lineart/P005213_l.jpg\" title=\"to higher resolution lineart on CDLI\"><img src=\"cdli-imagery/lineart-p005213.jpg\" style=\"display: inline;max-width: 400px;\"  /></a></div><div><a target=\"_blank\" href=\"https://cdli.ucla.edu/search/search_results.php?SearchMode=Text&ObjectID=P005213\" title=\"to CDLI main page for this item\">P005213</a></div></div></div></div>"
      ],
      "text/plain": [
       "<IPython.core.display.HTML object>"
      ]
     },
     "metadata": {},
     "output_type": "display_data"
    },
    {
     "data": {
      "text/plain": [
       "['&P005213 = MSVO 1, 146',\n",
       " '#atf: lang qpc ',\n",
       " '@obverse ',\n",
       " '@column 1 ',\n",
       " '1.a. [...] , [...] ',\n",
       " '1.b. [...] , [...] X ',\n",
       " '2.a. [...] 2(N01)# , SZITA~a1 ',\n",
       " '2.b. 1(N01) , |SILA3~axKU6~a| ',\n",
       " '3.a. 1(N08) , [...] X ',\n",
       " '3.b. 2(N01) , SZITA~a1 ',\n",
       " '4.a. |ZATU659x1(N01)|# , SAG# [...] ',\n",
       " '4.b. 1(N01) , SZITA~a1 ',\n",
       " '5.a. |ZATU659x1(N01)|# , SIG7# SAL#? X ',\n",
       " '5.b. [...] , X ',\n",
       " '6.a. |ZATU659x1(N01)| , TU~b HI SZA3~a2 ',\n",
       " '6.b. 1(N01) , SZITA~a1 ',\n",
       " '7.a. |ZATU659x1(N01)| , AMA~a AGAR2 ',\n",
       " '7.b. 1(N01) , SZITA~a1 ',\n",
       " '8.a. |ZATU659x1(N01)| , AN NIM~b3 ',\n",
       " '8.b. 1(N01) , SZITA~a1 ',\n",
       " '9.a. 2(N01) , GAR |NI~a.RU| ME~a ',\n",
       " '9.b1. 1(N01) , KASZ~a ',\n",
       " '9.b2. 1(N01) , SZITA~a1 ',\n",
       " '@column 2 ',\n",
       " '1.a. [...] , ENGIZ# SZAGAN# ',\n",
       " '1.b. 1(N01) , SZITA~a1 ',\n",
       " '2.a. 1(N08) , EN~a UMUN2 ABGAL ',\n",
       " '2.b. 1(N01) , SZITA~a1 ',\n",
       " '3.a. |ZATU659x1(N01)|# , SANGA~a# |NI~a.RU|# ',\n",
       " '3.b. 1(N01) , SZITA~a1 ',\n",
       " '4.a. 1(N08) , SANGA~a AB~a ',\n",
       " '4.b. 1(N01) , SZITA~a1 ',\n",
       " '5.a. 1(N08) , [...] IB~a# ',\n",
       " '5.b. 1(N01) , SZITA~a1 ',\n",
       " '6.a. [...] , [...] X ',\n",
       " '6.b. 1(N01) , SZITA~a1 ',\n",
       " '7. |ZATU659x1(N01)|# , [...] U2~b A ',\n",
       " '8. |ZATU659x1(N01)| , SZIDIM ',\n",
       " '9. 2(N01) , MU |ZATU714xHI@g~a| ',\n",
       " '10. , KASZ~a GAR |NI~a.RU| |U4x1(N57)|# ',\n",
       " '@reverse ',\n",
       " '@column 1 ',\n",
       " '1. [...] 1(N01)# , [...] X ',\n",
       " '2. [...] 2(N01)# , [...] SZITA~a1 ',\n",
       " '3. , |U4x1(N57)|# KASZ~a GAR [|NI~a.RU|] ',\n",
       " '@column 2 ',\n",
       " '1.a. 2(N42~a) 1(N25) , ',\n",
       " '1.b1. 1(N42~a) , PA~a GIR3@g~b# ',\n",
       " '1.b2. 1(N42~a)# , X [...] ',\n",
       " '1.b3A. [1(N14)] 2(N01) , GAR ',\n",
       " '1.b3B. 2(N42~a) , ',\n",
       " '1.b4A. [...] , [...] KASZ~a# ',\n",
       " '1.b4B. 1(N25) , ME~a ',\n",
       " '2.a. |ZATU659x1(N01)|#? , |KU6~a+KU6~a| MU ',\n",
       " '2.b. 5(N08) , SUHUR# ',\n",
       " '2.c. , MASZ |(SUKUD+SUKUD)~b| ',\n",
       " '3. 1(N01) , UDU~a |U4.(1(N14).5(N08))| GAL~a [SZAB~a] ',\n",
       " '4. 1(N01) , UDU~a |U4x1(N01)| DI#? [GIR3@g~b?] ']"
      ]
     },
     "execution_count": 3,
     "metadata": {},
     "output_type": "execute_result"
    }
   ],
   "source": [
    "pNum = \"P005213\"\n",
    "query = f\"\"\"\n",
    "tablet catalogId={pNum}\n",
    "\"\"\"\n",
    "results = A.search(query)\n",
    "tablet = results[0][0]\n",
    "A.lineart(tablet, width=400)\n",
    "A.getSource(tablet)"
   ]
  },
  {
   "cell_type": "markdown",
   "metadata": {},
   "source": [
    "Let's start by bring up one line, namely the second line in the second column, and once we have described its specific form, we can try and construct a query that will bring up all similar examples.\n",
    "\n",
    "First, a simple query that directly refers to this line."
   ]
  },
  {
   "cell_type": "code",
   "execution_count": 5,
   "metadata": {},
   "outputs": [
    {
     "name": "stdout",
     "output_type": "stream",
     "text": [
      "  0.09s 2 results\n"
     ]
    },
    {
     "data": {
      "text/markdown": [
       "n | p | tablet | face | column | line | case\n",
       "--- | --- | --- | --- | --- | --- | ---\n",
       "1| <a href=\"https://cdli.ucla.edu/search/search_results.php?SearchMode=Text&ObjectID=P005213\" title=\"to CDLI main page for this tablet\" sec=\"P005213\">P005213</a>|<a href=\"https://cdli.ucla.edu/search/search_results.php?SearchMode=Text&ObjectID=P005213\" title=\"to CDLI main page for this tablet\" sec=\"P005213\">tablet P005213</a>|<span  class=\"hl\" >face obverse</span>|<span  class=\"hldot hlup\" >column 2</span>|<span  class=\"hldot hlup\" >line 2</span>|<span  class=\"hl hlup\" >2.a. 1(N08) , EN~a UMUN2 ABGAL </span>\n",
       "2| <a href=\"https://cdli.ucla.edu/search/search_results.php?SearchMode=Text&ObjectID=P005213\" title=\"to CDLI main page for this tablet\" sec=\"P005213\">P005213</a>|<a href=\"https://cdli.ucla.edu/search/search_results.php?SearchMode=Text&ObjectID=P005213\" title=\"to CDLI main page for this tablet\" sec=\"P005213\">tablet P005213</a>|<span  class=\"hl\" >face obverse</span>|<span  class=\"hldot hlup\" >column 2</span>|<span  class=\"hldot hlup\" >line 2</span>|<span  class=\"hl hlup\" >2.b. 1(N01) , SZITA~a1 </span>"
      ],
      "text/plain": [
       "<IPython.core.display.Markdown object>"
      ]
     },
     "metadata": {},
     "output_type": "display_data"
    }
   ],
   "source": [
    "query = f\"\"\"\n",
    "tablet catalogId={pNum}\n",
    "  face type=obverse\n",
    "    column number=2\n",
    "        line number=2\n",
    "          case\n",
    "\"\"\"\n",
    "results = A.search(query)\n",
    "A.table(results)"
   ]
  },
  {
   "cell_type": "markdown",
   "metadata": {},
   "source": [
    "The first result, displayed as line."
   ]
  },
  {
   "cell_type": "code",
   "execution_count": 9,
   "metadata": {},
   "outputs": [
    {
     "data": {
      "text/markdown": [
       "\n",
       "\n",
       "**tablet** *1*\n",
       "\n"
      ],
      "text/plain": [
       "<IPython.core.display.Markdown object>"
      ]
     },
     "metadata": {},
     "output_type": "display_data"
    },
    {
     "data": {
      "text/html": [
       "\n",
       "<div class=\"contnr tablet \" >\n",
       "    \n",
       "    <div class=\"lbl tablet\">\n",
       "        <a href=\"https://cdli.ucla.edu/search/search_results.php?SearchMode=Text&ObjectID=P005213\" title=\"to CDLI main page for this tablet\" sec=\"P005213\">tablet P005213  <span class=\"name\">MSVO 1, 146</span> <span class=\"period\">uruk-iii</span> <span class=\"excavation\">Ashm 1926,569</span></a>\n",
       "        <a href=\"#\" class=\"nd\">148001</a>\n",
       "    </div>\n",
       "\n",
       "    <div class=\"meta\">\n",
       "        \n",
       "        <div class=\"comments\">\n",
       "<div class=\"contnr comment \" >\n",
       "    \n",
       "    <div class=\"lbl comment\">\n",
       "        meta\n",
       "        <a href=\"#\" class=\"nd\">177975</a>\n",
       "    </div>\n",
       "\n",
       "    <div class=\"meta\">\n",
       "        <div class=\"features\"> <span class=\"text\">atf: lang qpc</span></div>\n",
       "        \n",
       "    </div>\n",
       "\n",
       "</div>\n",
       "</div>\n",
       "    </div>\n",
       "\n",
       "\n",
       "</div>\n"
      ],
      "text/plain": [
       "<IPython.core.display.HTML object>"
      ]
     },
     "metadata": {},
     "output_type": "display_data"
    },
    {
     "data": {
      "text/html": [
       "<a href=\"https://cdli.ucla.edu/search/search_results.php?SearchMode=Text&ObjectID=P005213\" title=\"to CDLI main page for this tablet\" sec=\"P005213\">P005213</a>\n",
       "\n",
       "<div class=\"contnr face \" >\n",
       "    \n",
       "    <div class=\"lbl face\">\n",
       "        <a href=\"https://cdli.ucla.edu/search/search_results.php?SearchMode=Text&ObjectID=P005213\" title=\"to CDLI main page for this tablet\" sec=\"P005213\">face obverse</a>\n",
       "        <a href=\"#\" class=\"nd\">156676</a>\n",
       "    </div>\n",
       "\n",
       "    <div class=\"meta\">\n",
       "        <div class=\"features\"></div>\n",
       "        \n",
       "    </div>\n",
       "\n",
       "\n",
       "</div>\n"
      ],
      "text/plain": [
       "<IPython.core.display.HTML object>"
      ]
     },
     "metadata": {},
     "output_type": "display_data"
    },
    {
     "data": {
      "text/html": [
       "\n",
       "<div class=\"contnr column \" >\n",
       "    \n",
       "    <div class=\"lbl column\">\n",
       "        <a href=\"https://cdli.ucla.edu/search/search_results.php?SearchMode=Text&ObjectID=P005213\" title=\"to CDLI main page for this tablet\" sec=\"P005213\">column 2</a>\n",
       "        <a href=\"#\" class=\"nd\">189940</a>\n",
       "    </div>\n",
       "\n",
       "    <div class=\"meta\">\n",
       "        \n",
       "        \n",
       "    </div>\n",
       "\n",
       "\n",
       "</div>\n"
      ],
      "text/plain": [
       "<IPython.core.display.HTML object>"
      ]
     },
     "metadata": {},
     "output_type": "display_data"
    },
    {
     "data": {
      "text/html": [
       "\n",
       "<div class=\"contnr line \" >\n",
       "    \n",
       "    <div class=\"lbl line\">\n",
       "        <a href=\"https://cdli.ucla.edu/search/search_results.php?SearchMode=Text&ObjectID=P005213\" title=\"to CDLI main page for this tablet\" sec=\"P005213\">line 2</a>\n",
       "        <a href=\"#\" class=\"nd\">252933</a>\n",
       "    </div>\n",
       "\n",
       "    <div class=\"meta\">\n",
       "        \n",
       "        \n",
       "    </div>\n",
       "\n",
       "\n",
       "    <div class=\"children line\">\n",
       "\n",
       "\n",
       "<div class=\"contnr trminal hl\" >\n",
       "    \n",
       "    <div class=\"lbl trminal\">\n",
       "        2a\n",
       "        <a href=\"#\" class=\"nd\">167110</a>\n",
       "    </div>\n",
       "\n",
       "    <div class=\"meta\">\n",
       "        <div class=\"features\"></div>\n",
       "        \n",
       "    </div>\n",
       "\n",
       "\n",
       "    <div class=\"children trminalv\">\n",
       "\n",
       "\n",
       "<div class=\"contnr sign \" >\n",
       "    \n",
       "    <div class=\"lbl sign\">\n",
       "        \n",
       "        <a href=\"#\" class=\"nd\">100944</a>\n",
       "    </div>\n",
       "\n",
       "    <div class=\"meta\">\n",
       "         <span class=\"srcln\">1(N08)</span><div class=\"features\"></div>\n",
       "        \n",
       "    </div>\n",
       "\n",
       "<div><a target=\"_blank\" href=\"https://cdli.ucla.edu/tools/SignLists/protocuneiform/archsigns/1(N08).jpg\" title=\"to higher resolution lineart on CDLI\"><img src=\"cdli-imagery/lineart-1(n08).jpg\" style=\"display: inline;max-width: 2em; max-height: 4em;\"  /></a></div>\n",
       "\n",
       "</div>\n",
       "\n",
       "\n",
       "<div class=\"contnr sign \" >\n",
       "    \n",
       "    <div class=\"lbl sign\">\n",
       "        \n",
       "        <a href=\"#\" class=\"nd\">100945</a>\n",
       "    </div>\n",
       "\n",
       "    <div class=\"meta\">\n",
       "         <span class=\"srcln\">EN~a</span><div class=\"features\"></div>\n",
       "        \n",
       "    </div>\n",
       "\n",
       "<div><a target=\"_blank\" href=\"https://cdli.ucla.edu/tools/SignLists/protocuneiform/archsigns/EN~a.jpg\" title=\"to higher resolution lineart on CDLI\"><img src=\"cdli-imagery/lineart-en-a.jpg\" style=\"display: inline;max-width: 2em; max-height: 4em;\"  /></a></div>\n",
       "\n",
       "</div>\n",
       "\n",
       "\n",
       "<div class=\"contnr sign \" >\n",
       "    \n",
       "    <div class=\"lbl sign\">\n",
       "        \n",
       "        <a href=\"#\" class=\"nd\">100946</a>\n",
       "    </div>\n",
       "\n",
       "    <div class=\"meta\">\n",
       "         <span class=\"srcln\">UMUN2</span><div class=\"features\"></div>\n",
       "        \n",
       "    </div>\n",
       "\n",
       "<div><a target=\"_blank\" href=\"https://cdli.ucla.edu/tools/SignLists/protocuneiform/archsigns/UMUN2.jpg\" title=\"to higher resolution lineart on CDLI\"><img src=\"cdli-imagery/lineart-umun2.jpg\" style=\"display: inline;max-width: 2em; max-height: 4em;\"  /></a></div>\n",
       "\n",
       "</div>\n",
       "\n",
       "\n",
       "<div class=\"contnr sign \" >\n",
       "    \n",
       "    <div class=\"lbl sign\">\n",
       "        \n",
       "        <a href=\"#\" class=\"nd\">100947</a>\n",
       "    </div>\n",
       "\n",
       "    <div class=\"meta\">\n",
       "         <span class=\"srcln\">ABGAL</span><div class=\"features\"></div>\n",
       "        \n",
       "    </div>\n",
       "\n",
       "<div><a target=\"_blank\" href=\"https://cdli.ucla.edu/tools/SignLists/protocuneiform/archsigns/ABGAL.jpg\" title=\"to higher resolution lineart on CDLI\"><img src=\"cdli-imagery/lineart-abgal.jpg\" style=\"display: inline;max-width: 2em; max-height: 4em;\"  /></a></div>\n",
       "\n",
       "</div>\n",
       "\n",
       "\n",
       "    </div>\n",
       "\n",
       "\n",
       "</div>\n",
       "\n",
       "\n",
       "<div class=\"contnr trminal \" >\n",
       "    \n",
       "    <div class=\"lbl trminal\">\n",
       "        2b\n",
       "        <a href=\"#\" class=\"nd\">167111</a>\n",
       "    </div>\n",
       "\n",
       "    <div class=\"meta\">\n",
       "        <div class=\"features\"></div>\n",
       "        \n",
       "    </div>\n",
       "\n",
       "\n",
       "    <div class=\"children trminalv\">\n",
       "\n",
       "\n",
       "<div class=\"contnr sign \" >\n",
       "    \n",
       "    <div class=\"lbl sign\">\n",
       "        \n",
       "        <a href=\"#\" class=\"nd\">100948</a>\n",
       "    </div>\n",
       "\n",
       "    <div class=\"meta\">\n",
       "         <span class=\"srcln\">1(N01)</span><div class=\"features\"></div>\n",
       "        \n",
       "    </div>\n",
       "\n",
       "<div><a target=\"_blank\" href=\"https://cdli.ucla.edu/tools/SignLists/protocuneiform/archsigns/1(N01).jpg\" title=\"to higher resolution lineart on CDLI\"><img src=\"cdli-imagery/lineart-1(n01).jpg\" style=\"display: inline;max-width: 2em; max-height: 4em;\"  /></a></div>\n",
       "\n",
       "</div>\n",
       "\n",
       "\n",
       "<div class=\"contnr sign \" >\n",
       "    \n",
       "    <div class=\"lbl sign\">\n",
       "        \n",
       "        <a href=\"#\" class=\"nd\">100949</a>\n",
       "    </div>\n",
       "\n",
       "    <div class=\"meta\">\n",
       "         <span class=\"srcln\">SZITA~a1</span><div class=\"features\"></div>\n",
       "        \n",
       "    </div>\n",
       "\n",
       "<div><a target=\"_blank\" href=\"https://cdli.ucla.edu/tools/SignLists/protocuneiform/archsigns/SZITA~a1.jpg\" title=\"to higher resolution lineart on CDLI\"><img src=\"cdli-imagery/lineart-szita-a1.jpg\" style=\"display: inline;max-width: 2em; max-height: 4em;\"  /></a></div>\n",
       "\n",
       "</div>\n",
       "\n",
       "\n",
       "    </div>\n",
       "\n",
       "\n",
       "</div>\n",
       "\n",
       "\n",
       "    </div>\n",
       "\n",
       "\n",
       "</div>\n"
      ],
      "text/plain": [
       "<IPython.core.display.HTML object>"
      ]
     },
     "metadata": {},
     "output_type": "display_data"
    }
   ],
   "source": [
    "A.show(results, end=1, condenseType=\"line\", withNodes=True)"
   ]
  },
  {
   "cell_type": "markdown",
   "metadata": {},
   "source": [
    "We can aim at that line directly as well:"
   ]
  },
  {
   "cell_type": "code",
   "execution_count": 11,
   "metadata": {},
   "outputs": [
    {
     "data": {
      "text/html": [
       "\n",
       "<div class=\"contnr line \" >\n",
       "    \n",
       "    <div class=\"lbl line\">\n",
       "        <a href=\"https://cdli.ucla.edu/search/search_results.php?SearchMode=Text&ObjectID=P005213\" title=\"to CDLI main page for this tablet\" sec=\"P005213\">line 2</a>\n",
       "        <a href=\"#\" class=\"nd\">252933</a>\n",
       "    </div>\n",
       "\n",
       "    <div class=\"meta\">\n",
       "        \n",
       "        \n",
       "    </div>\n",
       "\n",
       "\n",
       "    <div class=\"children line\">\n",
       "\n",
       "\n",
       "<div class=\"contnr trminal \" >\n",
       "    \n",
       "    <div class=\"lbl trminal\">\n",
       "        2a\n",
       "        <a href=\"#\" class=\"nd\">167110</a>\n",
       "    </div>\n",
       "\n",
       "    <div class=\"meta\">\n",
       "        <div class=\"features\"></div>\n",
       "        \n",
       "    </div>\n",
       "\n",
       "\n",
       "    <div class=\"children trminalv\">\n",
       "\n",
       "\n",
       "<div class=\"contnr sign \" >\n",
       "    \n",
       "    <div class=\"lbl sign\">\n",
       "        \n",
       "        <a href=\"#\" class=\"nd\">100944</a>\n",
       "    </div>\n",
       "\n",
       "    <div class=\"meta\">\n",
       "         <span class=\"srcln\">1(N08)</span><div class=\"features\"></div>\n",
       "        \n",
       "    </div>\n",
       "\n",
       "<div><a target=\"_blank\" href=\"https://cdli.ucla.edu/tools/SignLists/protocuneiform/archsigns/1(N08).jpg\" title=\"to higher resolution lineart on CDLI\"><img src=\"cdli-imagery/lineart-1(n08).jpg\" style=\"display: inline;max-width: 2em; max-height: 4em;\"  /></a></div>\n",
       "\n",
       "</div>\n",
       "\n",
       "\n",
       "<div class=\"contnr sign \" >\n",
       "    \n",
       "    <div class=\"lbl sign\">\n",
       "        \n",
       "        <a href=\"#\" class=\"nd\">100945</a>\n",
       "    </div>\n",
       "\n",
       "    <div class=\"meta\">\n",
       "         <span class=\"srcln\">EN~a</span><div class=\"features\"></div>\n",
       "        \n",
       "    </div>\n",
       "\n",
       "<div><a target=\"_blank\" href=\"https://cdli.ucla.edu/tools/SignLists/protocuneiform/archsigns/EN~a.jpg\" title=\"to higher resolution lineart on CDLI\"><img src=\"cdli-imagery/lineart-en-a.jpg\" style=\"display: inline;max-width: 2em; max-height: 4em;\"  /></a></div>\n",
       "\n",
       "</div>\n",
       "\n",
       "\n",
       "<div class=\"contnr sign \" >\n",
       "    \n",
       "    <div class=\"lbl sign\">\n",
       "        \n",
       "        <a href=\"#\" class=\"nd\">100946</a>\n",
       "    </div>\n",
       "\n",
       "    <div class=\"meta\">\n",
       "         <span class=\"srcln\">UMUN2</span><div class=\"features\"></div>\n",
       "        \n",
       "    </div>\n",
       "\n",
       "<div><a target=\"_blank\" href=\"https://cdli.ucla.edu/tools/SignLists/protocuneiform/archsigns/UMUN2.jpg\" title=\"to higher resolution lineart on CDLI\"><img src=\"cdli-imagery/lineart-umun2.jpg\" style=\"display: inline;max-width: 2em; max-height: 4em;\"  /></a></div>\n",
       "\n",
       "</div>\n",
       "\n",
       "\n",
       "<div class=\"contnr sign \" >\n",
       "    \n",
       "    <div class=\"lbl sign\">\n",
       "        \n",
       "        <a href=\"#\" class=\"nd\">100947</a>\n",
       "    </div>\n",
       "\n",
       "    <div class=\"meta\">\n",
       "         <span class=\"srcln\">ABGAL</span><div class=\"features\"></div>\n",
       "        \n",
       "    </div>\n",
       "\n",
       "<div><a target=\"_blank\" href=\"https://cdli.ucla.edu/tools/SignLists/protocuneiform/archsigns/ABGAL.jpg\" title=\"to higher resolution lineart on CDLI\"><img src=\"cdli-imagery/lineart-abgal.jpg\" style=\"display: inline;max-width: 2em; max-height: 4em;\"  /></a></div>\n",
       "\n",
       "</div>\n",
       "\n",
       "\n",
       "    </div>\n",
       "\n",
       "\n",
       "</div>\n",
       "\n",
       "\n",
       "<div class=\"contnr trminal \" >\n",
       "    \n",
       "    <div class=\"lbl trminal\">\n",
       "        2b\n",
       "        <a href=\"#\" class=\"nd\">167111</a>\n",
       "    </div>\n",
       "\n",
       "    <div class=\"meta\">\n",
       "        <div class=\"features\"></div>\n",
       "        \n",
       "    </div>\n",
       "\n",
       "\n",
       "    <div class=\"children trminalv\">\n",
       "\n",
       "\n",
       "<div class=\"contnr sign \" >\n",
       "    \n",
       "    <div class=\"lbl sign\">\n",
       "        \n",
       "        <a href=\"#\" class=\"nd\">100948</a>\n",
       "    </div>\n",
       "\n",
       "    <div class=\"meta\">\n",
       "         <span class=\"srcln\">1(N01)</span><div class=\"features\"></div>\n",
       "        \n",
       "    </div>\n",
       "\n",
       "<div><a target=\"_blank\" href=\"https://cdli.ucla.edu/tools/SignLists/protocuneiform/archsigns/1(N01).jpg\" title=\"to higher resolution lineart on CDLI\"><img src=\"cdli-imagery/lineart-1(n01).jpg\" style=\"display: inline;max-width: 2em; max-height: 4em;\"  /></a></div>\n",
       "\n",
       "</div>\n",
       "\n",
       "\n",
       "<div class=\"contnr sign \" >\n",
       "    \n",
       "    <div class=\"lbl sign\">\n",
       "        \n",
       "        <a href=\"#\" class=\"nd\">100949</a>\n",
       "    </div>\n",
       "\n",
       "    <div class=\"meta\">\n",
       "         <span class=\"srcln\">SZITA~a1</span><div class=\"features\"></div>\n",
       "        \n",
       "    </div>\n",
       "\n",
       "<div><a target=\"_blank\" href=\"https://cdli.ucla.edu/tools/SignLists/protocuneiform/archsigns/SZITA~a1.jpg\" title=\"to higher resolution lineart on CDLI\"><img src=\"cdli-imagery/lineart-szita-a1.jpg\" style=\"display: inline;max-width: 2em; max-height: 4em;\"  /></a></div>\n",
       "\n",
       "</div>\n",
       "\n",
       "\n",
       "    </div>\n",
       "\n",
       "\n",
       "</div>\n",
       "\n",
       "\n",
       "    </div>\n",
       "\n",
       "\n",
       "</div>\n"
      ],
      "text/plain": [
       "<IPython.core.display.HTML object>"
      ]
     },
     "metadata": {},
     "output_type": "display_data"
    }
   ],
   "source": [
    "oneLine = results[0][3]\n",
    "A.pretty(oneLine, withNodes=True)"
   ]
  },
  {
   "cell_type": "markdown",
   "metadata": {},
   "source": [
    "Here we can see nine nodes in Text-Fabric, each marked by a grey box with a six digit number. The top level node belongs to the line (252933), each case has its own node (2a = 167110, and 2b = 167111) and so on.\n",
    "\n",
    "The distinctive orthography we want to look at first is the occurrence of SZITA~a1 in a subcase (2b), as a qualification of the official or individual listed in the other half of the line (2a).\n",
    "\n",
    "Now let's formulate a query that looks for any occurrence of SZITA~1 at sublevel 1 or lower."
   ]
  },
  {
   "cell_type": "code",
   "execution_count": 12,
   "metadata": {},
   "outputs": [
    {
     "name": "stdout",
     "output_type": "stream",
     "text": [
      "  0.16s 78 results\n"
     ]
    },
    {
     "data": {
      "text/markdown": [
       "n | p | case | sign\n",
       "--- | --- | --- | ---\n",
       "1| <a href=\"https://cdli.ucla.edu/search/search_results.php?SearchMode=Text&ObjectID=P002113\" title=\"to CDLI main page for this tablet\" sec=\"P002113\">P002113</a>|<a href=\"https://cdli.ucla.edu/search/search_results.php?SearchMode=Text&ObjectID=P002113\" title=\"to CDLI main page for this tablet\" sec=\"P002113\"><span  class=\"hl\" >1a. 8(N01)# , SZITA~a1 EN~a [...] SAG </span></a> *159945* |<span  class=\"hl hlup\" >SZITA~a1</span> *5882* \n",
       "2| <a href=\"https://cdli.ucla.edu/search/search_results.php?SearchMode=Text&ObjectID=P002179\" title=\"to CDLI main page for this tablet\" sec=\"P002179\">P002179</a>|<a href=\"https://cdli.ucla.edu/search/search_results.php?SearchMode=Text&ObjectID=P002179\" title=\"to CDLI main page for this tablet\" sec=\"P002179\"><span  class=\"hl\" >1.a. [...] , [...] X SZITA~a1#? SZU </span></a> *159964* |<span  class=\"hl hlup\" >SZITA~a1</span> *6287* \n",
       "3| <a href=\"https://cdli.ucla.edu/search/search_results.php?SearchMode=Text&ObjectID=P002179\" title=\"to CDLI main page for this tablet\" sec=\"P002179\">P002179</a>|<a href=\"https://cdli.ucla.edu/search/search_results.php?SearchMode=Text&ObjectID=P002179\" title=\"to CDLI main page for this tablet\" sec=\"P002179\"><span  class=\"hl\" >3.c. 2(N01) , SZITA~a1 LAGAR~a@r EN~a TUR </span></a> *159972* |<span  class=\"hl hlup\" >SZITA~a1</span> *6316* \n",
       "4| <a href=\"https://cdli.ucla.edu/search/search_results.php?SearchMode=Text&ObjectID=P002179\" title=\"to CDLI main page for this tablet\" sec=\"P002179\">P002179</a>|<a href=\"https://cdli.ucla.edu/search/search_results.php?SearchMode=Text&ObjectID=P002179\" title=\"to CDLI main page for this tablet\" sec=\"P002179\"><span  class=\"hl\" >6.d. 2(N01) , EN~a TUR KAK~a SZU SZITA~a1 HI? </span></a> *159993* |<span  class=\"hl hlup\" >SZITA~a1</span> *6390* \n",
       "5| <a href=\"https://cdli.ucla.edu/search/search_results.php?SearchMode=Text&ObjectID=P002179\" title=\"to CDLI main page for this tablet\" sec=\"P002179\">P002179</a>|<a href=\"https://cdli.ucla.edu/search/search_results.php?SearchMode=Text&ObjectID=P002179\" title=\"to CDLI main page for this tablet\" sec=\"P002179\"><span  class=\"hl\" >9.c. 2(N01) , SZITA~a1 KAK~a SZU EN~a TUR </span></a> *160005* |<span  class=\"hl hlup\" >SZITA~a1</span> *6437* \n",
       "6| <a href=\"https://cdli.ucla.edu/search/search_results.php?SearchMode=Text&ObjectID=P002399\" title=\"to CDLI main page for this tablet\" sec=\"P002399\">P002399</a>|<a href=\"https://cdli.ucla.edu/search/search_results.php?SearchMode=Text&ObjectID=P002399\" title=\"to CDLI main page for this tablet\" sec=\"P002399\"><span  class=\"hl\" >2.b. 3(N01) , SZITA~a1 [...] </span></a> *160107* |<span  class=\"hl hlup\" >SZITA~a1</span> *8262* \n",
       "7| <a href=\"https://cdli.ucla.edu/search/search_results.php?SearchMode=Text&ObjectID=P002522\" title=\"to CDLI main page for this tablet\" sec=\"P002522\">P002522</a>|<a href=\"https://cdli.ucla.edu/search/search_results.php?SearchMode=Text&ObjectID=P002522\" title=\"to CDLI main page for this tablet\" sec=\"P002522\"><span  class=\"hl\" >1.c. , ERIN SZITA~a1 ZATU686~a# [...] </span></a> *160130* |<span  class=\"hl hlup\" >SZITA~a1</span> *8808* \n",
       "8| <a href=\"https://cdli.ucla.edu/search/search_results.php?SearchMode=Text&ObjectID=P003654\" title=\"to CDLI main page for this tablet\" sec=\"P003654\">P003654</a>|<a href=\"https://cdli.ucla.edu/search/search_results.php?SearchMode=Text&ObjectID=P003654\" title=\"to CDLI main page for this tablet\" sec=\"P003654\"><span  class=\"hl\" >case 6b</span></a> *160467* |<span  class=\"hl hlup\" >SZITA~a1</span> *12531* \n",
       "9| <a href=\"https://cdli.ucla.edu/search/search_results.php?SearchMode=Text&ObjectID=P004442\" title=\"to CDLI main page for this tablet\" sec=\"P004442\">P004442</a>|<a href=\"https://cdli.ucla.edu/search/search_results.php?SearchMode=Text&ObjectID=P004442\" title=\"to CDLI main page for this tablet\" sec=\"P004442\"><span  class=\"hl\" >3.b. , SZITA~a1 GAL~a SANGA~a </span></a> *160666* |<span  class=\"hl hlup\" >SZITA~a1</span> *14742* \n",
       "10| <a href=\"https://cdli.ucla.edu/search/search_results.php?SearchMode=Text&ObjectID=P004442\" title=\"to CDLI main page for this tablet\" sec=\"P004442\">P004442</a>|<a href=\"https://cdli.ucla.edu/search/search_results.php?SearchMode=Text&ObjectID=P004442\" title=\"to CDLI main page for this tablet\" sec=\"P004442\"><span  class=\"hl\" >case 1a</span></a> *160667* |<span  class=\"hl hlup\" >SZITA~a1</span> *14749* \n",
       "11| <a href=\"https://cdli.ucla.edu/search/search_results.php?SearchMode=Text&ObjectID=P004442\" title=\"to CDLI main page for this tablet\" sec=\"P004442\">P004442</a>|<a href=\"https://cdli.ucla.edu/search/search_results.php?SearchMode=Text&ObjectID=P004442\" title=\"to CDLI main page for this tablet\" sec=\"P004442\"><span  class=\"hl\" >1.b. , NIGIN? SANGA~a SZITA~a1 GAL~a </span></a> *160670* |<span  class=\"hl hlup\" >SZITA~a1</span> *14754* \n",
       "12| <a href=\"https://cdli.ucla.edu/search/search_results.php?SearchMode=Text&ObjectID=P004676\" title=\"to CDLI main page for this tablet\" sec=\"P004676\">P004676</a>|<a href=\"https://cdli.ucla.edu/search/search_results.php?SearchMode=Text&ObjectID=P004676\" title=\"to CDLI main page for this tablet\" sec=\"P004676\"><span  class=\"hl\" >3.b. , GAL~a SANGA~a SZITA~a1 </span></a> *160770* |<span  class=\"hl hlup\" >SZITA~a1</span> *16619* \n",
       "13| <a href=\"https://cdli.ucla.edu/search/search_results.php?SearchMode=Text&ObjectID=P004684\" title=\"to CDLI main page for this tablet\" sec=\"P004684\">P004684</a>|<a href=\"https://cdli.ucla.edu/search/search_results.php?SearchMode=Text&ObjectID=P004684\" title=\"to CDLI main page for this tablet\" sec=\"P004684\"><span  class=\"hl\" >case 2a</span></a> *160808* |<span  class=\"hl hlup\" >SZITA~a1</span> *16907* \n",
       "14| <a href=\"https://cdli.ucla.edu/search/search_results.php?SearchMode=Text&ObjectID=P004884\" title=\"to CDLI main page for this tablet\" sec=\"P004884\">P004884</a>|<a href=\"https://cdli.ucla.edu/search/search_results.php?SearchMode=Text&ObjectID=P004884\" title=\"to CDLI main page for this tablet\" sec=\"P004884\"><span  class=\"hl\" >1.a. 1(N50) , GAN2 MU SZU SZITA~a1 ERIN </span></a> *161115* |<span  class=\"hl hlup\" >SZITA~a1</span> *20930* \n",
       "15| <a href=\"https://cdli.ucla.edu/search/search_results.php?SearchMode=Text&ObjectID=P212396\" title=\"to CDLI main page for this tablet\" sec=\"P212396\">P212396</a>|<a href=\"https://cdli.ucla.edu/search/search_results.php?SearchMode=Text&ObjectID=P212396\" title=\"to CDLI main page for this tablet\" sec=\"P212396\"><span  class=\"hl\" >2.a. 1(N14) , &#124;U4x1(N01)&#124; &#124;LAGAB~axSZITA~a1&#124; PAP~a#? </span></a> *161251* |<span  class=\"hl hlup\" >SZITA~a1</span> *22873* \n",
       "16| <a href=\"https://cdli.ucla.edu/search/search_results.php?SearchMode=Text&ObjectID=P325063\" title=\"to CDLI main page for this tablet\" sec=\"P325063\">P325063</a>|<a href=\"https://cdli.ucla.edu/search/search_results.php?SearchMode=Text&ObjectID=P325063\" title=\"to CDLI main page for this tablet\" sec=\"P325063\"><span  class=\"hl\" >5.a. 6(N01) , &#124;LAGAB~axSZA&#124; &#124;LAGAB~axSZITA~a1&#124; </span></a> *162089* |<span  class=\"hl hlup\" >SZITA~a1</span> *52820* \n",
       "17| <a href=\"https://cdli.ucla.edu/search/search_results.php?SearchMode=Text&ObjectID=P325063\" title=\"to CDLI main page for this tablet\" sec=\"P325063\">P325063</a>|<a href=\"https://cdli.ucla.edu/search/search_results.php?SearchMode=Text&ObjectID=P325063\" title=\"to CDLI main page for this tablet\" sec=\"P325063\"><span  class=\"hl\" >1.a. 6(N01) , &#124;LAGAB~axSZA&#124; &#124;LAGAB~axSZITA~a1&#124; </span></a> *162095* |<span  class=\"hl hlup\" >SZITA~a1</span> *52833* \n",
       "18| <a href=\"https://cdli.ucla.edu/search/search_results.php?SearchMode=Text&ObjectID=P325074\" title=\"to CDLI main page for this tablet\" sec=\"P325074\">P325074</a>|<a href=\"https://cdli.ucla.edu/search/search_results.php?SearchMode=Text&ObjectID=P325074\" title=\"to CDLI main page for this tablet\" sec=\"P325074\"><span  class=\"hl\" >case 3a</span></a> *162265* |<span  class=\"hl hlup\" >SZITA~a1</span> *53831* \n",
       "19| <a href=\"https://cdli.ucla.edu/search/search_results.php?SearchMode=Text&ObjectID=P325069\" title=\"to CDLI main page for this tablet\" sec=\"P325069\">P325069</a>|<a href=\"https://cdli.ucla.edu/search/search_results.php?SearchMode=Text&ObjectID=P325069\" title=\"to CDLI main page for this tablet\" sec=\"P325069\"><span  class=\"hl\" >1.a. 1(N14) 2(N01) , &#124;LAGAB~axSZITA~a1&#124; </span></a> *162277* |<span  class=\"hl hlup\" >SZITA~a1</span> *53978* \n",
       "20| <a href=\"https://cdli.ucla.edu/search/search_results.php?SearchMode=Text&ObjectID=P325069\" title=\"to CDLI main page for this tablet\" sec=\"P325069\">P325069</a>|<a href=\"https://cdli.ucla.edu/search/search_results.php?SearchMode=Text&ObjectID=P325069\" title=\"to CDLI main page for this tablet\" sec=\"P325069\"><span  class=\"hl\" >3.a. 3(N01) , &#124;LAGAB~axSZITA~a1&#124; </span></a> *162279* |<span  class=\"hl hlup\" >SZITA~a1</span> *53985* \n",
       "21| <a href=\"https://cdli.ucla.edu/search/search_results.php?SearchMode=Text&ObjectID=P002425\" title=\"to CDLI main page for this tablet\" sec=\"P002425\">P002425</a>|<a href=\"https://cdli.ucla.edu/search/search_results.php?SearchMode=Text&ObjectID=P002425\" title=\"to CDLI main page for this tablet\" sec=\"P002425\"><span  class=\"hl\" >3.a. 1(N01) [...] , SZITA~a1 X [...] </span></a> *163664* |<span  class=\"hl hlup\" >SZITA~a1</span> *68284* \n",
       "22| <a href=\"https://cdli.ucla.edu/search/search_results.php?SearchMode=Text&ObjectID=P002387\" title=\"to CDLI main page for this tablet\" sec=\"P002387\">P002387</a>|<a href=\"https://cdli.ucla.edu/search/search_results.php?SearchMode=Text&ObjectID=P002387\" title=\"to CDLI main page for this tablet\" sec=\"P002387\"><span  class=\"hl\" >2.a. [...] , X SZITA~a1#? X [...] </span></a> *163674* |<span  class=\"hl hlup\" >SZITA~a1</span> *68445* \n",
       "23| <a href=\"https://cdli.ucla.edu/search/search_results.php?SearchMode=Text&ObjectID=P004499\" title=\"to CDLI main page for this tablet\" sec=\"P004499\">P004499</a>|<a href=\"https://cdli.ucla.edu/search/search_results.php?SearchMode=Text&ObjectID=P004499\" title=\"to CDLI main page for this tablet\" sec=\"P004499\"><span  class=\"hl\" >1.b. 1(N01) , SZITA~a1 </span></a> *164005* |<span  class=\"hl hlup\" >SZITA~a1</span> *71918* \n",
       "24| <a href=\"https://cdli.ucla.edu/search/search_results.php?SearchMode=Text&ObjectID=P004499\" title=\"to CDLI main page for this tablet\" sec=\"P004499\">P004499</a>|<a href=\"https://cdli.ucla.edu/search/search_results.php?SearchMode=Text&ObjectID=P004499\" title=\"to CDLI main page for this tablet\" sec=\"P004499\"><span  class=\"hl\" >2.b. 1(N01) , SZITA~a1 </span></a> *164007* |<span  class=\"hl hlup\" >SZITA~a1</span> *71923* \n",
       "25| <a href=\"https://cdli.ucla.edu/search/search_results.php?SearchMode=Text&ObjectID=P004499\" title=\"to CDLI main page for this tablet\" sec=\"P004499\">P004499</a>|<a href=\"https://cdli.ucla.edu/search/search_results.php?SearchMode=Text&ObjectID=P004499\" title=\"to CDLI main page for this tablet\" sec=\"P004499\"><span  class=\"hl\" >3.b. 1(N01) , SZITA~a1 </span></a> *164009* |<span  class=\"hl hlup\" >SZITA~a1</span> *71928* \n",
       "26| <a href=\"https://cdli.ucla.edu/search/search_results.php?SearchMode=Text&ObjectID=P004499\" title=\"to CDLI main page for this tablet\" sec=\"P004499\">P004499</a>|<a href=\"https://cdli.ucla.edu/search/search_results.php?SearchMode=Text&ObjectID=P004499\" title=\"to CDLI main page for this tablet\" sec=\"P004499\"><span  class=\"hl\" >10.b. 1(N01) , SZITA~a1 </span></a> *164011* |<span  class=\"hl hlup\" >SZITA~a1</span> *71989* \n",
       "27| <a href=\"https://cdli.ucla.edu/search/search_results.php?SearchMode=Text&ObjectID=P004313\" title=\"to CDLI main page for this tablet\" sec=\"P004313\">P004313</a>|<a href=\"https://cdli.ucla.edu/search/search_results.php?SearchMode=Text&ObjectID=P004313\" title=\"to CDLI main page for this tablet\" sec=\"P004313\"><span  class=\"hl\" >1.a. [...] 2(N01) , GAL~a SZITA~a1 </span></a> *164022* |<span  class=\"hl hlup\" >SZITA~a1</span> *72342* \n",
       "28| <a href=\"https://cdli.ucla.edu/search/search_results.php?SearchMode=Text&ObjectID=P003807\" title=\"to CDLI main page for this tablet\" sec=\"P003807\">P003807</a>|<a href=\"https://cdli.ucla.edu/search/search_results.php?SearchMode=Text&ObjectID=P003807\" title=\"to CDLI main page for this tablet\" sec=\"P003807\"><span  class=\"hl\" >1.c. , SZA3~a1 &#124;GISZ.TE&#124; A NUN~a GI4~a UNUG~a MURUB2 SZITA~a1 </span></a> *164101* |<span  class=\"hl hlup\" >SZITA~a1</span> *72932* \n",
       "29| <a href=\"https://cdli.ucla.edu/search/search_results.php?SearchMode=Text&ObjectID=P003617\" title=\"to CDLI main page for this tablet\" sec=\"P003617\">P003617</a>|<a href=\"https://cdli.ucla.edu/search/search_results.php?SearchMode=Text&ObjectID=P003617\" title=\"to CDLI main page for this tablet\" sec=\"P003617\"><span  class=\"hl\" >2.b. , SZITA~a1 BU~a </span></a> *164176* |<span  class=\"hl hlup\" >SZITA~a1</span> *74294* \n",
       "30| <a href=\"https://cdli.ucla.edu/search/search_results.php?SearchMode=Text&ObjectID=P003655\" title=\"to CDLI main page for this tablet\" sec=\"P003655\">P003655</a>|<a href=\"https://cdli.ucla.edu/search/search_results.php?SearchMode=Text&ObjectID=P003655\" title=\"to CDLI main page for this tablet\" sec=\"P003655\"><span  class=\"hl\" >case 1a</span></a> *164229* |<span  class=\"hl hlup\" >SZITA~a1</span> *74852* \n",
       "31| <a href=\"https://cdli.ucla.edu/search/search_results.php?SearchMode=Text&ObjectID=P004299\" title=\"to CDLI main page for this tablet\" sec=\"P004299\">P004299</a>|<a href=\"https://cdli.ucla.edu/search/search_results.php?SearchMode=Text&ObjectID=P004299\" title=\"to CDLI main page for this tablet\" sec=\"P004299\"><span  class=\"hl\" >2.a. [...] , NAM2 KAB SZITA~a1 [...] </span></a> *164363* |<span  class=\"hl hlup\" >SZITA~a1</span> *77575* \n",
       "32| <a href=\"https://cdli.ucla.edu/search/search_results.php?SearchMode=Text&ObjectID=P004501\" title=\"to CDLI main page for this tablet\" sec=\"P004501\">P004501</a>|<a href=\"https://cdli.ucla.edu/search/search_results.php?SearchMode=Text&ObjectID=P004501\" title=\"to CDLI main page for this tablet\" sec=\"P004501\"><span  class=\"hl\" >1.a. 4(N01) , NAM2 DI UDU~a SZITA~a1 </span></a> *164422* |<span  class=\"hl hlup\" >SZITA~a1</span> *78954* \n",
       "33| <a href=\"https://cdli.ucla.edu/search/search_results.php?SearchMode=Text&ObjectID=P004501\" title=\"to CDLI main page for this tablet\" sec=\"P004501\">P004501</a>|<a href=\"https://cdli.ucla.edu/search/search_results.php?SearchMode=Text&ObjectID=P004501\" title=\"to CDLI main page for this tablet\" sec=\"P004501\"><span  class=\"hl\" >1.b. 5(N01) , SZITA~a1 SUHUR </span></a> *164423* |<span  class=\"hl hlup\" >SZITA~a1</span> *78956* \n",
       "34| <a href=\"https://cdli.ucla.edu/search/search_results.php?SearchMode=Text&ObjectID=P004501\" title=\"to CDLI main page for this tablet\" sec=\"P004501\">P004501</a>|<a href=\"https://cdli.ucla.edu/search/search_results.php?SearchMode=Text&ObjectID=P004501\" title=\"to CDLI main page for this tablet\" sec=\"P004501\"><span  class=\"hl\" >2.b. 5(N01) , SZITA~a1 </span></a> *164425* |<span  class=\"hl hlup\" >SZITA~a1</span> *78963* \n",
       "35| <a href=\"https://cdli.ucla.edu/search/search_results.php?SearchMode=Text&ObjectID=P004501\" title=\"to CDLI main page for this tablet\" sec=\"P004501\">P004501</a>|<a href=\"https://cdli.ucla.edu/search/search_results.php?SearchMode=Text&ObjectID=P004501\" title=\"to CDLI main page for this tablet\" sec=\"P004501\"><span  class=\"hl\" >3.b. 4(N01) , SZITA~a1 </span></a> *164427* |<span  class=\"hl hlup\" >SZITA~a1</span> *78968* \n",
       "36| <a href=\"https://cdli.ucla.edu/search/search_results.php?SearchMode=Text&ObjectID=P004501\" title=\"to CDLI main page for this tablet\" sec=\"P004501\">P004501</a>|<a href=\"https://cdli.ucla.edu/search/search_results.php?SearchMode=Text&ObjectID=P004501\" title=\"to CDLI main page for this tablet\" sec=\"P004501\"><span  class=\"hl\" >4.b. 1(N01) , SZITA~a1# </span></a> *164429* |<span  class=\"hl hlup\" >SZITA~a1</span> *78973* \n",
       "37| <a href=\"https://cdli.ucla.edu/search/search_results.php?SearchMode=Text&ObjectID=P004510\" title=\"to CDLI main page for this tablet\" sec=\"P004510\">P004510</a>|<a href=\"https://cdli.ucla.edu/search/search_results.php?SearchMode=Text&ObjectID=P004510\" title=\"to CDLI main page for this tablet\" sec=\"P004510\"><span  class=\"hl\" >2.a. 3(N01) [...] , SZITA~a1 UR~a? </span></a> *164441* |<span  class=\"hl hlup\" >SZITA~a1</span> *79080* \n",
       "38| <a href=\"https://cdli.ucla.edu/search/search_results.php?SearchMode=Text&ObjectID=P006253\" title=\"to CDLI main page for this tablet\" sec=\"P006253\">P006253</a>|<a href=\"https://cdli.ucla.edu/search/search_results.php?SearchMode=Text&ObjectID=P006253\" title=\"to CDLI main page for this tablet\" sec=\"P006253\"><span  class=\"hl\" >6.a. 1(N01) , GAL~a SZITA~a1 </span></a> *165953* |<span  class=\"hl hlup\" >SZITA~a1</span> *90035* \n",
       "39| <a href=\"https://cdli.ucla.edu/search/search_results.php?SearchMode=Text&ObjectID=P006286\" title=\"to CDLI main page for this tablet\" sec=\"P006286\">P006286</a>|<a href=\"https://cdli.ucla.edu/search/search_results.php?SearchMode=Text&ObjectID=P006286\" title=\"to CDLI main page for this tablet\" sec=\"P006286\"><span  class=\"hl\" >6.a. 2(N14)# 7(N01) , X SZITA~a1 </span></a> *166128* |<span  class=\"hl hlup\" >SZITA~a1</span> *91971* \n",
       "40| <a href=\"https://cdli.ucla.edu/search/search_results.php?SearchMode=Text&ObjectID=P006286\" title=\"to CDLI main page for this tablet\" sec=\"P006286\">P006286</a>|<a href=\"https://cdli.ucla.edu/search/search_results.php?SearchMode=Text&ObjectID=P006286\" title=\"to CDLI main page for this tablet\" sec=\"P006286\"><span  class=\"hl\" >case 6b</span></a> *166129* |<span  class=\"hl hlup\" >SZITA~a1</span> *91977* \n",
       "41| <a href=\"https://cdli.ucla.edu/search/search_results.php?SearchMode=Text&ObjectID=P005151\" title=\"to CDLI main page for this tablet\" sec=\"P005151\">P005151</a>|<a href=\"https://cdli.ucla.edu/search/search_results.php?SearchMode=Text&ObjectID=P005151\" title=\"to CDLI main page for this tablet\" sec=\"P005151\"><span  class=\"hl\" >case 3b</span></a> *166743* |<span  class=\"hl hlup\" >SZITA~a1</span> *97957* \n",
       "42| <a href=\"https://cdli.ucla.edu/search/search_results.php?SearchMode=Text&ObjectID=P005175\" title=\"to CDLI main page for this tablet\" sec=\"P005175\">P005175</a>|<a href=\"https://cdli.ucla.edu/search/search_results.php?SearchMode=Text&ObjectID=P005175\" title=\"to CDLI main page for this tablet\" sec=\"P005175\"><span  class=\"hl\" >2.a. 2(N14)# , &#124;LAGAB~axSZITA~a1&#124;# E2~a DUB~a </span></a> *166924* |<span  class=\"hl hlup\" >SZITA~a1</span> *99477* \n",
       "43| <a href=\"https://cdli.ucla.edu/search/search_results.php?SearchMode=Text&ObjectID=P005178\" title=\"to CDLI main page for this tablet\" sec=\"P005178\">P005178</a>|<a href=\"https://cdli.ucla.edu/search/search_results.php?SearchMode=Text&ObjectID=P005178\" title=\"to CDLI main page for this tablet\" sec=\"P005178\"><span  class=\"hl\" >7.a. 4(N14)# , &#124;LAGAB~axSZITA~a1&#124;# E2~a# DUB~a#? </span></a> *166958* |<span  class=\"hl hlup\" >SZITA~a1</span> *99707* \n",
       "44| <a href=\"https://cdli.ucla.edu/search/search_results.php?SearchMode=Text&ObjectID=P005213\" title=\"to CDLI main page for this tablet\" sec=\"P005213\">P005213</a>|<a href=\"https://cdli.ucla.edu/search/search_results.php?SearchMode=Text&ObjectID=P005213\" title=\"to CDLI main page for this tablet\" sec=\"P005213\"><span  class=\"hl\" >2.a. [...] 2(N01)# , SZITA~a1 </span></a> *167090* |<span  class=\"hl hlup\" >SZITA~a1</span> *100889* \n",
       "45| <a href=\"https://cdli.ucla.edu/search/search_results.php?SearchMode=Text&ObjectID=P005213\" title=\"to CDLI main page for this tablet\" sec=\"P005213\">P005213</a>|<a href=\"https://cdli.ucla.edu/search/search_results.php?SearchMode=Text&ObjectID=P005213\" title=\"to CDLI main page for this tablet\" sec=\"P005213\"><span  class=\"hl\" >3.b. 2(N01) , SZITA~a1 </span></a> *167093* |<span  class=\"hl hlup\" >SZITA~a1</span> *100897* \n",
       "46| <a href=\"https://cdli.ucla.edu/search/search_results.php?SearchMode=Text&ObjectID=P005213\" title=\"to CDLI main page for this tablet\" sec=\"P005213\">P005213</a>|<a href=\"https://cdli.ucla.edu/search/search_results.php?SearchMode=Text&ObjectID=P005213\" title=\"to CDLI main page for this tablet\" sec=\"P005213\"><span  class=\"hl\" >4.b. 1(N01) , SZITA~a1 </span></a> *167095* |<span  class=\"hl hlup\" >SZITA~a1</span> *100903* \n",
       "47| <a href=\"https://cdli.ucla.edu/search/search_results.php?SearchMode=Text&ObjectID=P005213\" title=\"to CDLI main page for this tablet\" sec=\"P005213\">P005213</a>|<a href=\"https://cdli.ucla.edu/search/search_results.php?SearchMode=Text&ObjectID=P005213\" title=\"to CDLI main page for this tablet\" sec=\"P005213\"><span  class=\"hl\" >6.b. 1(N01) , SZITA~a1 </span></a> *167099* |<span  class=\"hl hlup\" >SZITA~a1</span> *100917* \n",
       "48| <a href=\"https://cdli.ucla.edu/search/search_results.php?SearchMode=Text&ObjectID=P005213\" title=\"to CDLI main page for this tablet\" sec=\"P005213\">P005213</a>|<a href=\"https://cdli.ucla.edu/search/search_results.php?SearchMode=Text&ObjectID=P005213\" title=\"to CDLI main page for this tablet\" sec=\"P005213\"><span  class=\"hl\" >7.b. 1(N01) , SZITA~a1 </span></a> *167101* |<span  class=\"hl hlup\" >SZITA~a1</span> *100923* \n",
       "49| <a href=\"https://cdli.ucla.edu/search/search_results.php?SearchMode=Text&ObjectID=P005213\" title=\"to CDLI main page for this tablet\" sec=\"P005213\">P005213</a>|<a href=\"https://cdli.ucla.edu/search/search_results.php?SearchMode=Text&ObjectID=P005213\" title=\"to CDLI main page for this tablet\" sec=\"P005213\"><span  class=\"hl\" >8.b. 1(N01) , SZITA~a1 </span></a> *167103* |<span  class=\"hl hlup\" >SZITA~a1</span> *100929* \n",
       "50| <a href=\"https://cdli.ucla.edu/search/search_results.php?SearchMode=Text&ObjectID=P005213\" title=\"to CDLI main page for this tablet\" sec=\"P005213\">P005213</a>|<a href=\"https://cdli.ucla.edu/search/search_results.php?SearchMode=Text&ObjectID=P005213\" title=\"to CDLI main page for this tablet\" sec=\"P005213\"><span  class=\"hl\" >case 9b</span></a> *167105* |<span  class=\"hl hlup\" >SZITA~a1</span> *100938* \n",
       "51| <a href=\"https://cdli.ucla.edu/search/search_results.php?SearchMode=Text&ObjectID=P005213\" title=\"to CDLI main page for this tablet\" sec=\"P005213\">P005213</a>|<a href=\"https://cdli.ucla.edu/search/search_results.php?SearchMode=Text&ObjectID=P005213\" title=\"to CDLI main page for this tablet\" sec=\"P005213\"><span  class=\"hl\" >1.b. 1(N01) , SZITA~a1 </span></a> *167109* |<span  class=\"hl hlup\" >SZITA~a1</span> *100943* \n",
       "52| <a href=\"https://cdli.ucla.edu/search/search_results.php?SearchMode=Text&ObjectID=P005213\" title=\"to CDLI main page for this tablet\" sec=\"P005213\">P005213</a>|<a href=\"https://cdli.ucla.edu/search/search_results.php?SearchMode=Text&ObjectID=P005213\" title=\"to CDLI main page for this tablet\" sec=\"P005213\"><span  class=\"hl\" >2.b. 1(N01) , SZITA~a1 </span></a> *167111* |<span  class=\"hl hlup\" >SZITA~a1</span> *100949* \n",
       "53| <a href=\"https://cdli.ucla.edu/search/search_results.php?SearchMode=Text&ObjectID=P005213\" title=\"to CDLI main page for this tablet\" sec=\"P005213\">P005213</a>|<a href=\"https://cdli.ucla.edu/search/search_results.php?SearchMode=Text&ObjectID=P005213\" title=\"to CDLI main page for this tablet\" sec=\"P005213\"><span  class=\"hl\" >3.b. 1(N01) , SZITA~a1 </span></a> *167113* |<span  class=\"hl hlup\" >SZITA~a1</span> *100956* \n",
       "54| <a href=\"https://cdli.ucla.edu/search/search_results.php?SearchMode=Text&ObjectID=P005213\" title=\"to CDLI main page for this tablet\" sec=\"P005213\">P005213</a>|<a href=\"https://cdli.ucla.edu/search/search_results.php?SearchMode=Text&ObjectID=P005213\" title=\"to CDLI main page for this tablet\" sec=\"P005213\"><span  class=\"hl\" >4.b. 1(N01) , SZITA~a1 </span></a> *167115* |<span  class=\"hl hlup\" >SZITA~a1</span> *100961* \n",
       "55| <a href=\"https://cdli.ucla.edu/search/search_results.php?SearchMode=Text&ObjectID=P005213\" title=\"to CDLI main page for this tablet\" sec=\"P005213\">P005213</a>|<a href=\"https://cdli.ucla.edu/search/search_results.php?SearchMode=Text&ObjectID=P005213\" title=\"to CDLI main page for this tablet\" sec=\"P005213\"><span  class=\"hl\" >5.b. 1(N01) , SZITA~a1 </span></a> *167117* |<span  class=\"hl hlup\" >SZITA~a1</span> *100966* \n",
       "56| <a href=\"https://cdli.ucla.edu/search/search_results.php?SearchMode=Text&ObjectID=P005213\" title=\"to CDLI main page for this tablet\" sec=\"P005213\">P005213</a>|<a href=\"https://cdli.ucla.edu/search/search_results.php?SearchMode=Text&ObjectID=P005213\" title=\"to CDLI main page for this tablet\" sec=\"P005213\"><span  class=\"hl\" >6.b. 1(N01) , SZITA~a1 </span></a> *167119* |<span  class=\"hl hlup\" >SZITA~a1</span> *100971* \n",
       "57| <a href=\"https://cdli.ucla.edu/search/search_results.php?SearchMode=Text&ObjectID=P005214\" title=\"to CDLI main page for this tablet\" sec=\"P005214\">P005214</a>|<a href=\"https://cdli.ucla.edu/search/search_results.php?SearchMode=Text&ObjectID=P005214\" title=\"to CDLI main page for this tablet\" sec=\"P005214\"><span  class=\"hl\" >case 1c</span></a> *167135* |<span  class=\"hl hlup\" >SZITA~a1</span> *101052* \n",
       "58| <a href=\"https://cdli.ucla.edu/search/search_results.php?SearchMode=Text&ObjectID=P005214\" title=\"to CDLI main page for this tablet\" sec=\"P005214\">P005214</a>|<a href=\"https://cdli.ucla.edu/search/search_results.php?SearchMode=Text&ObjectID=P005214\" title=\"to CDLI main page for this tablet\" sec=\"P005214\"><span  class=\"hl\" >case 2c</span></a> *167140* |<span  class=\"hl hlup\" >SZITA~a1</span> *101062* \n",
       "59| <a href=\"https://cdli.ucla.edu/search/search_results.php?SearchMode=Text&ObjectID=P005214\" title=\"to CDLI main page for this tablet\" sec=\"P005214\">P005214</a>|<a href=\"https://cdli.ucla.edu/search/search_results.php?SearchMode=Text&ObjectID=P005214\" title=\"to CDLI main page for this tablet\" sec=\"P005214\"><span  class=\"hl\" >3.c. [...] , SZITA~a1# </span></a> *167145* |<span  class=\"hl hlup\" >SZITA~a1</span> *101071* \n",
       "60| <a href=\"https://cdli.ucla.edu/search/search_results.php?SearchMode=Text&ObjectID=P005214\" title=\"to CDLI main page for this tablet\" sec=\"P005214\">P005214</a>|<a href=\"https://cdli.ucla.edu/search/search_results.php?SearchMode=Text&ObjectID=P005214\" title=\"to CDLI main page for this tablet\" sec=\"P005214\"><span  class=\"hl\" >4.c. 1(N01)# , SZITA~a1 </span></a> *167148* |<span  class=\"hl hlup\" >SZITA~a1</span> *101079* \n",
       "61| <a href=\"https://cdli.ucla.edu/search/search_results.php?SearchMode=Text&ObjectID=P005214\" title=\"to CDLI main page for this tablet\" sec=\"P005214\">P005214</a>|<a href=\"https://cdli.ucla.edu/search/search_results.php?SearchMode=Text&ObjectID=P005214\" title=\"to CDLI main page for this tablet\" sec=\"P005214\"><span  class=\"hl\" >5.b. 1(N01) , SZITA~a1 </span></a> *167150* |<span  class=\"hl hlup\" >SZITA~a1</span> *101087* \n",
       "62| <a href=\"https://cdli.ucla.edu/search/search_results.php?SearchMode=Text&ObjectID=P005214\" title=\"to CDLI main page for this tablet\" sec=\"P005214\">P005214</a>|<a href=\"https://cdli.ucla.edu/search/search_results.php?SearchMode=Text&ObjectID=P005214\" title=\"to CDLI main page for this tablet\" sec=\"P005214\"><span  class=\"hl\" >6.b. 1(N01) , SZITA~a1# </span></a> *167152* |<span  class=\"hl hlup\" >SZITA~a1</span> *101091* \n",
       "63| <a href=\"https://cdli.ucla.edu/search/search_results.php?SearchMode=Text&ObjectID=P005215\" title=\"to CDLI main page for this tablet\" sec=\"P005215\">P005215</a>|<a href=\"https://cdli.ucla.edu/search/search_results.php?SearchMode=Text&ObjectID=P005215\" title=\"to CDLI main page for this tablet\" sec=\"P005215\"><span  class=\"hl\" >1.b. 1(N01) , SZITA~a1 </span></a> *167154* |<span  class=\"hl hlup\" >SZITA~a1</span> *101137* \n",
       "64| <a href=\"https://cdli.ucla.edu/search/search_results.php?SearchMode=Text&ObjectID=P005217\" title=\"to CDLI main page for this tablet\" sec=\"P005217\">P005217</a>|<a href=\"https://cdli.ucla.edu/search/search_results.php?SearchMode=Text&ObjectID=P005217\" title=\"to CDLI main page for this tablet\" sec=\"P005217\"><span  class=\"hl\" >1.b. [...] , [...] SZITA~a1# </span></a> *167156* |<span  class=\"hl hlup\" >SZITA~a1</span> *101157* \n",
       "65| <a href=\"https://cdli.ucla.edu/search/search_results.php?SearchMode=Text&ObjectID=P005217\" title=\"to CDLI main page for this tablet\" sec=\"P005217\">P005217</a>|<a href=\"https://cdli.ucla.edu/search/search_results.php?SearchMode=Text&ObjectID=P005217\" title=\"to CDLI main page for this tablet\" sec=\"P005217\"><span  class=\"hl\" >3.b. [...] , [...] X SZITA~a1#? </span></a> *167160* |<span  class=\"hl hlup\" >SZITA~a1</span> *101169* \n",
       "66| <a href=\"https://cdli.ucla.edu/search/search_results.php?SearchMode=Text&ObjectID=P005300\" title=\"to CDLI main page for this tablet\" sec=\"P005300\">P005300</a>|<a href=\"https://cdli.ucla.edu/search/search_results.php?SearchMode=Text&ObjectID=P005300\" title=\"to CDLI main page for this tablet\" sec=\"P005300\"><span  class=\"hl\" >2.a. 2(N01)# , GA~a AB~a# SANGA~a GAL~a SZITA~a1 </span></a> *167488* |<span  class=\"hl hlup\" >SZITA~a1</span> *103740* \n",
       "67| <a href=\"https://cdli.ucla.edu/search/search_results.php?SearchMode=Text&ObjectID=P005458\" title=\"to CDLI main page for this tablet\" sec=\"P005458\">P005458</a>|<a href=\"https://cdli.ucla.edu/search/search_results.php?SearchMode=Text&ObjectID=P005458\" title=\"to CDLI main page for this tablet\" sec=\"P005458\"><span  class=\"hl\" >4.a. 2(N01) , ZATU710 AN &#124;SZU2.EN~a&#124; SZITA~a1 </span></a> *167955* |<span  class=\"hl hlup\" >SZITA~a1</span> *109529* \n",
       "68| <a href=\"https://cdli.ucla.edu/search/search_results.php?SearchMode=Text&ObjectID=P003499\" title=\"to CDLI main page for this tablet\" sec=\"P003499\">P003499</a>|<a href=\"https://cdli.ucla.edu/search/search_results.php?SearchMode=Text&ObjectID=P003499\" title=\"to CDLI main page for this tablet\" sec=\"P003499\"><span  class=\"hl\" >2.a. , GAL~a SZITA~a1 </span></a> *168153* |<span  class=\"hl hlup\" >SZITA~a1</span> *111960* \n",
       "69| <a href=\"https://cdli.ucla.edu/search/search_results.php?SearchMode=Text&ObjectID=P003541\" title=\"to CDLI main page for this tablet\" sec=\"P003541\">P003541</a>|<a href=\"https://cdli.ucla.edu/search/search_results.php?SearchMode=Text&ObjectID=P003541\" title=\"to CDLI main page for this tablet\" sec=\"P003541\"><span  class=\"hl\" >1.b. , GESZTU~b SZITA~a1 ZATU686~a </span></a> *168431* |<span  class=\"hl hlup\" >SZITA~a1</span> *113331* \n",
       "70| <a href=\"https://cdli.ucla.edu/search/search_results.php?SearchMode=Text&ObjectID=P003593\" title=\"to CDLI main page for this tablet\" sec=\"P003593\">P003593</a>|<a href=\"https://cdli.ucla.edu/search/search_results.php?SearchMode=Text&ObjectID=P003593\" title=\"to CDLI main page for this tablet\" sec=\"P003593\"><span  class=\"hl\" >2.a. [...] , GADA~a SZITA~a1 X </span></a> *168537* |<span  class=\"hl hlup\" >SZITA~a1</span> *114236* \n",
       "71| <a href=\"https://cdli.ucla.edu/search/search_results.php?SearchMode=Text&ObjectID=P003593\" title=\"to CDLI main page for this tablet\" sec=\"P003593\">P003593</a>|<a href=\"https://cdli.ucla.edu/search/search_results.php?SearchMode=Text&ObjectID=P003593\" title=\"to CDLI main page for this tablet\" sec=\"P003593\"><span  class=\"hl\" >3.b. , GESZTU~b SZITA~a1 ZATU686~a </span></a> *168542* |<span  class=\"hl hlup\" >SZITA~a1</span> *114248* \n",
       "72| <a href=\"https://cdli.ucla.edu/search/search_results.php?SearchMode=Text&ObjectID=P003808\" title=\"to CDLI main page for this tablet\" sec=\"P003808\">P003808</a>|<a href=\"https://cdli.ucla.edu/search/search_results.php?SearchMode=Text&ObjectID=P003808\" title=\"to CDLI main page for this tablet\" sec=\"P003808\"><span  class=\"hl\" >case 2b</span></a> *168685* |<span  class=\"hl hlup\" >SZITA~a1</span> *114965* \n",
       "73| <a href=\"https://cdli.ucla.edu/search/search_results.php?SearchMode=Text&ObjectID=P003808\" title=\"to CDLI main page for this tablet\" sec=\"P003808\">P003808</a>|<a href=\"https://cdli.ucla.edu/search/search_results.php?SearchMode=Text&ObjectID=P003808\" title=\"to CDLI main page for this tablet\" sec=\"P003808\"><span  class=\"hl\" >3.b. , GESZTU~b SZITA~a1 </span></a> *168702* |<span  class=\"hl hlup\" >SZITA~a1</span> *114999* \n",
       "74| <a href=\"https://cdli.ucla.edu/search/search_results.php?SearchMode=Text&ObjectID=P003808\" title=\"to CDLI main page for this tablet\" sec=\"P003808\">P003808</a>|<a href=\"https://cdli.ucla.edu/search/search_results.php?SearchMode=Text&ObjectID=P003808\" title=\"to CDLI main page for this tablet\" sec=\"P003808\"><span  class=\"hl\" >case 2a</span></a> *168707* |<span  class=\"hl hlup\" >SZITA~a1</span> *115035* \n",
       "75| <a href=\"https://cdli.ucla.edu/search/search_results.php?SearchMode=Text&ObjectID=P003808\" title=\"to CDLI main page for this tablet\" sec=\"P003808\">P003808</a>|<a href=\"https://cdli.ucla.edu/search/search_results.php?SearchMode=Text&ObjectID=P003808\" title=\"to CDLI main page for this tablet\" sec=\"P003808\"><span  class=\"hl\" >2.b. , UNUG~a [...] GESZTU~b SZITA~a1 ZATU686~a </span></a> *168715* |<span  class=\"hl hlup\" >SZITA~a1</span> *115046* \n",
       "76| <a href=\"https://cdli.ucla.edu/search/search_results.php?SearchMode=Text&ObjectID=P003808\" title=\"to CDLI main page for this tablet\" sec=\"P003808\">P003808</a>|<a href=\"https://cdli.ucla.edu/search/search_results.php?SearchMode=Text&ObjectID=P003808\" title=\"to CDLI main page for this tablet\" sec=\"P003808\"><span  class=\"hl\" >1.b. , GESZTU~b SZITA~a1 ZATU686~a </span></a> *168725* |<span  class=\"hl hlup\" >SZITA~a1</span> *115073* \n",
       "77| <a href=\"https://cdli.ucla.edu/search/search_results.php?SearchMode=Text&ObjectID=P003808\" title=\"to CDLI main page for this tablet\" sec=\"P003808\">P003808</a>|<a href=\"https://cdli.ucla.edu/search/search_results.php?SearchMode=Text&ObjectID=P003808\" title=\"to CDLI main page for this tablet\" sec=\"P003808\"><span  class=\"hl\" >2.b. , GESZTU~b SZITA~a1 ZATU686~a </span></a> *168736* |<span  class=\"hl hlup\" >SZITA~a1</span> *115108* \n",
       "78| <a href=\"https://cdli.ucla.edu/search/search_results.php?SearchMode=Text&ObjectID=P002545\" title=\"to CDLI main page for this tablet\" sec=\"P002545\">P002545</a>|<a href=\"https://cdli.ucla.edu/search/search_results.php?SearchMode=Text&ObjectID=P002545\" title=\"to CDLI main page for this tablet\" sec=\"P002545\"><span  class=\"hl\" >1.a. 1(N01) , ANSZE~e? SIG2~b &#124;SILA3~axSZE~a&#124; SZITA~a1 ZATU753 </span></a> *169064* |<span  class=\"hl hlup\" >SZITA~a1</span> *128468* "
      ],
      "text/plain": [
       "<IPython.core.display.Markdown object>"
      ]
     },
     "metadata": {},
     "output_type": "display_data"
    }
   ],
   "source": [
    "query = \"\"\"\n",
    "case depth=1\n",
    "  sign grapheme=SZITA variant=a1\n",
    "\"\"\"\n",
    "results = A.search(query)\n",
    "A.table(results, withNodes=True, lineart=False)"
   ]
  },
  {
   "cell_type": "markdown",
   "metadata": {},
   "source": [
    "So 78 hits in the corpus as a whole, but this simply tells us that SZITA~a1 is a frequent occupant of divided lines. Let's check some other levels and then, after that, try to limit the search to a specific tablet."
   ]
  },
  {
   "cell_type": "code",
   "execution_count": 13,
   "metadata": {},
   "outputs": [
    {
     "name": "stdout",
     "output_type": "stream",
     "text": [
      "  0.16s 12 results\n"
     ]
    },
    {
     "data": {
      "text/markdown": [
       "n | p | case | sign\n",
       "--- | --- | --- | ---\n",
       "1| <a href=\"https://cdli.ucla.edu/search/search_results.php?SearchMode=Text&ObjectID=P003654\" title=\"to CDLI main page for this tablet\" sec=\"P003654\">P003654</a>|<a href=\"https://cdli.ucla.edu/search/search_results.php?SearchMode=Text&ObjectID=P003654\" title=\"to CDLI main page for this tablet\" sec=\"P003654\"><span  class=\"hl\" >6.b1. [...] , X SZITA~a1# </span></a> *160468* |<span  class=\"hl hlup\" >SZITA~a1</span> *12531* \n",
       "2| <a href=\"https://cdli.ucla.edu/search/search_results.php?SearchMode=Text&ObjectID=P004442\" title=\"to CDLI main page for this tablet\" sec=\"P004442\">P004442</a>|<a href=\"https://cdli.ucla.edu/search/search_results.php?SearchMode=Text&ObjectID=P004442\" title=\"to CDLI main page for this tablet\" sec=\"P004442\"><span  class=\"hl\" >1.a2. 1(N01)# , SZITA~a1 SANGA~a GAL~a </span></a> *160669* |<span  class=\"hl hlup\" >SZITA~a1</span> *14749* \n",
       "3| <a href=\"https://cdli.ucla.edu/search/search_results.php?SearchMode=Text&ObjectID=P004684\" title=\"to CDLI main page for this tablet\" sec=\"P004684\">P004684</a>|<a href=\"https://cdli.ucla.edu/search/search_results.php?SearchMode=Text&ObjectID=P004684\" title=\"to CDLI main page for this tablet\" sec=\"P004684\"><span  class=\"hl\" >2.a3. 1(N01) , EN~a SZITA~a1 SAG </span></a> *160811* |<span  class=\"hl hlup\" >SZITA~a1</span> *16907* \n",
       "4| <a href=\"https://cdli.ucla.edu/search/search_results.php?SearchMode=Text&ObjectID=P325074\" title=\"to CDLI main page for this tablet\" sec=\"P325074\">P325074</a>|<a href=\"https://cdli.ucla.edu/search/search_results.php?SearchMode=Text&ObjectID=P325074\" title=\"to CDLI main page for this tablet\" sec=\"P325074\"><span  class=\"hl\" >3.a1. 1(N14)# , &#124;LAGAB~axSZA&#124;# &#124;LAGAB~axSZITA~a1&#124; </span></a> *162266* |<span  class=\"hl hlup\" >SZITA~a1</span> *53831* \n",
       "5| <a href=\"https://cdli.ucla.edu/search/search_results.php?SearchMode=Text&ObjectID=P003655\" title=\"to CDLI main page for this tablet\" sec=\"P003655\">P003655</a>|<a href=\"https://cdli.ucla.edu/search/search_results.php?SearchMode=Text&ObjectID=P003655\" title=\"to CDLI main page for this tablet\" sec=\"P003655\"><span  class=\"hl\" >1.a3. [...] , SZITA~a1 [...] </span></a> *164232* |<span  class=\"hl hlup\" >SZITA~a1</span> *74852* \n",
       "6| <a href=\"https://cdli.ucla.edu/search/search_results.php?SearchMode=Text&ObjectID=P006286\" title=\"to CDLI main page for this tablet\" sec=\"P006286\">P006286</a>|<a href=\"https://cdli.ucla.edu/search/search_results.php?SearchMode=Text&ObjectID=P006286\" title=\"to CDLI main page for this tablet\" sec=\"P006286\"><span  class=\"hl\" >6.b2. 1(N14) , SZITA~a1 UDU~a#? </span></a> *166131* |<span  class=\"hl hlup\" >SZITA~a1</span> *91977* \n",
       "7| <a href=\"https://cdli.ucla.edu/search/search_results.php?SearchMode=Text&ObjectID=P005151\" title=\"to CDLI main page for this tablet\" sec=\"P005151\">P005151</a>|<a href=\"https://cdli.ucla.edu/search/search_results.php?SearchMode=Text&ObjectID=P005151\" title=\"to CDLI main page for this tablet\" sec=\"P005151\"><span  class=\"hl\" >3.b1. 5(N01) , U4 E2~a SZITA~a1 NUN~a GU7 </span></a> *166744* |<span  class=\"hl hlup\" >SZITA~a1</span> *97957* \n",
       "8| <a href=\"https://cdli.ucla.edu/search/search_results.php?SearchMode=Text&ObjectID=P005213\" title=\"to CDLI main page for this tablet\" sec=\"P005213\">P005213</a>|<a href=\"https://cdli.ucla.edu/search/search_results.php?SearchMode=Text&ObjectID=P005213\" title=\"to CDLI main page for this tablet\" sec=\"P005213\"><span  class=\"hl\" >9.b2. 1(N01) , SZITA~a1 </span></a> *167107* |<span  class=\"hl hlup\" >SZITA~a1</span> *100938* \n",
       "9| <a href=\"https://cdli.ucla.edu/search/search_results.php?SearchMode=Text&ObjectID=P005214\" title=\"to CDLI main page for this tablet\" sec=\"P005214\">P005214</a>|<a href=\"https://cdli.ucla.edu/search/search_results.php?SearchMode=Text&ObjectID=P005214\" title=\"to CDLI main page for this tablet\" sec=\"P005214\"><span  class=\"hl\" >1.c1. 2(N01) , SZITA~a1 </span></a> *167136* |<span  class=\"hl hlup\" >SZITA~a1</span> *101052* \n",
       "10| <a href=\"https://cdli.ucla.edu/search/search_results.php?SearchMode=Text&ObjectID=P005214\" title=\"to CDLI main page for this tablet\" sec=\"P005214\">P005214</a>|<a href=\"https://cdli.ucla.edu/search/search_results.php?SearchMode=Text&ObjectID=P005214\" title=\"to CDLI main page for this tablet\" sec=\"P005214\"><span  class=\"hl\" >2.c1. 2(N01) , SZITA~a1 </span></a> *167141* |<span  class=\"hl hlup\" >SZITA~a1</span> *101062* \n",
       "11| <a href=\"https://cdli.ucla.edu/search/search_results.php?SearchMode=Text&ObjectID=P003808\" title=\"to CDLI main page for this tablet\" sec=\"P003808\">P003808</a>|<a href=\"https://cdli.ucla.edu/search/search_results.php?SearchMode=Text&ObjectID=P003808\" title=\"to CDLI main page for this tablet\" sec=\"P003808\"><span  class=\"hl\" >case 2b1</span></a> *168686* |<span  class=\"hl hlup\" >SZITA~a1</span> *114965* \n",
       "12| <a href=\"https://cdli.ucla.edu/search/search_results.php?SearchMode=Text&ObjectID=P003808\" title=\"to CDLI main page for this tablet\" sec=\"P003808\">P003808</a>|<a href=\"https://cdli.ucla.edu/search/search_results.php?SearchMode=Text&ObjectID=P003808\" title=\"to CDLI main page for this tablet\" sec=\"P003808\"><span  class=\"hl\" >2.a4. 1(N01) , SAL UNUG~a SZITA~a1 AL#? </span></a> *168713* |<span  class=\"hl hlup\" >SZITA~a1</span> *115035* "
      ],
      "text/plain": [
       "<IPython.core.display.Markdown object>"
      ]
     },
     "metadata": {},
     "output_type": "display_data"
    }
   ],
   "source": [
    "query = \"\"\"\n",
    "case depth=2\n",
    "  sign grapheme=SZITA variant=a1\n",
    "\"\"\"\n",
    "results = A.search(query)\n",
    "A.table(results, withNodes=True, lineart=False)"
   ]
  },
  {
   "cell_type": "code",
   "execution_count": 15,
   "metadata": {},
   "outputs": [
    {
     "name": "stdout",
     "output_type": "stream",
     "text": [
      "  0.16s 1 result\n"
     ]
    },
    {
     "data": {
      "text/markdown": [
       "n | p | case | sign\n",
       "--- | --- | --- | ---\n",
       "1| <a href=\"https://cdli.ucla.edu/search/search_results.php?SearchMode=Text&ObjectID=P003808\" title=\"to CDLI main page for this tablet\" sec=\"P003808\">P003808</a>|<a href=\"https://cdli.ucla.edu/search/search_results.php?SearchMode=Text&ObjectID=P003808\" title=\"to CDLI main page for this tablet\" sec=\"P003808\"><span  class=\"hl\" >case 2b1B</span></a> *168688* |<span  class=\"hl hlup\" >SZITA~a1</span> *114965* "
      ],
      "text/plain": [
       "<IPython.core.display.Markdown object>"
      ]
     },
     "metadata": {},
     "output_type": "display_data"
    }
   ],
   "source": [
    "query = \"\"\"\n",
    "case depth=3\n",
    "  sign grapheme=SZITA variant=a1\n",
    "\"\"\"\n",
    "results = A.search(query)\n",
    "A.table(results, withNodes=True, lineart=False)"
   ]
  },
  {
   "cell_type": "code",
   "execution_count": 17,
   "metadata": {},
   "outputs": [
    {
     "name": "stdout",
     "output_type": "stream",
     "text": [
      "  0.17s 1 result\n"
     ]
    },
    {
     "data": {
      "text/markdown": [
       "n | p | case | sign\n",
       "--- | --- | --- | ---\n",
       "1| <a href=\"https://cdli.ucla.edu/search/search_results.php?SearchMode=Text&ObjectID=P003808\" title=\"to CDLI main page for this tablet\" sec=\"P003808\">P003808</a>|<a href=\"https://cdli.ucla.edu/search/search_results.php?SearchMode=Text&ObjectID=P003808\" title=\"to CDLI main page for this tablet\" sec=\"P003808\"><span  class=\"hl\" >2.b1B2. , SZITA~a1 ADAB UTUL~a </span></a> *168690* |<span  class=\"hl hlup\" >SZITA~a1</span> *114965* "
      ],
      "text/plain": [
       "<IPython.core.display.Markdown object>"
      ]
     },
     "metadata": {},
     "output_type": "display_data"
    }
   ],
   "source": [
    "query = \"\"\"\n",
    "case depth=4\n",
    "  sign grapheme=SZITA variant=a1\n",
    "\"\"\"\n",
    "results = A.search(query)\n",
    "A.table(results, withNodes=True, lineart=False)"
   ]
  },
  {
   "cell_type": "markdown",
   "metadata": {},
   "source": [
    "Note in particular that our query with depth=3 is actually picking up the same single item at depth=4 because we are not focusing here on terminal subdivisions like we did in primer 2. This is made particularly visible by leaving the Text-Fabric node labels in, so as soon as we see that the sign in question is at node 114965, we know that this is the same proto-cuneiform sign in all four of these queries.\n",
    "\n",
    "Now let's limit this query to the tablet that we are focusing on here, namely P005213 aka MSVO 1, 146."
   ]
  },
  {
   "cell_type": "code",
   "execution_count": 18,
   "metadata": {},
   "outputs": [
    {
     "name": "stdout",
     "output_type": "stream",
     "text": [
      "  0.17s 13 results\n"
     ]
    },
    {
     "data": {
      "text/markdown": [
       "n | p | tablet | case | sign\n",
       "--- | --- | --- | --- | ---\n",
       "1| <a href=\"https://cdli.ucla.edu/search/search_results.php?SearchMode=Text&ObjectID=P005213\" title=\"to CDLI main page for this tablet\" sec=\"P005213\">P005213</a>|<a href=\"https://cdli.ucla.edu/search/search_results.php?SearchMode=Text&ObjectID=P005213\" title=\"to CDLI main page for this tablet\" sec=\"P005213\">tablet P005213</a>|<span  class=\"hl\" >2.a. [...] 2(N01)# , SZITA~a1 </span>|<span  class=\"hl hlup\" >SZITA~a1</span>\n",
       "2| <a href=\"https://cdli.ucla.edu/search/search_results.php?SearchMode=Text&ObjectID=P005213\" title=\"to CDLI main page for this tablet\" sec=\"P005213\">P005213</a>|<a href=\"https://cdli.ucla.edu/search/search_results.php?SearchMode=Text&ObjectID=P005213\" title=\"to CDLI main page for this tablet\" sec=\"P005213\">tablet P005213</a>|<span  class=\"hl\" >3.b. 2(N01) , SZITA~a1 </span>|<span  class=\"hl hlup\" >SZITA~a1</span>\n",
       "3| <a href=\"https://cdli.ucla.edu/search/search_results.php?SearchMode=Text&ObjectID=P005213\" title=\"to CDLI main page for this tablet\" sec=\"P005213\">P005213</a>|<a href=\"https://cdli.ucla.edu/search/search_results.php?SearchMode=Text&ObjectID=P005213\" title=\"to CDLI main page for this tablet\" sec=\"P005213\">tablet P005213</a>|<span  class=\"hl\" >4.b. 1(N01) , SZITA~a1 </span>|<span  class=\"hl hlup\" >SZITA~a1</span>\n",
       "4| <a href=\"https://cdli.ucla.edu/search/search_results.php?SearchMode=Text&ObjectID=P005213\" title=\"to CDLI main page for this tablet\" sec=\"P005213\">P005213</a>|<a href=\"https://cdli.ucla.edu/search/search_results.php?SearchMode=Text&ObjectID=P005213\" title=\"to CDLI main page for this tablet\" sec=\"P005213\">tablet P005213</a>|<span  class=\"hl\" >6.b. 1(N01) , SZITA~a1 </span>|<span  class=\"hl hlup\" >SZITA~a1</span>\n",
       "5| <a href=\"https://cdli.ucla.edu/search/search_results.php?SearchMode=Text&ObjectID=P005213\" title=\"to CDLI main page for this tablet\" sec=\"P005213\">P005213</a>|<a href=\"https://cdli.ucla.edu/search/search_results.php?SearchMode=Text&ObjectID=P005213\" title=\"to CDLI main page for this tablet\" sec=\"P005213\">tablet P005213</a>|<span  class=\"hl\" >7.b. 1(N01) , SZITA~a1 </span>|<span  class=\"hl hlup\" >SZITA~a1</span>\n",
       "6| <a href=\"https://cdli.ucla.edu/search/search_results.php?SearchMode=Text&ObjectID=P005213\" title=\"to CDLI main page for this tablet\" sec=\"P005213\">P005213</a>|<a href=\"https://cdli.ucla.edu/search/search_results.php?SearchMode=Text&ObjectID=P005213\" title=\"to CDLI main page for this tablet\" sec=\"P005213\">tablet P005213</a>|<span  class=\"hl\" >8.b. 1(N01) , SZITA~a1 </span>|<span  class=\"hl hlup\" >SZITA~a1</span>\n",
       "7| <a href=\"https://cdli.ucla.edu/search/search_results.php?SearchMode=Text&ObjectID=P005213\" title=\"to CDLI main page for this tablet\" sec=\"P005213\">P005213</a>|<a href=\"https://cdli.ucla.edu/search/search_results.php?SearchMode=Text&ObjectID=P005213\" title=\"to CDLI main page for this tablet\" sec=\"P005213\">tablet P005213</a>|<span  class=\"hl\" >case 9b</span>|<span  class=\"hl hlup\" >SZITA~a1</span>\n",
       "8| <a href=\"https://cdli.ucla.edu/search/search_results.php?SearchMode=Text&ObjectID=P005213\" title=\"to CDLI main page for this tablet\" sec=\"P005213\">P005213</a>|<a href=\"https://cdli.ucla.edu/search/search_results.php?SearchMode=Text&ObjectID=P005213\" title=\"to CDLI main page for this tablet\" sec=\"P005213\">tablet P005213</a>|<span  class=\"hl\" >1.b. 1(N01) , SZITA~a1 </span>|<span  class=\"hl hlup\" >SZITA~a1</span>\n",
       "9| <a href=\"https://cdli.ucla.edu/search/search_results.php?SearchMode=Text&ObjectID=P005213\" title=\"to CDLI main page for this tablet\" sec=\"P005213\">P005213</a>|<a href=\"https://cdli.ucla.edu/search/search_results.php?SearchMode=Text&ObjectID=P005213\" title=\"to CDLI main page for this tablet\" sec=\"P005213\">tablet P005213</a>|<span  class=\"hl\" >2.b. 1(N01) , SZITA~a1 </span>|<span  class=\"hl hlup\" >SZITA~a1</span>\n",
       "10| <a href=\"https://cdli.ucla.edu/search/search_results.php?SearchMode=Text&ObjectID=P005213\" title=\"to CDLI main page for this tablet\" sec=\"P005213\">P005213</a>|<a href=\"https://cdli.ucla.edu/search/search_results.php?SearchMode=Text&ObjectID=P005213\" title=\"to CDLI main page for this tablet\" sec=\"P005213\">tablet P005213</a>|<span  class=\"hl\" >3.b. 1(N01) , SZITA~a1 </span>|<span  class=\"hl hlup\" >SZITA~a1</span>\n",
       "11| <a href=\"https://cdli.ucla.edu/search/search_results.php?SearchMode=Text&ObjectID=P005213\" title=\"to CDLI main page for this tablet\" sec=\"P005213\">P005213</a>|<a href=\"https://cdli.ucla.edu/search/search_results.php?SearchMode=Text&ObjectID=P005213\" title=\"to CDLI main page for this tablet\" sec=\"P005213\">tablet P005213</a>|<span  class=\"hl\" >4.b. 1(N01) , SZITA~a1 </span>|<span  class=\"hl hlup\" >SZITA~a1</span>\n",
       "12| <a href=\"https://cdli.ucla.edu/search/search_results.php?SearchMode=Text&ObjectID=P005213\" title=\"to CDLI main page for this tablet\" sec=\"P005213\">P005213</a>|<a href=\"https://cdli.ucla.edu/search/search_results.php?SearchMode=Text&ObjectID=P005213\" title=\"to CDLI main page for this tablet\" sec=\"P005213\">tablet P005213</a>|<span  class=\"hl\" >5.b. 1(N01) , SZITA~a1 </span>|<span  class=\"hl hlup\" >SZITA~a1</span>\n",
       "13| <a href=\"https://cdli.ucla.edu/search/search_results.php?SearchMode=Text&ObjectID=P005213\" title=\"to CDLI main page for this tablet\" sec=\"P005213\">P005213</a>|<a href=\"https://cdli.ucla.edu/search/search_results.php?SearchMode=Text&ObjectID=P005213\" title=\"to CDLI main page for this tablet\" sec=\"P005213\">tablet P005213</a>|<span  class=\"hl\" >6.b. 1(N01) , SZITA~a1 </span>|<span  class=\"hl hlup\" >SZITA~a1</span>"
      ],
      "text/plain": [
       "<IPython.core.display.Markdown object>"
      ]
     },
     "metadata": {},
     "output_type": "display_data"
    }
   ],
   "source": [
    "query = f\"\"\"\n",
    "tablet catalogId={pNum}\n",
    " case depth=1\n",
    "   sign grapheme=SZITA variant=a1\n",
    "\"\"\"\n",
    "results = A.search(query)\n",
    "A.table(results, withNodes=False, lineart=False)"
   ]
  },
  {
   "cell_type": "markdown",
   "metadata": {},
   "source": [
    "There are thirteen occurrences of SZITA~a1 in P005213, which means that one-sixth (13/78) of all occurrences of SZITA~a1 in the entire corpus occur in this one tablet.\n",
    "\n",
    "The other orthography that plays a central role in P005213 is ZATU659x1(N01), which regularly occurs in the other half of the subdivided lines that include SZITA~a1 in the other case in the line."
   ]
  },
  {
   "cell_type": "code",
   "execution_count": 19,
   "metadata": {},
   "outputs": [
    {
     "name": "stdout",
     "output_type": "stream",
     "text": [
      "  0.32s 7 results\n"
     ]
    },
    {
     "data": {
      "text/markdown": [
       "n | p | tablet | case | quad | sign | sign\n",
       "--- | --- | --- | --- | --- | --- | ---\n",
       "1| <a href=\"https://cdli.ucla.edu/search/search_results.php?SearchMode=Text&ObjectID=P005213\" title=\"to CDLI main page for this tablet\" sec=\"P005213\">P005213</a>|<a href=\"https://cdli.ucla.edu/search/search_results.php?SearchMode=Text&ObjectID=P005213\" title=\"to CDLI main page for this tablet\" sec=\"P005213\">tablet P005213</a>|<span  class=\"hl\" >4.a. &#124;ZATU659x1(N01)&#124;# , SAG# [...] </span>|<span  class=\"hl hlup\" >&#124;ZATU659x1(N01)&#124;</span>|<span  class=\"hl hlup\" >ZATU659</span>|<span  class=\"hl hlup\" >1(N01)</span>\n",
       "2| <a href=\"https://cdli.ucla.edu/search/search_results.php?SearchMode=Text&ObjectID=P005213\" title=\"to CDLI main page for this tablet\" sec=\"P005213\">P005213</a>|<a href=\"https://cdli.ucla.edu/search/search_results.php?SearchMode=Text&ObjectID=P005213\" title=\"to CDLI main page for this tablet\" sec=\"P005213\">tablet P005213</a>|<span  class=\"hl\" >5.a. &#124;ZATU659x1(N01)&#124;# , SIG7# SAL#? X </span>|<span  class=\"hl hlup\" >&#124;ZATU659x1(N01)&#124;</span>|<span  class=\"hl hlup\" >ZATU659</span>|<span  class=\"hl hlup\" >1(N01)</span>\n",
       "3| <a href=\"https://cdli.ucla.edu/search/search_results.php?SearchMode=Text&ObjectID=P005213\" title=\"to CDLI main page for this tablet\" sec=\"P005213\">P005213</a>|<a href=\"https://cdli.ucla.edu/search/search_results.php?SearchMode=Text&ObjectID=P005213\" title=\"to CDLI main page for this tablet\" sec=\"P005213\">tablet P005213</a>|<span  class=\"hl\" >6.a. &#124;ZATU659x1(N01)&#124; , TU~b HI SZA3~a2 </span>|<span  class=\"hl hlup\" >&#124;ZATU659x1(N01)&#124;</span>|<span  class=\"hl hlup\" >ZATU659</span>|<span  class=\"hl hlup\" >1(N01)</span>\n",
       "4| <a href=\"https://cdli.ucla.edu/search/search_results.php?SearchMode=Text&ObjectID=P005213\" title=\"to CDLI main page for this tablet\" sec=\"P005213\">P005213</a>|<a href=\"https://cdli.ucla.edu/search/search_results.php?SearchMode=Text&ObjectID=P005213\" title=\"to CDLI main page for this tablet\" sec=\"P005213\">tablet P005213</a>|<span  class=\"hl\" >7.a. &#124;ZATU659x1(N01)&#124; , AMA~a AGAR2 </span>|<span  class=\"hl hlup\" >&#124;ZATU659x1(N01)&#124;</span>|<span  class=\"hl hlup\" >ZATU659</span>|<span  class=\"hl hlup\" >1(N01)</span>\n",
       "5| <a href=\"https://cdli.ucla.edu/search/search_results.php?SearchMode=Text&ObjectID=P005213\" title=\"to CDLI main page for this tablet\" sec=\"P005213\">P005213</a>|<a href=\"https://cdli.ucla.edu/search/search_results.php?SearchMode=Text&ObjectID=P005213\" title=\"to CDLI main page for this tablet\" sec=\"P005213\">tablet P005213</a>|<span  class=\"hl\" >8.a. &#124;ZATU659x1(N01)&#124; , AN NIM~b3 </span>|<span  class=\"hl hlup\" >&#124;ZATU659x1(N01)&#124;</span>|<span  class=\"hl hlup\" >ZATU659</span>|<span  class=\"hl hlup\" >1(N01)</span>\n",
       "6| <a href=\"https://cdli.ucla.edu/search/search_results.php?SearchMode=Text&ObjectID=P005213\" title=\"to CDLI main page for this tablet\" sec=\"P005213\">P005213</a>|<a href=\"https://cdli.ucla.edu/search/search_results.php?SearchMode=Text&ObjectID=P005213\" title=\"to CDLI main page for this tablet\" sec=\"P005213\">tablet P005213</a>|<span  class=\"hl\" >3.a. &#124;ZATU659x1(N01)&#124;# , SANGA~a# &#124;NI~a.RU&#124;# </span>|<span  class=\"hl hlup\" >&#124;ZATU659x1(N01)&#124;</span>|<span  class=\"hl hlup\" >ZATU659</span>|<span  class=\"hl hlup\" >1(N01)</span>\n",
       "7| <a href=\"https://cdli.ucla.edu/search/search_results.php?SearchMode=Text&ObjectID=P005213\" title=\"to CDLI main page for this tablet\" sec=\"P005213\">P005213</a>|<a href=\"https://cdli.ucla.edu/search/search_results.php?SearchMode=Text&ObjectID=P005213\" title=\"to CDLI main page for this tablet\" sec=\"P005213\">tablet P005213</a>|<span  class=\"hl\" >2.a. &#124;ZATU659x1(N01)&#124;#? , &#124;KU6~a+KU6~a&#124; MU </span>|<span  class=\"hl hlup\" >&#124;ZATU659x1(N01)&#124;</span>|<span  class=\"hl hlup\" >ZATU659</span>|<span  class=\"hl hlup\" >1(N01)</span>"
      ],
      "text/plain": [
       "<IPython.core.display.Markdown object>"
      ]
     },
     "metadata": {},
     "output_type": "display_data"
    }
   ],
   "source": [
    "query = f\"\"\"\n",
    "tablet catalogId={pNum}\n",
    "  case\n",
    "    quad\n",
    "      =: sign grapheme=ZATU659\n",
    "      <: sign grapheme=N01 repeat=1\n",
    "\"\"\"\n",
    "results = A.search(query)\n",
    "A.table(results, withNodes=False, lineart=False)"
   ]
  },
  {
   "cell_type": "markdown",
   "metadata": {},
   "source": [
    "Up to this point, our queries have consisted of \"atom\" lines, which identify a particular node in the corpus. The preceding query, however, also includes \"relation\" lines, namely the two lines that begin with \"=:\" and \"<:\". The first of these, =:, means \"=: left and right start at the same slot\", while <: means \"<: :>: adjacent before and after (with respect to the slots occupied: left ends immediately before right starts and vice versa)\"."
   ]
  },
  {
   "cell_type": "code",
   "execution_count": 20,
   "metadata": {},
   "outputs": [
    {
     "name": "stdout",
     "output_type": "stream",
     "text": [
      "  0.45s 95 results\n"
     ]
    },
    {
     "data": {
      "text/markdown": [
       "n | p | tablet | case | sign | case | quad | sign | sign\n",
       "--- | --- | --- | --- | --- | --- | --- | --- | ---\n",
       "1| <a href=\"https://cdli.ucla.edu/search/search_results.php?SearchMode=Text&ObjectID=P002399\" title=\"to CDLI main page for this tablet\" sec=\"P002399\">P002399</a>|<a href=\"https://cdli.ucla.edu/search/search_results.php?SearchMode=Text&ObjectID=P002399\" title=\"to CDLI main page for this tablet\" sec=\"P002399\">tablet P002399</a>|<span  class=\"hl\" >2.b. 3(N01) , SZITA~a1 [...] </span>|<span  class=\"hl hlup\" >SZITA~a1</span>|<span  class=\"hl\" >2.a. 1(N01)# 1(N08) , SUKKAL GADA~a &#124;ZATU659x1(N01)&#124; </span>|<span  class=\"hl hlup\" >&#124;ZATU659x1(N01)&#124;</span>|<span  class=\"hl hlup\" >ZATU659</span>|<span  class=\"hl hlup\" >1(N01)</span>\n",
       "2| <a href=\"https://cdli.ucla.edu/search/search_results.php?SearchMode=Text&ObjectID=P002399\" title=\"to CDLI main page for this tablet\" sec=\"P002399\">P002399</a>|<a href=\"https://cdli.ucla.edu/search/search_results.php?SearchMode=Text&ObjectID=P002399\" title=\"to CDLI main page for this tablet\" sec=\"P002399\">tablet P002399</a>|<span  class=\"hl\" >2.b. 3(N01) , SZITA~a1 [...] </span>|<span  class=\"hl hlup\" >SZITA~a1</span>|<span  class=\"hl\" >3.a. 1(N01) , &#124;ZATU659x1(N01)&#124; NA2~a GAL~a </span>|<span  class=\"hl hlup\" >&#124;ZATU659x1(N01)&#124;</span>|<span  class=\"hl hlup\" >ZATU659</span>|<span  class=\"hl hlup\" >1(N01)</span>\n",
       "3| <a href=\"https://cdli.ucla.edu/search/search_results.php?SearchMode=Text&ObjectID=P005213\" title=\"to CDLI main page for this tablet\" sec=\"P005213\">P005213</a>|<a href=\"https://cdli.ucla.edu/search/search_results.php?SearchMode=Text&ObjectID=P005213\" title=\"to CDLI main page for this tablet\" sec=\"P005213\">tablet P005213</a>|<span  class=\"hl\" >2.a. [...] 2(N01)# , SZITA~a1 </span>|<span  class=\"hl hlup\" >SZITA~a1</span>|<span  class=\"hl\" >4.a. &#124;ZATU659x1(N01)&#124;# , SAG# [...] </span>|<span  class=\"hl hlup\" >&#124;ZATU659x1(N01)&#124;</span>|<span  class=\"hl hlup\" >ZATU659</span>|<span  class=\"hl hlup\" >1(N01)</span>\n",
       "4| <a href=\"https://cdli.ucla.edu/search/search_results.php?SearchMode=Text&ObjectID=P005213\" title=\"to CDLI main page for this tablet\" sec=\"P005213\">P005213</a>|<a href=\"https://cdli.ucla.edu/search/search_results.php?SearchMode=Text&ObjectID=P005213\" title=\"to CDLI main page for this tablet\" sec=\"P005213\">tablet P005213</a>|<span  class=\"hl\" >2.a. [...] 2(N01)# , SZITA~a1 </span>|<span  class=\"hl hlup\" >SZITA~a1</span>|<span  class=\"hl\" >5.a. &#124;ZATU659x1(N01)&#124;# , SIG7# SAL#? X </span>|<span  class=\"hl hlup\" >&#124;ZATU659x1(N01)&#124;</span>|<span  class=\"hl hlup\" >ZATU659</span>|<span  class=\"hl hlup\" >1(N01)</span>\n",
       "5| <a href=\"https://cdli.ucla.edu/search/search_results.php?SearchMode=Text&ObjectID=P005213\" title=\"to CDLI main page for this tablet\" sec=\"P005213\">P005213</a>|<a href=\"https://cdli.ucla.edu/search/search_results.php?SearchMode=Text&ObjectID=P005213\" title=\"to CDLI main page for this tablet\" sec=\"P005213\">tablet P005213</a>|<span  class=\"hl\" >2.a. [...] 2(N01)# , SZITA~a1 </span>|<span  class=\"hl hlup\" >SZITA~a1</span>|<span  class=\"hl\" >6.a. &#124;ZATU659x1(N01)&#124; , TU~b HI SZA3~a2 </span>|<span  class=\"hl hlup\" >&#124;ZATU659x1(N01)&#124;</span>|<span  class=\"hl hlup\" >ZATU659</span>|<span  class=\"hl hlup\" >1(N01)</span>\n",
       "6| <a href=\"https://cdli.ucla.edu/search/search_results.php?SearchMode=Text&ObjectID=P005213\" title=\"to CDLI main page for this tablet\" sec=\"P005213\">P005213</a>|<a href=\"https://cdli.ucla.edu/search/search_results.php?SearchMode=Text&ObjectID=P005213\" title=\"to CDLI main page for this tablet\" sec=\"P005213\">tablet P005213</a>|<span  class=\"hl\" >2.a. [...] 2(N01)# , SZITA~a1 </span>|<span  class=\"hl hlup\" >SZITA~a1</span>|<span  class=\"hl\" >7.a. &#124;ZATU659x1(N01)&#124; , AMA~a AGAR2 </span>|<span  class=\"hl hlup\" >&#124;ZATU659x1(N01)&#124;</span>|<span  class=\"hl hlup\" >ZATU659</span>|<span  class=\"hl hlup\" >1(N01)</span>\n",
       "7| <a href=\"https://cdli.ucla.edu/search/search_results.php?SearchMode=Text&ObjectID=P005213\" title=\"to CDLI main page for this tablet\" sec=\"P005213\">P005213</a>|<a href=\"https://cdli.ucla.edu/search/search_results.php?SearchMode=Text&ObjectID=P005213\" title=\"to CDLI main page for this tablet\" sec=\"P005213\">tablet P005213</a>|<span  class=\"hl\" >2.a. [...] 2(N01)# , SZITA~a1 </span>|<span  class=\"hl hlup\" >SZITA~a1</span>|<span  class=\"hl\" >8.a. &#124;ZATU659x1(N01)&#124; , AN NIM~b3 </span>|<span  class=\"hl hlup\" >&#124;ZATU659x1(N01)&#124;</span>|<span  class=\"hl hlup\" >ZATU659</span>|<span  class=\"hl hlup\" >1(N01)</span>\n",
       "8| <a href=\"https://cdli.ucla.edu/search/search_results.php?SearchMode=Text&ObjectID=P005213\" title=\"to CDLI main page for this tablet\" sec=\"P005213\">P005213</a>|<a href=\"https://cdli.ucla.edu/search/search_results.php?SearchMode=Text&ObjectID=P005213\" title=\"to CDLI main page for this tablet\" sec=\"P005213\">tablet P005213</a>|<span  class=\"hl\" >2.a. [...] 2(N01)# , SZITA~a1 </span>|<span  class=\"hl hlup\" >SZITA~a1</span>|<span  class=\"hl\" >3.a. &#124;ZATU659x1(N01)&#124;# , SANGA~a# &#124;NI~a.RU&#124;# </span>|<span  class=\"hl hlup\" >&#124;ZATU659x1(N01)&#124;</span>|<span  class=\"hl hlup\" >ZATU659</span>|<span  class=\"hl hlup\" >1(N01)</span>\n",
       "9| <a href=\"https://cdli.ucla.edu/search/search_results.php?SearchMode=Text&ObjectID=P005213\" title=\"to CDLI main page for this tablet\" sec=\"P005213\">P005213</a>|<a href=\"https://cdli.ucla.edu/search/search_results.php?SearchMode=Text&ObjectID=P005213\" title=\"to CDLI main page for this tablet\" sec=\"P005213\">tablet P005213</a>|<span  class=\"hl\" >2.a. [...] 2(N01)# , SZITA~a1 </span>|<span  class=\"hl hlup\" >SZITA~a1</span>|<span  class=\"hl\" >2.a. &#124;ZATU659x1(N01)&#124;#? , &#124;KU6~a+KU6~a&#124; MU </span>|<span  class=\"hl hlup\" >&#124;ZATU659x1(N01)&#124;</span>|<span  class=\"hl hlup\" >ZATU659</span>|<span  class=\"hl hlup\" >1(N01)</span>\n",
       "10| <a href=\"https://cdli.ucla.edu/search/search_results.php?SearchMode=Text&ObjectID=P005213\" title=\"to CDLI main page for this tablet\" sec=\"P005213\">P005213</a>|<a href=\"https://cdli.ucla.edu/search/search_results.php?SearchMode=Text&ObjectID=P005213\" title=\"to CDLI main page for this tablet\" sec=\"P005213\">tablet P005213</a>|<span  class=\"hl\" >3.b. 2(N01) , SZITA~a1 </span>|<span  class=\"hl hlup\" >SZITA~a1</span>|<span  class=\"hl\" >4.a. &#124;ZATU659x1(N01)&#124;# , SAG# [...] </span>|<span  class=\"hl hlup\" >&#124;ZATU659x1(N01)&#124;</span>|<span  class=\"hl hlup\" >ZATU659</span>|<span  class=\"hl hlup\" >1(N01)</span>\n",
       "11| <a href=\"https://cdli.ucla.edu/search/search_results.php?SearchMode=Text&ObjectID=P005213\" title=\"to CDLI main page for this tablet\" sec=\"P005213\">P005213</a>|<a href=\"https://cdli.ucla.edu/search/search_results.php?SearchMode=Text&ObjectID=P005213\" title=\"to CDLI main page for this tablet\" sec=\"P005213\">tablet P005213</a>|<span  class=\"hl\" >3.b. 2(N01) , SZITA~a1 </span>|<span  class=\"hl hlup\" >SZITA~a1</span>|<span  class=\"hl\" >5.a. &#124;ZATU659x1(N01)&#124;# , SIG7# SAL#? X </span>|<span  class=\"hl hlup\" >&#124;ZATU659x1(N01)&#124;</span>|<span  class=\"hl hlup\" >ZATU659</span>|<span  class=\"hl hlup\" >1(N01)</span>\n",
       "12| <a href=\"https://cdli.ucla.edu/search/search_results.php?SearchMode=Text&ObjectID=P005213\" title=\"to CDLI main page for this tablet\" sec=\"P005213\">P005213</a>|<a href=\"https://cdli.ucla.edu/search/search_results.php?SearchMode=Text&ObjectID=P005213\" title=\"to CDLI main page for this tablet\" sec=\"P005213\">tablet P005213</a>|<span  class=\"hl\" >3.b. 2(N01) , SZITA~a1 </span>|<span  class=\"hl hlup\" >SZITA~a1</span>|<span  class=\"hl\" >6.a. &#124;ZATU659x1(N01)&#124; , TU~b HI SZA3~a2 </span>|<span  class=\"hl hlup\" >&#124;ZATU659x1(N01)&#124;</span>|<span  class=\"hl hlup\" >ZATU659</span>|<span  class=\"hl hlup\" >1(N01)</span>\n",
       "13| <a href=\"https://cdli.ucla.edu/search/search_results.php?SearchMode=Text&ObjectID=P005213\" title=\"to CDLI main page for this tablet\" sec=\"P005213\">P005213</a>|<a href=\"https://cdli.ucla.edu/search/search_results.php?SearchMode=Text&ObjectID=P005213\" title=\"to CDLI main page for this tablet\" sec=\"P005213\">tablet P005213</a>|<span  class=\"hl\" >3.b. 2(N01) , SZITA~a1 </span>|<span  class=\"hl hlup\" >SZITA~a1</span>|<span  class=\"hl\" >7.a. &#124;ZATU659x1(N01)&#124; , AMA~a AGAR2 </span>|<span  class=\"hl hlup\" >&#124;ZATU659x1(N01)&#124;</span>|<span  class=\"hl hlup\" >ZATU659</span>|<span  class=\"hl hlup\" >1(N01)</span>\n",
       "14| <a href=\"https://cdli.ucla.edu/search/search_results.php?SearchMode=Text&ObjectID=P005213\" title=\"to CDLI main page for this tablet\" sec=\"P005213\">P005213</a>|<a href=\"https://cdli.ucla.edu/search/search_results.php?SearchMode=Text&ObjectID=P005213\" title=\"to CDLI main page for this tablet\" sec=\"P005213\">tablet P005213</a>|<span  class=\"hl\" >3.b. 2(N01) , SZITA~a1 </span>|<span  class=\"hl hlup\" >SZITA~a1</span>|<span  class=\"hl\" >8.a. &#124;ZATU659x1(N01)&#124; , AN NIM~b3 </span>|<span  class=\"hl hlup\" >&#124;ZATU659x1(N01)&#124;</span>|<span  class=\"hl hlup\" >ZATU659</span>|<span  class=\"hl hlup\" >1(N01)</span>\n",
       "15| <a href=\"https://cdli.ucla.edu/search/search_results.php?SearchMode=Text&ObjectID=P005213\" title=\"to CDLI main page for this tablet\" sec=\"P005213\">P005213</a>|<a href=\"https://cdli.ucla.edu/search/search_results.php?SearchMode=Text&ObjectID=P005213\" title=\"to CDLI main page for this tablet\" sec=\"P005213\">tablet P005213</a>|<span  class=\"hl\" >3.b. 2(N01) , SZITA~a1 </span>|<span  class=\"hl hlup\" >SZITA~a1</span>|<span  class=\"hl\" >3.a. &#124;ZATU659x1(N01)&#124;# , SANGA~a# &#124;NI~a.RU&#124;# </span>|<span  class=\"hl hlup\" >&#124;ZATU659x1(N01)&#124;</span>|<span  class=\"hl hlup\" >ZATU659</span>|<span  class=\"hl hlup\" >1(N01)</span>\n",
       "16| <a href=\"https://cdli.ucla.edu/search/search_results.php?SearchMode=Text&ObjectID=P005213\" title=\"to CDLI main page for this tablet\" sec=\"P005213\">P005213</a>|<a href=\"https://cdli.ucla.edu/search/search_results.php?SearchMode=Text&ObjectID=P005213\" title=\"to CDLI main page for this tablet\" sec=\"P005213\">tablet P005213</a>|<span  class=\"hl\" >3.b. 2(N01) , SZITA~a1 </span>|<span  class=\"hl hlup\" >SZITA~a1</span>|<span  class=\"hl\" >2.a. &#124;ZATU659x1(N01)&#124;#? , &#124;KU6~a+KU6~a&#124; MU </span>|<span  class=\"hl hlup\" >&#124;ZATU659x1(N01)&#124;</span>|<span  class=\"hl hlup\" >ZATU659</span>|<span  class=\"hl hlup\" >1(N01)</span>\n",
       "17| <a href=\"https://cdli.ucla.edu/search/search_results.php?SearchMode=Text&ObjectID=P005213\" title=\"to CDLI main page for this tablet\" sec=\"P005213\">P005213</a>|<a href=\"https://cdli.ucla.edu/search/search_results.php?SearchMode=Text&ObjectID=P005213\" title=\"to CDLI main page for this tablet\" sec=\"P005213\">tablet P005213</a>|<span  class=\"hl\" >4.b. 1(N01) , SZITA~a1 </span>|<span  class=\"hl hlup\" >SZITA~a1</span>|<span  class=\"hl\" >4.a. &#124;ZATU659x1(N01)&#124;# , SAG# [...] </span>|<span  class=\"hl hlup\" >&#124;ZATU659x1(N01)&#124;</span>|<span  class=\"hl hlup\" >ZATU659</span>|<span  class=\"hl hlup\" >1(N01)</span>\n",
       "18| <a href=\"https://cdli.ucla.edu/search/search_results.php?SearchMode=Text&ObjectID=P005213\" title=\"to CDLI main page for this tablet\" sec=\"P005213\">P005213</a>|<a href=\"https://cdli.ucla.edu/search/search_results.php?SearchMode=Text&ObjectID=P005213\" title=\"to CDLI main page for this tablet\" sec=\"P005213\">tablet P005213</a>|<span  class=\"hl\" >4.b. 1(N01) , SZITA~a1 </span>|<span  class=\"hl hlup\" >SZITA~a1</span>|<span  class=\"hl\" >5.a. &#124;ZATU659x1(N01)&#124;# , SIG7# SAL#? X </span>|<span  class=\"hl hlup\" >&#124;ZATU659x1(N01)&#124;</span>|<span  class=\"hl hlup\" >ZATU659</span>|<span  class=\"hl hlup\" >1(N01)</span>\n",
       "19| <a href=\"https://cdli.ucla.edu/search/search_results.php?SearchMode=Text&ObjectID=P005213\" title=\"to CDLI main page for this tablet\" sec=\"P005213\">P005213</a>|<a href=\"https://cdli.ucla.edu/search/search_results.php?SearchMode=Text&ObjectID=P005213\" title=\"to CDLI main page for this tablet\" sec=\"P005213\">tablet P005213</a>|<span  class=\"hl\" >4.b. 1(N01) , SZITA~a1 </span>|<span  class=\"hl hlup\" >SZITA~a1</span>|<span  class=\"hl\" >6.a. &#124;ZATU659x1(N01)&#124; , TU~b HI SZA3~a2 </span>|<span  class=\"hl hlup\" >&#124;ZATU659x1(N01)&#124;</span>|<span  class=\"hl hlup\" >ZATU659</span>|<span  class=\"hl hlup\" >1(N01)</span>\n",
       "20| <a href=\"https://cdli.ucla.edu/search/search_results.php?SearchMode=Text&ObjectID=P005213\" title=\"to CDLI main page for this tablet\" sec=\"P005213\">P005213</a>|<a href=\"https://cdli.ucla.edu/search/search_results.php?SearchMode=Text&ObjectID=P005213\" title=\"to CDLI main page for this tablet\" sec=\"P005213\">tablet P005213</a>|<span  class=\"hl\" >4.b. 1(N01) , SZITA~a1 </span>|<span  class=\"hl hlup\" >SZITA~a1</span>|<span  class=\"hl\" >7.a. &#124;ZATU659x1(N01)&#124; , AMA~a AGAR2 </span>|<span  class=\"hl hlup\" >&#124;ZATU659x1(N01)&#124;</span>|<span  class=\"hl hlup\" >ZATU659</span>|<span  class=\"hl hlup\" >1(N01)</span>\n",
       "21| <a href=\"https://cdli.ucla.edu/search/search_results.php?SearchMode=Text&ObjectID=P005213\" title=\"to CDLI main page for this tablet\" sec=\"P005213\">P005213</a>|<a href=\"https://cdli.ucla.edu/search/search_results.php?SearchMode=Text&ObjectID=P005213\" title=\"to CDLI main page for this tablet\" sec=\"P005213\">tablet P005213</a>|<span  class=\"hl\" >4.b. 1(N01) , SZITA~a1 </span>|<span  class=\"hl hlup\" >SZITA~a1</span>|<span  class=\"hl\" >8.a. &#124;ZATU659x1(N01)&#124; , AN NIM~b3 </span>|<span  class=\"hl hlup\" >&#124;ZATU659x1(N01)&#124;</span>|<span  class=\"hl hlup\" >ZATU659</span>|<span  class=\"hl hlup\" >1(N01)</span>\n",
       "22| <a href=\"https://cdli.ucla.edu/search/search_results.php?SearchMode=Text&ObjectID=P005213\" title=\"to CDLI main page for this tablet\" sec=\"P005213\">P005213</a>|<a href=\"https://cdli.ucla.edu/search/search_results.php?SearchMode=Text&ObjectID=P005213\" title=\"to CDLI main page for this tablet\" sec=\"P005213\">tablet P005213</a>|<span  class=\"hl\" >4.b. 1(N01) , SZITA~a1 </span>|<span  class=\"hl hlup\" >SZITA~a1</span>|<span  class=\"hl\" >3.a. &#124;ZATU659x1(N01)&#124;# , SANGA~a# &#124;NI~a.RU&#124;# </span>|<span  class=\"hl hlup\" >&#124;ZATU659x1(N01)&#124;</span>|<span  class=\"hl hlup\" >ZATU659</span>|<span  class=\"hl hlup\" >1(N01)</span>\n",
       "23| <a href=\"https://cdli.ucla.edu/search/search_results.php?SearchMode=Text&ObjectID=P005213\" title=\"to CDLI main page for this tablet\" sec=\"P005213\">P005213</a>|<a href=\"https://cdli.ucla.edu/search/search_results.php?SearchMode=Text&ObjectID=P005213\" title=\"to CDLI main page for this tablet\" sec=\"P005213\">tablet P005213</a>|<span  class=\"hl\" >4.b. 1(N01) , SZITA~a1 </span>|<span  class=\"hl hlup\" >SZITA~a1</span>|<span  class=\"hl\" >2.a. &#124;ZATU659x1(N01)&#124;#? , &#124;KU6~a+KU6~a&#124; MU </span>|<span  class=\"hl hlup\" >&#124;ZATU659x1(N01)&#124;</span>|<span  class=\"hl hlup\" >ZATU659</span>|<span  class=\"hl hlup\" >1(N01)</span>\n",
       "24| <a href=\"https://cdli.ucla.edu/search/search_results.php?SearchMode=Text&ObjectID=P005213\" title=\"to CDLI main page for this tablet\" sec=\"P005213\">P005213</a>|<a href=\"https://cdli.ucla.edu/search/search_results.php?SearchMode=Text&ObjectID=P005213\" title=\"to CDLI main page for this tablet\" sec=\"P005213\">tablet P005213</a>|<span  class=\"hl\" >6.b. 1(N01) , SZITA~a1 </span>|<span  class=\"hl hlup\" >SZITA~a1</span>|<span  class=\"hl\" >4.a. &#124;ZATU659x1(N01)&#124;# , SAG# [...] </span>|<span  class=\"hl hlup\" >&#124;ZATU659x1(N01)&#124;</span>|<span  class=\"hl hlup\" >ZATU659</span>|<span  class=\"hl hlup\" >1(N01)</span>\n",
       "25| <a href=\"https://cdli.ucla.edu/search/search_results.php?SearchMode=Text&ObjectID=P005213\" title=\"to CDLI main page for this tablet\" sec=\"P005213\">P005213</a>|<a href=\"https://cdli.ucla.edu/search/search_results.php?SearchMode=Text&ObjectID=P005213\" title=\"to CDLI main page for this tablet\" sec=\"P005213\">tablet P005213</a>|<span  class=\"hl\" >6.b. 1(N01) , SZITA~a1 </span>|<span  class=\"hl hlup\" >SZITA~a1</span>|<span  class=\"hl\" >5.a. &#124;ZATU659x1(N01)&#124;# , SIG7# SAL#? X </span>|<span  class=\"hl hlup\" >&#124;ZATU659x1(N01)&#124;</span>|<span  class=\"hl hlup\" >ZATU659</span>|<span  class=\"hl hlup\" >1(N01)</span>\n",
       "26| <a href=\"https://cdli.ucla.edu/search/search_results.php?SearchMode=Text&ObjectID=P005213\" title=\"to CDLI main page for this tablet\" sec=\"P005213\">P005213</a>|<a href=\"https://cdli.ucla.edu/search/search_results.php?SearchMode=Text&ObjectID=P005213\" title=\"to CDLI main page for this tablet\" sec=\"P005213\">tablet P005213</a>|<span  class=\"hl\" >6.b. 1(N01) , SZITA~a1 </span>|<span  class=\"hl hlup\" >SZITA~a1</span>|<span  class=\"hl\" >6.a. &#124;ZATU659x1(N01)&#124; , TU~b HI SZA3~a2 </span>|<span  class=\"hl hlup\" >&#124;ZATU659x1(N01)&#124;</span>|<span  class=\"hl hlup\" >ZATU659</span>|<span  class=\"hl hlup\" >1(N01)</span>\n",
       "27| <a href=\"https://cdli.ucla.edu/search/search_results.php?SearchMode=Text&ObjectID=P005213\" title=\"to CDLI main page for this tablet\" sec=\"P005213\">P005213</a>|<a href=\"https://cdli.ucla.edu/search/search_results.php?SearchMode=Text&ObjectID=P005213\" title=\"to CDLI main page for this tablet\" sec=\"P005213\">tablet P005213</a>|<span  class=\"hl\" >6.b. 1(N01) , SZITA~a1 </span>|<span  class=\"hl hlup\" >SZITA~a1</span>|<span  class=\"hl\" >7.a. &#124;ZATU659x1(N01)&#124; , AMA~a AGAR2 </span>|<span  class=\"hl hlup\" >&#124;ZATU659x1(N01)&#124;</span>|<span  class=\"hl hlup\" >ZATU659</span>|<span  class=\"hl hlup\" >1(N01)</span>\n",
       "28| <a href=\"https://cdli.ucla.edu/search/search_results.php?SearchMode=Text&ObjectID=P005213\" title=\"to CDLI main page for this tablet\" sec=\"P005213\">P005213</a>|<a href=\"https://cdli.ucla.edu/search/search_results.php?SearchMode=Text&ObjectID=P005213\" title=\"to CDLI main page for this tablet\" sec=\"P005213\">tablet P005213</a>|<span  class=\"hl\" >6.b. 1(N01) , SZITA~a1 </span>|<span  class=\"hl hlup\" >SZITA~a1</span>|<span  class=\"hl\" >8.a. &#124;ZATU659x1(N01)&#124; , AN NIM~b3 </span>|<span  class=\"hl hlup\" >&#124;ZATU659x1(N01)&#124;</span>|<span  class=\"hl hlup\" >ZATU659</span>|<span  class=\"hl hlup\" >1(N01)</span>\n",
       "29| <a href=\"https://cdli.ucla.edu/search/search_results.php?SearchMode=Text&ObjectID=P005213\" title=\"to CDLI main page for this tablet\" sec=\"P005213\">P005213</a>|<a href=\"https://cdli.ucla.edu/search/search_results.php?SearchMode=Text&ObjectID=P005213\" title=\"to CDLI main page for this tablet\" sec=\"P005213\">tablet P005213</a>|<span  class=\"hl\" >6.b. 1(N01) , SZITA~a1 </span>|<span  class=\"hl hlup\" >SZITA~a1</span>|<span  class=\"hl\" >3.a. &#124;ZATU659x1(N01)&#124;# , SANGA~a# &#124;NI~a.RU&#124;# </span>|<span  class=\"hl hlup\" >&#124;ZATU659x1(N01)&#124;</span>|<span  class=\"hl hlup\" >ZATU659</span>|<span  class=\"hl hlup\" >1(N01)</span>\n",
       "30| <a href=\"https://cdli.ucla.edu/search/search_results.php?SearchMode=Text&ObjectID=P005213\" title=\"to CDLI main page for this tablet\" sec=\"P005213\">P005213</a>|<a href=\"https://cdli.ucla.edu/search/search_results.php?SearchMode=Text&ObjectID=P005213\" title=\"to CDLI main page for this tablet\" sec=\"P005213\">tablet P005213</a>|<span  class=\"hl\" >6.b. 1(N01) , SZITA~a1 </span>|<span  class=\"hl hlup\" >SZITA~a1</span>|<span  class=\"hl\" >2.a. &#124;ZATU659x1(N01)&#124;#? , &#124;KU6~a+KU6~a&#124; MU </span>|<span  class=\"hl hlup\" >&#124;ZATU659x1(N01)&#124;</span>|<span  class=\"hl hlup\" >ZATU659</span>|<span  class=\"hl hlup\" >1(N01)</span>\n",
       "31| <a href=\"https://cdli.ucla.edu/search/search_results.php?SearchMode=Text&ObjectID=P005213\" title=\"to CDLI main page for this tablet\" sec=\"P005213\">P005213</a>|<a href=\"https://cdli.ucla.edu/search/search_results.php?SearchMode=Text&ObjectID=P005213\" title=\"to CDLI main page for this tablet\" sec=\"P005213\">tablet P005213</a>|<span  class=\"hl\" >7.b. 1(N01) , SZITA~a1 </span>|<span  class=\"hl hlup\" >SZITA~a1</span>|<span  class=\"hl\" >4.a. &#124;ZATU659x1(N01)&#124;# , SAG# [...] </span>|<span  class=\"hl hlup\" >&#124;ZATU659x1(N01)&#124;</span>|<span  class=\"hl hlup\" >ZATU659</span>|<span  class=\"hl hlup\" >1(N01)</span>\n",
       "32| <a href=\"https://cdli.ucla.edu/search/search_results.php?SearchMode=Text&ObjectID=P005213\" title=\"to CDLI main page for this tablet\" sec=\"P005213\">P005213</a>|<a href=\"https://cdli.ucla.edu/search/search_results.php?SearchMode=Text&ObjectID=P005213\" title=\"to CDLI main page for this tablet\" sec=\"P005213\">tablet P005213</a>|<span  class=\"hl\" >7.b. 1(N01) , SZITA~a1 </span>|<span  class=\"hl hlup\" >SZITA~a1</span>|<span  class=\"hl\" >5.a. &#124;ZATU659x1(N01)&#124;# , SIG7# SAL#? X </span>|<span  class=\"hl hlup\" >&#124;ZATU659x1(N01)&#124;</span>|<span  class=\"hl hlup\" >ZATU659</span>|<span  class=\"hl hlup\" >1(N01)</span>\n",
       "33| <a href=\"https://cdli.ucla.edu/search/search_results.php?SearchMode=Text&ObjectID=P005213\" title=\"to CDLI main page for this tablet\" sec=\"P005213\">P005213</a>|<a href=\"https://cdli.ucla.edu/search/search_results.php?SearchMode=Text&ObjectID=P005213\" title=\"to CDLI main page for this tablet\" sec=\"P005213\">tablet P005213</a>|<span  class=\"hl\" >7.b. 1(N01) , SZITA~a1 </span>|<span  class=\"hl hlup\" >SZITA~a1</span>|<span  class=\"hl\" >6.a. &#124;ZATU659x1(N01)&#124; , TU~b HI SZA3~a2 </span>|<span  class=\"hl hlup\" >&#124;ZATU659x1(N01)&#124;</span>|<span  class=\"hl hlup\" >ZATU659</span>|<span  class=\"hl hlup\" >1(N01)</span>\n",
       "34| <a href=\"https://cdli.ucla.edu/search/search_results.php?SearchMode=Text&ObjectID=P005213\" title=\"to CDLI main page for this tablet\" sec=\"P005213\">P005213</a>|<a href=\"https://cdli.ucla.edu/search/search_results.php?SearchMode=Text&ObjectID=P005213\" title=\"to CDLI main page for this tablet\" sec=\"P005213\">tablet P005213</a>|<span  class=\"hl\" >7.b. 1(N01) , SZITA~a1 </span>|<span  class=\"hl hlup\" >SZITA~a1</span>|<span  class=\"hl\" >7.a. &#124;ZATU659x1(N01)&#124; , AMA~a AGAR2 </span>|<span  class=\"hl hlup\" >&#124;ZATU659x1(N01)&#124;</span>|<span  class=\"hl hlup\" >ZATU659</span>|<span  class=\"hl hlup\" >1(N01)</span>\n",
       "35| <a href=\"https://cdli.ucla.edu/search/search_results.php?SearchMode=Text&ObjectID=P005213\" title=\"to CDLI main page for this tablet\" sec=\"P005213\">P005213</a>|<a href=\"https://cdli.ucla.edu/search/search_results.php?SearchMode=Text&ObjectID=P005213\" title=\"to CDLI main page for this tablet\" sec=\"P005213\">tablet P005213</a>|<span  class=\"hl\" >7.b. 1(N01) , SZITA~a1 </span>|<span  class=\"hl hlup\" >SZITA~a1</span>|<span  class=\"hl\" >8.a. &#124;ZATU659x1(N01)&#124; , AN NIM~b3 </span>|<span  class=\"hl hlup\" >&#124;ZATU659x1(N01)&#124;</span>|<span  class=\"hl hlup\" >ZATU659</span>|<span  class=\"hl hlup\" >1(N01)</span>\n",
       "36| <a href=\"https://cdli.ucla.edu/search/search_results.php?SearchMode=Text&ObjectID=P005213\" title=\"to CDLI main page for this tablet\" sec=\"P005213\">P005213</a>|<a href=\"https://cdli.ucla.edu/search/search_results.php?SearchMode=Text&ObjectID=P005213\" title=\"to CDLI main page for this tablet\" sec=\"P005213\">tablet P005213</a>|<span  class=\"hl\" >7.b. 1(N01) , SZITA~a1 </span>|<span  class=\"hl hlup\" >SZITA~a1</span>|<span  class=\"hl\" >3.a. &#124;ZATU659x1(N01)&#124;# , SANGA~a# &#124;NI~a.RU&#124;# </span>|<span  class=\"hl hlup\" >&#124;ZATU659x1(N01)&#124;</span>|<span  class=\"hl hlup\" >ZATU659</span>|<span  class=\"hl hlup\" >1(N01)</span>\n",
       "37| <a href=\"https://cdli.ucla.edu/search/search_results.php?SearchMode=Text&ObjectID=P005213\" title=\"to CDLI main page for this tablet\" sec=\"P005213\">P005213</a>|<a href=\"https://cdli.ucla.edu/search/search_results.php?SearchMode=Text&ObjectID=P005213\" title=\"to CDLI main page for this tablet\" sec=\"P005213\">tablet P005213</a>|<span  class=\"hl\" >7.b. 1(N01) , SZITA~a1 </span>|<span  class=\"hl hlup\" >SZITA~a1</span>|<span  class=\"hl\" >2.a. &#124;ZATU659x1(N01)&#124;#? , &#124;KU6~a+KU6~a&#124; MU </span>|<span  class=\"hl hlup\" >&#124;ZATU659x1(N01)&#124;</span>|<span  class=\"hl hlup\" >ZATU659</span>|<span  class=\"hl hlup\" >1(N01)</span>\n",
       "38| <a href=\"https://cdli.ucla.edu/search/search_results.php?SearchMode=Text&ObjectID=P005213\" title=\"to CDLI main page for this tablet\" sec=\"P005213\">P005213</a>|<a href=\"https://cdli.ucla.edu/search/search_results.php?SearchMode=Text&ObjectID=P005213\" title=\"to CDLI main page for this tablet\" sec=\"P005213\">tablet P005213</a>|<span  class=\"hl\" >8.b. 1(N01) , SZITA~a1 </span>|<span  class=\"hl hlup\" >SZITA~a1</span>|<span  class=\"hl\" >4.a. &#124;ZATU659x1(N01)&#124;# , SAG# [...] </span>|<span  class=\"hl hlup\" >&#124;ZATU659x1(N01)&#124;</span>|<span  class=\"hl hlup\" >ZATU659</span>|<span  class=\"hl hlup\" >1(N01)</span>\n",
       "39| <a href=\"https://cdli.ucla.edu/search/search_results.php?SearchMode=Text&ObjectID=P005213\" title=\"to CDLI main page for this tablet\" sec=\"P005213\">P005213</a>|<a href=\"https://cdli.ucla.edu/search/search_results.php?SearchMode=Text&ObjectID=P005213\" title=\"to CDLI main page for this tablet\" sec=\"P005213\">tablet P005213</a>|<span  class=\"hl\" >8.b. 1(N01) , SZITA~a1 </span>|<span  class=\"hl hlup\" >SZITA~a1</span>|<span  class=\"hl\" >5.a. &#124;ZATU659x1(N01)&#124;# , SIG7# SAL#? X </span>|<span  class=\"hl hlup\" >&#124;ZATU659x1(N01)&#124;</span>|<span  class=\"hl hlup\" >ZATU659</span>|<span  class=\"hl hlup\" >1(N01)</span>\n",
       "40| <a href=\"https://cdli.ucla.edu/search/search_results.php?SearchMode=Text&ObjectID=P005213\" title=\"to CDLI main page for this tablet\" sec=\"P005213\">P005213</a>|<a href=\"https://cdli.ucla.edu/search/search_results.php?SearchMode=Text&ObjectID=P005213\" title=\"to CDLI main page for this tablet\" sec=\"P005213\">tablet P005213</a>|<span  class=\"hl\" >8.b. 1(N01) , SZITA~a1 </span>|<span  class=\"hl hlup\" >SZITA~a1</span>|<span  class=\"hl\" >6.a. &#124;ZATU659x1(N01)&#124; , TU~b HI SZA3~a2 </span>|<span  class=\"hl hlup\" >&#124;ZATU659x1(N01)&#124;</span>|<span  class=\"hl hlup\" >ZATU659</span>|<span  class=\"hl hlup\" >1(N01)</span>\n",
       "41| <a href=\"https://cdli.ucla.edu/search/search_results.php?SearchMode=Text&ObjectID=P005213\" title=\"to CDLI main page for this tablet\" sec=\"P005213\">P005213</a>|<a href=\"https://cdli.ucla.edu/search/search_results.php?SearchMode=Text&ObjectID=P005213\" title=\"to CDLI main page for this tablet\" sec=\"P005213\">tablet P005213</a>|<span  class=\"hl\" >8.b. 1(N01) , SZITA~a1 </span>|<span  class=\"hl hlup\" >SZITA~a1</span>|<span  class=\"hl\" >7.a. &#124;ZATU659x1(N01)&#124; , AMA~a AGAR2 </span>|<span  class=\"hl hlup\" >&#124;ZATU659x1(N01)&#124;</span>|<span  class=\"hl hlup\" >ZATU659</span>|<span  class=\"hl hlup\" >1(N01)</span>\n",
       "42| <a href=\"https://cdli.ucla.edu/search/search_results.php?SearchMode=Text&ObjectID=P005213\" title=\"to CDLI main page for this tablet\" sec=\"P005213\">P005213</a>|<a href=\"https://cdli.ucla.edu/search/search_results.php?SearchMode=Text&ObjectID=P005213\" title=\"to CDLI main page for this tablet\" sec=\"P005213\">tablet P005213</a>|<span  class=\"hl\" >8.b. 1(N01) , SZITA~a1 </span>|<span  class=\"hl hlup\" >SZITA~a1</span>|<span  class=\"hl\" >8.a. &#124;ZATU659x1(N01)&#124; , AN NIM~b3 </span>|<span  class=\"hl hlup\" >&#124;ZATU659x1(N01)&#124;</span>|<span  class=\"hl hlup\" >ZATU659</span>|<span  class=\"hl hlup\" >1(N01)</span>\n",
       "43| <a href=\"https://cdli.ucla.edu/search/search_results.php?SearchMode=Text&ObjectID=P005213\" title=\"to CDLI main page for this tablet\" sec=\"P005213\">P005213</a>|<a href=\"https://cdli.ucla.edu/search/search_results.php?SearchMode=Text&ObjectID=P005213\" title=\"to CDLI main page for this tablet\" sec=\"P005213\">tablet P005213</a>|<span  class=\"hl\" >8.b. 1(N01) , SZITA~a1 </span>|<span  class=\"hl hlup\" >SZITA~a1</span>|<span  class=\"hl\" >3.a. &#124;ZATU659x1(N01)&#124;# , SANGA~a# &#124;NI~a.RU&#124;# </span>|<span  class=\"hl hlup\" >&#124;ZATU659x1(N01)&#124;</span>|<span  class=\"hl hlup\" >ZATU659</span>|<span  class=\"hl hlup\" >1(N01)</span>\n",
       "44| <a href=\"https://cdli.ucla.edu/search/search_results.php?SearchMode=Text&ObjectID=P005213\" title=\"to CDLI main page for this tablet\" sec=\"P005213\">P005213</a>|<a href=\"https://cdli.ucla.edu/search/search_results.php?SearchMode=Text&ObjectID=P005213\" title=\"to CDLI main page for this tablet\" sec=\"P005213\">tablet P005213</a>|<span  class=\"hl\" >8.b. 1(N01) , SZITA~a1 </span>|<span  class=\"hl hlup\" >SZITA~a1</span>|<span  class=\"hl\" >2.a. &#124;ZATU659x1(N01)&#124;#? , &#124;KU6~a+KU6~a&#124; MU </span>|<span  class=\"hl hlup\" >&#124;ZATU659x1(N01)&#124;</span>|<span  class=\"hl hlup\" >ZATU659</span>|<span  class=\"hl hlup\" >1(N01)</span>\n",
       "45| <a href=\"https://cdli.ucla.edu/search/search_results.php?SearchMode=Text&ObjectID=P005213\" title=\"to CDLI main page for this tablet\" sec=\"P005213\">P005213</a>|<a href=\"https://cdli.ucla.edu/search/search_results.php?SearchMode=Text&ObjectID=P005213\" title=\"to CDLI main page for this tablet\" sec=\"P005213\">tablet P005213</a>|<span  class=\"hl\" >1.b. 1(N01) , SZITA~a1 </span>|<span  class=\"hl hlup\" >SZITA~a1</span>|<span  class=\"hl\" >4.a. &#124;ZATU659x1(N01)&#124;# , SAG# [...] </span>|<span  class=\"hl hlup\" >&#124;ZATU659x1(N01)&#124;</span>|<span  class=\"hl hlup\" >ZATU659</span>|<span  class=\"hl hlup\" >1(N01)</span>\n",
       "46| <a href=\"https://cdli.ucla.edu/search/search_results.php?SearchMode=Text&ObjectID=P005213\" title=\"to CDLI main page for this tablet\" sec=\"P005213\">P005213</a>|<a href=\"https://cdli.ucla.edu/search/search_results.php?SearchMode=Text&ObjectID=P005213\" title=\"to CDLI main page for this tablet\" sec=\"P005213\">tablet P005213</a>|<span  class=\"hl\" >1.b. 1(N01) , SZITA~a1 </span>|<span  class=\"hl hlup\" >SZITA~a1</span>|<span  class=\"hl\" >5.a. &#124;ZATU659x1(N01)&#124;# , SIG7# SAL#? X </span>|<span  class=\"hl hlup\" >&#124;ZATU659x1(N01)&#124;</span>|<span  class=\"hl hlup\" >ZATU659</span>|<span  class=\"hl hlup\" >1(N01)</span>\n",
       "47| <a href=\"https://cdli.ucla.edu/search/search_results.php?SearchMode=Text&ObjectID=P005213\" title=\"to CDLI main page for this tablet\" sec=\"P005213\">P005213</a>|<a href=\"https://cdli.ucla.edu/search/search_results.php?SearchMode=Text&ObjectID=P005213\" title=\"to CDLI main page for this tablet\" sec=\"P005213\">tablet P005213</a>|<span  class=\"hl\" >1.b. 1(N01) , SZITA~a1 </span>|<span  class=\"hl hlup\" >SZITA~a1</span>|<span  class=\"hl\" >6.a. &#124;ZATU659x1(N01)&#124; , TU~b HI SZA3~a2 </span>|<span  class=\"hl hlup\" >&#124;ZATU659x1(N01)&#124;</span>|<span  class=\"hl hlup\" >ZATU659</span>|<span  class=\"hl hlup\" >1(N01)</span>\n",
       "48| <a href=\"https://cdli.ucla.edu/search/search_results.php?SearchMode=Text&ObjectID=P005213\" title=\"to CDLI main page for this tablet\" sec=\"P005213\">P005213</a>|<a href=\"https://cdli.ucla.edu/search/search_results.php?SearchMode=Text&ObjectID=P005213\" title=\"to CDLI main page for this tablet\" sec=\"P005213\">tablet P005213</a>|<span  class=\"hl\" >1.b. 1(N01) , SZITA~a1 </span>|<span  class=\"hl hlup\" >SZITA~a1</span>|<span  class=\"hl\" >7.a. &#124;ZATU659x1(N01)&#124; , AMA~a AGAR2 </span>|<span  class=\"hl hlup\" >&#124;ZATU659x1(N01)&#124;</span>|<span  class=\"hl hlup\" >ZATU659</span>|<span  class=\"hl hlup\" >1(N01)</span>\n",
       "49| <a href=\"https://cdli.ucla.edu/search/search_results.php?SearchMode=Text&ObjectID=P005213\" title=\"to CDLI main page for this tablet\" sec=\"P005213\">P005213</a>|<a href=\"https://cdli.ucla.edu/search/search_results.php?SearchMode=Text&ObjectID=P005213\" title=\"to CDLI main page for this tablet\" sec=\"P005213\">tablet P005213</a>|<span  class=\"hl\" >1.b. 1(N01) , SZITA~a1 </span>|<span  class=\"hl hlup\" >SZITA~a1</span>|<span  class=\"hl\" >8.a. &#124;ZATU659x1(N01)&#124; , AN NIM~b3 </span>|<span  class=\"hl hlup\" >&#124;ZATU659x1(N01)&#124;</span>|<span  class=\"hl hlup\" >ZATU659</span>|<span  class=\"hl hlup\" >1(N01)</span>\n",
       "50| <a href=\"https://cdli.ucla.edu/search/search_results.php?SearchMode=Text&ObjectID=P005213\" title=\"to CDLI main page for this tablet\" sec=\"P005213\">P005213</a>|<a href=\"https://cdli.ucla.edu/search/search_results.php?SearchMode=Text&ObjectID=P005213\" title=\"to CDLI main page for this tablet\" sec=\"P005213\">tablet P005213</a>|<span  class=\"hl\" >1.b. 1(N01) , SZITA~a1 </span>|<span  class=\"hl hlup\" >SZITA~a1</span>|<span  class=\"hl\" >3.a. &#124;ZATU659x1(N01)&#124;# , SANGA~a# &#124;NI~a.RU&#124;# </span>|<span  class=\"hl hlup\" >&#124;ZATU659x1(N01)&#124;</span>|<span  class=\"hl hlup\" >ZATU659</span>|<span  class=\"hl hlup\" >1(N01)</span>\n",
       "51| <a href=\"https://cdli.ucla.edu/search/search_results.php?SearchMode=Text&ObjectID=P005213\" title=\"to CDLI main page for this tablet\" sec=\"P005213\">P005213</a>|<a href=\"https://cdli.ucla.edu/search/search_results.php?SearchMode=Text&ObjectID=P005213\" title=\"to CDLI main page for this tablet\" sec=\"P005213\">tablet P005213</a>|<span  class=\"hl\" >1.b. 1(N01) , SZITA~a1 </span>|<span  class=\"hl hlup\" >SZITA~a1</span>|<span  class=\"hl\" >2.a. &#124;ZATU659x1(N01)&#124;#? , &#124;KU6~a+KU6~a&#124; MU </span>|<span  class=\"hl hlup\" >&#124;ZATU659x1(N01)&#124;</span>|<span  class=\"hl hlup\" >ZATU659</span>|<span  class=\"hl hlup\" >1(N01)</span>\n",
       "52| <a href=\"https://cdli.ucla.edu/search/search_results.php?SearchMode=Text&ObjectID=P005213\" title=\"to CDLI main page for this tablet\" sec=\"P005213\">P005213</a>|<a href=\"https://cdli.ucla.edu/search/search_results.php?SearchMode=Text&ObjectID=P005213\" title=\"to CDLI main page for this tablet\" sec=\"P005213\">tablet P005213</a>|<span  class=\"hl\" >2.b. 1(N01) , SZITA~a1 </span>|<span  class=\"hl hlup\" >SZITA~a1</span>|<span  class=\"hl\" >4.a. &#124;ZATU659x1(N01)&#124;# , SAG# [...] </span>|<span  class=\"hl hlup\" >&#124;ZATU659x1(N01)&#124;</span>|<span  class=\"hl hlup\" >ZATU659</span>|<span  class=\"hl hlup\" >1(N01)</span>\n",
       "53| <a href=\"https://cdli.ucla.edu/search/search_results.php?SearchMode=Text&ObjectID=P005213\" title=\"to CDLI main page for this tablet\" sec=\"P005213\">P005213</a>|<a href=\"https://cdli.ucla.edu/search/search_results.php?SearchMode=Text&ObjectID=P005213\" title=\"to CDLI main page for this tablet\" sec=\"P005213\">tablet P005213</a>|<span  class=\"hl\" >2.b. 1(N01) , SZITA~a1 </span>|<span  class=\"hl hlup\" >SZITA~a1</span>|<span  class=\"hl\" >5.a. &#124;ZATU659x1(N01)&#124;# , SIG7# SAL#? X </span>|<span  class=\"hl hlup\" >&#124;ZATU659x1(N01)&#124;</span>|<span  class=\"hl hlup\" >ZATU659</span>|<span  class=\"hl hlup\" >1(N01)</span>\n",
       "54| <a href=\"https://cdli.ucla.edu/search/search_results.php?SearchMode=Text&ObjectID=P005213\" title=\"to CDLI main page for this tablet\" sec=\"P005213\">P005213</a>|<a href=\"https://cdli.ucla.edu/search/search_results.php?SearchMode=Text&ObjectID=P005213\" title=\"to CDLI main page for this tablet\" sec=\"P005213\">tablet P005213</a>|<span  class=\"hl\" >2.b. 1(N01) , SZITA~a1 </span>|<span  class=\"hl hlup\" >SZITA~a1</span>|<span  class=\"hl\" >6.a. &#124;ZATU659x1(N01)&#124; , TU~b HI SZA3~a2 </span>|<span  class=\"hl hlup\" >&#124;ZATU659x1(N01)&#124;</span>|<span  class=\"hl hlup\" >ZATU659</span>|<span  class=\"hl hlup\" >1(N01)</span>\n",
       "55| <a href=\"https://cdli.ucla.edu/search/search_results.php?SearchMode=Text&ObjectID=P005213\" title=\"to CDLI main page for this tablet\" sec=\"P005213\">P005213</a>|<a href=\"https://cdli.ucla.edu/search/search_results.php?SearchMode=Text&ObjectID=P005213\" title=\"to CDLI main page for this tablet\" sec=\"P005213\">tablet P005213</a>|<span  class=\"hl\" >2.b. 1(N01) , SZITA~a1 </span>|<span  class=\"hl hlup\" >SZITA~a1</span>|<span  class=\"hl\" >7.a. &#124;ZATU659x1(N01)&#124; , AMA~a AGAR2 </span>|<span  class=\"hl hlup\" >&#124;ZATU659x1(N01)&#124;</span>|<span  class=\"hl hlup\" >ZATU659</span>|<span  class=\"hl hlup\" >1(N01)</span>\n",
       "56| <a href=\"https://cdli.ucla.edu/search/search_results.php?SearchMode=Text&ObjectID=P005213\" title=\"to CDLI main page for this tablet\" sec=\"P005213\">P005213</a>|<a href=\"https://cdli.ucla.edu/search/search_results.php?SearchMode=Text&ObjectID=P005213\" title=\"to CDLI main page for this tablet\" sec=\"P005213\">tablet P005213</a>|<span  class=\"hl\" >2.b. 1(N01) , SZITA~a1 </span>|<span  class=\"hl hlup\" >SZITA~a1</span>|<span  class=\"hl\" >8.a. &#124;ZATU659x1(N01)&#124; , AN NIM~b3 </span>|<span  class=\"hl hlup\" >&#124;ZATU659x1(N01)&#124;</span>|<span  class=\"hl hlup\" >ZATU659</span>|<span  class=\"hl hlup\" >1(N01)</span>\n",
       "57| <a href=\"https://cdli.ucla.edu/search/search_results.php?SearchMode=Text&ObjectID=P005213\" title=\"to CDLI main page for this tablet\" sec=\"P005213\">P005213</a>|<a href=\"https://cdli.ucla.edu/search/search_results.php?SearchMode=Text&ObjectID=P005213\" title=\"to CDLI main page for this tablet\" sec=\"P005213\">tablet P005213</a>|<span  class=\"hl\" >2.b. 1(N01) , SZITA~a1 </span>|<span  class=\"hl hlup\" >SZITA~a1</span>|<span  class=\"hl\" >3.a. &#124;ZATU659x1(N01)&#124;# , SANGA~a# &#124;NI~a.RU&#124;# </span>|<span  class=\"hl hlup\" >&#124;ZATU659x1(N01)&#124;</span>|<span  class=\"hl hlup\" >ZATU659</span>|<span  class=\"hl hlup\" >1(N01)</span>\n",
       "58| <a href=\"https://cdli.ucla.edu/search/search_results.php?SearchMode=Text&ObjectID=P005213\" title=\"to CDLI main page for this tablet\" sec=\"P005213\">P005213</a>|<a href=\"https://cdli.ucla.edu/search/search_results.php?SearchMode=Text&ObjectID=P005213\" title=\"to CDLI main page for this tablet\" sec=\"P005213\">tablet P005213</a>|<span  class=\"hl\" >2.b. 1(N01) , SZITA~a1 </span>|<span  class=\"hl hlup\" >SZITA~a1</span>|<span  class=\"hl\" >2.a. &#124;ZATU659x1(N01)&#124;#? , &#124;KU6~a+KU6~a&#124; MU </span>|<span  class=\"hl hlup\" >&#124;ZATU659x1(N01)&#124;</span>|<span  class=\"hl hlup\" >ZATU659</span>|<span  class=\"hl hlup\" >1(N01)</span>\n",
       "59| <a href=\"https://cdli.ucla.edu/search/search_results.php?SearchMode=Text&ObjectID=P005213\" title=\"to CDLI main page for this tablet\" sec=\"P005213\">P005213</a>|<a href=\"https://cdli.ucla.edu/search/search_results.php?SearchMode=Text&ObjectID=P005213\" title=\"to CDLI main page for this tablet\" sec=\"P005213\">tablet P005213</a>|<span  class=\"hl\" >3.b. 1(N01) , SZITA~a1 </span>|<span  class=\"hl hlup\" >SZITA~a1</span>|<span  class=\"hl\" >4.a. &#124;ZATU659x1(N01)&#124;# , SAG# [...] </span>|<span  class=\"hl hlup\" >&#124;ZATU659x1(N01)&#124;</span>|<span  class=\"hl hlup\" >ZATU659</span>|<span  class=\"hl hlup\" >1(N01)</span>\n",
       "60| <a href=\"https://cdli.ucla.edu/search/search_results.php?SearchMode=Text&ObjectID=P005213\" title=\"to CDLI main page for this tablet\" sec=\"P005213\">P005213</a>|<a href=\"https://cdli.ucla.edu/search/search_results.php?SearchMode=Text&ObjectID=P005213\" title=\"to CDLI main page for this tablet\" sec=\"P005213\">tablet P005213</a>|<span  class=\"hl\" >3.b. 1(N01) , SZITA~a1 </span>|<span  class=\"hl hlup\" >SZITA~a1</span>|<span  class=\"hl\" >5.a. &#124;ZATU659x1(N01)&#124;# , SIG7# SAL#? X </span>|<span  class=\"hl hlup\" >&#124;ZATU659x1(N01)&#124;</span>|<span  class=\"hl hlup\" >ZATU659</span>|<span  class=\"hl hlup\" >1(N01)</span>\n",
       "61| <a href=\"https://cdli.ucla.edu/search/search_results.php?SearchMode=Text&ObjectID=P005213\" title=\"to CDLI main page for this tablet\" sec=\"P005213\">P005213</a>|<a href=\"https://cdli.ucla.edu/search/search_results.php?SearchMode=Text&ObjectID=P005213\" title=\"to CDLI main page for this tablet\" sec=\"P005213\">tablet P005213</a>|<span  class=\"hl\" >3.b. 1(N01) , SZITA~a1 </span>|<span  class=\"hl hlup\" >SZITA~a1</span>|<span  class=\"hl\" >6.a. &#124;ZATU659x1(N01)&#124; , TU~b HI SZA3~a2 </span>|<span  class=\"hl hlup\" >&#124;ZATU659x1(N01)&#124;</span>|<span  class=\"hl hlup\" >ZATU659</span>|<span  class=\"hl hlup\" >1(N01)</span>\n",
       "62| <a href=\"https://cdli.ucla.edu/search/search_results.php?SearchMode=Text&ObjectID=P005213\" title=\"to CDLI main page for this tablet\" sec=\"P005213\">P005213</a>|<a href=\"https://cdli.ucla.edu/search/search_results.php?SearchMode=Text&ObjectID=P005213\" title=\"to CDLI main page for this tablet\" sec=\"P005213\">tablet P005213</a>|<span  class=\"hl\" >3.b. 1(N01) , SZITA~a1 </span>|<span  class=\"hl hlup\" >SZITA~a1</span>|<span  class=\"hl\" >7.a. &#124;ZATU659x1(N01)&#124; , AMA~a AGAR2 </span>|<span  class=\"hl hlup\" >&#124;ZATU659x1(N01)&#124;</span>|<span  class=\"hl hlup\" >ZATU659</span>|<span  class=\"hl hlup\" >1(N01)</span>\n",
       "63| <a href=\"https://cdli.ucla.edu/search/search_results.php?SearchMode=Text&ObjectID=P005213\" title=\"to CDLI main page for this tablet\" sec=\"P005213\">P005213</a>|<a href=\"https://cdli.ucla.edu/search/search_results.php?SearchMode=Text&ObjectID=P005213\" title=\"to CDLI main page for this tablet\" sec=\"P005213\">tablet P005213</a>|<span  class=\"hl\" >3.b. 1(N01) , SZITA~a1 </span>|<span  class=\"hl hlup\" >SZITA~a1</span>|<span  class=\"hl\" >8.a. &#124;ZATU659x1(N01)&#124; , AN NIM~b3 </span>|<span  class=\"hl hlup\" >&#124;ZATU659x1(N01)&#124;</span>|<span  class=\"hl hlup\" >ZATU659</span>|<span  class=\"hl hlup\" >1(N01)</span>\n",
       "64| <a href=\"https://cdli.ucla.edu/search/search_results.php?SearchMode=Text&ObjectID=P005213\" title=\"to CDLI main page for this tablet\" sec=\"P005213\">P005213</a>|<a href=\"https://cdli.ucla.edu/search/search_results.php?SearchMode=Text&ObjectID=P005213\" title=\"to CDLI main page for this tablet\" sec=\"P005213\">tablet P005213</a>|<span  class=\"hl\" >3.b. 1(N01) , SZITA~a1 </span>|<span  class=\"hl hlup\" >SZITA~a1</span>|<span  class=\"hl\" >3.a. &#124;ZATU659x1(N01)&#124;# , SANGA~a# &#124;NI~a.RU&#124;# </span>|<span  class=\"hl hlup\" >&#124;ZATU659x1(N01)&#124;</span>|<span  class=\"hl hlup\" >ZATU659</span>|<span  class=\"hl hlup\" >1(N01)</span>\n",
       "65| <a href=\"https://cdli.ucla.edu/search/search_results.php?SearchMode=Text&ObjectID=P005213\" title=\"to CDLI main page for this tablet\" sec=\"P005213\">P005213</a>|<a href=\"https://cdli.ucla.edu/search/search_results.php?SearchMode=Text&ObjectID=P005213\" title=\"to CDLI main page for this tablet\" sec=\"P005213\">tablet P005213</a>|<span  class=\"hl\" >3.b. 1(N01) , SZITA~a1 </span>|<span  class=\"hl hlup\" >SZITA~a1</span>|<span  class=\"hl\" >2.a. &#124;ZATU659x1(N01)&#124;#? , &#124;KU6~a+KU6~a&#124; MU </span>|<span  class=\"hl hlup\" >&#124;ZATU659x1(N01)&#124;</span>|<span  class=\"hl hlup\" >ZATU659</span>|<span  class=\"hl hlup\" >1(N01)</span>\n",
       "66| <a href=\"https://cdli.ucla.edu/search/search_results.php?SearchMode=Text&ObjectID=P005213\" title=\"to CDLI main page for this tablet\" sec=\"P005213\">P005213</a>|<a href=\"https://cdli.ucla.edu/search/search_results.php?SearchMode=Text&ObjectID=P005213\" title=\"to CDLI main page for this tablet\" sec=\"P005213\">tablet P005213</a>|<span  class=\"hl\" >4.b. 1(N01) , SZITA~a1 </span>|<span  class=\"hl hlup\" >SZITA~a1</span>|<span  class=\"hl\" >4.a. &#124;ZATU659x1(N01)&#124;# , SAG# [...] </span>|<span  class=\"hl hlup\" >&#124;ZATU659x1(N01)&#124;</span>|<span  class=\"hl hlup\" >ZATU659</span>|<span  class=\"hl hlup\" >1(N01)</span>\n",
       "67| <a href=\"https://cdli.ucla.edu/search/search_results.php?SearchMode=Text&ObjectID=P005213\" title=\"to CDLI main page for this tablet\" sec=\"P005213\">P005213</a>|<a href=\"https://cdli.ucla.edu/search/search_results.php?SearchMode=Text&ObjectID=P005213\" title=\"to CDLI main page for this tablet\" sec=\"P005213\">tablet P005213</a>|<span  class=\"hl\" >4.b. 1(N01) , SZITA~a1 </span>|<span  class=\"hl hlup\" >SZITA~a1</span>|<span  class=\"hl\" >5.a. &#124;ZATU659x1(N01)&#124;# , SIG7# SAL#? X </span>|<span  class=\"hl hlup\" >&#124;ZATU659x1(N01)&#124;</span>|<span  class=\"hl hlup\" >ZATU659</span>|<span  class=\"hl hlup\" >1(N01)</span>\n",
       "68| <a href=\"https://cdli.ucla.edu/search/search_results.php?SearchMode=Text&ObjectID=P005213\" title=\"to CDLI main page for this tablet\" sec=\"P005213\">P005213</a>|<a href=\"https://cdli.ucla.edu/search/search_results.php?SearchMode=Text&ObjectID=P005213\" title=\"to CDLI main page for this tablet\" sec=\"P005213\">tablet P005213</a>|<span  class=\"hl\" >4.b. 1(N01) , SZITA~a1 </span>|<span  class=\"hl hlup\" >SZITA~a1</span>|<span  class=\"hl\" >6.a. &#124;ZATU659x1(N01)&#124; , TU~b HI SZA3~a2 </span>|<span  class=\"hl hlup\" >&#124;ZATU659x1(N01)&#124;</span>|<span  class=\"hl hlup\" >ZATU659</span>|<span  class=\"hl hlup\" >1(N01)</span>\n",
       "69| <a href=\"https://cdli.ucla.edu/search/search_results.php?SearchMode=Text&ObjectID=P005213\" title=\"to CDLI main page for this tablet\" sec=\"P005213\">P005213</a>|<a href=\"https://cdli.ucla.edu/search/search_results.php?SearchMode=Text&ObjectID=P005213\" title=\"to CDLI main page for this tablet\" sec=\"P005213\">tablet P005213</a>|<span  class=\"hl\" >4.b. 1(N01) , SZITA~a1 </span>|<span  class=\"hl hlup\" >SZITA~a1</span>|<span  class=\"hl\" >7.a. &#124;ZATU659x1(N01)&#124; , AMA~a AGAR2 </span>|<span  class=\"hl hlup\" >&#124;ZATU659x1(N01)&#124;</span>|<span  class=\"hl hlup\" >ZATU659</span>|<span  class=\"hl hlup\" >1(N01)</span>\n",
       "70| <a href=\"https://cdli.ucla.edu/search/search_results.php?SearchMode=Text&ObjectID=P005213\" title=\"to CDLI main page for this tablet\" sec=\"P005213\">P005213</a>|<a href=\"https://cdli.ucla.edu/search/search_results.php?SearchMode=Text&ObjectID=P005213\" title=\"to CDLI main page for this tablet\" sec=\"P005213\">tablet P005213</a>|<span  class=\"hl\" >4.b. 1(N01) , SZITA~a1 </span>|<span  class=\"hl hlup\" >SZITA~a1</span>|<span  class=\"hl\" >8.a. &#124;ZATU659x1(N01)&#124; , AN NIM~b3 </span>|<span  class=\"hl hlup\" >&#124;ZATU659x1(N01)&#124;</span>|<span  class=\"hl hlup\" >ZATU659</span>|<span  class=\"hl hlup\" >1(N01)</span>\n",
       "71| <a href=\"https://cdli.ucla.edu/search/search_results.php?SearchMode=Text&ObjectID=P005213\" title=\"to CDLI main page for this tablet\" sec=\"P005213\">P005213</a>|<a href=\"https://cdli.ucla.edu/search/search_results.php?SearchMode=Text&ObjectID=P005213\" title=\"to CDLI main page for this tablet\" sec=\"P005213\">tablet P005213</a>|<span  class=\"hl\" >4.b. 1(N01) , SZITA~a1 </span>|<span  class=\"hl hlup\" >SZITA~a1</span>|<span  class=\"hl\" >3.a. &#124;ZATU659x1(N01)&#124;# , SANGA~a# &#124;NI~a.RU&#124;# </span>|<span  class=\"hl hlup\" >&#124;ZATU659x1(N01)&#124;</span>|<span  class=\"hl hlup\" >ZATU659</span>|<span  class=\"hl hlup\" >1(N01)</span>\n",
       "72| <a href=\"https://cdli.ucla.edu/search/search_results.php?SearchMode=Text&ObjectID=P005213\" title=\"to CDLI main page for this tablet\" sec=\"P005213\">P005213</a>|<a href=\"https://cdli.ucla.edu/search/search_results.php?SearchMode=Text&ObjectID=P005213\" title=\"to CDLI main page for this tablet\" sec=\"P005213\">tablet P005213</a>|<span  class=\"hl\" >4.b. 1(N01) , SZITA~a1 </span>|<span  class=\"hl hlup\" >SZITA~a1</span>|<span  class=\"hl\" >2.a. &#124;ZATU659x1(N01)&#124;#? , &#124;KU6~a+KU6~a&#124; MU </span>|<span  class=\"hl hlup\" >&#124;ZATU659x1(N01)&#124;</span>|<span  class=\"hl hlup\" >ZATU659</span>|<span  class=\"hl hlup\" >1(N01)</span>\n",
       "73| <a href=\"https://cdli.ucla.edu/search/search_results.php?SearchMode=Text&ObjectID=P005213\" title=\"to CDLI main page for this tablet\" sec=\"P005213\">P005213</a>|<a href=\"https://cdli.ucla.edu/search/search_results.php?SearchMode=Text&ObjectID=P005213\" title=\"to CDLI main page for this tablet\" sec=\"P005213\">tablet P005213</a>|<span  class=\"hl\" >5.b. 1(N01) , SZITA~a1 </span>|<span  class=\"hl hlup\" >SZITA~a1</span>|<span  class=\"hl\" >4.a. &#124;ZATU659x1(N01)&#124;# , SAG# [...] </span>|<span  class=\"hl hlup\" >&#124;ZATU659x1(N01)&#124;</span>|<span  class=\"hl hlup\" >ZATU659</span>|<span  class=\"hl hlup\" >1(N01)</span>\n",
       "74| <a href=\"https://cdli.ucla.edu/search/search_results.php?SearchMode=Text&ObjectID=P005213\" title=\"to CDLI main page for this tablet\" sec=\"P005213\">P005213</a>|<a href=\"https://cdli.ucla.edu/search/search_results.php?SearchMode=Text&ObjectID=P005213\" title=\"to CDLI main page for this tablet\" sec=\"P005213\">tablet P005213</a>|<span  class=\"hl\" >5.b. 1(N01) , SZITA~a1 </span>|<span  class=\"hl hlup\" >SZITA~a1</span>|<span  class=\"hl\" >5.a. &#124;ZATU659x1(N01)&#124;# , SIG7# SAL#? X </span>|<span  class=\"hl hlup\" >&#124;ZATU659x1(N01)&#124;</span>|<span  class=\"hl hlup\" >ZATU659</span>|<span  class=\"hl hlup\" >1(N01)</span>\n",
       "75| <a href=\"https://cdli.ucla.edu/search/search_results.php?SearchMode=Text&ObjectID=P005213\" title=\"to CDLI main page for this tablet\" sec=\"P005213\">P005213</a>|<a href=\"https://cdli.ucla.edu/search/search_results.php?SearchMode=Text&ObjectID=P005213\" title=\"to CDLI main page for this tablet\" sec=\"P005213\">tablet P005213</a>|<span  class=\"hl\" >5.b. 1(N01) , SZITA~a1 </span>|<span  class=\"hl hlup\" >SZITA~a1</span>|<span  class=\"hl\" >6.a. &#124;ZATU659x1(N01)&#124; , TU~b HI SZA3~a2 </span>|<span  class=\"hl hlup\" >&#124;ZATU659x1(N01)&#124;</span>|<span  class=\"hl hlup\" >ZATU659</span>|<span  class=\"hl hlup\" >1(N01)</span>\n",
       "76| <a href=\"https://cdli.ucla.edu/search/search_results.php?SearchMode=Text&ObjectID=P005213\" title=\"to CDLI main page for this tablet\" sec=\"P005213\">P005213</a>|<a href=\"https://cdli.ucla.edu/search/search_results.php?SearchMode=Text&ObjectID=P005213\" title=\"to CDLI main page for this tablet\" sec=\"P005213\">tablet P005213</a>|<span  class=\"hl\" >5.b. 1(N01) , SZITA~a1 </span>|<span  class=\"hl hlup\" >SZITA~a1</span>|<span  class=\"hl\" >7.a. &#124;ZATU659x1(N01)&#124; , AMA~a AGAR2 </span>|<span  class=\"hl hlup\" >&#124;ZATU659x1(N01)&#124;</span>|<span  class=\"hl hlup\" >ZATU659</span>|<span  class=\"hl hlup\" >1(N01)</span>\n",
       "77| <a href=\"https://cdli.ucla.edu/search/search_results.php?SearchMode=Text&ObjectID=P005213\" title=\"to CDLI main page for this tablet\" sec=\"P005213\">P005213</a>|<a href=\"https://cdli.ucla.edu/search/search_results.php?SearchMode=Text&ObjectID=P005213\" title=\"to CDLI main page for this tablet\" sec=\"P005213\">tablet P005213</a>|<span  class=\"hl\" >5.b. 1(N01) , SZITA~a1 </span>|<span  class=\"hl hlup\" >SZITA~a1</span>|<span  class=\"hl\" >8.a. &#124;ZATU659x1(N01)&#124; , AN NIM~b3 </span>|<span  class=\"hl hlup\" >&#124;ZATU659x1(N01)&#124;</span>|<span  class=\"hl hlup\" >ZATU659</span>|<span  class=\"hl hlup\" >1(N01)</span>\n",
       "78| <a href=\"https://cdli.ucla.edu/search/search_results.php?SearchMode=Text&ObjectID=P005213\" title=\"to CDLI main page for this tablet\" sec=\"P005213\">P005213</a>|<a href=\"https://cdli.ucla.edu/search/search_results.php?SearchMode=Text&ObjectID=P005213\" title=\"to CDLI main page for this tablet\" sec=\"P005213\">tablet P005213</a>|<span  class=\"hl\" >5.b. 1(N01) , SZITA~a1 </span>|<span  class=\"hl hlup\" >SZITA~a1</span>|<span  class=\"hl\" >3.a. &#124;ZATU659x1(N01)&#124;# , SANGA~a# &#124;NI~a.RU&#124;# </span>|<span  class=\"hl hlup\" >&#124;ZATU659x1(N01)&#124;</span>|<span  class=\"hl hlup\" >ZATU659</span>|<span  class=\"hl hlup\" >1(N01)</span>\n",
       "79| <a href=\"https://cdli.ucla.edu/search/search_results.php?SearchMode=Text&ObjectID=P005213\" title=\"to CDLI main page for this tablet\" sec=\"P005213\">P005213</a>|<a href=\"https://cdli.ucla.edu/search/search_results.php?SearchMode=Text&ObjectID=P005213\" title=\"to CDLI main page for this tablet\" sec=\"P005213\">tablet P005213</a>|<span  class=\"hl\" >5.b. 1(N01) , SZITA~a1 </span>|<span  class=\"hl hlup\" >SZITA~a1</span>|<span  class=\"hl\" >2.a. &#124;ZATU659x1(N01)&#124;#? , &#124;KU6~a+KU6~a&#124; MU </span>|<span  class=\"hl hlup\" >&#124;ZATU659x1(N01)&#124;</span>|<span  class=\"hl hlup\" >ZATU659</span>|<span  class=\"hl hlup\" >1(N01)</span>\n",
       "80| <a href=\"https://cdli.ucla.edu/search/search_results.php?SearchMode=Text&ObjectID=P005213\" title=\"to CDLI main page for this tablet\" sec=\"P005213\">P005213</a>|<a href=\"https://cdli.ucla.edu/search/search_results.php?SearchMode=Text&ObjectID=P005213\" title=\"to CDLI main page for this tablet\" sec=\"P005213\">tablet P005213</a>|<span  class=\"hl\" >6.b. 1(N01) , SZITA~a1 </span>|<span  class=\"hl hlup\" >SZITA~a1</span>|<span  class=\"hl\" >4.a. &#124;ZATU659x1(N01)&#124;# , SAG# [...] </span>|<span  class=\"hl hlup\" >&#124;ZATU659x1(N01)&#124;</span>|<span  class=\"hl hlup\" >ZATU659</span>|<span  class=\"hl hlup\" >1(N01)</span>\n",
       "81| <a href=\"https://cdli.ucla.edu/search/search_results.php?SearchMode=Text&ObjectID=P005213\" title=\"to CDLI main page for this tablet\" sec=\"P005213\">P005213</a>|<a href=\"https://cdli.ucla.edu/search/search_results.php?SearchMode=Text&ObjectID=P005213\" title=\"to CDLI main page for this tablet\" sec=\"P005213\">tablet P005213</a>|<span  class=\"hl\" >6.b. 1(N01) , SZITA~a1 </span>|<span  class=\"hl hlup\" >SZITA~a1</span>|<span  class=\"hl\" >5.a. &#124;ZATU659x1(N01)&#124;# , SIG7# SAL#? X </span>|<span  class=\"hl hlup\" >&#124;ZATU659x1(N01)&#124;</span>|<span  class=\"hl hlup\" >ZATU659</span>|<span  class=\"hl hlup\" >1(N01)</span>\n",
       "82| <a href=\"https://cdli.ucla.edu/search/search_results.php?SearchMode=Text&ObjectID=P005213\" title=\"to CDLI main page for this tablet\" sec=\"P005213\">P005213</a>|<a href=\"https://cdli.ucla.edu/search/search_results.php?SearchMode=Text&ObjectID=P005213\" title=\"to CDLI main page for this tablet\" sec=\"P005213\">tablet P005213</a>|<span  class=\"hl\" >6.b. 1(N01) , SZITA~a1 </span>|<span  class=\"hl hlup\" >SZITA~a1</span>|<span  class=\"hl\" >6.a. &#124;ZATU659x1(N01)&#124; , TU~b HI SZA3~a2 </span>|<span  class=\"hl hlup\" >&#124;ZATU659x1(N01)&#124;</span>|<span  class=\"hl hlup\" >ZATU659</span>|<span  class=\"hl hlup\" >1(N01)</span>\n",
       "83| <a href=\"https://cdli.ucla.edu/search/search_results.php?SearchMode=Text&ObjectID=P005213\" title=\"to CDLI main page for this tablet\" sec=\"P005213\">P005213</a>|<a href=\"https://cdli.ucla.edu/search/search_results.php?SearchMode=Text&ObjectID=P005213\" title=\"to CDLI main page for this tablet\" sec=\"P005213\">tablet P005213</a>|<span  class=\"hl\" >6.b. 1(N01) , SZITA~a1 </span>|<span  class=\"hl hlup\" >SZITA~a1</span>|<span  class=\"hl\" >7.a. &#124;ZATU659x1(N01)&#124; , AMA~a AGAR2 </span>|<span  class=\"hl hlup\" >&#124;ZATU659x1(N01)&#124;</span>|<span  class=\"hl hlup\" >ZATU659</span>|<span  class=\"hl hlup\" >1(N01)</span>\n",
       "84| <a href=\"https://cdli.ucla.edu/search/search_results.php?SearchMode=Text&ObjectID=P005213\" title=\"to CDLI main page for this tablet\" sec=\"P005213\">P005213</a>|<a href=\"https://cdli.ucla.edu/search/search_results.php?SearchMode=Text&ObjectID=P005213\" title=\"to CDLI main page for this tablet\" sec=\"P005213\">tablet P005213</a>|<span  class=\"hl\" >6.b. 1(N01) , SZITA~a1 </span>|<span  class=\"hl hlup\" >SZITA~a1</span>|<span  class=\"hl\" >8.a. &#124;ZATU659x1(N01)&#124; , AN NIM~b3 </span>|<span  class=\"hl hlup\" >&#124;ZATU659x1(N01)&#124;</span>|<span  class=\"hl hlup\" >ZATU659</span>|<span  class=\"hl hlup\" >1(N01)</span>\n",
       "85| <a href=\"https://cdli.ucla.edu/search/search_results.php?SearchMode=Text&ObjectID=P005213\" title=\"to CDLI main page for this tablet\" sec=\"P005213\">P005213</a>|<a href=\"https://cdli.ucla.edu/search/search_results.php?SearchMode=Text&ObjectID=P005213\" title=\"to CDLI main page for this tablet\" sec=\"P005213\">tablet P005213</a>|<span  class=\"hl\" >6.b. 1(N01) , SZITA~a1 </span>|<span  class=\"hl hlup\" >SZITA~a1</span>|<span  class=\"hl\" >3.a. &#124;ZATU659x1(N01)&#124;# , SANGA~a# &#124;NI~a.RU&#124;# </span>|<span  class=\"hl hlup\" >&#124;ZATU659x1(N01)&#124;</span>|<span  class=\"hl hlup\" >ZATU659</span>|<span  class=\"hl hlup\" >1(N01)</span>\n",
       "86| <a href=\"https://cdli.ucla.edu/search/search_results.php?SearchMode=Text&ObjectID=P005213\" title=\"to CDLI main page for this tablet\" sec=\"P005213\">P005213</a>|<a href=\"https://cdli.ucla.edu/search/search_results.php?SearchMode=Text&ObjectID=P005213\" title=\"to CDLI main page for this tablet\" sec=\"P005213\">tablet P005213</a>|<span  class=\"hl\" >6.b. 1(N01) , SZITA~a1 </span>|<span  class=\"hl hlup\" >SZITA~a1</span>|<span  class=\"hl\" >2.a. &#124;ZATU659x1(N01)&#124;#? , &#124;KU6~a+KU6~a&#124; MU </span>|<span  class=\"hl hlup\" >&#124;ZATU659x1(N01)&#124;</span>|<span  class=\"hl hlup\" >ZATU659</span>|<span  class=\"hl hlup\" >1(N01)</span>\n",
       "87| <a href=\"https://cdli.ucla.edu/search/search_results.php?SearchMode=Text&ObjectID=P005214\" title=\"to CDLI main page for this tablet\" sec=\"P005214\">P005214</a>|<a href=\"https://cdli.ucla.edu/search/search_results.php?SearchMode=Text&ObjectID=P005214\" title=\"to CDLI main page for this tablet\" sec=\"P005214\">tablet P005214</a>|<span  class=\"hl\" >3.c. [...] , SZITA~a1# </span>|<span  class=\"hl hlup\" >SZITA~a1</span>|<span  class=\"hl\" >4.a. 1(N01) , &#124;ZATU659x1(N01)&#124; SAG# </span>|<span  class=\"hl hlup\" >&#124;ZATU659x1(N01)&#124;</span>|<span  class=\"hl hlup\" >ZATU659</span>|<span  class=\"hl hlup\" >1(N01)</span>\n",
       "88| <a href=\"https://cdli.ucla.edu/search/search_results.php?SearchMode=Text&ObjectID=P005214\" title=\"to CDLI main page for this tablet\" sec=\"P005214\">P005214</a>|<a href=\"https://cdli.ucla.edu/search/search_results.php?SearchMode=Text&ObjectID=P005214\" title=\"to CDLI main page for this tablet\" sec=\"P005214\">tablet P005214</a>|<span  class=\"hl\" >3.c. [...] , SZITA~a1# </span>|<span  class=\"hl hlup\" >SZITA~a1</span>|<span  class=\"hl\" >5.a. 1(N01) , &#124;ZATU659x1(N01)&#124;# 3(N57)# PAP~a# NIN </span>|<span  class=\"hl hlup\" >&#124;ZATU659x1(N01)&#124;</span>|<span  class=\"hl hlup\" >ZATU659</span>|<span  class=\"hl hlup\" >1(N01)</span>\n",
       "89| <a href=\"https://cdli.ucla.edu/search/search_results.php?SearchMode=Text&ObjectID=P005214\" title=\"to CDLI main page for this tablet\" sec=\"P005214\">P005214</a>|<a href=\"https://cdli.ucla.edu/search/search_results.php?SearchMode=Text&ObjectID=P005214\" title=\"to CDLI main page for this tablet\" sec=\"P005214\">tablet P005214</a>|<span  class=\"hl\" >4.c. 1(N01)# , SZITA~a1 </span>|<span  class=\"hl hlup\" >SZITA~a1</span>|<span  class=\"hl\" >4.a. 1(N01) , &#124;ZATU659x1(N01)&#124; SAG# </span>|<span  class=\"hl hlup\" >&#124;ZATU659x1(N01)&#124;</span>|<span  class=\"hl hlup\" >ZATU659</span>|<span  class=\"hl hlup\" >1(N01)</span>\n",
       "90| <a href=\"https://cdli.ucla.edu/search/search_results.php?SearchMode=Text&ObjectID=P005214\" title=\"to CDLI main page for this tablet\" sec=\"P005214\">P005214</a>|<a href=\"https://cdli.ucla.edu/search/search_results.php?SearchMode=Text&ObjectID=P005214\" title=\"to CDLI main page for this tablet\" sec=\"P005214\">tablet P005214</a>|<span  class=\"hl\" >4.c. 1(N01)# , SZITA~a1 </span>|<span  class=\"hl hlup\" >SZITA~a1</span>|<span  class=\"hl\" >5.a. 1(N01) , &#124;ZATU659x1(N01)&#124;# 3(N57)# PAP~a# NIN </span>|<span  class=\"hl hlup\" >&#124;ZATU659x1(N01)&#124;</span>|<span  class=\"hl hlup\" >ZATU659</span>|<span  class=\"hl hlup\" >1(N01)</span>\n",
       "91| <a href=\"https://cdli.ucla.edu/search/search_results.php?SearchMode=Text&ObjectID=P005214\" title=\"to CDLI main page for this tablet\" sec=\"P005214\">P005214</a>|<a href=\"https://cdli.ucla.edu/search/search_results.php?SearchMode=Text&ObjectID=P005214\" title=\"to CDLI main page for this tablet\" sec=\"P005214\">tablet P005214</a>|<span  class=\"hl\" >5.b. 1(N01) , SZITA~a1 </span>|<span  class=\"hl hlup\" >SZITA~a1</span>|<span  class=\"hl\" >4.a. 1(N01) , &#124;ZATU659x1(N01)&#124; SAG# </span>|<span  class=\"hl hlup\" >&#124;ZATU659x1(N01)&#124;</span>|<span  class=\"hl hlup\" >ZATU659</span>|<span  class=\"hl hlup\" >1(N01)</span>\n",
       "92| <a href=\"https://cdli.ucla.edu/search/search_results.php?SearchMode=Text&ObjectID=P005214\" title=\"to CDLI main page for this tablet\" sec=\"P005214\">P005214</a>|<a href=\"https://cdli.ucla.edu/search/search_results.php?SearchMode=Text&ObjectID=P005214\" title=\"to CDLI main page for this tablet\" sec=\"P005214\">tablet P005214</a>|<span  class=\"hl\" >5.b. 1(N01) , SZITA~a1 </span>|<span  class=\"hl hlup\" >SZITA~a1</span>|<span  class=\"hl\" >5.a. 1(N01) , &#124;ZATU659x1(N01)&#124;# 3(N57)# PAP~a# NIN </span>|<span  class=\"hl hlup\" >&#124;ZATU659x1(N01)&#124;</span>|<span  class=\"hl hlup\" >ZATU659</span>|<span  class=\"hl hlup\" >1(N01)</span>\n",
       "93| <a href=\"https://cdli.ucla.edu/search/search_results.php?SearchMode=Text&ObjectID=P005214\" title=\"to CDLI main page for this tablet\" sec=\"P005214\">P005214</a>|<a href=\"https://cdli.ucla.edu/search/search_results.php?SearchMode=Text&ObjectID=P005214\" title=\"to CDLI main page for this tablet\" sec=\"P005214\">tablet P005214</a>|<span  class=\"hl\" >6.b. 1(N01) , SZITA~a1# </span>|<span  class=\"hl hlup\" >SZITA~a1</span>|<span  class=\"hl\" >4.a. 1(N01) , &#124;ZATU659x1(N01)&#124; SAG# </span>|<span  class=\"hl hlup\" >&#124;ZATU659x1(N01)&#124;</span>|<span  class=\"hl hlup\" >ZATU659</span>|<span  class=\"hl hlup\" >1(N01)</span>\n",
       "94| <a href=\"https://cdli.ucla.edu/search/search_results.php?SearchMode=Text&ObjectID=P005214\" title=\"to CDLI main page for this tablet\" sec=\"P005214\">P005214</a>|<a href=\"https://cdli.ucla.edu/search/search_results.php?SearchMode=Text&ObjectID=P005214\" title=\"to CDLI main page for this tablet\" sec=\"P005214\">tablet P005214</a>|<span  class=\"hl\" >6.b. 1(N01) , SZITA~a1# </span>|<span  class=\"hl hlup\" >SZITA~a1</span>|<span  class=\"hl\" >5.a. 1(N01) , &#124;ZATU659x1(N01)&#124;# 3(N57)# PAP~a# NIN </span>|<span  class=\"hl hlup\" >&#124;ZATU659x1(N01)&#124;</span>|<span  class=\"hl hlup\" >ZATU659</span>|<span  class=\"hl hlup\" >1(N01)</span>\n",
       "95| <a href=\"https://cdli.ucla.edu/search/search_results.php?SearchMode=Text&ObjectID=P005215\" title=\"to CDLI main page for this tablet\" sec=\"P005215\">P005215</a>|<a href=\"https://cdli.ucla.edu/search/search_results.php?SearchMode=Text&ObjectID=P005215\" title=\"to CDLI main page for this tablet\" sec=\"P005215\">tablet P005215</a>|<span  class=\"hl\" >1.b. 1(N01) , SZITA~a1 </span>|<span  class=\"hl hlup\" >SZITA~a1</span>|<span  class=\"hl\" >1.a. , &#124;ZATU659x1(N01)&#124; U2~b A </span>|<span  class=\"hl hlup\" >&#124;ZATU659x1(N01)&#124;</span>|<span  class=\"hl hlup\" >ZATU659</span>|<span  class=\"hl hlup\" >1(N01)</span>"
      ],
      "text/plain": [
       "<IPython.core.display.Markdown object>"
      ]
     },
     "metadata": {},
     "output_type": "display_data"
    }
   ],
   "source": [
    "query = \"\"\"\n",
    "tablet\n",
    "  case depth=1 terminal\n",
    "    sign grapheme=SZITA variant=a1\n",
    "  case\n",
    "    quad\n",
    "      =: sign grapheme=ZATU659\n",
    "      <: sign grapheme=N01 repeat=1\n",
    "      :=\n",
    "\"\"\"\n",
    "results = A.search(query)\n",
    "A.table(results, withNodes=False, lineart=False)"
   ]
  },
  {
   "cell_type": "markdown",
   "metadata": {},
   "source": [
    "This query gives us 95 occurrences in four distinct proto-cuneiform tablets: P005213, P005214, P005215 and P002399.\n",
    "\n",
    "The two indented lines starting with \"case\" identify a distinct sign;\n",
    "\n",
    "=: left and right start at the same slot\n",
    "\n",
    "<: :>: adjacent before and after (with respect to the slots occupied: left ends immediately before right starts and vice versa)\n",
    "\n",
    ":= left and right end at the same slot"
   ]
  },
  {
   "cell_type": "code",
   "execution_count": 21,
   "metadata": {},
   "outputs": [
    {
     "name": "stdout",
     "output_type": "stream",
     "text": [
      "  0.46s 95 results\n"
     ]
    },
    {
     "data": {
      "text/markdown": [
       "n | p | tablet | case | sign | case | quad | sign | sign\n",
       "--- | --- | --- | --- | --- | --- | --- | --- | ---\n",
       "1| <a href=\"https://cdli.ucla.edu/search/search_results.php?SearchMode=Text&ObjectID=P002399\" title=\"to CDLI main page for this tablet\" sec=\"P002399\">P002399</a>|<a href=\"https://cdli.ucla.edu/search/search_results.php?SearchMode=Text&ObjectID=P002399\" title=\"to CDLI main page for this tablet\" sec=\"P002399\">tablet P002399</a>|<span  class=\"hl\" >2.b. 3(N01) , SZITA~a1 [...] </span>|<span  class=\"hl hlup\" >SZITA~a1</span>|<span  class=\"hl\" >2.a. 1(N01)# 1(N08) , SUKKAL GADA~a &#124;ZATU659x1(N01)&#124; </span>|<span  class=\"hl hlup\" >&#124;ZATU659x1(N01)&#124;</span>|<span  class=\"hl hlup\" >ZATU659</span>|<span  class=\"hl hlup\" >1(N01)</span>\n",
       "2| <a href=\"https://cdli.ucla.edu/search/search_results.php?SearchMode=Text&ObjectID=P002399\" title=\"to CDLI main page for this tablet\" sec=\"P002399\">P002399</a>|<a href=\"https://cdli.ucla.edu/search/search_results.php?SearchMode=Text&ObjectID=P002399\" title=\"to CDLI main page for this tablet\" sec=\"P002399\">tablet P002399</a>|<span  class=\"hl\" >2.b. 3(N01) , SZITA~a1 [...] </span>|<span  class=\"hl hlup\" >SZITA~a1</span>|<span  class=\"hl\" >3.a. 1(N01) , &#124;ZATU659x1(N01)&#124; NA2~a GAL~a </span>|<span  class=\"hl hlup\" >&#124;ZATU659x1(N01)&#124;</span>|<span  class=\"hl hlup\" >ZATU659</span>|<span  class=\"hl hlup\" >1(N01)</span>\n",
       "3| <a href=\"https://cdli.ucla.edu/search/search_results.php?SearchMode=Text&ObjectID=P005213\" title=\"to CDLI main page for this tablet\" sec=\"P005213\">P005213</a>|<a href=\"https://cdli.ucla.edu/search/search_results.php?SearchMode=Text&ObjectID=P005213\" title=\"to CDLI main page for this tablet\" sec=\"P005213\">tablet P005213</a>|<span  class=\"hl\" >2.a. [...] 2(N01)# , SZITA~a1 </span>|<span  class=\"hl hlup\" >SZITA~a1</span>|<span  class=\"hl\" >4.a. &#124;ZATU659x1(N01)&#124;# , SAG# [...] </span>|<span  class=\"hl hlup\" >&#124;ZATU659x1(N01)&#124;</span>|<span  class=\"hl hlup\" >ZATU659</span>|<span  class=\"hl hlup\" >1(N01)</span>\n",
       "4| <a href=\"https://cdli.ucla.edu/search/search_results.php?SearchMode=Text&ObjectID=P005213\" title=\"to CDLI main page for this tablet\" sec=\"P005213\">P005213</a>|<a href=\"https://cdli.ucla.edu/search/search_results.php?SearchMode=Text&ObjectID=P005213\" title=\"to CDLI main page for this tablet\" sec=\"P005213\">tablet P005213</a>|<span  class=\"hl\" >2.a. [...] 2(N01)# , SZITA~a1 </span>|<span  class=\"hl hlup\" >SZITA~a1</span>|<span  class=\"hl\" >5.a. &#124;ZATU659x1(N01)&#124;# , SIG7# SAL#? X </span>|<span  class=\"hl hlup\" >&#124;ZATU659x1(N01)&#124;</span>|<span  class=\"hl hlup\" >ZATU659</span>|<span  class=\"hl hlup\" >1(N01)</span>\n",
       "5| <a href=\"https://cdli.ucla.edu/search/search_results.php?SearchMode=Text&ObjectID=P005213\" title=\"to CDLI main page for this tablet\" sec=\"P005213\">P005213</a>|<a href=\"https://cdli.ucla.edu/search/search_results.php?SearchMode=Text&ObjectID=P005213\" title=\"to CDLI main page for this tablet\" sec=\"P005213\">tablet P005213</a>|<span  class=\"hl\" >2.a. [...] 2(N01)# , SZITA~a1 </span>|<span  class=\"hl hlup\" >SZITA~a1</span>|<span  class=\"hl\" >6.a. &#124;ZATU659x1(N01)&#124; , TU~b HI SZA3~a2 </span>|<span  class=\"hl hlup\" >&#124;ZATU659x1(N01)&#124;</span>|<span  class=\"hl hlup\" >ZATU659</span>|<span  class=\"hl hlup\" >1(N01)</span>\n",
       "6| <a href=\"https://cdli.ucla.edu/search/search_results.php?SearchMode=Text&ObjectID=P005213\" title=\"to CDLI main page for this tablet\" sec=\"P005213\">P005213</a>|<a href=\"https://cdli.ucla.edu/search/search_results.php?SearchMode=Text&ObjectID=P005213\" title=\"to CDLI main page for this tablet\" sec=\"P005213\">tablet P005213</a>|<span  class=\"hl\" >2.a. [...] 2(N01)# , SZITA~a1 </span>|<span  class=\"hl hlup\" >SZITA~a1</span>|<span  class=\"hl\" >7.a. &#124;ZATU659x1(N01)&#124; , AMA~a AGAR2 </span>|<span  class=\"hl hlup\" >&#124;ZATU659x1(N01)&#124;</span>|<span  class=\"hl hlup\" >ZATU659</span>|<span  class=\"hl hlup\" >1(N01)</span>\n",
       "7| <a href=\"https://cdli.ucla.edu/search/search_results.php?SearchMode=Text&ObjectID=P005213\" title=\"to CDLI main page for this tablet\" sec=\"P005213\">P005213</a>|<a href=\"https://cdli.ucla.edu/search/search_results.php?SearchMode=Text&ObjectID=P005213\" title=\"to CDLI main page for this tablet\" sec=\"P005213\">tablet P005213</a>|<span  class=\"hl\" >2.a. [...] 2(N01)# , SZITA~a1 </span>|<span  class=\"hl hlup\" >SZITA~a1</span>|<span  class=\"hl\" >8.a. &#124;ZATU659x1(N01)&#124; , AN NIM~b3 </span>|<span  class=\"hl hlup\" >&#124;ZATU659x1(N01)&#124;</span>|<span  class=\"hl hlup\" >ZATU659</span>|<span  class=\"hl hlup\" >1(N01)</span>\n",
       "8| <a href=\"https://cdli.ucla.edu/search/search_results.php?SearchMode=Text&ObjectID=P005213\" title=\"to CDLI main page for this tablet\" sec=\"P005213\">P005213</a>|<a href=\"https://cdli.ucla.edu/search/search_results.php?SearchMode=Text&ObjectID=P005213\" title=\"to CDLI main page for this tablet\" sec=\"P005213\">tablet P005213</a>|<span  class=\"hl\" >2.a. [...] 2(N01)# , SZITA~a1 </span>|<span  class=\"hl hlup\" >SZITA~a1</span>|<span  class=\"hl\" >3.a. &#124;ZATU659x1(N01)&#124;# , SANGA~a# &#124;NI~a.RU&#124;# </span>|<span  class=\"hl hlup\" >&#124;ZATU659x1(N01)&#124;</span>|<span  class=\"hl hlup\" >ZATU659</span>|<span  class=\"hl hlup\" >1(N01)</span>\n",
       "9| <a href=\"https://cdli.ucla.edu/search/search_results.php?SearchMode=Text&ObjectID=P005213\" title=\"to CDLI main page for this tablet\" sec=\"P005213\">P005213</a>|<a href=\"https://cdli.ucla.edu/search/search_results.php?SearchMode=Text&ObjectID=P005213\" title=\"to CDLI main page for this tablet\" sec=\"P005213\">tablet P005213</a>|<span  class=\"hl\" >2.a. [...] 2(N01)# , SZITA~a1 </span>|<span  class=\"hl hlup\" >SZITA~a1</span>|<span  class=\"hl\" >2.a. &#124;ZATU659x1(N01)&#124;#? , &#124;KU6~a+KU6~a&#124; MU </span>|<span  class=\"hl hlup\" >&#124;ZATU659x1(N01)&#124;</span>|<span  class=\"hl hlup\" >ZATU659</span>|<span  class=\"hl hlup\" >1(N01)</span>\n",
       "10| <a href=\"https://cdli.ucla.edu/search/search_results.php?SearchMode=Text&ObjectID=P005213\" title=\"to CDLI main page for this tablet\" sec=\"P005213\">P005213</a>|<a href=\"https://cdli.ucla.edu/search/search_results.php?SearchMode=Text&ObjectID=P005213\" title=\"to CDLI main page for this tablet\" sec=\"P005213\">tablet P005213</a>|<span  class=\"hl\" >3.b. 2(N01) , SZITA~a1 </span>|<span  class=\"hl hlup\" >SZITA~a1</span>|<span  class=\"hl\" >4.a. &#124;ZATU659x1(N01)&#124;# , SAG# [...] </span>|<span  class=\"hl hlup\" >&#124;ZATU659x1(N01)&#124;</span>|<span  class=\"hl hlup\" >ZATU659</span>|<span  class=\"hl hlup\" >1(N01)</span>\n",
       "11| <a href=\"https://cdli.ucla.edu/search/search_results.php?SearchMode=Text&ObjectID=P005213\" title=\"to CDLI main page for this tablet\" sec=\"P005213\">P005213</a>|<a href=\"https://cdli.ucla.edu/search/search_results.php?SearchMode=Text&ObjectID=P005213\" title=\"to CDLI main page for this tablet\" sec=\"P005213\">tablet P005213</a>|<span  class=\"hl\" >3.b. 2(N01) , SZITA~a1 </span>|<span  class=\"hl hlup\" >SZITA~a1</span>|<span  class=\"hl\" >5.a. &#124;ZATU659x1(N01)&#124;# , SIG7# SAL#? X </span>|<span  class=\"hl hlup\" >&#124;ZATU659x1(N01)&#124;</span>|<span  class=\"hl hlup\" >ZATU659</span>|<span  class=\"hl hlup\" >1(N01)</span>\n",
       "12| <a href=\"https://cdli.ucla.edu/search/search_results.php?SearchMode=Text&ObjectID=P005213\" title=\"to CDLI main page for this tablet\" sec=\"P005213\">P005213</a>|<a href=\"https://cdli.ucla.edu/search/search_results.php?SearchMode=Text&ObjectID=P005213\" title=\"to CDLI main page for this tablet\" sec=\"P005213\">tablet P005213</a>|<span  class=\"hl\" >3.b. 2(N01) , SZITA~a1 </span>|<span  class=\"hl hlup\" >SZITA~a1</span>|<span  class=\"hl\" >6.a. &#124;ZATU659x1(N01)&#124; , TU~b HI SZA3~a2 </span>|<span  class=\"hl hlup\" >&#124;ZATU659x1(N01)&#124;</span>|<span  class=\"hl hlup\" >ZATU659</span>|<span  class=\"hl hlup\" >1(N01)</span>\n",
       "13| <a href=\"https://cdli.ucla.edu/search/search_results.php?SearchMode=Text&ObjectID=P005213\" title=\"to CDLI main page for this tablet\" sec=\"P005213\">P005213</a>|<a href=\"https://cdli.ucla.edu/search/search_results.php?SearchMode=Text&ObjectID=P005213\" title=\"to CDLI main page for this tablet\" sec=\"P005213\">tablet P005213</a>|<span  class=\"hl\" >3.b. 2(N01) , SZITA~a1 </span>|<span  class=\"hl hlup\" >SZITA~a1</span>|<span  class=\"hl\" >7.a. &#124;ZATU659x1(N01)&#124; , AMA~a AGAR2 </span>|<span  class=\"hl hlup\" >&#124;ZATU659x1(N01)&#124;</span>|<span  class=\"hl hlup\" >ZATU659</span>|<span  class=\"hl hlup\" >1(N01)</span>\n",
       "14| <a href=\"https://cdli.ucla.edu/search/search_results.php?SearchMode=Text&ObjectID=P005213\" title=\"to CDLI main page for this tablet\" sec=\"P005213\">P005213</a>|<a href=\"https://cdli.ucla.edu/search/search_results.php?SearchMode=Text&ObjectID=P005213\" title=\"to CDLI main page for this tablet\" sec=\"P005213\">tablet P005213</a>|<span  class=\"hl\" >3.b. 2(N01) , SZITA~a1 </span>|<span  class=\"hl hlup\" >SZITA~a1</span>|<span  class=\"hl\" >8.a. &#124;ZATU659x1(N01)&#124; , AN NIM~b3 </span>|<span  class=\"hl hlup\" >&#124;ZATU659x1(N01)&#124;</span>|<span  class=\"hl hlup\" >ZATU659</span>|<span  class=\"hl hlup\" >1(N01)</span>\n",
       "15| <a href=\"https://cdli.ucla.edu/search/search_results.php?SearchMode=Text&ObjectID=P005213\" title=\"to CDLI main page for this tablet\" sec=\"P005213\">P005213</a>|<a href=\"https://cdli.ucla.edu/search/search_results.php?SearchMode=Text&ObjectID=P005213\" title=\"to CDLI main page for this tablet\" sec=\"P005213\">tablet P005213</a>|<span  class=\"hl\" >3.b. 2(N01) , SZITA~a1 </span>|<span  class=\"hl hlup\" >SZITA~a1</span>|<span  class=\"hl\" >3.a. &#124;ZATU659x1(N01)&#124;# , SANGA~a# &#124;NI~a.RU&#124;# </span>|<span  class=\"hl hlup\" >&#124;ZATU659x1(N01)&#124;</span>|<span  class=\"hl hlup\" >ZATU659</span>|<span  class=\"hl hlup\" >1(N01)</span>\n",
       "16| <a href=\"https://cdli.ucla.edu/search/search_results.php?SearchMode=Text&ObjectID=P005213\" title=\"to CDLI main page for this tablet\" sec=\"P005213\">P005213</a>|<a href=\"https://cdli.ucla.edu/search/search_results.php?SearchMode=Text&ObjectID=P005213\" title=\"to CDLI main page for this tablet\" sec=\"P005213\">tablet P005213</a>|<span  class=\"hl\" >3.b. 2(N01) , SZITA~a1 </span>|<span  class=\"hl hlup\" >SZITA~a1</span>|<span  class=\"hl\" >2.a. &#124;ZATU659x1(N01)&#124;#? , &#124;KU6~a+KU6~a&#124; MU </span>|<span  class=\"hl hlup\" >&#124;ZATU659x1(N01)&#124;</span>|<span  class=\"hl hlup\" >ZATU659</span>|<span  class=\"hl hlup\" >1(N01)</span>\n",
       "17| <a href=\"https://cdli.ucla.edu/search/search_results.php?SearchMode=Text&ObjectID=P005213\" title=\"to CDLI main page for this tablet\" sec=\"P005213\">P005213</a>|<a href=\"https://cdli.ucla.edu/search/search_results.php?SearchMode=Text&ObjectID=P005213\" title=\"to CDLI main page for this tablet\" sec=\"P005213\">tablet P005213</a>|<span  class=\"hl\" >4.b. 1(N01) , SZITA~a1 </span>|<span  class=\"hl hlup\" >SZITA~a1</span>|<span  class=\"hl\" >4.a. &#124;ZATU659x1(N01)&#124;# , SAG# [...] </span>|<span  class=\"hl hlup\" >&#124;ZATU659x1(N01)&#124;</span>|<span  class=\"hl hlup\" >ZATU659</span>|<span  class=\"hl hlup\" >1(N01)</span>\n",
       "18| <a href=\"https://cdli.ucla.edu/search/search_results.php?SearchMode=Text&ObjectID=P005213\" title=\"to CDLI main page for this tablet\" sec=\"P005213\">P005213</a>|<a href=\"https://cdli.ucla.edu/search/search_results.php?SearchMode=Text&ObjectID=P005213\" title=\"to CDLI main page for this tablet\" sec=\"P005213\">tablet P005213</a>|<span  class=\"hl\" >4.b. 1(N01) , SZITA~a1 </span>|<span  class=\"hl hlup\" >SZITA~a1</span>|<span  class=\"hl\" >5.a. &#124;ZATU659x1(N01)&#124;# , SIG7# SAL#? X </span>|<span  class=\"hl hlup\" >&#124;ZATU659x1(N01)&#124;</span>|<span  class=\"hl hlup\" >ZATU659</span>|<span  class=\"hl hlup\" >1(N01)</span>\n",
       "19| <a href=\"https://cdli.ucla.edu/search/search_results.php?SearchMode=Text&ObjectID=P005213\" title=\"to CDLI main page for this tablet\" sec=\"P005213\">P005213</a>|<a href=\"https://cdli.ucla.edu/search/search_results.php?SearchMode=Text&ObjectID=P005213\" title=\"to CDLI main page for this tablet\" sec=\"P005213\">tablet P005213</a>|<span  class=\"hl\" >4.b. 1(N01) , SZITA~a1 </span>|<span  class=\"hl hlup\" >SZITA~a1</span>|<span  class=\"hl\" >6.a. &#124;ZATU659x1(N01)&#124; , TU~b HI SZA3~a2 </span>|<span  class=\"hl hlup\" >&#124;ZATU659x1(N01)&#124;</span>|<span  class=\"hl hlup\" >ZATU659</span>|<span  class=\"hl hlup\" >1(N01)</span>\n",
       "20| <a href=\"https://cdli.ucla.edu/search/search_results.php?SearchMode=Text&ObjectID=P005213\" title=\"to CDLI main page for this tablet\" sec=\"P005213\">P005213</a>|<a href=\"https://cdli.ucla.edu/search/search_results.php?SearchMode=Text&ObjectID=P005213\" title=\"to CDLI main page for this tablet\" sec=\"P005213\">tablet P005213</a>|<span  class=\"hl\" >4.b. 1(N01) , SZITA~a1 </span>|<span  class=\"hl hlup\" >SZITA~a1</span>|<span  class=\"hl\" >7.a. &#124;ZATU659x1(N01)&#124; , AMA~a AGAR2 </span>|<span  class=\"hl hlup\" >&#124;ZATU659x1(N01)&#124;</span>|<span  class=\"hl hlup\" >ZATU659</span>|<span  class=\"hl hlup\" >1(N01)</span>\n",
       "21| <a href=\"https://cdli.ucla.edu/search/search_results.php?SearchMode=Text&ObjectID=P005213\" title=\"to CDLI main page for this tablet\" sec=\"P005213\">P005213</a>|<a href=\"https://cdli.ucla.edu/search/search_results.php?SearchMode=Text&ObjectID=P005213\" title=\"to CDLI main page for this tablet\" sec=\"P005213\">tablet P005213</a>|<span  class=\"hl\" >4.b. 1(N01) , SZITA~a1 </span>|<span  class=\"hl hlup\" >SZITA~a1</span>|<span  class=\"hl\" >8.a. &#124;ZATU659x1(N01)&#124; , AN NIM~b3 </span>|<span  class=\"hl hlup\" >&#124;ZATU659x1(N01)&#124;</span>|<span  class=\"hl hlup\" >ZATU659</span>|<span  class=\"hl hlup\" >1(N01)</span>\n",
       "22| <a href=\"https://cdli.ucla.edu/search/search_results.php?SearchMode=Text&ObjectID=P005213\" title=\"to CDLI main page for this tablet\" sec=\"P005213\">P005213</a>|<a href=\"https://cdli.ucla.edu/search/search_results.php?SearchMode=Text&ObjectID=P005213\" title=\"to CDLI main page for this tablet\" sec=\"P005213\">tablet P005213</a>|<span  class=\"hl\" >4.b. 1(N01) , SZITA~a1 </span>|<span  class=\"hl hlup\" >SZITA~a1</span>|<span  class=\"hl\" >3.a. &#124;ZATU659x1(N01)&#124;# , SANGA~a# &#124;NI~a.RU&#124;# </span>|<span  class=\"hl hlup\" >&#124;ZATU659x1(N01)&#124;</span>|<span  class=\"hl hlup\" >ZATU659</span>|<span  class=\"hl hlup\" >1(N01)</span>\n",
       "23| <a href=\"https://cdli.ucla.edu/search/search_results.php?SearchMode=Text&ObjectID=P005213\" title=\"to CDLI main page for this tablet\" sec=\"P005213\">P005213</a>|<a href=\"https://cdli.ucla.edu/search/search_results.php?SearchMode=Text&ObjectID=P005213\" title=\"to CDLI main page for this tablet\" sec=\"P005213\">tablet P005213</a>|<span  class=\"hl\" >4.b. 1(N01) , SZITA~a1 </span>|<span  class=\"hl hlup\" >SZITA~a1</span>|<span  class=\"hl\" >2.a. &#124;ZATU659x1(N01)&#124;#? , &#124;KU6~a+KU6~a&#124; MU </span>|<span  class=\"hl hlup\" >&#124;ZATU659x1(N01)&#124;</span>|<span  class=\"hl hlup\" >ZATU659</span>|<span  class=\"hl hlup\" >1(N01)</span>\n",
       "24| <a href=\"https://cdli.ucla.edu/search/search_results.php?SearchMode=Text&ObjectID=P005213\" title=\"to CDLI main page for this tablet\" sec=\"P005213\">P005213</a>|<a href=\"https://cdli.ucla.edu/search/search_results.php?SearchMode=Text&ObjectID=P005213\" title=\"to CDLI main page for this tablet\" sec=\"P005213\">tablet P005213</a>|<span  class=\"hl\" >6.b. 1(N01) , SZITA~a1 </span>|<span  class=\"hl hlup\" >SZITA~a1</span>|<span  class=\"hl\" >4.a. &#124;ZATU659x1(N01)&#124;# , SAG# [...] </span>|<span  class=\"hl hlup\" >&#124;ZATU659x1(N01)&#124;</span>|<span  class=\"hl hlup\" >ZATU659</span>|<span  class=\"hl hlup\" >1(N01)</span>\n",
       "25| <a href=\"https://cdli.ucla.edu/search/search_results.php?SearchMode=Text&ObjectID=P005213\" title=\"to CDLI main page for this tablet\" sec=\"P005213\">P005213</a>|<a href=\"https://cdli.ucla.edu/search/search_results.php?SearchMode=Text&ObjectID=P005213\" title=\"to CDLI main page for this tablet\" sec=\"P005213\">tablet P005213</a>|<span  class=\"hl\" >6.b. 1(N01) , SZITA~a1 </span>|<span  class=\"hl hlup\" >SZITA~a1</span>|<span  class=\"hl\" >5.a. &#124;ZATU659x1(N01)&#124;# , SIG7# SAL#? X </span>|<span  class=\"hl hlup\" >&#124;ZATU659x1(N01)&#124;</span>|<span  class=\"hl hlup\" >ZATU659</span>|<span  class=\"hl hlup\" >1(N01)</span>\n",
       "26| <a href=\"https://cdli.ucla.edu/search/search_results.php?SearchMode=Text&ObjectID=P005213\" title=\"to CDLI main page for this tablet\" sec=\"P005213\">P005213</a>|<a href=\"https://cdli.ucla.edu/search/search_results.php?SearchMode=Text&ObjectID=P005213\" title=\"to CDLI main page for this tablet\" sec=\"P005213\">tablet P005213</a>|<span  class=\"hl\" >6.b. 1(N01) , SZITA~a1 </span>|<span  class=\"hl hlup\" >SZITA~a1</span>|<span  class=\"hl\" >6.a. &#124;ZATU659x1(N01)&#124; , TU~b HI SZA3~a2 </span>|<span  class=\"hl hlup\" >&#124;ZATU659x1(N01)&#124;</span>|<span  class=\"hl hlup\" >ZATU659</span>|<span  class=\"hl hlup\" >1(N01)</span>\n",
       "27| <a href=\"https://cdli.ucla.edu/search/search_results.php?SearchMode=Text&ObjectID=P005213\" title=\"to CDLI main page for this tablet\" sec=\"P005213\">P005213</a>|<a href=\"https://cdli.ucla.edu/search/search_results.php?SearchMode=Text&ObjectID=P005213\" title=\"to CDLI main page for this tablet\" sec=\"P005213\">tablet P005213</a>|<span  class=\"hl\" >6.b. 1(N01) , SZITA~a1 </span>|<span  class=\"hl hlup\" >SZITA~a1</span>|<span  class=\"hl\" >7.a. &#124;ZATU659x1(N01)&#124; , AMA~a AGAR2 </span>|<span  class=\"hl hlup\" >&#124;ZATU659x1(N01)&#124;</span>|<span  class=\"hl hlup\" >ZATU659</span>|<span  class=\"hl hlup\" >1(N01)</span>\n",
       "28| <a href=\"https://cdli.ucla.edu/search/search_results.php?SearchMode=Text&ObjectID=P005213\" title=\"to CDLI main page for this tablet\" sec=\"P005213\">P005213</a>|<a href=\"https://cdli.ucla.edu/search/search_results.php?SearchMode=Text&ObjectID=P005213\" title=\"to CDLI main page for this tablet\" sec=\"P005213\">tablet P005213</a>|<span  class=\"hl\" >6.b. 1(N01) , SZITA~a1 </span>|<span  class=\"hl hlup\" >SZITA~a1</span>|<span  class=\"hl\" >8.a. &#124;ZATU659x1(N01)&#124; , AN NIM~b3 </span>|<span  class=\"hl hlup\" >&#124;ZATU659x1(N01)&#124;</span>|<span  class=\"hl hlup\" >ZATU659</span>|<span  class=\"hl hlup\" >1(N01)</span>\n",
       "29| <a href=\"https://cdli.ucla.edu/search/search_results.php?SearchMode=Text&ObjectID=P005213\" title=\"to CDLI main page for this tablet\" sec=\"P005213\">P005213</a>|<a href=\"https://cdli.ucla.edu/search/search_results.php?SearchMode=Text&ObjectID=P005213\" title=\"to CDLI main page for this tablet\" sec=\"P005213\">tablet P005213</a>|<span  class=\"hl\" >6.b. 1(N01) , SZITA~a1 </span>|<span  class=\"hl hlup\" >SZITA~a1</span>|<span  class=\"hl\" >3.a. &#124;ZATU659x1(N01)&#124;# , SANGA~a# &#124;NI~a.RU&#124;# </span>|<span  class=\"hl hlup\" >&#124;ZATU659x1(N01)&#124;</span>|<span  class=\"hl hlup\" >ZATU659</span>|<span  class=\"hl hlup\" >1(N01)</span>\n",
       "30| <a href=\"https://cdli.ucla.edu/search/search_results.php?SearchMode=Text&ObjectID=P005213\" title=\"to CDLI main page for this tablet\" sec=\"P005213\">P005213</a>|<a href=\"https://cdli.ucla.edu/search/search_results.php?SearchMode=Text&ObjectID=P005213\" title=\"to CDLI main page for this tablet\" sec=\"P005213\">tablet P005213</a>|<span  class=\"hl\" >6.b. 1(N01) , SZITA~a1 </span>|<span  class=\"hl hlup\" >SZITA~a1</span>|<span  class=\"hl\" >2.a. &#124;ZATU659x1(N01)&#124;#? , &#124;KU6~a+KU6~a&#124; MU </span>|<span  class=\"hl hlup\" >&#124;ZATU659x1(N01)&#124;</span>|<span  class=\"hl hlup\" >ZATU659</span>|<span  class=\"hl hlup\" >1(N01)</span>\n",
       "31| <a href=\"https://cdli.ucla.edu/search/search_results.php?SearchMode=Text&ObjectID=P005213\" title=\"to CDLI main page for this tablet\" sec=\"P005213\">P005213</a>|<a href=\"https://cdli.ucla.edu/search/search_results.php?SearchMode=Text&ObjectID=P005213\" title=\"to CDLI main page for this tablet\" sec=\"P005213\">tablet P005213</a>|<span  class=\"hl\" >7.b. 1(N01) , SZITA~a1 </span>|<span  class=\"hl hlup\" >SZITA~a1</span>|<span  class=\"hl\" >4.a. &#124;ZATU659x1(N01)&#124;# , SAG# [...] </span>|<span  class=\"hl hlup\" >&#124;ZATU659x1(N01)&#124;</span>|<span  class=\"hl hlup\" >ZATU659</span>|<span  class=\"hl hlup\" >1(N01)</span>\n",
       "32| <a href=\"https://cdli.ucla.edu/search/search_results.php?SearchMode=Text&ObjectID=P005213\" title=\"to CDLI main page for this tablet\" sec=\"P005213\">P005213</a>|<a href=\"https://cdli.ucla.edu/search/search_results.php?SearchMode=Text&ObjectID=P005213\" title=\"to CDLI main page for this tablet\" sec=\"P005213\">tablet P005213</a>|<span  class=\"hl\" >7.b. 1(N01) , SZITA~a1 </span>|<span  class=\"hl hlup\" >SZITA~a1</span>|<span  class=\"hl\" >5.a. &#124;ZATU659x1(N01)&#124;# , SIG7# SAL#? X </span>|<span  class=\"hl hlup\" >&#124;ZATU659x1(N01)&#124;</span>|<span  class=\"hl hlup\" >ZATU659</span>|<span  class=\"hl hlup\" >1(N01)</span>\n",
       "33| <a href=\"https://cdli.ucla.edu/search/search_results.php?SearchMode=Text&ObjectID=P005213\" title=\"to CDLI main page for this tablet\" sec=\"P005213\">P005213</a>|<a href=\"https://cdli.ucla.edu/search/search_results.php?SearchMode=Text&ObjectID=P005213\" title=\"to CDLI main page for this tablet\" sec=\"P005213\">tablet P005213</a>|<span  class=\"hl\" >7.b. 1(N01) , SZITA~a1 </span>|<span  class=\"hl hlup\" >SZITA~a1</span>|<span  class=\"hl\" >6.a. &#124;ZATU659x1(N01)&#124; , TU~b HI SZA3~a2 </span>|<span  class=\"hl hlup\" >&#124;ZATU659x1(N01)&#124;</span>|<span  class=\"hl hlup\" >ZATU659</span>|<span  class=\"hl hlup\" >1(N01)</span>\n",
       "34| <a href=\"https://cdli.ucla.edu/search/search_results.php?SearchMode=Text&ObjectID=P005213\" title=\"to CDLI main page for this tablet\" sec=\"P005213\">P005213</a>|<a href=\"https://cdli.ucla.edu/search/search_results.php?SearchMode=Text&ObjectID=P005213\" title=\"to CDLI main page for this tablet\" sec=\"P005213\">tablet P005213</a>|<span  class=\"hl\" >7.b. 1(N01) , SZITA~a1 </span>|<span  class=\"hl hlup\" >SZITA~a1</span>|<span  class=\"hl\" >7.a. &#124;ZATU659x1(N01)&#124; , AMA~a AGAR2 </span>|<span  class=\"hl hlup\" >&#124;ZATU659x1(N01)&#124;</span>|<span  class=\"hl hlup\" >ZATU659</span>|<span  class=\"hl hlup\" >1(N01)</span>\n",
       "35| <a href=\"https://cdli.ucla.edu/search/search_results.php?SearchMode=Text&ObjectID=P005213\" title=\"to CDLI main page for this tablet\" sec=\"P005213\">P005213</a>|<a href=\"https://cdli.ucla.edu/search/search_results.php?SearchMode=Text&ObjectID=P005213\" title=\"to CDLI main page for this tablet\" sec=\"P005213\">tablet P005213</a>|<span  class=\"hl\" >7.b. 1(N01) , SZITA~a1 </span>|<span  class=\"hl hlup\" >SZITA~a1</span>|<span  class=\"hl\" >8.a. &#124;ZATU659x1(N01)&#124; , AN NIM~b3 </span>|<span  class=\"hl hlup\" >&#124;ZATU659x1(N01)&#124;</span>|<span  class=\"hl hlup\" >ZATU659</span>|<span  class=\"hl hlup\" >1(N01)</span>\n",
       "36| <a href=\"https://cdli.ucla.edu/search/search_results.php?SearchMode=Text&ObjectID=P005213\" title=\"to CDLI main page for this tablet\" sec=\"P005213\">P005213</a>|<a href=\"https://cdli.ucla.edu/search/search_results.php?SearchMode=Text&ObjectID=P005213\" title=\"to CDLI main page for this tablet\" sec=\"P005213\">tablet P005213</a>|<span  class=\"hl\" >7.b. 1(N01) , SZITA~a1 </span>|<span  class=\"hl hlup\" >SZITA~a1</span>|<span  class=\"hl\" >3.a. &#124;ZATU659x1(N01)&#124;# , SANGA~a# &#124;NI~a.RU&#124;# </span>|<span  class=\"hl hlup\" >&#124;ZATU659x1(N01)&#124;</span>|<span  class=\"hl hlup\" >ZATU659</span>|<span  class=\"hl hlup\" >1(N01)</span>\n",
       "37| <a href=\"https://cdli.ucla.edu/search/search_results.php?SearchMode=Text&ObjectID=P005213\" title=\"to CDLI main page for this tablet\" sec=\"P005213\">P005213</a>|<a href=\"https://cdli.ucla.edu/search/search_results.php?SearchMode=Text&ObjectID=P005213\" title=\"to CDLI main page for this tablet\" sec=\"P005213\">tablet P005213</a>|<span  class=\"hl\" >7.b. 1(N01) , SZITA~a1 </span>|<span  class=\"hl hlup\" >SZITA~a1</span>|<span  class=\"hl\" >2.a. &#124;ZATU659x1(N01)&#124;#? , &#124;KU6~a+KU6~a&#124; MU </span>|<span  class=\"hl hlup\" >&#124;ZATU659x1(N01)&#124;</span>|<span  class=\"hl hlup\" >ZATU659</span>|<span  class=\"hl hlup\" >1(N01)</span>\n",
       "38| <a href=\"https://cdli.ucla.edu/search/search_results.php?SearchMode=Text&ObjectID=P005213\" title=\"to CDLI main page for this tablet\" sec=\"P005213\">P005213</a>|<a href=\"https://cdli.ucla.edu/search/search_results.php?SearchMode=Text&ObjectID=P005213\" title=\"to CDLI main page for this tablet\" sec=\"P005213\">tablet P005213</a>|<span  class=\"hl\" >8.b. 1(N01) , SZITA~a1 </span>|<span  class=\"hl hlup\" >SZITA~a1</span>|<span  class=\"hl\" >4.a. &#124;ZATU659x1(N01)&#124;# , SAG# [...] </span>|<span  class=\"hl hlup\" >&#124;ZATU659x1(N01)&#124;</span>|<span  class=\"hl hlup\" >ZATU659</span>|<span  class=\"hl hlup\" >1(N01)</span>\n",
       "39| <a href=\"https://cdli.ucla.edu/search/search_results.php?SearchMode=Text&ObjectID=P005213\" title=\"to CDLI main page for this tablet\" sec=\"P005213\">P005213</a>|<a href=\"https://cdli.ucla.edu/search/search_results.php?SearchMode=Text&ObjectID=P005213\" title=\"to CDLI main page for this tablet\" sec=\"P005213\">tablet P005213</a>|<span  class=\"hl\" >8.b. 1(N01) , SZITA~a1 </span>|<span  class=\"hl hlup\" >SZITA~a1</span>|<span  class=\"hl\" >5.a. &#124;ZATU659x1(N01)&#124;# , SIG7# SAL#? X </span>|<span  class=\"hl hlup\" >&#124;ZATU659x1(N01)&#124;</span>|<span  class=\"hl hlup\" >ZATU659</span>|<span  class=\"hl hlup\" >1(N01)</span>\n",
       "40| <a href=\"https://cdli.ucla.edu/search/search_results.php?SearchMode=Text&ObjectID=P005213\" title=\"to CDLI main page for this tablet\" sec=\"P005213\">P005213</a>|<a href=\"https://cdli.ucla.edu/search/search_results.php?SearchMode=Text&ObjectID=P005213\" title=\"to CDLI main page for this tablet\" sec=\"P005213\">tablet P005213</a>|<span  class=\"hl\" >8.b. 1(N01) , SZITA~a1 </span>|<span  class=\"hl hlup\" >SZITA~a1</span>|<span  class=\"hl\" >6.a. &#124;ZATU659x1(N01)&#124; , TU~b HI SZA3~a2 </span>|<span  class=\"hl hlup\" >&#124;ZATU659x1(N01)&#124;</span>|<span  class=\"hl hlup\" >ZATU659</span>|<span  class=\"hl hlup\" >1(N01)</span>\n",
       "41| <a href=\"https://cdli.ucla.edu/search/search_results.php?SearchMode=Text&ObjectID=P005213\" title=\"to CDLI main page for this tablet\" sec=\"P005213\">P005213</a>|<a href=\"https://cdli.ucla.edu/search/search_results.php?SearchMode=Text&ObjectID=P005213\" title=\"to CDLI main page for this tablet\" sec=\"P005213\">tablet P005213</a>|<span  class=\"hl\" >8.b. 1(N01) , SZITA~a1 </span>|<span  class=\"hl hlup\" >SZITA~a1</span>|<span  class=\"hl\" >7.a. &#124;ZATU659x1(N01)&#124; , AMA~a AGAR2 </span>|<span  class=\"hl hlup\" >&#124;ZATU659x1(N01)&#124;</span>|<span  class=\"hl hlup\" >ZATU659</span>|<span  class=\"hl hlup\" >1(N01)</span>\n",
       "42| <a href=\"https://cdli.ucla.edu/search/search_results.php?SearchMode=Text&ObjectID=P005213\" title=\"to CDLI main page for this tablet\" sec=\"P005213\">P005213</a>|<a href=\"https://cdli.ucla.edu/search/search_results.php?SearchMode=Text&ObjectID=P005213\" title=\"to CDLI main page for this tablet\" sec=\"P005213\">tablet P005213</a>|<span  class=\"hl\" >8.b. 1(N01) , SZITA~a1 </span>|<span  class=\"hl hlup\" >SZITA~a1</span>|<span  class=\"hl\" >8.a. &#124;ZATU659x1(N01)&#124; , AN NIM~b3 </span>|<span  class=\"hl hlup\" >&#124;ZATU659x1(N01)&#124;</span>|<span  class=\"hl hlup\" >ZATU659</span>|<span  class=\"hl hlup\" >1(N01)</span>\n",
       "43| <a href=\"https://cdli.ucla.edu/search/search_results.php?SearchMode=Text&ObjectID=P005213\" title=\"to CDLI main page for this tablet\" sec=\"P005213\">P005213</a>|<a href=\"https://cdli.ucla.edu/search/search_results.php?SearchMode=Text&ObjectID=P005213\" title=\"to CDLI main page for this tablet\" sec=\"P005213\">tablet P005213</a>|<span  class=\"hl\" >8.b. 1(N01) , SZITA~a1 </span>|<span  class=\"hl hlup\" >SZITA~a1</span>|<span  class=\"hl\" >3.a. &#124;ZATU659x1(N01)&#124;# , SANGA~a# &#124;NI~a.RU&#124;# </span>|<span  class=\"hl hlup\" >&#124;ZATU659x1(N01)&#124;</span>|<span  class=\"hl hlup\" >ZATU659</span>|<span  class=\"hl hlup\" >1(N01)</span>\n",
       "44| <a href=\"https://cdli.ucla.edu/search/search_results.php?SearchMode=Text&ObjectID=P005213\" title=\"to CDLI main page for this tablet\" sec=\"P005213\">P005213</a>|<a href=\"https://cdli.ucla.edu/search/search_results.php?SearchMode=Text&ObjectID=P005213\" title=\"to CDLI main page for this tablet\" sec=\"P005213\">tablet P005213</a>|<span  class=\"hl\" >8.b. 1(N01) , SZITA~a1 </span>|<span  class=\"hl hlup\" >SZITA~a1</span>|<span  class=\"hl\" >2.a. &#124;ZATU659x1(N01)&#124;#? , &#124;KU6~a+KU6~a&#124; MU </span>|<span  class=\"hl hlup\" >&#124;ZATU659x1(N01)&#124;</span>|<span  class=\"hl hlup\" >ZATU659</span>|<span  class=\"hl hlup\" >1(N01)</span>\n",
       "45| <a href=\"https://cdli.ucla.edu/search/search_results.php?SearchMode=Text&ObjectID=P005213\" title=\"to CDLI main page for this tablet\" sec=\"P005213\">P005213</a>|<a href=\"https://cdli.ucla.edu/search/search_results.php?SearchMode=Text&ObjectID=P005213\" title=\"to CDLI main page for this tablet\" sec=\"P005213\">tablet P005213</a>|<span  class=\"hl\" >1.b. 1(N01) , SZITA~a1 </span>|<span  class=\"hl hlup\" >SZITA~a1</span>|<span  class=\"hl\" >4.a. &#124;ZATU659x1(N01)&#124;# , SAG# [...] </span>|<span  class=\"hl hlup\" >&#124;ZATU659x1(N01)&#124;</span>|<span  class=\"hl hlup\" >ZATU659</span>|<span  class=\"hl hlup\" >1(N01)</span>\n",
       "46| <a href=\"https://cdli.ucla.edu/search/search_results.php?SearchMode=Text&ObjectID=P005213\" title=\"to CDLI main page for this tablet\" sec=\"P005213\">P005213</a>|<a href=\"https://cdli.ucla.edu/search/search_results.php?SearchMode=Text&ObjectID=P005213\" title=\"to CDLI main page for this tablet\" sec=\"P005213\">tablet P005213</a>|<span  class=\"hl\" >1.b. 1(N01) , SZITA~a1 </span>|<span  class=\"hl hlup\" >SZITA~a1</span>|<span  class=\"hl\" >5.a. &#124;ZATU659x1(N01)&#124;# , SIG7# SAL#? X </span>|<span  class=\"hl hlup\" >&#124;ZATU659x1(N01)&#124;</span>|<span  class=\"hl hlup\" >ZATU659</span>|<span  class=\"hl hlup\" >1(N01)</span>\n",
       "47| <a href=\"https://cdli.ucla.edu/search/search_results.php?SearchMode=Text&ObjectID=P005213\" title=\"to CDLI main page for this tablet\" sec=\"P005213\">P005213</a>|<a href=\"https://cdli.ucla.edu/search/search_results.php?SearchMode=Text&ObjectID=P005213\" title=\"to CDLI main page for this tablet\" sec=\"P005213\">tablet P005213</a>|<span  class=\"hl\" >1.b. 1(N01) , SZITA~a1 </span>|<span  class=\"hl hlup\" >SZITA~a1</span>|<span  class=\"hl\" >6.a. &#124;ZATU659x1(N01)&#124; , TU~b HI SZA3~a2 </span>|<span  class=\"hl hlup\" >&#124;ZATU659x1(N01)&#124;</span>|<span  class=\"hl hlup\" >ZATU659</span>|<span  class=\"hl hlup\" >1(N01)</span>\n",
       "48| <a href=\"https://cdli.ucla.edu/search/search_results.php?SearchMode=Text&ObjectID=P005213\" title=\"to CDLI main page for this tablet\" sec=\"P005213\">P005213</a>|<a href=\"https://cdli.ucla.edu/search/search_results.php?SearchMode=Text&ObjectID=P005213\" title=\"to CDLI main page for this tablet\" sec=\"P005213\">tablet P005213</a>|<span  class=\"hl\" >1.b. 1(N01) , SZITA~a1 </span>|<span  class=\"hl hlup\" >SZITA~a1</span>|<span  class=\"hl\" >7.a. &#124;ZATU659x1(N01)&#124; , AMA~a AGAR2 </span>|<span  class=\"hl hlup\" >&#124;ZATU659x1(N01)&#124;</span>|<span  class=\"hl hlup\" >ZATU659</span>|<span  class=\"hl hlup\" >1(N01)</span>\n",
       "49| <a href=\"https://cdli.ucla.edu/search/search_results.php?SearchMode=Text&ObjectID=P005213\" title=\"to CDLI main page for this tablet\" sec=\"P005213\">P005213</a>|<a href=\"https://cdli.ucla.edu/search/search_results.php?SearchMode=Text&ObjectID=P005213\" title=\"to CDLI main page for this tablet\" sec=\"P005213\">tablet P005213</a>|<span  class=\"hl\" >1.b. 1(N01) , SZITA~a1 </span>|<span  class=\"hl hlup\" >SZITA~a1</span>|<span  class=\"hl\" >8.a. &#124;ZATU659x1(N01)&#124; , AN NIM~b3 </span>|<span  class=\"hl hlup\" >&#124;ZATU659x1(N01)&#124;</span>|<span  class=\"hl hlup\" >ZATU659</span>|<span  class=\"hl hlup\" >1(N01)</span>\n",
       "50| <a href=\"https://cdli.ucla.edu/search/search_results.php?SearchMode=Text&ObjectID=P005213\" title=\"to CDLI main page for this tablet\" sec=\"P005213\">P005213</a>|<a href=\"https://cdli.ucla.edu/search/search_results.php?SearchMode=Text&ObjectID=P005213\" title=\"to CDLI main page for this tablet\" sec=\"P005213\">tablet P005213</a>|<span  class=\"hl\" >1.b. 1(N01) , SZITA~a1 </span>|<span  class=\"hl hlup\" >SZITA~a1</span>|<span  class=\"hl\" >3.a. &#124;ZATU659x1(N01)&#124;# , SANGA~a# &#124;NI~a.RU&#124;# </span>|<span  class=\"hl hlup\" >&#124;ZATU659x1(N01)&#124;</span>|<span  class=\"hl hlup\" >ZATU659</span>|<span  class=\"hl hlup\" >1(N01)</span>\n",
       "51| <a href=\"https://cdli.ucla.edu/search/search_results.php?SearchMode=Text&ObjectID=P005213\" title=\"to CDLI main page for this tablet\" sec=\"P005213\">P005213</a>|<a href=\"https://cdli.ucla.edu/search/search_results.php?SearchMode=Text&ObjectID=P005213\" title=\"to CDLI main page for this tablet\" sec=\"P005213\">tablet P005213</a>|<span  class=\"hl\" >1.b. 1(N01) , SZITA~a1 </span>|<span  class=\"hl hlup\" >SZITA~a1</span>|<span  class=\"hl\" >2.a. &#124;ZATU659x1(N01)&#124;#? , &#124;KU6~a+KU6~a&#124; MU </span>|<span  class=\"hl hlup\" >&#124;ZATU659x1(N01)&#124;</span>|<span  class=\"hl hlup\" >ZATU659</span>|<span  class=\"hl hlup\" >1(N01)</span>\n",
       "52| <a href=\"https://cdli.ucla.edu/search/search_results.php?SearchMode=Text&ObjectID=P005213\" title=\"to CDLI main page for this tablet\" sec=\"P005213\">P005213</a>|<a href=\"https://cdli.ucla.edu/search/search_results.php?SearchMode=Text&ObjectID=P005213\" title=\"to CDLI main page for this tablet\" sec=\"P005213\">tablet P005213</a>|<span  class=\"hl\" >2.b. 1(N01) , SZITA~a1 </span>|<span  class=\"hl hlup\" >SZITA~a1</span>|<span  class=\"hl\" >4.a. &#124;ZATU659x1(N01)&#124;# , SAG# [...] </span>|<span  class=\"hl hlup\" >&#124;ZATU659x1(N01)&#124;</span>|<span  class=\"hl hlup\" >ZATU659</span>|<span  class=\"hl hlup\" >1(N01)</span>\n",
       "53| <a href=\"https://cdli.ucla.edu/search/search_results.php?SearchMode=Text&ObjectID=P005213\" title=\"to CDLI main page for this tablet\" sec=\"P005213\">P005213</a>|<a href=\"https://cdli.ucla.edu/search/search_results.php?SearchMode=Text&ObjectID=P005213\" title=\"to CDLI main page for this tablet\" sec=\"P005213\">tablet P005213</a>|<span  class=\"hl\" >2.b. 1(N01) , SZITA~a1 </span>|<span  class=\"hl hlup\" >SZITA~a1</span>|<span  class=\"hl\" >5.a. &#124;ZATU659x1(N01)&#124;# , SIG7# SAL#? X </span>|<span  class=\"hl hlup\" >&#124;ZATU659x1(N01)&#124;</span>|<span  class=\"hl hlup\" >ZATU659</span>|<span  class=\"hl hlup\" >1(N01)</span>\n",
       "54| <a href=\"https://cdli.ucla.edu/search/search_results.php?SearchMode=Text&ObjectID=P005213\" title=\"to CDLI main page for this tablet\" sec=\"P005213\">P005213</a>|<a href=\"https://cdli.ucla.edu/search/search_results.php?SearchMode=Text&ObjectID=P005213\" title=\"to CDLI main page for this tablet\" sec=\"P005213\">tablet P005213</a>|<span  class=\"hl\" >2.b. 1(N01) , SZITA~a1 </span>|<span  class=\"hl hlup\" >SZITA~a1</span>|<span  class=\"hl\" >6.a. &#124;ZATU659x1(N01)&#124; , TU~b HI SZA3~a2 </span>|<span  class=\"hl hlup\" >&#124;ZATU659x1(N01)&#124;</span>|<span  class=\"hl hlup\" >ZATU659</span>|<span  class=\"hl hlup\" >1(N01)</span>\n",
       "55| <a href=\"https://cdli.ucla.edu/search/search_results.php?SearchMode=Text&ObjectID=P005213\" title=\"to CDLI main page for this tablet\" sec=\"P005213\">P005213</a>|<a href=\"https://cdli.ucla.edu/search/search_results.php?SearchMode=Text&ObjectID=P005213\" title=\"to CDLI main page for this tablet\" sec=\"P005213\">tablet P005213</a>|<span  class=\"hl\" >2.b. 1(N01) , SZITA~a1 </span>|<span  class=\"hl hlup\" >SZITA~a1</span>|<span  class=\"hl\" >7.a. &#124;ZATU659x1(N01)&#124; , AMA~a AGAR2 </span>|<span  class=\"hl hlup\" >&#124;ZATU659x1(N01)&#124;</span>|<span  class=\"hl hlup\" >ZATU659</span>|<span  class=\"hl hlup\" >1(N01)</span>\n",
       "56| <a href=\"https://cdli.ucla.edu/search/search_results.php?SearchMode=Text&ObjectID=P005213\" title=\"to CDLI main page for this tablet\" sec=\"P005213\">P005213</a>|<a href=\"https://cdli.ucla.edu/search/search_results.php?SearchMode=Text&ObjectID=P005213\" title=\"to CDLI main page for this tablet\" sec=\"P005213\">tablet P005213</a>|<span  class=\"hl\" >2.b. 1(N01) , SZITA~a1 </span>|<span  class=\"hl hlup\" >SZITA~a1</span>|<span  class=\"hl\" >8.a. &#124;ZATU659x1(N01)&#124; , AN NIM~b3 </span>|<span  class=\"hl hlup\" >&#124;ZATU659x1(N01)&#124;</span>|<span  class=\"hl hlup\" >ZATU659</span>|<span  class=\"hl hlup\" >1(N01)</span>\n",
       "57| <a href=\"https://cdli.ucla.edu/search/search_results.php?SearchMode=Text&ObjectID=P005213\" title=\"to CDLI main page for this tablet\" sec=\"P005213\">P005213</a>|<a href=\"https://cdli.ucla.edu/search/search_results.php?SearchMode=Text&ObjectID=P005213\" title=\"to CDLI main page for this tablet\" sec=\"P005213\">tablet P005213</a>|<span  class=\"hl\" >2.b. 1(N01) , SZITA~a1 </span>|<span  class=\"hl hlup\" >SZITA~a1</span>|<span  class=\"hl\" >3.a. &#124;ZATU659x1(N01)&#124;# , SANGA~a# &#124;NI~a.RU&#124;# </span>|<span  class=\"hl hlup\" >&#124;ZATU659x1(N01)&#124;</span>|<span  class=\"hl hlup\" >ZATU659</span>|<span  class=\"hl hlup\" >1(N01)</span>\n",
       "58| <a href=\"https://cdli.ucla.edu/search/search_results.php?SearchMode=Text&ObjectID=P005213\" title=\"to CDLI main page for this tablet\" sec=\"P005213\">P005213</a>|<a href=\"https://cdli.ucla.edu/search/search_results.php?SearchMode=Text&ObjectID=P005213\" title=\"to CDLI main page for this tablet\" sec=\"P005213\">tablet P005213</a>|<span  class=\"hl\" >2.b. 1(N01) , SZITA~a1 </span>|<span  class=\"hl hlup\" >SZITA~a1</span>|<span  class=\"hl\" >2.a. &#124;ZATU659x1(N01)&#124;#? , &#124;KU6~a+KU6~a&#124; MU </span>|<span  class=\"hl hlup\" >&#124;ZATU659x1(N01)&#124;</span>|<span  class=\"hl hlup\" >ZATU659</span>|<span  class=\"hl hlup\" >1(N01)</span>\n",
       "59| <a href=\"https://cdli.ucla.edu/search/search_results.php?SearchMode=Text&ObjectID=P005213\" title=\"to CDLI main page for this tablet\" sec=\"P005213\">P005213</a>|<a href=\"https://cdli.ucla.edu/search/search_results.php?SearchMode=Text&ObjectID=P005213\" title=\"to CDLI main page for this tablet\" sec=\"P005213\">tablet P005213</a>|<span  class=\"hl\" >3.b. 1(N01) , SZITA~a1 </span>|<span  class=\"hl hlup\" >SZITA~a1</span>|<span  class=\"hl\" >4.a. &#124;ZATU659x1(N01)&#124;# , SAG# [...] </span>|<span  class=\"hl hlup\" >&#124;ZATU659x1(N01)&#124;</span>|<span  class=\"hl hlup\" >ZATU659</span>|<span  class=\"hl hlup\" >1(N01)</span>\n",
       "60| <a href=\"https://cdli.ucla.edu/search/search_results.php?SearchMode=Text&ObjectID=P005213\" title=\"to CDLI main page for this tablet\" sec=\"P005213\">P005213</a>|<a href=\"https://cdli.ucla.edu/search/search_results.php?SearchMode=Text&ObjectID=P005213\" title=\"to CDLI main page for this tablet\" sec=\"P005213\">tablet P005213</a>|<span  class=\"hl\" >3.b. 1(N01) , SZITA~a1 </span>|<span  class=\"hl hlup\" >SZITA~a1</span>|<span  class=\"hl\" >5.a. &#124;ZATU659x1(N01)&#124;# , SIG7# SAL#? X </span>|<span  class=\"hl hlup\" >&#124;ZATU659x1(N01)&#124;</span>|<span  class=\"hl hlup\" >ZATU659</span>|<span  class=\"hl hlup\" >1(N01)</span>\n",
       "61| <a href=\"https://cdli.ucla.edu/search/search_results.php?SearchMode=Text&ObjectID=P005213\" title=\"to CDLI main page for this tablet\" sec=\"P005213\">P005213</a>|<a href=\"https://cdli.ucla.edu/search/search_results.php?SearchMode=Text&ObjectID=P005213\" title=\"to CDLI main page for this tablet\" sec=\"P005213\">tablet P005213</a>|<span  class=\"hl\" >3.b. 1(N01) , SZITA~a1 </span>|<span  class=\"hl hlup\" >SZITA~a1</span>|<span  class=\"hl\" >6.a. &#124;ZATU659x1(N01)&#124; , TU~b HI SZA3~a2 </span>|<span  class=\"hl hlup\" >&#124;ZATU659x1(N01)&#124;</span>|<span  class=\"hl hlup\" >ZATU659</span>|<span  class=\"hl hlup\" >1(N01)</span>\n",
       "62| <a href=\"https://cdli.ucla.edu/search/search_results.php?SearchMode=Text&ObjectID=P005213\" title=\"to CDLI main page for this tablet\" sec=\"P005213\">P005213</a>|<a href=\"https://cdli.ucla.edu/search/search_results.php?SearchMode=Text&ObjectID=P005213\" title=\"to CDLI main page for this tablet\" sec=\"P005213\">tablet P005213</a>|<span  class=\"hl\" >3.b. 1(N01) , SZITA~a1 </span>|<span  class=\"hl hlup\" >SZITA~a1</span>|<span  class=\"hl\" >7.a. &#124;ZATU659x1(N01)&#124; , AMA~a AGAR2 </span>|<span  class=\"hl hlup\" >&#124;ZATU659x1(N01)&#124;</span>|<span  class=\"hl hlup\" >ZATU659</span>|<span  class=\"hl hlup\" >1(N01)</span>\n",
       "63| <a href=\"https://cdli.ucla.edu/search/search_results.php?SearchMode=Text&ObjectID=P005213\" title=\"to CDLI main page for this tablet\" sec=\"P005213\">P005213</a>|<a href=\"https://cdli.ucla.edu/search/search_results.php?SearchMode=Text&ObjectID=P005213\" title=\"to CDLI main page for this tablet\" sec=\"P005213\">tablet P005213</a>|<span  class=\"hl\" >3.b. 1(N01) , SZITA~a1 </span>|<span  class=\"hl hlup\" >SZITA~a1</span>|<span  class=\"hl\" >8.a. &#124;ZATU659x1(N01)&#124; , AN NIM~b3 </span>|<span  class=\"hl hlup\" >&#124;ZATU659x1(N01)&#124;</span>|<span  class=\"hl hlup\" >ZATU659</span>|<span  class=\"hl hlup\" >1(N01)</span>\n",
       "64| <a href=\"https://cdli.ucla.edu/search/search_results.php?SearchMode=Text&ObjectID=P005213\" title=\"to CDLI main page for this tablet\" sec=\"P005213\">P005213</a>|<a href=\"https://cdli.ucla.edu/search/search_results.php?SearchMode=Text&ObjectID=P005213\" title=\"to CDLI main page for this tablet\" sec=\"P005213\">tablet P005213</a>|<span  class=\"hl\" >3.b. 1(N01) , SZITA~a1 </span>|<span  class=\"hl hlup\" >SZITA~a1</span>|<span  class=\"hl\" >3.a. &#124;ZATU659x1(N01)&#124;# , SANGA~a# &#124;NI~a.RU&#124;# </span>|<span  class=\"hl hlup\" >&#124;ZATU659x1(N01)&#124;</span>|<span  class=\"hl hlup\" >ZATU659</span>|<span  class=\"hl hlup\" >1(N01)</span>\n",
       "65| <a href=\"https://cdli.ucla.edu/search/search_results.php?SearchMode=Text&ObjectID=P005213\" title=\"to CDLI main page for this tablet\" sec=\"P005213\">P005213</a>|<a href=\"https://cdli.ucla.edu/search/search_results.php?SearchMode=Text&ObjectID=P005213\" title=\"to CDLI main page for this tablet\" sec=\"P005213\">tablet P005213</a>|<span  class=\"hl\" >3.b. 1(N01) , SZITA~a1 </span>|<span  class=\"hl hlup\" >SZITA~a1</span>|<span  class=\"hl\" >2.a. &#124;ZATU659x1(N01)&#124;#? , &#124;KU6~a+KU6~a&#124; MU </span>|<span  class=\"hl hlup\" >&#124;ZATU659x1(N01)&#124;</span>|<span  class=\"hl hlup\" >ZATU659</span>|<span  class=\"hl hlup\" >1(N01)</span>\n",
       "66| <a href=\"https://cdli.ucla.edu/search/search_results.php?SearchMode=Text&ObjectID=P005213\" title=\"to CDLI main page for this tablet\" sec=\"P005213\">P005213</a>|<a href=\"https://cdli.ucla.edu/search/search_results.php?SearchMode=Text&ObjectID=P005213\" title=\"to CDLI main page for this tablet\" sec=\"P005213\">tablet P005213</a>|<span  class=\"hl\" >4.b. 1(N01) , SZITA~a1 </span>|<span  class=\"hl hlup\" >SZITA~a1</span>|<span  class=\"hl\" >4.a. &#124;ZATU659x1(N01)&#124;# , SAG# [...] </span>|<span  class=\"hl hlup\" >&#124;ZATU659x1(N01)&#124;</span>|<span  class=\"hl hlup\" >ZATU659</span>|<span  class=\"hl hlup\" >1(N01)</span>\n",
       "67| <a href=\"https://cdli.ucla.edu/search/search_results.php?SearchMode=Text&ObjectID=P005213\" title=\"to CDLI main page for this tablet\" sec=\"P005213\">P005213</a>|<a href=\"https://cdli.ucla.edu/search/search_results.php?SearchMode=Text&ObjectID=P005213\" title=\"to CDLI main page for this tablet\" sec=\"P005213\">tablet P005213</a>|<span  class=\"hl\" >4.b. 1(N01) , SZITA~a1 </span>|<span  class=\"hl hlup\" >SZITA~a1</span>|<span  class=\"hl\" >5.a. &#124;ZATU659x1(N01)&#124;# , SIG7# SAL#? X </span>|<span  class=\"hl hlup\" >&#124;ZATU659x1(N01)&#124;</span>|<span  class=\"hl hlup\" >ZATU659</span>|<span  class=\"hl hlup\" >1(N01)</span>\n",
       "68| <a href=\"https://cdli.ucla.edu/search/search_results.php?SearchMode=Text&ObjectID=P005213\" title=\"to CDLI main page for this tablet\" sec=\"P005213\">P005213</a>|<a href=\"https://cdli.ucla.edu/search/search_results.php?SearchMode=Text&ObjectID=P005213\" title=\"to CDLI main page for this tablet\" sec=\"P005213\">tablet P005213</a>|<span  class=\"hl\" >4.b. 1(N01) , SZITA~a1 </span>|<span  class=\"hl hlup\" >SZITA~a1</span>|<span  class=\"hl\" >6.a. &#124;ZATU659x1(N01)&#124; , TU~b HI SZA3~a2 </span>|<span  class=\"hl hlup\" >&#124;ZATU659x1(N01)&#124;</span>|<span  class=\"hl hlup\" >ZATU659</span>|<span  class=\"hl hlup\" >1(N01)</span>\n",
       "69| <a href=\"https://cdli.ucla.edu/search/search_results.php?SearchMode=Text&ObjectID=P005213\" title=\"to CDLI main page for this tablet\" sec=\"P005213\">P005213</a>|<a href=\"https://cdli.ucla.edu/search/search_results.php?SearchMode=Text&ObjectID=P005213\" title=\"to CDLI main page for this tablet\" sec=\"P005213\">tablet P005213</a>|<span  class=\"hl\" >4.b. 1(N01) , SZITA~a1 </span>|<span  class=\"hl hlup\" >SZITA~a1</span>|<span  class=\"hl\" >7.a. &#124;ZATU659x1(N01)&#124; , AMA~a AGAR2 </span>|<span  class=\"hl hlup\" >&#124;ZATU659x1(N01)&#124;</span>|<span  class=\"hl hlup\" >ZATU659</span>|<span  class=\"hl hlup\" >1(N01)</span>\n",
       "70| <a href=\"https://cdli.ucla.edu/search/search_results.php?SearchMode=Text&ObjectID=P005213\" title=\"to CDLI main page for this tablet\" sec=\"P005213\">P005213</a>|<a href=\"https://cdli.ucla.edu/search/search_results.php?SearchMode=Text&ObjectID=P005213\" title=\"to CDLI main page for this tablet\" sec=\"P005213\">tablet P005213</a>|<span  class=\"hl\" >4.b. 1(N01) , SZITA~a1 </span>|<span  class=\"hl hlup\" >SZITA~a1</span>|<span  class=\"hl\" >8.a. &#124;ZATU659x1(N01)&#124; , AN NIM~b3 </span>|<span  class=\"hl hlup\" >&#124;ZATU659x1(N01)&#124;</span>|<span  class=\"hl hlup\" >ZATU659</span>|<span  class=\"hl hlup\" >1(N01)</span>\n",
       "71| <a href=\"https://cdli.ucla.edu/search/search_results.php?SearchMode=Text&ObjectID=P005213\" title=\"to CDLI main page for this tablet\" sec=\"P005213\">P005213</a>|<a href=\"https://cdli.ucla.edu/search/search_results.php?SearchMode=Text&ObjectID=P005213\" title=\"to CDLI main page for this tablet\" sec=\"P005213\">tablet P005213</a>|<span  class=\"hl\" >4.b. 1(N01) , SZITA~a1 </span>|<span  class=\"hl hlup\" >SZITA~a1</span>|<span  class=\"hl\" >3.a. &#124;ZATU659x1(N01)&#124;# , SANGA~a# &#124;NI~a.RU&#124;# </span>|<span  class=\"hl hlup\" >&#124;ZATU659x1(N01)&#124;</span>|<span  class=\"hl hlup\" >ZATU659</span>|<span  class=\"hl hlup\" >1(N01)</span>\n",
       "72| <a href=\"https://cdli.ucla.edu/search/search_results.php?SearchMode=Text&ObjectID=P005213\" title=\"to CDLI main page for this tablet\" sec=\"P005213\">P005213</a>|<a href=\"https://cdli.ucla.edu/search/search_results.php?SearchMode=Text&ObjectID=P005213\" title=\"to CDLI main page for this tablet\" sec=\"P005213\">tablet P005213</a>|<span  class=\"hl\" >4.b. 1(N01) , SZITA~a1 </span>|<span  class=\"hl hlup\" >SZITA~a1</span>|<span  class=\"hl\" >2.a. &#124;ZATU659x1(N01)&#124;#? , &#124;KU6~a+KU6~a&#124; MU </span>|<span  class=\"hl hlup\" >&#124;ZATU659x1(N01)&#124;</span>|<span  class=\"hl hlup\" >ZATU659</span>|<span  class=\"hl hlup\" >1(N01)</span>\n",
       "73| <a href=\"https://cdli.ucla.edu/search/search_results.php?SearchMode=Text&ObjectID=P005213\" title=\"to CDLI main page for this tablet\" sec=\"P005213\">P005213</a>|<a href=\"https://cdli.ucla.edu/search/search_results.php?SearchMode=Text&ObjectID=P005213\" title=\"to CDLI main page for this tablet\" sec=\"P005213\">tablet P005213</a>|<span  class=\"hl\" >5.b. 1(N01) , SZITA~a1 </span>|<span  class=\"hl hlup\" >SZITA~a1</span>|<span  class=\"hl\" >4.a. &#124;ZATU659x1(N01)&#124;# , SAG# [...] </span>|<span  class=\"hl hlup\" >&#124;ZATU659x1(N01)&#124;</span>|<span  class=\"hl hlup\" >ZATU659</span>|<span  class=\"hl hlup\" >1(N01)</span>\n",
       "74| <a href=\"https://cdli.ucla.edu/search/search_results.php?SearchMode=Text&ObjectID=P005213\" title=\"to CDLI main page for this tablet\" sec=\"P005213\">P005213</a>|<a href=\"https://cdli.ucla.edu/search/search_results.php?SearchMode=Text&ObjectID=P005213\" title=\"to CDLI main page for this tablet\" sec=\"P005213\">tablet P005213</a>|<span  class=\"hl\" >5.b. 1(N01) , SZITA~a1 </span>|<span  class=\"hl hlup\" >SZITA~a1</span>|<span  class=\"hl\" >5.a. &#124;ZATU659x1(N01)&#124;# , SIG7# SAL#? X </span>|<span  class=\"hl hlup\" >&#124;ZATU659x1(N01)&#124;</span>|<span  class=\"hl hlup\" >ZATU659</span>|<span  class=\"hl hlup\" >1(N01)</span>\n",
       "75| <a href=\"https://cdli.ucla.edu/search/search_results.php?SearchMode=Text&ObjectID=P005213\" title=\"to CDLI main page for this tablet\" sec=\"P005213\">P005213</a>|<a href=\"https://cdli.ucla.edu/search/search_results.php?SearchMode=Text&ObjectID=P005213\" title=\"to CDLI main page for this tablet\" sec=\"P005213\">tablet P005213</a>|<span  class=\"hl\" >5.b. 1(N01) , SZITA~a1 </span>|<span  class=\"hl hlup\" >SZITA~a1</span>|<span  class=\"hl\" >6.a. &#124;ZATU659x1(N01)&#124; , TU~b HI SZA3~a2 </span>|<span  class=\"hl hlup\" >&#124;ZATU659x1(N01)&#124;</span>|<span  class=\"hl hlup\" >ZATU659</span>|<span  class=\"hl hlup\" >1(N01)</span>\n",
       "76| <a href=\"https://cdli.ucla.edu/search/search_results.php?SearchMode=Text&ObjectID=P005213\" title=\"to CDLI main page for this tablet\" sec=\"P005213\">P005213</a>|<a href=\"https://cdli.ucla.edu/search/search_results.php?SearchMode=Text&ObjectID=P005213\" title=\"to CDLI main page for this tablet\" sec=\"P005213\">tablet P005213</a>|<span  class=\"hl\" >5.b. 1(N01) , SZITA~a1 </span>|<span  class=\"hl hlup\" >SZITA~a1</span>|<span  class=\"hl\" >7.a. &#124;ZATU659x1(N01)&#124; , AMA~a AGAR2 </span>|<span  class=\"hl hlup\" >&#124;ZATU659x1(N01)&#124;</span>|<span  class=\"hl hlup\" >ZATU659</span>|<span  class=\"hl hlup\" >1(N01)</span>\n",
       "77| <a href=\"https://cdli.ucla.edu/search/search_results.php?SearchMode=Text&ObjectID=P005213\" title=\"to CDLI main page for this tablet\" sec=\"P005213\">P005213</a>|<a href=\"https://cdli.ucla.edu/search/search_results.php?SearchMode=Text&ObjectID=P005213\" title=\"to CDLI main page for this tablet\" sec=\"P005213\">tablet P005213</a>|<span  class=\"hl\" >5.b. 1(N01) , SZITA~a1 </span>|<span  class=\"hl hlup\" >SZITA~a1</span>|<span  class=\"hl\" >8.a. &#124;ZATU659x1(N01)&#124; , AN NIM~b3 </span>|<span  class=\"hl hlup\" >&#124;ZATU659x1(N01)&#124;</span>|<span  class=\"hl hlup\" >ZATU659</span>|<span  class=\"hl hlup\" >1(N01)</span>\n",
       "78| <a href=\"https://cdli.ucla.edu/search/search_results.php?SearchMode=Text&ObjectID=P005213\" title=\"to CDLI main page for this tablet\" sec=\"P005213\">P005213</a>|<a href=\"https://cdli.ucla.edu/search/search_results.php?SearchMode=Text&ObjectID=P005213\" title=\"to CDLI main page for this tablet\" sec=\"P005213\">tablet P005213</a>|<span  class=\"hl\" >5.b. 1(N01) , SZITA~a1 </span>|<span  class=\"hl hlup\" >SZITA~a1</span>|<span  class=\"hl\" >3.a. &#124;ZATU659x1(N01)&#124;# , SANGA~a# &#124;NI~a.RU&#124;# </span>|<span  class=\"hl hlup\" >&#124;ZATU659x1(N01)&#124;</span>|<span  class=\"hl hlup\" >ZATU659</span>|<span  class=\"hl hlup\" >1(N01)</span>\n",
       "79| <a href=\"https://cdli.ucla.edu/search/search_results.php?SearchMode=Text&ObjectID=P005213\" title=\"to CDLI main page for this tablet\" sec=\"P005213\">P005213</a>|<a href=\"https://cdli.ucla.edu/search/search_results.php?SearchMode=Text&ObjectID=P005213\" title=\"to CDLI main page for this tablet\" sec=\"P005213\">tablet P005213</a>|<span  class=\"hl\" >5.b. 1(N01) , SZITA~a1 </span>|<span  class=\"hl hlup\" >SZITA~a1</span>|<span  class=\"hl\" >2.a. &#124;ZATU659x1(N01)&#124;#? , &#124;KU6~a+KU6~a&#124; MU </span>|<span  class=\"hl hlup\" >&#124;ZATU659x1(N01)&#124;</span>|<span  class=\"hl hlup\" >ZATU659</span>|<span  class=\"hl hlup\" >1(N01)</span>\n",
       "80| <a href=\"https://cdli.ucla.edu/search/search_results.php?SearchMode=Text&ObjectID=P005213\" title=\"to CDLI main page for this tablet\" sec=\"P005213\">P005213</a>|<a href=\"https://cdli.ucla.edu/search/search_results.php?SearchMode=Text&ObjectID=P005213\" title=\"to CDLI main page for this tablet\" sec=\"P005213\">tablet P005213</a>|<span  class=\"hl\" >6.b. 1(N01) , SZITA~a1 </span>|<span  class=\"hl hlup\" >SZITA~a1</span>|<span  class=\"hl\" >4.a. &#124;ZATU659x1(N01)&#124;# , SAG# [...] </span>|<span  class=\"hl hlup\" >&#124;ZATU659x1(N01)&#124;</span>|<span  class=\"hl hlup\" >ZATU659</span>|<span  class=\"hl hlup\" >1(N01)</span>\n",
       "81| <a href=\"https://cdli.ucla.edu/search/search_results.php?SearchMode=Text&ObjectID=P005213\" title=\"to CDLI main page for this tablet\" sec=\"P005213\">P005213</a>|<a href=\"https://cdli.ucla.edu/search/search_results.php?SearchMode=Text&ObjectID=P005213\" title=\"to CDLI main page for this tablet\" sec=\"P005213\">tablet P005213</a>|<span  class=\"hl\" >6.b. 1(N01) , SZITA~a1 </span>|<span  class=\"hl hlup\" >SZITA~a1</span>|<span  class=\"hl\" >5.a. &#124;ZATU659x1(N01)&#124;# , SIG7# SAL#? X </span>|<span  class=\"hl hlup\" >&#124;ZATU659x1(N01)&#124;</span>|<span  class=\"hl hlup\" >ZATU659</span>|<span  class=\"hl hlup\" >1(N01)</span>\n",
       "82| <a href=\"https://cdli.ucla.edu/search/search_results.php?SearchMode=Text&ObjectID=P005213\" title=\"to CDLI main page for this tablet\" sec=\"P005213\">P005213</a>|<a href=\"https://cdli.ucla.edu/search/search_results.php?SearchMode=Text&ObjectID=P005213\" title=\"to CDLI main page for this tablet\" sec=\"P005213\">tablet P005213</a>|<span  class=\"hl\" >6.b. 1(N01) , SZITA~a1 </span>|<span  class=\"hl hlup\" >SZITA~a1</span>|<span  class=\"hl\" >6.a. &#124;ZATU659x1(N01)&#124; , TU~b HI SZA3~a2 </span>|<span  class=\"hl hlup\" >&#124;ZATU659x1(N01)&#124;</span>|<span  class=\"hl hlup\" >ZATU659</span>|<span  class=\"hl hlup\" >1(N01)</span>\n",
       "83| <a href=\"https://cdli.ucla.edu/search/search_results.php?SearchMode=Text&ObjectID=P005213\" title=\"to CDLI main page for this tablet\" sec=\"P005213\">P005213</a>|<a href=\"https://cdli.ucla.edu/search/search_results.php?SearchMode=Text&ObjectID=P005213\" title=\"to CDLI main page for this tablet\" sec=\"P005213\">tablet P005213</a>|<span  class=\"hl\" >6.b. 1(N01) , SZITA~a1 </span>|<span  class=\"hl hlup\" >SZITA~a1</span>|<span  class=\"hl\" >7.a. &#124;ZATU659x1(N01)&#124; , AMA~a AGAR2 </span>|<span  class=\"hl hlup\" >&#124;ZATU659x1(N01)&#124;</span>|<span  class=\"hl hlup\" >ZATU659</span>|<span  class=\"hl hlup\" >1(N01)</span>\n",
       "84| <a href=\"https://cdli.ucla.edu/search/search_results.php?SearchMode=Text&ObjectID=P005213\" title=\"to CDLI main page for this tablet\" sec=\"P005213\">P005213</a>|<a href=\"https://cdli.ucla.edu/search/search_results.php?SearchMode=Text&ObjectID=P005213\" title=\"to CDLI main page for this tablet\" sec=\"P005213\">tablet P005213</a>|<span  class=\"hl\" >6.b. 1(N01) , SZITA~a1 </span>|<span  class=\"hl hlup\" >SZITA~a1</span>|<span  class=\"hl\" >8.a. &#124;ZATU659x1(N01)&#124; , AN NIM~b3 </span>|<span  class=\"hl hlup\" >&#124;ZATU659x1(N01)&#124;</span>|<span  class=\"hl hlup\" >ZATU659</span>|<span  class=\"hl hlup\" >1(N01)</span>\n",
       "85| <a href=\"https://cdli.ucla.edu/search/search_results.php?SearchMode=Text&ObjectID=P005213\" title=\"to CDLI main page for this tablet\" sec=\"P005213\">P005213</a>|<a href=\"https://cdli.ucla.edu/search/search_results.php?SearchMode=Text&ObjectID=P005213\" title=\"to CDLI main page for this tablet\" sec=\"P005213\">tablet P005213</a>|<span  class=\"hl\" >6.b. 1(N01) , SZITA~a1 </span>|<span  class=\"hl hlup\" >SZITA~a1</span>|<span  class=\"hl\" >3.a. &#124;ZATU659x1(N01)&#124;# , SANGA~a# &#124;NI~a.RU&#124;# </span>|<span  class=\"hl hlup\" >&#124;ZATU659x1(N01)&#124;</span>|<span  class=\"hl hlup\" >ZATU659</span>|<span  class=\"hl hlup\" >1(N01)</span>\n",
       "86| <a href=\"https://cdli.ucla.edu/search/search_results.php?SearchMode=Text&ObjectID=P005213\" title=\"to CDLI main page for this tablet\" sec=\"P005213\">P005213</a>|<a href=\"https://cdli.ucla.edu/search/search_results.php?SearchMode=Text&ObjectID=P005213\" title=\"to CDLI main page for this tablet\" sec=\"P005213\">tablet P005213</a>|<span  class=\"hl\" >6.b. 1(N01) , SZITA~a1 </span>|<span  class=\"hl hlup\" >SZITA~a1</span>|<span  class=\"hl\" >2.a. &#124;ZATU659x1(N01)&#124;#? , &#124;KU6~a+KU6~a&#124; MU </span>|<span  class=\"hl hlup\" >&#124;ZATU659x1(N01)&#124;</span>|<span  class=\"hl hlup\" >ZATU659</span>|<span  class=\"hl hlup\" >1(N01)</span>\n",
       "87| <a href=\"https://cdli.ucla.edu/search/search_results.php?SearchMode=Text&ObjectID=P005214\" title=\"to CDLI main page for this tablet\" sec=\"P005214\">P005214</a>|<a href=\"https://cdli.ucla.edu/search/search_results.php?SearchMode=Text&ObjectID=P005214\" title=\"to CDLI main page for this tablet\" sec=\"P005214\">tablet P005214</a>|<span  class=\"hl\" >3.c. [...] , SZITA~a1# </span>|<span  class=\"hl hlup\" >SZITA~a1</span>|<span  class=\"hl\" >4.a. 1(N01) , &#124;ZATU659x1(N01)&#124; SAG# </span>|<span  class=\"hl hlup\" >&#124;ZATU659x1(N01)&#124;</span>|<span  class=\"hl hlup\" >ZATU659</span>|<span  class=\"hl hlup\" >1(N01)</span>\n",
       "88| <a href=\"https://cdli.ucla.edu/search/search_results.php?SearchMode=Text&ObjectID=P005214\" title=\"to CDLI main page for this tablet\" sec=\"P005214\">P005214</a>|<a href=\"https://cdli.ucla.edu/search/search_results.php?SearchMode=Text&ObjectID=P005214\" title=\"to CDLI main page for this tablet\" sec=\"P005214\">tablet P005214</a>|<span  class=\"hl\" >3.c. [...] , SZITA~a1# </span>|<span  class=\"hl hlup\" >SZITA~a1</span>|<span  class=\"hl\" >5.a. 1(N01) , &#124;ZATU659x1(N01)&#124;# 3(N57)# PAP~a# NIN </span>|<span  class=\"hl hlup\" >&#124;ZATU659x1(N01)&#124;</span>|<span  class=\"hl hlup\" >ZATU659</span>|<span  class=\"hl hlup\" >1(N01)</span>\n",
       "89| <a href=\"https://cdli.ucla.edu/search/search_results.php?SearchMode=Text&ObjectID=P005214\" title=\"to CDLI main page for this tablet\" sec=\"P005214\">P005214</a>|<a href=\"https://cdli.ucla.edu/search/search_results.php?SearchMode=Text&ObjectID=P005214\" title=\"to CDLI main page for this tablet\" sec=\"P005214\">tablet P005214</a>|<span  class=\"hl\" >4.c. 1(N01)# , SZITA~a1 </span>|<span  class=\"hl hlup\" >SZITA~a1</span>|<span  class=\"hl\" >4.a. 1(N01) , &#124;ZATU659x1(N01)&#124; SAG# </span>|<span  class=\"hl hlup\" >&#124;ZATU659x1(N01)&#124;</span>|<span  class=\"hl hlup\" >ZATU659</span>|<span  class=\"hl hlup\" >1(N01)</span>\n",
       "90| <a href=\"https://cdli.ucla.edu/search/search_results.php?SearchMode=Text&ObjectID=P005214\" title=\"to CDLI main page for this tablet\" sec=\"P005214\">P005214</a>|<a href=\"https://cdli.ucla.edu/search/search_results.php?SearchMode=Text&ObjectID=P005214\" title=\"to CDLI main page for this tablet\" sec=\"P005214\">tablet P005214</a>|<span  class=\"hl\" >4.c. 1(N01)# , SZITA~a1 </span>|<span  class=\"hl hlup\" >SZITA~a1</span>|<span  class=\"hl\" >5.a. 1(N01) , &#124;ZATU659x1(N01)&#124;# 3(N57)# PAP~a# NIN </span>|<span  class=\"hl hlup\" >&#124;ZATU659x1(N01)&#124;</span>|<span  class=\"hl hlup\" >ZATU659</span>|<span  class=\"hl hlup\" >1(N01)</span>\n",
       "91| <a href=\"https://cdli.ucla.edu/search/search_results.php?SearchMode=Text&ObjectID=P005214\" title=\"to CDLI main page for this tablet\" sec=\"P005214\">P005214</a>|<a href=\"https://cdli.ucla.edu/search/search_results.php?SearchMode=Text&ObjectID=P005214\" title=\"to CDLI main page for this tablet\" sec=\"P005214\">tablet P005214</a>|<span  class=\"hl\" >5.b. 1(N01) , SZITA~a1 </span>|<span  class=\"hl hlup\" >SZITA~a1</span>|<span  class=\"hl\" >4.a. 1(N01) , &#124;ZATU659x1(N01)&#124; SAG# </span>|<span  class=\"hl hlup\" >&#124;ZATU659x1(N01)&#124;</span>|<span  class=\"hl hlup\" >ZATU659</span>|<span  class=\"hl hlup\" >1(N01)</span>\n",
       "92| <a href=\"https://cdli.ucla.edu/search/search_results.php?SearchMode=Text&ObjectID=P005214\" title=\"to CDLI main page for this tablet\" sec=\"P005214\">P005214</a>|<a href=\"https://cdli.ucla.edu/search/search_results.php?SearchMode=Text&ObjectID=P005214\" title=\"to CDLI main page for this tablet\" sec=\"P005214\">tablet P005214</a>|<span  class=\"hl\" >5.b. 1(N01) , SZITA~a1 </span>|<span  class=\"hl hlup\" >SZITA~a1</span>|<span  class=\"hl\" >5.a. 1(N01) , &#124;ZATU659x1(N01)&#124;# 3(N57)# PAP~a# NIN </span>|<span  class=\"hl hlup\" >&#124;ZATU659x1(N01)&#124;</span>|<span  class=\"hl hlup\" >ZATU659</span>|<span  class=\"hl hlup\" >1(N01)</span>\n",
       "93| <a href=\"https://cdli.ucla.edu/search/search_results.php?SearchMode=Text&ObjectID=P005214\" title=\"to CDLI main page for this tablet\" sec=\"P005214\">P005214</a>|<a href=\"https://cdli.ucla.edu/search/search_results.php?SearchMode=Text&ObjectID=P005214\" title=\"to CDLI main page for this tablet\" sec=\"P005214\">tablet P005214</a>|<span  class=\"hl\" >6.b. 1(N01) , SZITA~a1# </span>|<span  class=\"hl hlup\" >SZITA~a1</span>|<span  class=\"hl\" >4.a. 1(N01) , &#124;ZATU659x1(N01)&#124; SAG# </span>|<span  class=\"hl hlup\" >&#124;ZATU659x1(N01)&#124;</span>|<span  class=\"hl hlup\" >ZATU659</span>|<span  class=\"hl hlup\" >1(N01)</span>\n",
       "94| <a href=\"https://cdli.ucla.edu/search/search_results.php?SearchMode=Text&ObjectID=P005214\" title=\"to CDLI main page for this tablet\" sec=\"P005214\">P005214</a>|<a href=\"https://cdli.ucla.edu/search/search_results.php?SearchMode=Text&ObjectID=P005214\" title=\"to CDLI main page for this tablet\" sec=\"P005214\">tablet P005214</a>|<span  class=\"hl\" >6.b. 1(N01) , SZITA~a1# </span>|<span  class=\"hl hlup\" >SZITA~a1</span>|<span  class=\"hl\" >5.a. 1(N01) , &#124;ZATU659x1(N01)&#124;# 3(N57)# PAP~a# NIN </span>|<span  class=\"hl hlup\" >&#124;ZATU659x1(N01)&#124;</span>|<span  class=\"hl hlup\" >ZATU659</span>|<span  class=\"hl hlup\" >1(N01)</span>\n",
       "95| <a href=\"https://cdli.ucla.edu/search/search_results.php?SearchMode=Text&ObjectID=P005215\" title=\"to CDLI main page for this tablet\" sec=\"P005215\">P005215</a>|<a href=\"https://cdli.ucla.edu/search/search_results.php?SearchMode=Text&ObjectID=P005215\" title=\"to CDLI main page for this tablet\" sec=\"P005215\">tablet P005215</a>|<span  class=\"hl\" >1.b. 1(N01) , SZITA~a1 </span>|<span  class=\"hl hlup\" >SZITA~a1</span>|<span  class=\"hl\" >1.a. , &#124;ZATU659x1(N01)&#124; U2~b A </span>|<span  class=\"hl hlup\" >&#124;ZATU659x1(N01)&#124;</span>|<span  class=\"hl hlup\" >ZATU659</span>|<span  class=\"hl hlup\" >1(N01)</span>"
      ],
      "text/plain": [
       "<IPython.core.display.Markdown object>"
      ]
     },
     "metadata": {},
     "output_type": "display_data"
    }
   ],
   "source": [
    "query = \"\"\"\n",
    "tablet\n",
    "  case depth=1 terminal\n",
    "    sign grapheme=SZITA variant=a1\n",
    "  case\n",
    "    quad\n",
    "      =: sign grapheme=ZATU659\n",
    "      <: sign grapheme=N01 repeat=1\n",
    "      :=\n",
    "\"\"\"\n",
    "results = A.search(query)\n",
    "A.table(results, withNodes=False, lineart=False)"
   ]
  }
 ],
 "metadata": {
  "kernelspec": {
   "display_name": "Python 3",
   "language": "python",
   "name": "python3"
  },
  "language_info": {
   "codemirror_mode": {
    "name": "ipython",
    "version": 3
   },
   "file_extension": ".py",
   "mimetype": "text/x-python",
   "name": "python",
   "nbconvert_exporter": "python",
   "pygments_lexer": "ipython3",
   "version": "3.7.2"
  },
  "toc": {
   "nav_menu": {},
   "number_sections": true,
   "sideBar": true,
   "skip_h1_title": true,
   "toc_cell": true,
   "toc_position": {},
   "toc_section_display": "block",
   "toc_window_display": false
  }
 },
 "nbformat": 4,
 "nbformat_minor": 4
}
