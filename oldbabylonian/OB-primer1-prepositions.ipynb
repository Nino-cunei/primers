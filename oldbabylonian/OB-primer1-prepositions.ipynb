{
 "cells": [
  {
   "cell_type": "code",
   "execution_count": 1,
   "metadata": {},
   "outputs": [],
   "source": [
    "%load_ext autoreload\n",
    "%autoreload 2"
   ]
  },
  {
   "cell_type": "code",
   "execution_count": 2,
   "metadata": {},
   "outputs": [],
   "source": [
    "import collections\n",
    "\n",
    "from tf.app import use"
   ]
  },
  {
   "cell_type": "code",
   "execution_count": 3,
   "metadata": {},
   "outputs": [
    {
     "name": "stdout",
     "output_type": "stream",
     "text": [
      "TF app is up-to-date.\n",
      "Using annotation/app-oldbabylonian commit b857e6fd557083e3f77f3055d5e74b6245e84fdd (=latest)\n",
      "  in /Users/johnsojc/text-fabric-data/__apps__/oldbabylonian.\n",
      "No new data release available online.\n",
      "Using Nino-cunei/oldbabylonian/tf - 1.0.4 rv1.4 (=latest) in /Users/johnsojc/text-fabric-data.\n"
     ]
    },
    {
     "data": {
      "text/html": [
       "<b>Documentation:</b> <a target=\"_blank\" href=\"https://github.com/Nino-cunei/oldbabylonian/blob/master/docs/\" title=\"provenance of Old Babylonian Letters 1900-1600: Cuneiform tablets \">OLDBABYLONIAN</a> <a target=\"_blank\" href=\"https://github.com/Nino-cunei/oldbabylonian/blob/master/docs/transcription.md\" title=\"How TF features represent ATF\">Character table</a> <a target=\"_blank\" href=\"https://github.com/Nino-cunei/oldbabylonian/blob/master/docs//transcription.md\" title=\"OLDBABYLONIAN feature documentation\">Feature docs</a> <a target=\"_blank\" href=\"https://github.com/annotation/app-oldbabylonian\" title=\"oldbabylonian API documentation\">oldbabylonian API</a> <a target=\"_blank\" href=\"https://annotation.github.io/text-fabric/Api/Fabric/\" title=\"text-fabric-api\">Text-Fabric API 7.5.1</a> <a target=\"_blank\" href=\"https://annotation.github.io/text-fabric/Use/Search/\" title=\"Search Templates Introduction and Reference\">Search Reference</a><details open><summary><b>Loaded features</b>:</summary>\n",
       "<p><b>Old Babylonian Letters 1900-1600: Cuneiform tablets </b>: <a target=\"_blank\" href=\"https://github.com/Nino-cunei/oldbabylonian/blob/master/docs//transcription.md\" title=\"/Users/johnsojc/text-fabric-data/Nino-cunei/oldbabylonian/tf/1.0.4/ARK.tf\">ARK</a>  <a target=\"_blank\" href=\"https://github.com/Nino-cunei/oldbabylonian/blob/master/docs//transcription.md\" title=\"/Users/johnsojc/text-fabric-data/Nino-cunei/oldbabylonian/tf/1.0.4/after.tf\">after</a>  <a target=\"_blank\" href=\"https://github.com/Nino-cunei/oldbabylonian/blob/master/docs//transcription.md\" title=\"/Users/johnsojc/text-fabric-data/Nino-cunei/oldbabylonian/tf/1.0.4/afterr.tf\">afterr</a>  <a target=\"_blank\" href=\"https://github.com/Nino-cunei/oldbabylonian/blob/master/docs//transcription.md\" title=\"/Users/johnsojc/text-fabric-data/Nino-cunei/oldbabylonian/tf/1.0.4/afteru.tf\">afteru</a>  <a target=\"_blank\" href=\"https://github.com/Nino-cunei/oldbabylonian/blob/master/docs//transcription.md\" title=\"/Users/johnsojc/text-fabric-data/Nino-cunei/oldbabylonian/tf/1.0.4/atf.tf\">atf</a>  <a target=\"_blank\" href=\"https://github.com/Nino-cunei/oldbabylonian/blob/master/docs//transcription.md\" title=\"/Users/johnsojc/text-fabric-data/Nino-cunei/oldbabylonian/tf/1.0.4/atfpost.tf\">atfpost</a>  <a target=\"_blank\" href=\"https://github.com/Nino-cunei/oldbabylonian/blob/master/docs//transcription.md\" title=\"/Users/johnsojc/text-fabric-data/Nino-cunei/oldbabylonian/tf/1.0.4/atfpre.tf\">atfpre</a>  <a target=\"_blank\" href=\"https://github.com/Nino-cunei/oldbabylonian/blob/master/docs//transcription.md\" title=\"/Users/johnsojc/text-fabric-data/Nino-cunei/oldbabylonian/tf/1.0.4/author.tf\">author</a>  <a target=\"_blank\" href=\"https://github.com/Nino-cunei/oldbabylonian/blob/master/docs//transcription.md\" title=\"/Users/johnsojc/text-fabric-data/Nino-cunei/oldbabylonian/tf/1.0.4/col.tf\">col</a>  <a target=\"_blank\" href=\"https://github.com/Nino-cunei/oldbabylonian/blob/master/docs//transcription.md\" title=\"/Users/johnsojc/text-fabric-data/Nino-cunei/oldbabylonian/tf/1.0.4/collated.tf\">collated</a>  <a target=\"_blank\" href=\"https://github.com/Nino-cunei/oldbabylonian/blob/master/docs//transcription.md\" title=\"/Users/johnsojc/text-fabric-data/Nino-cunei/oldbabylonian/tf/1.0.4/collection.tf\">collection</a>  <a target=\"_blank\" href=\"https://github.com/Nino-cunei/oldbabylonian/blob/master/docs//transcription.md\" title=\"/Users/johnsojc/text-fabric-data/Nino-cunei/oldbabylonian/tf/1.0.4/comment.tf\">comment</a>  <a target=\"_blank\" href=\"https://github.com/Nino-cunei/oldbabylonian/blob/master/docs//transcription.md\" title=\"/Users/johnsojc/text-fabric-data/Nino-cunei/oldbabylonian/tf/1.0.4/damage.tf\">damage</a>  <a target=\"_blank\" href=\"https://github.com/Nino-cunei/oldbabylonian/blob/master/docs//transcription.md\" title=\"/Users/johnsojc/text-fabric-data/Nino-cunei/oldbabylonian/tf/1.0.4/det.tf\">det</a>  <a target=\"_blank\" href=\"https://github.com/Nino-cunei/oldbabylonian/blob/master/docs//transcription.md\" title=\"/Users/johnsojc/text-fabric-data/Nino-cunei/oldbabylonian/tf/1.0.4/docnote.tf\">docnote</a>  <a target=\"_blank\" href=\"https://github.com/Nino-cunei/oldbabylonian/blob/master/docs//transcription.md\" title=\"/Users/johnsojc/text-fabric-data/Nino-cunei/oldbabylonian/tf/1.0.4/docnumber.tf\">docnumber</a>  <a target=\"_blank\" href=\"https://github.com/Nino-cunei/oldbabylonian/blob/master/docs//transcription.md\" title=\"/Users/johnsojc/text-fabric-data/Nino-cunei/oldbabylonian/tf/1.0.4/excavation.tf\">excavation</a>  <a target=\"_blank\" href=\"https://github.com/Nino-cunei/oldbabylonian/blob/master/docs//transcription.md\" title=\"/Users/johnsojc/text-fabric-data/Nino-cunei/oldbabylonian/tf/1.0.4/excised.tf\">excised</a>  <a target=\"_blank\" href=\"https://github.com/Nino-cunei/oldbabylonian/blob/master/docs//transcription.md\" title=\"/Users/johnsojc/text-fabric-data/Nino-cunei/oldbabylonian/tf/1.0.4/face.tf\">face</a>  <a target=\"_blank\" href=\"https://github.com/Nino-cunei/oldbabylonian/blob/master/docs//transcription.md\" title=\"/Users/johnsojc/text-fabric-data/Nino-cunei/oldbabylonian/tf/1.0.4/flags.tf\">flags</a>  <a target=\"_blank\" href=\"https://github.com/Nino-cunei/oldbabylonian/blob/master/docs//transcription.md\" title=\"/Users/johnsojc/text-fabric-data/Nino-cunei/oldbabylonian/tf/1.0.4/fraction.tf\">fraction</a>  <a target=\"_blank\" href=\"https://github.com/Nino-cunei/oldbabylonian/blob/master/docs//transcription.md\" title=\"/Users/johnsojc/text-fabric-data/Nino-cunei/oldbabylonian/tf/1.0.4/genre.tf\">genre</a>  <a target=\"_blank\" href=\"https://github.com/Nino-cunei/oldbabylonian/blob/master/docs//transcription.md\" title=\"/Users/johnsojc/text-fabric-data/Nino-cunei/oldbabylonian/tf/1.0.4/grapheme.tf\">grapheme</a>  <a target=\"_blank\" href=\"https://github.com/Nino-cunei/oldbabylonian/blob/master/docs//transcription.md\" title=\"/Users/johnsojc/text-fabric-data/Nino-cunei/oldbabylonian/tf/1.0.4/graphemer.tf\">graphemer</a>  <a target=\"_blank\" href=\"https://github.com/Nino-cunei/oldbabylonian/blob/master/docs//transcription.md\" title=\"/Users/johnsojc/text-fabric-data/Nino-cunei/oldbabylonian/tf/1.0.4/graphemeu.tf\">graphemeu</a>  <a target=\"_blank\" href=\"https://github.com/Nino-cunei/oldbabylonian/blob/master/docs//transcription.md\" title=\"/Users/johnsojc/text-fabric-data/Nino-cunei/oldbabylonian/tf/1.0.4/lang.tf\">lang</a>  <a target=\"_blank\" href=\"https://github.com/Nino-cunei/oldbabylonian/blob/master/docs//transcription.md\" title=\"/Users/johnsojc/text-fabric-data/Nino-cunei/oldbabylonian/tf/1.0.4/langalt.tf\">langalt</a>  <a target=\"_blank\" href=\"https://github.com/Nino-cunei/oldbabylonian/blob/master/docs//transcription.md\" title=\"/Users/johnsojc/text-fabric-data/Nino-cunei/oldbabylonian/tf/1.0.4/ln.tf\">ln</a>  <a target=\"_blank\" href=\"https://github.com/Nino-cunei/oldbabylonian/blob/master/docs//transcription.md\" title=\"/Users/johnsojc/text-fabric-data/Nino-cunei/oldbabylonian/tf/1.0.4/lnc.tf\">lnc</a>  <a target=\"_blank\" href=\"https://github.com/Nino-cunei/oldbabylonian/blob/master/docs//transcription.md\" title=\"/Users/johnsojc/text-fabric-data/Nino-cunei/oldbabylonian/tf/1.0.4/lnno.tf\">lnno</a>  <a target=\"_blank\" href=\"https://github.com/Nino-cunei/oldbabylonian/blob/master/docs//transcription.md\" title=\"/Users/johnsojc/text-fabric-data/Nino-cunei/oldbabylonian/tf/1.0.4/material.tf\">material</a>  <a target=\"_blank\" href=\"https://github.com/Nino-cunei/oldbabylonian/blob/master/docs//transcription.md\" title=\"/Users/johnsojc/text-fabric-data/Nino-cunei/oldbabylonian/tf/1.0.4/missing.tf\">missing</a>  <a target=\"_blank\" href=\"https://github.com/Nino-cunei/oldbabylonian/blob/master/docs//transcription.md\" title=\"/Users/johnsojc/text-fabric-data/Nino-cunei/oldbabylonian/tf/1.0.4/museumcode.tf\">museumcode</a>  <a target=\"_blank\" href=\"https://github.com/Nino-cunei/oldbabylonian/blob/master/docs//transcription.md\" title=\"/Users/johnsojc/text-fabric-data/Nino-cunei/oldbabylonian/tf/1.0.4/museumname.tf\">museumname</a>  <a target=\"_blank\" href=\"https://github.com/Nino-cunei/oldbabylonian/blob/master/docs//transcription.md\" title=\"/Users/johnsojc/text-fabric-data/Nino-cunei/oldbabylonian/tf/1.0.4/object.tf\">object</a>  <a target=\"_blank\" href=\"https://github.com/Nino-cunei/oldbabylonian/blob/master/docs//transcription.md\" title=\"/Users/johnsojc/text-fabric-data/Nino-cunei/oldbabylonian/tf/1.0.4/operator.tf\">operator</a>  <a target=\"_blank\" href=\"https://github.com/Nino-cunei/oldbabylonian/blob/master/docs//transcription.md\" title=\"/Users/johnsojc/text-fabric-data/Nino-cunei/oldbabylonian/tf/1.0.4/operatorr.tf\">operatorr</a>  <a target=\"_blank\" href=\"https://github.com/Nino-cunei/oldbabylonian/blob/master/docs//transcription.md\" title=\"/Users/johnsojc/text-fabric-data/Nino-cunei/oldbabylonian/tf/1.0.4/operatoru.tf\">operatoru</a>  <a target=\"_blank\" href=\"https://github.com/Nino-cunei/oldbabylonian/blob/master/docs//transcription.md\" title=\"/Users/johnsojc/text-fabric-data/Nino-cunei/oldbabylonian/tf/1.0.4/otype.tf\">otype</a>  <a target=\"_blank\" href=\"https://github.com/Nino-cunei/oldbabylonian/blob/master/docs//transcription.md\" title=\"/Users/johnsojc/text-fabric-data/Nino-cunei/oldbabylonian/tf/1.0.4/period.tf\">period</a>  <a target=\"_blank\" href=\"https://github.com/Nino-cunei/oldbabylonian/blob/master/docs//transcription.md\" title=\"/Users/johnsojc/text-fabric-data/Nino-cunei/oldbabylonian/tf/1.0.4/pnumber.tf\">pnumber</a>  <a target=\"_blank\" href=\"https://github.com/Nino-cunei/oldbabylonian/blob/master/docs//transcription.md\" title=\"/Users/johnsojc/text-fabric-data/Nino-cunei/oldbabylonian/tf/1.0.4/primecol.tf\">primecol</a>  <a target=\"_blank\" href=\"https://github.com/Nino-cunei/oldbabylonian/blob/master/docs//transcription.md\" title=\"/Users/johnsojc/text-fabric-data/Nino-cunei/oldbabylonian/tf/1.0.4/primeln.tf\">primeln</a>  <a target=\"_blank\" href=\"https://github.com/Nino-cunei/oldbabylonian/blob/master/docs//transcription.md\" title=\"/Users/johnsojc/text-fabric-data/Nino-cunei/oldbabylonian/tf/1.0.4/pubdate.tf\">pubdate</a>  <a target=\"_blank\" href=\"https://github.com/Nino-cunei/oldbabylonian/blob/master/docs//transcription.md\" title=\"/Users/johnsojc/text-fabric-data/Nino-cunei/oldbabylonian/tf/1.0.4/question.tf\">question</a>  <a target=\"_blank\" href=\"https://github.com/Nino-cunei/oldbabylonian/blob/master/docs//transcription.md\" title=\"/Users/johnsojc/text-fabric-data/Nino-cunei/oldbabylonian/tf/1.0.4/reading.tf\">reading</a>  <a target=\"_blank\" href=\"https://github.com/Nino-cunei/oldbabylonian/blob/master/docs//transcription.md\" title=\"/Users/johnsojc/text-fabric-data/Nino-cunei/oldbabylonian/tf/1.0.4/readingr.tf\">readingr</a>  <a target=\"_blank\" href=\"https://github.com/Nino-cunei/oldbabylonian/blob/master/docs//transcription.md\" title=\"/Users/johnsojc/text-fabric-data/Nino-cunei/oldbabylonian/tf/1.0.4/readingu.tf\">readingu</a>  <a target=\"_blank\" href=\"https://github.com/Nino-cunei/oldbabylonian/blob/master/docs//transcription.md\" title=\"/Users/johnsojc/text-fabric-data/Nino-cunei/oldbabylonian/tf/1.0.4/remarkable.tf\">remarkable</a>  <a target=\"_blank\" href=\"https://github.com/Nino-cunei/oldbabylonian/blob/master/docs//transcription.md\" title=\"/Users/johnsojc/text-fabric-data/Nino-cunei/oldbabylonian/tf/1.0.4/remarks.tf\">remarks</a>  <a target=\"_blank\" href=\"https://github.com/Nino-cunei/oldbabylonian/blob/master/docs//transcription.md\" title=\"/Users/johnsojc/text-fabric-data/Nino-cunei/oldbabylonian/tf/1.0.4/repeat.tf\">repeat</a>  <a target=\"_blank\" href=\"https://github.com/Nino-cunei/oldbabylonian/blob/master/docs//transcription.md\" title=\"/Users/johnsojc/text-fabric-data/Nino-cunei/oldbabylonian/tf/1.0.4/srcLn.tf\">srcLn</a>  <a target=\"_blank\" href=\"https://github.com/Nino-cunei/oldbabylonian/blob/master/docs//transcription.md\" title=\"/Users/johnsojc/text-fabric-data/Nino-cunei/oldbabylonian/tf/1.0.4/srcLnNum.tf\">srcLnNum</a>  <a target=\"_blank\" href=\"https://github.com/Nino-cunei/oldbabylonian/blob/master/docs//transcription.md\" title=\"/Users/johnsojc/text-fabric-data/Nino-cunei/oldbabylonian/tf/1.0.4/srcfile.tf\">srcfile</a>  <a target=\"_blank\" href=\"https://github.com/Nino-cunei/oldbabylonian/blob/master/docs//transcription.md\" title=\"/Users/johnsojc/text-fabric-data/Nino-cunei/oldbabylonian/tf/1.0.4/subgenre.tf\">subgenre</a>  <a target=\"_blank\" href=\"https://github.com/Nino-cunei/oldbabylonian/blob/master/docs//transcription.md\" title=\"/Users/johnsojc/text-fabric-data/Nino-cunei/oldbabylonian/tf/1.0.4/supplied.tf\">supplied</a>  <a target=\"_blank\" href=\"https://github.com/Nino-cunei/oldbabylonian/blob/master/docs//transcription.md\" title=\"/Users/johnsojc/text-fabric-data/Nino-cunei/oldbabylonian/tf/1.0.4/sym.tf\">sym</a>  <a target=\"_blank\" href=\"https://github.com/Nino-cunei/oldbabylonian/blob/master/docs//transcription.md\" title=\"/Users/johnsojc/text-fabric-data/Nino-cunei/oldbabylonian/tf/1.0.4/symr.tf\">symr</a>  <a target=\"_blank\" href=\"https://github.com/Nino-cunei/oldbabylonian/blob/master/docs//transcription.md\" title=\"/Users/johnsojc/text-fabric-data/Nino-cunei/oldbabylonian/tf/1.0.4/symu.tf\">symu</a>  <a target=\"_blank\" href=\"https://github.com/Nino-cunei/oldbabylonian/blob/master/docs//transcription.md\" title=\"/Users/johnsojc/text-fabric-data/Nino-cunei/oldbabylonian/tf/1.0.4/trans.tf\">trans</a>  <a target=\"_blank\" href=\"https://github.com/Nino-cunei/oldbabylonian/blob/master/docs//transcription.md\" title=\"/Users/johnsojc/text-fabric-data/Nino-cunei/oldbabylonian/tf/1.0.4/transcriber.tf\">transcriber</a>  <a target=\"_blank\" href=\"https://github.com/Nino-cunei/oldbabylonian/blob/master/docs//transcription.md\" title=\"/Users/johnsojc/text-fabric-data/Nino-cunei/oldbabylonian/tf/1.0.4/translation@en.tf\">translation@ll</a>  <a target=\"_blank\" href=\"https://github.com/Nino-cunei/oldbabylonian/blob/master/docs//transcription.md\" title=\"/Users/johnsojc/text-fabric-data/Nino-cunei/oldbabylonian/tf/1.0.4/type.tf\">type</a>  <a target=\"_blank\" href=\"https://github.com/Nino-cunei/oldbabylonian/blob/master/docs//transcription.md\" title=\"/Users/johnsojc/text-fabric-data/Nino-cunei/oldbabylonian/tf/1.0.4/uncertain.tf\">uncertain</a>  <a target=\"_blank\" href=\"https://github.com/Nino-cunei/oldbabylonian/blob/master/docs//transcription.md\" title=\"/Users/johnsojc/text-fabric-data/Nino-cunei/oldbabylonian/tf/1.0.4/volume.tf\">volume</a>  <b><i><a target=\"_blank\" href=\"https://github.com/Nino-cunei/oldbabylonian/blob/master/docs//transcription.md\" title=\"/Users/johnsojc/text-fabric-data/Nino-cunei/oldbabylonian/tf/1.0.4/oslots.tf\">oslots</a></i></b> </p></details>"
      ],
      "text/plain": [
       "<IPython.core.display.HTML object>"
      ]
     },
     "metadata": {},
     "output_type": "display_data"
    },
    {
     "data": {
      "text/html": [
       "<style>\n",
       "@font-face {\n",
       "  font-family: \"Santakku\";\n",
       "  src:\n",
       "    local(\"Santakku.ttf\"),\n",
       "    url(\"https://github.com/annotation/text-fabric/blob/master/tf/server/static/fonts/Santakku.woff?raw=true\");\n",
       "}\n",
       ".txtn,.txtn a:visited,.txtn a:link {\n",
       "    font-family: sans-serif;\n",
       "    font-size: normal;\n",
       "    text-decoration: none;\n",
       "}\n",
       ".txtp,.txtp a:visited,.txtp a:link {\n",
       "    font-family: monospace;\n",
       "    font-size: normal;\n",
       "    text-decoration: none;\n",
       "}\n",
       ".txtr,.txtr a:visited,.txtr a:link {\n",
       "    font-family: serif;\n",
       "    font-size: large;\n",
       "    text-decoration: none;\n",
       "}\n",
       ".txtu,.txtu a:visited,.txtu a:link {\n",
       "    font-family: Santakku;\n",
       "    font-size: x-large;\n",
       "    text-decoration: none;\n",
       "}\n",
       ".features {\n",
       "    font-family: monospace;\n",
       "    font-size: medium;\n",
       "    font-weight: bold;\n",
       "    color: #0a6611;\n",
       "    display: flex;\n",
       "    flex-flow: column nowrap;\n",
       "    padding: 0.1em;\n",
       "    margin: 0.1em;\n",
       "    direction: ltr;\n",
       "}\n",
       ".features div,.features span {\n",
       "    padding: 0;\n",
       "    margin: -0.1rem 0;\n",
       "}\n",
       ".features .f {\n",
       "    font-family: sans-serif;\n",
       "    font-size: x-small;\n",
       "    font-weight: normal;\n",
       "    color: #5555bb;\n",
       "}\n",
       ".features .xft {\n",
       "  color: #000000;\n",
       "  background-color: #eeeeee;\n",
       "  font-size: medium;\n",
       "  margin: 0.1em 0em;\n",
       "}\n",
       ".features .xft .f {\n",
       "  color: #000000;\n",
       "  background-color: #eeeeee;\n",
       "  font-style: italic;\n",
       "  font-size: small;\n",
       "  font-weight: normal;\n",
       "}\n",
       ".pnum {\n",
       "    font-family: sans-serif;\n",
       "    font-size: small;\n",
       "    font-weight: bold;\n",
       "    color: #444444;\n",
       "}\n",
       ".nd {\n",
       "    font-family: monospace;\n",
       "    font-size: x-small;\n",
       "    color: #999999;\n",
       "}\n",
       ".meta {\n",
       "    display: flex;\n",
       "    justify-content: flex-start;\n",
       "    align-items: flex-start;\n",
       "    align-content: flex-start;\n",
       "    flex-flow: row nowrap;\n",
       "}\n",
       ".features,.comments {\n",
       "    display: flex;\n",
       "    justify-content: flex-start;\n",
       "    align-items: flex-start;\n",
       "    align-content: flex-start;\n",
       "    flex-flow: column nowrap;\n",
       "}\n",
       ".children {\n",
       "    display: flex;\n",
       "    justify-content: flex-start;\n",
       "    align-items: flex-start;\n",
       "    align-content: flex-start;\n",
       "    border: 0;\n",
       "    background-color: #ffffff;\n",
       "}\n",
       ".children.document {\n",
       "    flex-flow: column nowrap;\n",
       "}\n",
       ".children.face {\n",
       "    flex-flow: column nowrap;\n",
       "}\n",
       ".children.line {\n",
       "    align-items: stretch;\n",
       "    flex-flow: row nowrap;\n",
       "}\n",
       ".children.cluster {\n",
       "    flex-flow: row wrap;\n",
       "}\n",
       ".children.line {\n",
       "    align-items: stretch;\n",
       "    flex-flow: row nowrap;\n",
       "}\n",
       ".children.sign {\n",
       "    flex-flow: column nowrap;\n",
       "}\n",
       ".contnr {\n",
       "    width: fit-content;\n",
       "}\n",
       ".contnr.document,.contnr.face,\n",
       ".contnr.line,\n",
       ".contnr.cluster,\n",
       ".contnr.word,\n",
       ".contnr.sign {\n",
       "    display: flex;\n",
       "    justify-content: flex-start;\n",
       "    align-items: flex-start;\n",
       "    align-content: flex-start;\n",
       "    flex-flow: column nowrap;\n",
       "    background: #ffffff none repeat scroll 0 0;\n",
       "    padding:  0.5em 0.1em 0.1em 0.1em;\n",
       "    margin: 0.8em 0.1em 0.1em 0.1em;\n",
       "    border-radius: 0.2em;\n",
       "    border-style: solid;\n",
       "    border-width: 0.2em;\n",
       "    font-size: small;\n",
       "}\n",
       ".contnr.document,.contnr.face {\n",
       "    border-color: #bb8800;\n",
       "}\n",
       ".contnr.line {\n",
       "    border-color: #0088bb;\n",
       "}\n",
       ".contnr.cluster {\n",
       "    flex-flow: row wrap;\n",
       "    border: 0;\n",
       "}\n",
       ".contnr.word {\n",
       "    border-color: #44bbff;\n",
       "}\n",
       ".contnr.sign {\n",
       "    border-color: #bbbbbb;\n",
       "}\n",
       ".contnr.hl {\n",
       "    background-color: #ffee66;\n",
       "}\n",
       ".lbl.document,.lbl.face,\n",
       ".lbl.line,\n",
       ".lbl.cluster,\n",
       ".lbl.sign,.lbl.word {\n",
       "    margin-top: -1.2em;\n",
       "    margin-left: 1em;\n",
       "    background: #ffffff none repeat scroll 0 0;\n",
       "    padding: 0 0.3em;\n",
       "    border-style: solid;\n",
       "    font-size: small;\n",
       "    display: block;\n",
       "}\n",
       ".lbl.document,.lbl.face {\n",
       "    border-color: #bb8800;\n",
       "    border-width: 0.3em;\n",
       "    border-radius: 0.3em;\n",
       "    color: #bb8800;\n",
       "}\n",
       ".lbl.line {\n",
       "    border-color: #0088bb;\n",
       "    border-width: 0.3em;\n",
       "    border-radius: 0.3em;\n",
       "    color: #0088bb;\n",
       "}\n",
       ".lbl.cluster {\n",
       "    border-color: #dddddd;\n",
       "    border-width: 0.2em;\n",
       "    border-radius: 0.2em;\n",
       "    color: #0000cc;\n",
       "}\n",
       ".lbl.word {\n",
       "    border-color: #44bbff;\n",
       "    border-width: 0.2em;\n",
       "    border-radius: 0.2em;\n",
       "    font-size: medium;\n",
       "    color: #000000;\n",
       "}\n",
       ".lbl.sign {\n",
       "    border-color: #bbbbbb;\n",
       "    border-width: 0.1em;\n",
       "    border-radius: 0.1em;\n",
       "    font-size: small;\n",
       "    color: #000000;\n",
       "}\n",
       ".op {\n",
       "    padding:  0.5em 0.1em 0.1em 0.1em;\n",
       "    margin: 0.8em 0.1em 0.1em 0.1em;\n",
       "    font-family: monospace;\n",
       "    font-size: x-large;\n",
       "    font-weight: bold;\n",
       "}\n",
       ".name {\n",
       "    font-family: monospace;\n",
       "    font-size: medium;\n",
       "    color: #0000bb;\n",
       "}\n",
       ".period {\n",
       "    font-family: monospace;\n",
       "    font-size: medium;\n",
       "    font-weight: bold;\n",
       "    color: #0000bb;\n",
       "}\n",
       ".text {\n",
       "    font-family: sans-serif;\n",
       "    font-size: x-small;\n",
       "    color: #000000;\n",
       "}\n",
       ".srcln {\n",
       "    font-family: monospace;\n",
       "    font-size: medium;\n",
       "    color: #000000;\n",
       "}\n",
       ".srclnnum {\n",
       "    font-family: monospace;\n",
       "    font-size: x-small;\n",
       "    color: #0000bb;\n",
       "}\n",
       ".comment {\n",
       "    color: #7777dd;\n",
       "    font-family: monospace;\n",
       "    font-size: small;\n",
       "}\n",
       ".operator {\n",
       "    color: #ff77ff;\n",
       "    font-size: large;\n",
       "}\n",
       "/* LANGUAGE: superscript and subscript */\n",
       "\n",
       "/* cluster */\n",
       ".det {\n",
       "    vertical-align: super;\n",
       "}\n",
       "/* cluster */\n",
       ".langalt {\n",
       "    vertical-align: sub;\n",
       "}\n",
       "/* REDACTIONAL: line over or under  */\n",
       "\n",
       "/* flag */\n",
       ".collated {\n",
       "    font-weight: bold;\n",
       "    text-decoration: underline;\n",
       "}\n",
       "/* cluster */\n",
       ".excised {\n",
       "    color: #dd0000;\n",
       "    text-decoration: line-through;\n",
       "}\n",
       "/* cluster */\n",
       ".supplied {\n",
       "    color: #0000ff;\n",
       "    text-decoration: overline;\n",
       "}\n",
       "/* flag */\n",
       ".remarkable {\n",
       "    font-weight: bold;\n",
       "    text-decoration: overline;\n",
       "}\n",
       "\n",
       "/* UNSURE: italic*/\n",
       "\n",
       "/* cluster */\n",
       ".uncertain {\n",
       "    font-style: italic\n",
       "}\n",
       "/* flag */\n",
       ".question {\n",
       "    font-weight: bold;\n",
       "    font-style: italic\n",
       "}\n",
       "\n",
       "/* BROKEN: text-shadow */\n",
       "\n",
       "/* cluster */\n",
       ".missing {\n",
       "    color: #999999;\n",
       "    text-shadow: #bbbbbb 1px 1px;\n",
       "}\n",
       "/* flag */\n",
       ".damage {\n",
       "    font-weight: bold;\n",
       "    color: #999999;\n",
       "    text-shadow: #bbbbbb 1px 1px;\n",
       "}\n",
       ".empty {\n",
       "  color: #ff0000;\n",
       "}\n",
       "\n",
       "\n",
       "tr.tf, td.tf, th.tf {\n",
       "  text-align: left;\n",
       "}\n",
       "\n",
       "span.hldot {\n",
       "\tbackground-color: var(--hl-strong);\n",
       "\tborder: 0.2rem solid var(--hl-rim);\n",
       "\tborder-radius: 0.4rem;\n",
       "\t/*\n",
       "\tdisplay: inline-block;\n",
       "\twidth: 0.8rem;\n",
       "\theight: 0.8rem;\n",
       "\t*/\n",
       "}\n",
       "span.hl {\n",
       "\tbackground-color: var(--hl-strong);\n",
       "\tborder-width: 0;\n",
       "\tborder-radius: 0.1rem;\n",
       "\tborder-style: solid;\n",
       "}\n",
       "\n",
       "span.hlup {\n",
       "\tborder-color: var(--hl-dark);\n",
       "\tborder-width: 0.1rem;\n",
       "\tborder-style: solid;\n",
       "\tborder-radius: 0.2rem;\n",
       "  padding: 0.2rem;\n",
       "}\n",
       "\n",
       ":root {\n",
       "\t--hl-strong:        hsla( 60, 100%,  70%, 0.9  );\n",
       "\t--hl-rim:           hsla( 55, 100%,  60%, 0.9  );\n",
       "\t--hl-dark:          hsla( 55, 100%,  40%, 0.9  );\n",
       "}\n",
       "</style>"
      ],
      "text/plain": [
       "<IPython.core.display.HTML object>"
      ]
     },
     "metadata": {},
     "output_type": "display_data"
    },
    {
     "data": {
      "text/html": [
       "<details open><summary><b>API members</b>:</summary>\n",
       "<a target=\"_blank\" href=\"https://annotation.github.io/text-fabric/Api/Computed/#computed-data\" title=\"doc\">C Computed</a>, <a target=\"_blank\" href=\"https://annotation.github.io/text-fabric/Api/Computed/#computed-data\" title=\"doc\">Call AllComputeds</a>, <a target=\"_blank\" href=\"https://annotation.github.io/text-fabric/Api/Computed/#computed-data\" title=\"doc\">Cs ComputedString</a><br/>\n",
       "<a target=\"_blank\" href=\"https://annotation.github.io/text-fabric/Api/Features/#edge-features\" title=\"doc\">E Edge</a>, <a target=\"_blank\" href=\"https://annotation.github.io/text-fabric/Api/Features/#edge-features\" title=\"doc\">Eall AllEdges</a>, <a target=\"_blank\" href=\"https://annotation.github.io/text-fabric/Api/Features/#edge-features\" title=\"doc\">Es EdgeString</a><br/>\n",
       "<a target=\"_blank\" href=\"https://annotation.github.io/text-fabric/Api/Fabric/#loading\" title=\"doc\">ensureLoaded</a>, <a target=\"_blank\" href=\"https://annotation.github.io/text-fabric/Api/Fabric/#loading\" title=\"doc\">TF</a>, <a target=\"_blank\" href=\"https://annotation.github.io/text-fabric/Api/Fabric/#loading\" title=\"doc\">ignored</a>, <a target=\"_blank\" href=\"https://annotation.github.io/text-fabric/Api/Fabric/#loading\" title=\"doc\">loadLog</a><br/>\n",
       "<a target=\"_blank\" href=\"https://annotation.github.io/text-fabric/Api/Locality/#locality\" title=\"doc\">L Locality</a><br/>\n",
       "<a target=\"_blank\" href=\"https://annotation.github.io/text-fabric/Api/Misc/#messaging\" title=\"doc\">cache</a>, <a target=\"_blank\" href=\"https://annotation.github.io/text-fabric/Api/Misc/#messaging\" title=\"doc\">error</a>, <a target=\"_blank\" href=\"https://annotation.github.io/text-fabric/Api/Misc/#messaging\" title=\"doc\">indent</a>, <a target=\"_blank\" href=\"https://annotation.github.io/text-fabric/Api/Misc/#messaging\" title=\"doc\">info</a>, <a target=\"_blank\" href=\"https://annotation.github.io/text-fabric/Api/Misc/#messaging\" title=\"doc\">reset</a><br/>\n",
       "<a target=\"_blank\" href=\"https://annotation.github.io/text-fabric/Api/Nodes/#navigating-nodes\" title=\"doc\">N Nodes</a>, <a target=\"_blank\" href=\"https://annotation.github.io/text-fabric/Api/Nodes/#navigating-nodes\" title=\"doc\">sortKey</a>, <a target=\"_blank\" href=\"https://annotation.github.io/text-fabric/Api/Nodes/#navigating-nodes\" title=\"doc\">sortKeyTuple</a>, <a target=\"_blank\" href=\"https://annotation.github.io/text-fabric/Api/Nodes/#navigating-nodes\" title=\"doc\">otypeRank</a>, <a target=\"_blank\" href=\"https://annotation.github.io/text-fabric/Api/Nodes/#navigating-nodes\" title=\"doc\">sortNodes</a><br/>\n",
       "<a target=\"_blank\" href=\"https://annotation.github.io/text-fabric/Api/Features/#node-features\" title=\"doc\">F Feature</a>, <a target=\"_blank\" href=\"https://annotation.github.io/text-fabric/Api/Features/#node-features\" title=\"doc\">Fall AllFeatures</a>, <a target=\"_blank\" href=\"https://annotation.github.io/text-fabric/Api/Features/#node-features\" title=\"doc\">Fs FeatureString</a><br/>\n",
       "<a target=\"_blank\" href=\"https://annotation.github.io/text-fabric/Api/Search/#search\" title=\"doc\">S Search</a><br/>\n",
       "<a target=\"_blank\" href=\"https://annotation.github.io/text-fabric/Api/Text/#text\" title=\"doc\">T Text</a></details>"
      ],
      "text/plain": [
       "<IPython.core.display.HTML object>"
      ]
     },
     "metadata": {},
     "output_type": "display_data"
    }
   ],
   "source": [
    "A = use('oldbabylonian', hoist=globals(), check=True)"
   ]
  },
  {
   "cell_type": "markdown",
   "metadata": {},
   "source": [
    "# Prepositions\n",
    "\n",
    "Prepositions play a role in finding nouns.\n",
    "\n",
    "Here we do some basic exploration."
   ]
  },
  {
   "cell_type": "markdown",
   "metadata": {},
   "source": [
    "This is a list of prepositions:\n",
    "\n",
    "```\n",
    "i-na\n",
    "a-na\n",
    "e-li\n",
    "isz-tu\n",
    "it-ti\n",
    "```\n",
    "\n",
    "# Exploratory excursions\n",
    "\n",
    "Before we formulate a query to draw out the prepositions and their subsequent words,\n",
    "let's do some exploration. \n",
    "We'll need queries that are a bit more advanced as well, and we'll take a moment to explain\n",
    "what is going on.\n",
    "\n",
    "The first question is: do prepositions stand on their own as words, or are they part of words?\n",
    "Can they cross word boundaries?\n",
    "\n",
    "Let's check this out for the first preposition `i-na`:\n",
    "\n",
    "## i-na as complete word\n",
    "\n",
    "First we look for all complete words that are made up of two signs, with readings `i` and `na` respectively."
   ]
  },
  {
   "cell_type": "code",
   "execution_count": 4,
   "metadata": {},
   "outputs": [],
   "source": [
    "queryW = '''\n",
    "word\n",
    "  =: sign reading=i\n",
    "  <: sign reading=na\n",
    "  :=\n",
    "'''"
   ]
  },
  {
   "cell_type": "markdown",
   "metadata": {},
   "source": [
    "Remember: \n",
    "\n",
    "* indentation in the template above means means that the indented objects \n",
    "  must be contained (embedded) in its less indented parent object:\n",
    "  the signs are embedded in the word;\n",
    "* `=:` connects the `words` with the first `sign`,\n",
    "  and the meaning is: both must *start* at the same slot;\n",
    "* `<:` connects the first sign with the second one,\n",
    "  and the meaning is that the first sign must immediately precede the second one;\n",
    "* `:=` connects the second sign with the word,\n",
    "  and the meaning is that both must *end* at the same slot.\n",
    "  \n",
    "**Hint** Do you find it hard to remember what is what between `:=` and `=:`?\n",
    "Look at the position of the `=`:\n",
    "\n",
    "* in `:=` the `=` comes last, and the meaning is:\n",
    "  both *end* at the same slot.\n",
    "* in `=:` the `=` comes first, and the meaning is:\n",
    "  both *start* at the same slot."
   ]
  },
  {
   "cell_type": "code",
   "execution_count": 5,
   "metadata": {},
   "outputs": [
    {
     "name": "stdout",
     "output_type": "stream",
     "text": [
      "  0.60s 1440 results\n"
     ]
    }
   ],
   "source": [
    "resultsW = A.search(queryW)"
   ]
  },
  {
   "cell_type": "code",
   "execution_count": 6,
   "metadata": {
    "scrolled": false
   },
   "outputs": [
    {
     "data": {
      "text/html": [
       "<table>\n",
       "<tr class=\"tf\">\n",
       "  <th class=\"tf\">n</th><th class=\"tf\">p</th>\n",
       "  <th class=\"tf\">word</th><th>sign</th><th>sign</th>\n",
       "</tr>\n",
       "\n",
       "<tr class=\"tf\"><td class=\"tf\">1</td><td class=\"tf\"> <a href=\"https://cdli.ucla.edu/search/search_results.php?SearchMode=Text&amp;ObjectID=P509373\" title=\"show this document on CDLI\" sec=\"P509373 obverse:12\">P509373 obverse:12</a></td><td class=\"tf\"><a href=\"https://cdli.ucla.edu/search/search_results.php?SearchMode=Text&amp;ObjectID=P509373\" title=\"P509373 obverse:12\" sec=\"P509373 obverse:12\"><span class=\"txtp\"><span  class=\"hl hlup\" >i-</span><span  class=\"hl hlup\" >na </span></span></a></td><td class=\"tf\"><span class=\"txtp\"><span  class=\"hl hlup\" >i-</span></span></td><td class=\"tf\"><span class=\"txtp\"><span  class=\"hl hlup\" >na </span></span></td></tr>\n",
       "<tr class=\"tf\"><td class=\"tf\">2</td><td class=\"tf\"> <a href=\"https://cdli.ucla.edu/search/search_results.php?SearchMode=Text&amp;ObjectID=P509373\" title=\"show this document on CDLI\" sec=\"P509373 reverse:11'\">P509373 reverse:11'</a></td><td class=\"tf\"><a href=\"https://cdli.ucla.edu/search/search_results.php?SearchMode=Text&amp;ObjectID=P509373\" title=\"P509373 reverse:11'\" sec=\"P509373 reverse:11'\"><span class=\"txtp\"><span  class=\"hl hlup\" >i-</span><span  class=\"hl hlup\" >[na] </span></span></a></td><td class=\"tf\"><span class=\"txtp\"><span  class=\"hl hlup\" >i-</span></span></td><td class=\"tf\"><span class=\"txtp\"><span  class=\"hl hlup\" >[na] </span></span></td></tr>\n",
       "<tr class=\"tf\"><td class=\"tf\">3</td><td class=\"tf\"> <a href=\"https://cdli.ucla.edu/search/search_results.php?SearchMode=Text&amp;ObjectID=P509374\" title=\"show this document on CDLI\" sec=\"P509374 obverse:15\">P509374 obverse:15</a></td><td class=\"tf\"><a href=\"https://cdli.ucla.edu/search/search_results.php?SearchMode=Text&amp;ObjectID=P509374\" title=\"P509374 obverse:15\" sec=\"P509374 obverse:15\"><span class=\"txtp\"><span  class=\"hl hlup\" >i-</span><span  class=\"hl hlup\" >na </span></span></a></td><td class=\"tf\"><span class=\"txtp\"><span  class=\"hl hlup\" >i-</span></span></td><td class=\"tf\"><span class=\"txtp\"><span  class=\"hl hlup\" >na </span></span></td></tr>\n",
       "<tr class=\"tf\"><td class=\"tf\">4</td><td class=\"tf\"> <a href=\"https://cdli.ucla.edu/search/search_results.php?SearchMode=Text&amp;ObjectID=P509375\" title=\"show this document on CDLI\" sec=\"P509375 reverse:9\">P509375 reverse:9</a></td><td class=\"tf\"><a href=\"https://cdli.ucla.edu/search/search_results.php?SearchMode=Text&amp;ObjectID=P509375\" title=\"P509375 reverse:9\" sec=\"P509375 reverse:9\"><span class=\"txtp\"><span  class=\"hl hlup\" >i-</span><span  class=\"hl hlup\" >na </span></span></a></td><td class=\"tf\"><span class=\"txtp\"><span  class=\"hl hlup\" >i-</span></span></td><td class=\"tf\"><span class=\"txtp\"><span  class=\"hl hlup\" >na </span></span></td></tr>\n",
       "<tr class=\"tf\"><td class=\"tf\">5</td><td class=\"tf\"> <a href=\"https://cdli.ucla.edu/search/search_results.php?SearchMode=Text&amp;ObjectID=P509376\" title=\"show this document on CDLI\" sec=\"P509376 reverse:4\">P509376 reverse:4</a></td><td class=\"tf\"><a href=\"https://cdli.ucla.edu/search/search_results.php?SearchMode=Text&amp;ObjectID=P509376\" title=\"P509376 reverse:4\" sec=\"P509376 reverse:4\"><span class=\"txtp\"><span  class=\"hl hlup\" >i-</span><span  class=\"hl hlup\" >na </span></span></a></td><td class=\"tf\"><span class=\"txtp\"><span  class=\"hl hlup\" >i-</span></span></td><td class=\"tf\"><span class=\"txtp\"><span  class=\"hl hlup\" >na </span></span></td></tr>\n",
       "<tr class=\"tf\"><td class=\"tf\">6</td><td class=\"tf\"> <a href=\"https://cdli.ucla.edu/search/search_results.php?SearchMode=Text&amp;ObjectID=P509377\" title=\"show this document on CDLI\" sec=\"P509377 obverse:1\">P509377 obverse:1</a></td><td class=\"tf\"><a href=\"https://cdli.ucla.edu/search/search_results.php?SearchMode=Text&amp;ObjectID=P509377\" title=\"P509377 obverse:1\" sec=\"P509377 obverse:1\"><span class=\"txtp\"><span  class=\"hl hlup\" >i-</span><span  class=\"hl hlup\" >na </span></span></a></td><td class=\"tf\"><span class=\"txtp\"><span  class=\"hl hlup\" >i-</span></span></td><td class=\"tf\"><span class=\"txtp\"><span  class=\"hl hlup\" >na </span></span></td></tr>\n",
       "<tr class=\"tf\"><td class=\"tf\">7</td><td class=\"tf\"> <a href=\"https://cdli.ucla.edu/search/search_results.php?SearchMode=Text&amp;ObjectID=P509377\" title=\"show this document on CDLI\" sec=\"P509377 reverse:4\">P509377 reverse:4</a></td><td class=\"tf\"><a href=\"https://cdli.ucla.edu/search/search_results.php?SearchMode=Text&amp;ObjectID=P509377\" title=\"P509377 reverse:4\" sec=\"P509377 reverse:4\"><span class=\"txtp\"><span  class=\"hl hlup\" >i-</span><span  class=\"hl hlup\" >na </span></span></a></td><td class=\"tf\"><span class=\"txtp\"><span  class=\"hl hlup\" >i-</span></span></td><td class=\"tf\"><span class=\"txtp\"><span  class=\"hl hlup\" >na </span></span></td></tr>\n",
       "<tr class=\"tf\"><td class=\"tf\">8</td><td class=\"tf\"> <a href=\"https://cdli.ucla.edu/search/search_results.php?SearchMode=Text&amp;ObjectID=P509377\" title=\"show this document on CDLI\" sec=\"P509377 reverse:5\">P509377 reverse:5</a></td><td class=\"tf\"><a href=\"https://cdli.ucla.edu/search/search_results.php?SearchMode=Text&amp;ObjectID=P509377\" title=\"P509377 reverse:5\" sec=\"P509377 reverse:5\"><span class=\"txtp\"><span  class=\"hl hlup\" >i-</span><span  class=\"hl hlup\" >na </span></span></a></td><td class=\"tf\"><span class=\"txtp\"><span  class=\"hl hlup\" >i-</span></span></td><td class=\"tf\"><span class=\"txtp\"><span  class=\"hl hlup\" >na </span></span></td></tr>\n",
       "<tr class=\"tf\"><td class=\"tf\">9</td><td class=\"tf\"> <a href=\"https://cdli.ucla.edu/search/search_results.php?SearchMode=Text&amp;ObjectID=P509377\" title=\"show this document on CDLI\" sec=\"P509377 reverse:12\">P509377 reverse:12</a></td><td class=\"tf\"><a href=\"https://cdli.ucla.edu/search/search_results.php?SearchMode=Text&amp;ObjectID=P509377\" title=\"P509377 reverse:12\" sec=\"P509377 reverse:12\"><span class=\"txtp\"><span  class=\"hl hlup\" >i-</span><span  class=\"hl hlup\" >na </span></span></a></td><td class=\"tf\"><span class=\"txtp\"><span  class=\"hl hlup\" >i-</span></span></td><td class=\"tf\"><span class=\"txtp\"><span  class=\"hl hlup\" >na </span></span></td></tr>\n",
       "<tr class=\"tf\"><td class=\"tf\">10</td><td class=\"tf\"> <a href=\"https://cdli.ucla.edu/search/search_results.php?SearchMode=Text&amp;ObjectID=P481192\" title=\"show this document on CDLI\" sec=\"P481192 reverse:1'\">P481192 reverse:1'</a></td><td class=\"tf\"><a href=\"https://cdli.ucla.edu/search/search_results.php?SearchMode=Text&amp;ObjectID=P481192\" title=\"P481192 reverse:1'\" sec=\"P481192 reverse:1'\"><span class=\"txtp\"><span  class=\"hl hlup\" >i-</span><span  class=\"hl hlup\" >na </span></span></a></td><td class=\"tf\"><span class=\"txtp\"><span  class=\"hl hlup\" >i-</span></span></td><td class=\"tf\"><span class=\"txtp\"><span  class=\"hl hlup\" >na </span></span></td></tr>\n",
       "<tr class=\"tf\"><td class=\"tf\">11</td><td class=\"tf\"> <a href=\"https://cdli.ucla.edu/search/search_results.php?SearchMode=Text&amp;ObjectID=P481192\" title=\"show this document on CDLI\" sec=\"P481192 reverse:1'\">P481192 reverse:1'</a></td><td class=\"tf\"><a href=\"https://cdli.ucla.edu/search/search_results.php?SearchMode=Text&amp;ObjectID=P481192\" title=\"P481192 reverse:1'\" sec=\"P481192 reverse:1'\"><span class=\"txtp\"><span  class=\"hl hlup\" >i-</span><span  class=\"hl hlup\" >na </span></span></a></td><td class=\"tf\"><span class=\"txtp\"><span  class=\"hl hlup\" >i-</span></span></td><td class=\"tf\"><span class=\"txtp\"><span  class=\"hl hlup\" >na </span></span></td></tr>\n",
       "<tr class=\"tf\"><td class=\"tf\">12</td><td class=\"tf\"> <a href=\"https://cdli.ucla.edu/search/search_results.php?SearchMode=Text&amp;ObjectID=P481192\" title=\"show this document on CDLI\" sec=\"P481192 reverse:10'\">P481192 reverse:10'</a></td><td class=\"tf\"><a href=\"https://cdli.ucla.edu/search/search_results.php?SearchMode=Text&amp;ObjectID=P481192\" title=\"P481192 reverse:10'\" sec=\"P481192 reverse:10'\"><span class=\"txtp\"><span  class=\"hl hlup\" >i-</span><span  class=\"hl hlup\" >na </span></span></a></td><td class=\"tf\"><span class=\"txtp\"><span  class=\"hl hlup\" >i-</span></span></td><td class=\"tf\"><span class=\"txtp\"><span  class=\"hl hlup\" >na </span></span></td></tr>\n",
       "<tr class=\"tf\"><td class=\"tf\">13</td><td class=\"tf\"> <a href=\"https://cdli.ucla.edu/search/search_results.php?SearchMode=Text&amp;ObjectID=P389958\" title=\"show this document on CDLI\" sec=\"P389958 reverse:2\">P389958 reverse:2</a></td><td class=\"tf\"><a href=\"https://cdli.ucla.edu/search/search_results.php?SearchMode=Text&amp;ObjectID=P389958\" title=\"P389958 reverse:2\" sec=\"P389958 reverse:2\"><span class=\"txtp\"><span  class=\"hl hlup\" >i-</span><span  class=\"hl hlup\" >na </span></span></a></td><td class=\"tf\"><span class=\"txtp\"><span  class=\"hl hlup\" >i-</span></span></td><td class=\"tf\"><span class=\"txtp\"><span  class=\"hl hlup\" >na </span></span></td></tr>\n",
       "<tr class=\"tf\"><td class=\"tf\">14</td><td class=\"tf\"> <a href=\"https://cdli.ucla.edu/search/search_results.php?SearchMode=Text&amp;ObjectID=P510527\" title=\"show this document on CDLI\" sec=\"P510527 obverse:6\">P510527 obverse:6</a></td><td class=\"tf\"><a href=\"https://cdli.ucla.edu/search/search_results.php?SearchMode=Text&amp;ObjectID=P510527\" title=\"P510527 obverse:6\" sec=\"P510527 obverse:6\"><span class=\"txtp\"><span  class=\"hl hlup\" >i-</span><span  class=\"hl hlup\" >na </span></span></a></td><td class=\"tf\"><span class=\"txtp\"><span  class=\"hl hlup\" >i-</span></span></td><td class=\"tf\"><span class=\"txtp\"><span  class=\"hl hlup\" >na </span></span></td></tr>\n",
       "<tr class=\"tf\"><td class=\"tf\">15</td><td class=\"tf\"> <a href=\"https://cdli.ucla.edu/search/search_results.php?SearchMode=Text&amp;ObjectID=P510527\" title=\"show this document on CDLI\" sec=\"P510527 obverse:15\">P510527 obverse:15</a></td><td class=\"tf\"><a href=\"https://cdli.ucla.edu/search/search_results.php?SearchMode=Text&amp;ObjectID=P510527\" title=\"P510527 obverse:15\" sec=\"P510527 obverse:15\"><span class=\"txtp\"><span  class=\"hl hlup\" >i-</span><span  class=\"hl hlup\" >na </span></span></a></td><td class=\"tf\"><span class=\"txtp\"><span  class=\"hl hlup\" >i-</span></span></td><td class=\"tf\"><span class=\"txtp\"><span  class=\"hl hlup\" >na </span></span></td></tr>\n",
       "<tr class=\"tf\"><td class=\"tf\">16</td><td class=\"tf\"> <a href=\"https://cdli.ucla.edu/search/search_results.php?SearchMode=Text&amp;ObjectID=P510527\" title=\"show this document on CDLI\" sec=\"P510527 obverse:15\">P510527 obverse:15</a></td><td class=\"tf\"><a href=\"https://cdli.ucla.edu/search/search_results.php?SearchMode=Text&amp;ObjectID=P510527\" title=\"P510527 obverse:15\" sec=\"P510527 obverse:15\"><span class=\"txtp\"><span  class=\"hl hlup\" >i-</span><span  class=\"hl hlup\" >na </span></span></a></td><td class=\"tf\"><span class=\"txtp\"><span  class=\"hl hlup\" >i-</span></span></td><td class=\"tf\"><span class=\"txtp\"><span  class=\"hl hlup\" >na </span></span></td></tr>\n",
       "<tr class=\"tf\"><td class=\"tf\">17</td><td class=\"tf\"> <a href=\"https://cdli.ucla.edu/search/search_results.php?SearchMode=Text&amp;ObjectID=P510527\" title=\"show this document on CDLI\" sec=\"P510527 obverse:18\">P510527 obverse:18</a></td><td class=\"tf\"><a href=\"https://cdli.ucla.edu/search/search_results.php?SearchMode=Text&amp;ObjectID=P510527\" title=\"P510527 obverse:18\" sec=\"P510527 obverse:18\"><span class=\"txtp\"><span  class=\"hl hlup\" >i-</span><span  class=\"hl hlup\" >na </span></span></a></td><td class=\"tf\"><span class=\"txtp\"><span  class=\"hl hlup\" >i-</span></span></td><td class=\"tf\"><span class=\"txtp\"><span  class=\"hl hlup\" >na </span></span></td></tr>\n",
       "<tr class=\"tf\"><td class=\"tf\">18</td><td class=\"tf\"> <a href=\"https://cdli.ucla.edu/search/search_results.php?SearchMode=Text&amp;ObjectID=P510527\" title=\"show this document on CDLI\" sec=\"P510527 reverse:1\">P510527 reverse:1</a></td><td class=\"tf\"><a href=\"https://cdli.ucla.edu/search/search_results.php?SearchMode=Text&amp;ObjectID=P510527\" title=\"P510527 reverse:1\" sec=\"P510527 reverse:1\"><span class=\"txtp\"><span  class=\"hl hlup\" >i-</span><span  class=\"hl hlup\" >na </span></span></a></td><td class=\"tf\"><span class=\"txtp\"><span  class=\"hl hlup\" >i-</span></span></td><td class=\"tf\"><span class=\"txtp\"><span  class=\"hl hlup\" >na </span></span></td></tr>\n",
       "<tr class=\"tf\"><td class=\"tf\">19</td><td class=\"tf\"> <a href=\"https://cdli.ucla.edu/search/search_results.php?SearchMode=Text&amp;ObjectID=P510530\" title=\"show this document on CDLI\" sec=\"P510530 reverse:18\">P510530 reverse:18</a></td><td class=\"tf\"><a href=\"https://cdli.ucla.edu/search/search_results.php?SearchMode=Text&amp;ObjectID=P510530\" title=\"P510530 reverse:18\" sec=\"P510530 reverse:18\"><span class=\"txtp\"><span  class=\"hl hlup\" >i-</span><span  class=\"hl hlup\" >na </span></span></a></td><td class=\"tf\"><span class=\"txtp\"><span  class=\"hl hlup\" >i-</span></span></td><td class=\"tf\"><span class=\"txtp\"><span  class=\"hl hlup\" >na </span></span></td></tr>\n",
       "<tr class=\"tf\"><td class=\"tf\">20</td><td class=\"tf\"> <a href=\"https://cdli.ucla.edu/search/search_results.php?SearchMode=Text&amp;ObjectID=P510534\" title=\"show this document on CDLI\" sec=\"P510534 obverse:9\">P510534 obverse:9</a></td><td class=\"tf\"><a href=\"https://cdli.ucla.edu/search/search_results.php?SearchMode=Text&amp;ObjectID=P510534\" title=\"P510534 obverse:9\" sec=\"P510534 obverse:9\"><span class=\"txtp\"><span  class=\"hl hlup\" >i-</span><span  class=\"hl hlup\" >na </span></span></a></td><td class=\"tf\"><span class=\"txtp\"><span  class=\"hl hlup\" >i-</span></span></td><td class=\"tf\"><span class=\"txtp\"><span  class=\"hl hlup\" >na </span></span></td></tr>\n",
       "<tr class=\"tf\"><td class=\"tf\">21</td><td class=\"tf\"> <a href=\"https://cdli.ucla.edu/search/search_results.php?SearchMode=Text&amp;ObjectID=P510534\" title=\"show this document on CDLI\" sec=\"P510534 reverse:7'\">P510534 reverse:7'</a></td><td class=\"tf\"><a href=\"https://cdli.ucla.edu/search/search_results.php?SearchMode=Text&amp;ObjectID=P510534\" title=\"P510534 reverse:7'\" sec=\"P510534 reverse:7'\"><span class=\"txtp\"><span  class=\"hl hlup\" >i-</span><span  class=\"hl hlup\" >na </span></span></a></td><td class=\"tf\"><span class=\"txtp\"><span  class=\"hl hlup\" >i-</span></span></td><td class=\"tf\"><span class=\"txtp\"><span  class=\"hl hlup\" >na </span></span></td></tr>\n",
       "<tr class=\"tf\"><td class=\"tf\">22</td><td class=\"tf\"> <a href=\"https://cdli.ucla.edu/search/search_results.php?SearchMode=Text&amp;ObjectID=P510536\" title=\"show this document on CDLI\" sec=\"P510536 obverse:9\">P510536 obverse:9</a></td><td class=\"tf\"><a href=\"https://cdli.ucla.edu/search/search_results.php?SearchMode=Text&amp;ObjectID=P510536\" title=\"P510536 obverse:9\" sec=\"P510536 obverse:9\"><span class=\"txtp\"><span  class=\"hl hlup\" >i-</span><span  class=\"hl hlup\" >na# </span></span></a></td><td class=\"tf\"><span class=\"txtp\"><span  class=\"hl hlup\" >i-</span></span></td><td class=\"tf\"><span class=\"txtp\"><span  class=\"hl hlup\" >na# </span></span></td></tr>\n",
       "<tr class=\"tf\"><td class=\"tf\">23</td><td class=\"tf\"> <a href=\"https://cdli.ucla.edu/search/search_results.php?SearchMode=Text&amp;ObjectID=P510536\" title=\"show this document on CDLI\" sec=\"P510536 reverse:4\">P510536 reverse:4</a></td><td class=\"tf\"><a href=\"https://cdli.ucla.edu/search/search_results.php?SearchMode=Text&amp;ObjectID=P510536\" title=\"P510536 reverse:4\" sec=\"P510536 reverse:4\"><span class=\"txtp\"><span  class=\"hl hlup\" >i-</span><span  class=\"hl hlup\" >na </span></span></a></td><td class=\"tf\"><span class=\"txtp\"><span  class=\"hl hlup\" >i-</span></span></td><td class=\"tf\"><span class=\"txtp\"><span  class=\"hl hlup\" >na </span></span></td></tr>\n",
       "<tr class=\"tf\"><td class=\"tf\">24</td><td class=\"tf\"> <a href=\"https://cdli.ucla.edu/search/search_results.php?SearchMode=Text&amp;ObjectID=P510538\" title=\"show this document on CDLI\" sec=\"P510538 obverse:10\">P510538 obverse:10</a></td><td class=\"tf\"><a href=\"https://cdli.ucla.edu/search/search_results.php?SearchMode=Text&amp;ObjectID=P510538\" title=\"P510538 obverse:10\" sec=\"P510538 obverse:10\"><span class=\"txtp\"><span  class=\"hl hlup\" >i-</span><span  class=\"hl hlup\" >na </span></span></a></td><td class=\"tf\"><span class=\"txtp\"><span  class=\"hl hlup\" >i-</span></span></td><td class=\"tf\"><span class=\"txtp\"><span  class=\"hl hlup\" >na </span></span></td></tr>\n",
       "<tr class=\"tf\"><td class=\"tf\">25</td><td class=\"tf\"> <a href=\"https://cdli.ucla.edu/search/search_results.php?SearchMode=Text&amp;ObjectID=P510541\" title=\"show this document on CDLI\" sec=\"P510541 obverse:13\">P510541 obverse:13</a></td><td class=\"tf\"><a href=\"https://cdli.ucla.edu/search/search_results.php?SearchMode=Text&amp;ObjectID=P510541\" title=\"P510541 obverse:13\" sec=\"P510541 obverse:13\"><span class=\"txtp\"><span  class=\"hl hlup\" >i-</span><span  class=\"hl hlup\" >na </span></span></a></td><td class=\"tf\"><span class=\"txtp\"><span  class=\"hl hlup\" >i-</span></span></td><td class=\"tf\"><span class=\"txtp\"><span  class=\"hl hlup\" >na </span></span></td></tr>\n",
       "<tr class=\"tf\"><td class=\"tf\">26</td><td class=\"tf\"> <a href=\"https://cdli.ucla.edu/search/search_results.php?SearchMode=Text&amp;ObjectID=P510541\" title=\"show this document on CDLI\" sec=\"P510541 reverse:5\">P510541 reverse:5</a></td><td class=\"tf\"><a href=\"https://cdli.ucla.edu/search/search_results.php?SearchMode=Text&amp;ObjectID=P510541\" title=\"P510541 reverse:5\" sec=\"P510541 reverse:5\"><span class=\"txtp\"><span  class=\"hl hlup\" >i-</span><span  class=\"hl hlup\" >na# </span></span></a></td><td class=\"tf\"><span class=\"txtp\"><span  class=\"hl hlup\" >i-</span></span></td><td class=\"tf\"><span class=\"txtp\"><span  class=\"hl hlup\" >na# </span></span></td></tr>\n",
       "<tr class=\"tf\"><td class=\"tf\">27</td><td class=\"tf\"> <a href=\"https://cdli.ucla.edu/search/search_results.php?SearchMode=Text&amp;ObjectID=P510541\" title=\"show this document on CDLI\" sec=\"P510541 reverse:12\">P510541 reverse:12</a></td><td class=\"tf\"><a href=\"https://cdli.ucla.edu/search/search_results.php?SearchMode=Text&amp;ObjectID=P510541\" title=\"P510541 reverse:12\" sec=\"P510541 reverse:12\"><span class=\"txtp\"><span  class=\"hl hlup\" >i-</span><span  class=\"hl hlup\" >na# </span></span></a></td><td class=\"tf\"><span class=\"txtp\"><span  class=\"hl hlup\" >i-</span></span></td><td class=\"tf\"><span class=\"txtp\"><span  class=\"hl hlup\" >na# </span></span></td></tr>\n",
       "<tr class=\"tf\"><td class=\"tf\">28</td><td class=\"tf\"> <a href=\"https://cdli.ucla.edu/search/search_results.php?SearchMode=Text&amp;ObjectID=P510541\" title=\"show this document on CDLI\" sec=\"P510541 reverse:15\">P510541 reverse:15</a></td><td class=\"tf\"><a href=\"https://cdli.ucla.edu/search/search_results.php?SearchMode=Text&amp;ObjectID=P510541\" title=\"P510541 reverse:15\" sec=\"P510541 reverse:15\"><span class=\"txtp\"><span  class=\"hl hlup\" >i-</span><span  class=\"hl hlup\" >na </span></span></a></td><td class=\"tf\"><span class=\"txtp\"><span  class=\"hl hlup\" >i-</span></span></td><td class=\"tf\"><span class=\"txtp\"><span  class=\"hl hlup\" >na </span></span></td></tr>\n",
       "<tr class=\"tf\"><td class=\"tf\">29</td><td class=\"tf\"> <a href=\"https://cdli.ucla.edu/search/search_results.php?SearchMode=Text&amp;ObjectID=P510541\" title=\"show this document on CDLI\" sec=\"P510541 reverse:16\">P510541 reverse:16</a></td><td class=\"tf\"><a href=\"https://cdli.ucla.edu/search/search_results.php?SearchMode=Text&amp;ObjectID=P510541\" title=\"P510541 reverse:16\" sec=\"P510541 reverse:16\"><span class=\"txtp\"><span  class=\"hl hlup\" >i-</span><span  class=\"hl hlup\" >na </span></span></a></td><td class=\"tf\"><span class=\"txtp\"><span  class=\"hl hlup\" >i-</span></span></td><td class=\"tf\"><span class=\"txtp\"><span  class=\"hl hlup\" >na </span></span></td></tr>\n",
       "<tr class=\"tf\"><td class=\"tf\">30</td><td class=\"tf\"> <a href=\"https://cdli.ucla.edu/search/search_results.php?SearchMode=Text&amp;ObjectID=P510542\" title=\"show this document on CDLI\" sec=\"P510542 obverse:10\">P510542 obverse:10</a></td><td class=\"tf\"><a href=\"https://cdli.ucla.edu/search/search_results.php?SearchMode=Text&amp;ObjectID=P510542\" title=\"P510542 obverse:10\" sec=\"P510542 obverse:10\"><span class=\"txtp\"><span  class=\"hl hlup\" >i-</span><span  class=\"hl hlup\" >na </span></span></a></td><td class=\"tf\"><span class=\"txtp\"><span  class=\"hl hlup\" >i-</span></span></td><td class=\"tf\"><span class=\"txtp\"><span  class=\"hl hlup\" >na </span></span></td></tr>\n",
       "<tr class=\"tf\"><td class=\"tf\">31</td><td class=\"tf\"> <a href=\"https://cdli.ucla.edu/search/search_results.php?SearchMode=Text&amp;ObjectID=P510546\" title=\"show this document on CDLI\" sec=\"P510546 reverse:6\">P510546 reverse:6</a></td><td class=\"tf\"><a href=\"https://cdli.ucla.edu/search/search_results.php?SearchMode=Text&amp;ObjectID=P510546\" title=\"P510546 reverse:6\" sec=\"P510546 reverse:6\"><span class=\"txtp\"><span  class=\"hl hlup\" >i-</span><span  class=\"hl hlup\" >na </span></span></a></td><td class=\"tf\"><span class=\"txtp\"><span  class=\"hl hlup\" >i-</span></span></td><td class=\"tf\"><span class=\"txtp\"><span  class=\"hl hlup\" >na </span></span></td></tr>\n",
       "<tr class=\"tf\"><td class=\"tf\">32</td><td class=\"tf\"> <a href=\"https://cdli.ucla.edu/search/search_results.php?SearchMode=Text&amp;ObjectID=P510551\" title=\"show this document on CDLI\" sec=\"P510551 obverse:6\">P510551 obverse:6</a></td><td class=\"tf\"><a href=\"https://cdli.ucla.edu/search/search_results.php?SearchMode=Text&amp;ObjectID=P510551\" title=\"P510551 obverse:6\" sec=\"P510551 obverse:6\"><span class=\"txtp\"><span  class=\"hl hlup\" >i-</span><span  class=\"hl hlup\" >na </span></span></a></td><td class=\"tf\"><span class=\"txtp\"><span  class=\"hl hlup\" >i-</span></span></td><td class=\"tf\"><span class=\"txtp\"><span  class=\"hl hlup\" >na </span></span></td></tr>\n",
       "<tr class=\"tf\"><td class=\"tf\">33</td><td class=\"tf\"> <a href=\"https://cdli.ucla.edu/search/search_results.php?SearchMode=Text&amp;ObjectID=P510554\" title=\"show this document on CDLI\" sec=\"P510554 obverse:7\">P510554 obverse:7</a></td><td class=\"tf\"><a href=\"https://cdli.ucla.edu/search/search_results.php?SearchMode=Text&amp;ObjectID=P510554\" title=\"P510554 obverse:7\" sec=\"P510554 obverse:7\"><span class=\"txtp\"><span  class=\"hl hlup\" >i-</span><span  class=\"hl hlup\" >na </span></span></a></td><td class=\"tf\"><span class=\"txtp\"><span  class=\"hl hlup\" >i-</span></span></td><td class=\"tf\"><span class=\"txtp\"><span  class=\"hl hlup\" >na </span></span></td></tr>\n",
       "<tr class=\"tf\"><td class=\"tf\">34</td><td class=\"tf\"> <a href=\"https://cdli.ucla.edu/search/search_results.php?SearchMode=Text&amp;ObjectID=P510554\" title=\"show this document on CDLI\" sec=\"P510554 obverse:10\">P510554 obverse:10</a></td><td class=\"tf\"><a href=\"https://cdli.ucla.edu/search/search_results.php?SearchMode=Text&amp;ObjectID=P510554\" title=\"P510554 obverse:10\" sec=\"P510554 obverse:10\"><span class=\"txtp\"><span  class=\"hl hlup\" >i-</span><span  class=\"hl hlup\" >na </span></span></a></td><td class=\"tf\"><span class=\"txtp\"><span  class=\"hl hlup\" >i-</span></span></td><td class=\"tf\"><span class=\"txtp\"><span  class=\"hl hlup\" >na </span></span></td></tr>\n",
       "<tr class=\"tf\"><td class=\"tf\">35</td><td class=\"tf\"> <a href=\"https://cdli.ucla.edu/search/search_results.php?SearchMode=Text&amp;ObjectID=P510554\" title=\"show this document on CDLI\" sec=\"P510554 reverse:6\">P510554 reverse:6</a></td><td class=\"tf\"><a href=\"https://cdli.ucla.edu/search/search_results.php?SearchMode=Text&amp;ObjectID=P510554\" title=\"P510554 reverse:6\" sec=\"P510554 reverse:6\"><span class=\"txtp\"><span  class=\"hl hlup\" >i-</span><span  class=\"hl hlup\" >na </span></span></a></td><td class=\"tf\"><span class=\"txtp\"><span  class=\"hl hlup\" >i-</span></span></td><td class=\"tf\"><span class=\"txtp\"><span  class=\"hl hlup\" >na </span></span></td></tr>\n",
       "<tr class=\"tf\"><td class=\"tf\">36</td><td class=\"tf\"> <a href=\"https://cdli.ucla.edu/search/search_results.php?SearchMode=Text&amp;ObjectID=P510554\" title=\"show this document on CDLI\" sec=\"P510554 reverse:9\">P510554 reverse:9</a></td><td class=\"tf\"><a href=\"https://cdli.ucla.edu/search/search_results.php?SearchMode=Text&amp;ObjectID=P510554\" title=\"P510554 reverse:9\" sec=\"P510554 reverse:9\"><span class=\"txtp\"><span  class=\"hl hlup\" >i-</span><span  class=\"hl hlup\" >na </span></span></a></td><td class=\"tf\"><span class=\"txtp\"><span  class=\"hl hlup\" >i-</span></span></td><td class=\"tf\"><span class=\"txtp\"><span  class=\"hl hlup\" >na </span></span></td></tr>\n",
       "<tr class=\"tf\"><td class=\"tf\">37</td><td class=\"tf\"> <a href=\"https://cdli.ucla.edu/search/search_results.php?SearchMode=Text&amp;ObjectID=P510555\" title=\"show this document on CDLI\" sec=\"P510555 reverse:1\">P510555 reverse:1</a></td><td class=\"tf\"><a href=\"https://cdli.ucla.edu/search/search_results.php?SearchMode=Text&amp;ObjectID=P510555\" title=\"P510555 reverse:1\" sec=\"P510555 reverse:1\"><span class=\"txtp\"><span  class=\"hl hlup\" >i-</span><span  class=\"hl hlup\" >na </span></span></a></td><td class=\"tf\"><span class=\"txtp\"><span  class=\"hl hlup\" >i-</span></span></td><td class=\"tf\"><span class=\"txtp\"><span  class=\"hl hlup\" >na </span></span></td></tr>\n",
       "<tr class=\"tf\"><td class=\"tf\">38</td><td class=\"tf\"> <a href=\"https://cdli.ucla.edu/search/search_results.php?SearchMode=Text&amp;ObjectID=P510556\" title=\"show this document on CDLI\" sec=\"P510556 obverse:4\">P510556 obverse:4</a></td><td class=\"tf\"><a href=\"https://cdli.ucla.edu/search/search_results.php?SearchMode=Text&amp;ObjectID=P510556\" title=\"P510556 obverse:4\" sec=\"P510556 obverse:4\"><span class=\"txtp\"><span  class=\"hl hlup\" >i-</span><span  class=\"hl hlup\" >na# </span></span></a></td><td class=\"tf\"><span class=\"txtp\"><span  class=\"hl hlup\" >i-</span></span></td><td class=\"tf\"><span class=\"txtp\"><span  class=\"hl hlup\" >na# </span></span></td></tr>\n",
       "<tr class=\"tf\"><td class=\"tf\">39</td><td class=\"tf\"> <a href=\"https://cdli.ucla.edu/search/search_results.php?SearchMode=Text&amp;ObjectID=P510556\" title=\"show this document on CDLI\" sec=\"P510556 obverse:6\">P510556 obverse:6</a></td><td class=\"tf\"><a href=\"https://cdli.ucla.edu/search/search_results.php?SearchMode=Text&amp;ObjectID=P510556\" title=\"P510556 obverse:6\" sec=\"P510556 obverse:6\"><span class=\"txtp\"><span  class=\"hl hlup\" >i-</span><span  class=\"hl hlup\" >na </span></span></a></td><td class=\"tf\"><span class=\"txtp\"><span  class=\"hl hlup\" >i-</span></span></td><td class=\"tf\"><span class=\"txtp\"><span  class=\"hl hlup\" >na </span></span></td></tr>\n",
       "<tr class=\"tf\"><td class=\"tf\">40</td><td class=\"tf\"> <a href=\"https://cdli.ucla.edu/search/search_results.php?SearchMode=Text&amp;ObjectID=P510556\" title=\"show this document on CDLI\" sec=\"P510556 obverse:9\">P510556 obverse:9</a></td><td class=\"tf\"><a href=\"https://cdli.ucla.edu/search/search_results.php?SearchMode=Text&amp;ObjectID=P510556\" title=\"P510556 obverse:9\" sec=\"P510556 obverse:9\"><span class=\"txtp\"><span  class=\"hl hlup\" >i-</span><span  class=\"hl hlup\" >na </span></span></a></td><td class=\"tf\"><span class=\"txtp\"><span  class=\"hl hlup\" >i-</span></span></td><td class=\"tf\"><span class=\"txtp\"><span  class=\"hl hlup\" >na </span></span></td></tr>\n",
       "<tr class=\"tf\"><td class=\"tf\">41</td><td class=\"tf\"> <a href=\"https://cdli.ucla.edu/search/search_results.php?SearchMode=Text&amp;ObjectID=P510556\" title=\"show this document on CDLI\" sec=\"P510556 obverse:10\">P510556 obverse:10</a></td><td class=\"tf\"><a href=\"https://cdli.ucla.edu/search/search_results.php?SearchMode=Text&amp;ObjectID=P510556\" title=\"P510556 obverse:10\" sec=\"P510556 obverse:10\"><span class=\"txtp\"><span  class=\"hl hlup\" >i-</span><span  class=\"hl hlup\" >na </span></span></a></td><td class=\"tf\"><span class=\"txtp\"><span  class=\"hl hlup\" >i-</span></span></td><td class=\"tf\"><span class=\"txtp\"><span  class=\"hl hlup\" >na </span></span></td></tr>\n",
       "<tr class=\"tf\"><td class=\"tf\">42</td><td class=\"tf\"> <a href=\"https://cdli.ucla.edu/search/search_results.php?SearchMode=Text&amp;ObjectID=P510556\" title=\"show this document on CDLI\" sec=\"P510556 obverse:13\">P510556 obverse:13</a></td><td class=\"tf\"><a href=\"https://cdli.ucla.edu/search/search_results.php?SearchMode=Text&amp;ObjectID=P510556\" title=\"P510556 obverse:13\" sec=\"P510556 obverse:13\"><span class=\"txtp\"><span  class=\"hl hlup\" >i-</span><span  class=\"hl hlup\" >na </span></span></a></td><td class=\"tf\"><span class=\"txtp\"><span  class=\"hl hlup\" >i-</span></span></td><td class=\"tf\"><span class=\"txtp\"><span  class=\"hl hlup\" >na </span></span></td></tr>\n",
       "<tr class=\"tf\"><td class=\"tf\">43</td><td class=\"tf\"> <a href=\"https://cdli.ucla.edu/search/search_results.php?SearchMode=Text&amp;ObjectID=P510556\" title=\"show this document on CDLI\" sec=\"P510556 obverse:16\">P510556 obverse:16</a></td><td class=\"tf\"><a href=\"https://cdli.ucla.edu/search/search_results.php?SearchMode=Text&amp;ObjectID=P510556\" title=\"P510556 obverse:16\" sec=\"P510556 obverse:16\"><span class=\"txtp\"><span  class=\"hl hlup\" >i-</span><span  class=\"hl hlup\" >na </span></span></a></td><td class=\"tf\"><span class=\"txtp\"><span  class=\"hl hlup\" >i-</span></span></td><td class=\"tf\"><span class=\"txtp\"><span  class=\"hl hlup\" >na </span></span></td></tr>\n",
       "<tr class=\"tf\"><td class=\"tf\">44</td><td class=\"tf\"> <a href=\"https://cdli.ucla.edu/search/search_results.php?SearchMode=Text&amp;ObjectID=P510556\" title=\"show this document on CDLI\" sec=\"P510556 obverse:17\">P510556 obverse:17</a></td><td class=\"tf\"><a href=\"https://cdli.ucla.edu/search/search_results.php?SearchMode=Text&amp;ObjectID=P510556\" title=\"P510556 obverse:17\" sec=\"P510556 obverse:17\"><span class=\"txtp\"><span  class=\"hl hlup\" >i-</span><span  class=\"hl hlup\" >na# </span></span></a></td><td class=\"tf\"><span class=\"txtp\"><span  class=\"hl hlup\" >i-</span></span></td><td class=\"tf\"><span class=\"txtp\"><span  class=\"hl hlup\" >na# </span></span></td></tr>\n",
       "<tr class=\"tf\"><td class=\"tf\">45</td><td class=\"tf\"> <a href=\"https://cdli.ucla.edu/search/search_results.php?SearchMode=Text&amp;ObjectID=P510556\" title=\"show this document on CDLI\" sec=\"P510556 obverse:18\">P510556 obverse:18</a></td><td class=\"tf\"><a href=\"https://cdli.ucla.edu/search/search_results.php?SearchMode=Text&amp;ObjectID=P510556\" title=\"P510556 obverse:18\" sec=\"P510556 obverse:18\"><span class=\"txtp\"><span  class=\"hl hlup\" >i-</span><span  class=\"hl hlup\" >na </span></span></a></td><td class=\"tf\"><span class=\"txtp\"><span  class=\"hl hlup\" >i-</span></span></td><td class=\"tf\"><span class=\"txtp\"><span  class=\"hl hlup\" >na </span></span></td></tr>\n",
       "<tr class=\"tf\"><td class=\"tf\">46</td><td class=\"tf\"> <a href=\"https://cdli.ucla.edu/search/search_results.php?SearchMode=Text&amp;ObjectID=P510556\" title=\"show this document on CDLI\" sec=\"P510556 reverse:3\">P510556 reverse:3</a></td><td class=\"tf\"><a href=\"https://cdli.ucla.edu/search/search_results.php?SearchMode=Text&amp;ObjectID=P510556\" title=\"P510556 reverse:3\" sec=\"P510556 reverse:3\"><span class=\"txtp\"><span  class=\"hl hlup\" >i-</span><span  class=\"hl hlup\" >na </span></span></a></td><td class=\"tf\"><span class=\"txtp\"><span  class=\"hl hlup\" >i-</span></span></td><td class=\"tf\"><span class=\"txtp\"><span  class=\"hl hlup\" >na </span></span></td></tr>\n",
       "<tr class=\"tf\"><td class=\"tf\">47</td><td class=\"tf\"> <a href=\"https://cdli.ucla.edu/search/search_results.php?SearchMode=Text&amp;ObjectID=P510556\" title=\"show this document on CDLI\" sec=\"P510556 reverse:9\">P510556 reverse:9</a></td><td class=\"tf\"><a href=\"https://cdli.ucla.edu/search/search_results.php?SearchMode=Text&amp;ObjectID=P510556\" title=\"P510556 reverse:9\" sec=\"P510556 reverse:9\"><span class=\"txtp\"><span  class=\"hl hlup\" >i-</span><span  class=\"hl hlup\" >na </span></span></a></td><td class=\"tf\"><span class=\"txtp\"><span  class=\"hl hlup\" >i-</span></span></td><td class=\"tf\"><span class=\"txtp\"><span  class=\"hl hlup\" >na </span></span></td></tr>\n",
       "<tr class=\"tf\"><td class=\"tf\">48</td><td class=\"tf\"> <a href=\"https://cdli.ucla.edu/search/search_results.php?SearchMode=Text&amp;ObjectID=P510562\" title=\"show this document on CDLI\" sec=\"P510562 obverse:7\">P510562 obverse:7</a></td><td class=\"tf\"><a href=\"https://cdli.ucla.edu/search/search_results.php?SearchMode=Text&amp;ObjectID=P510562\" title=\"P510562 obverse:7\" sec=\"P510562 obverse:7\"><span class=\"txtp\"><span  class=\"hl hlup\" >i-</span><span  class=\"hl hlup\" >na# </span></span></a></td><td class=\"tf\"><span class=\"txtp\"><span  class=\"hl hlup\" >i-</span></span></td><td class=\"tf\"><span class=\"txtp\"><span  class=\"hl hlup\" >na# </span></span></td></tr>\n",
       "<tr class=\"tf\"><td class=\"tf\">49</td><td class=\"tf\"> <a href=\"https://cdli.ucla.edu/search/search_results.php?SearchMode=Text&amp;ObjectID=P510562\" title=\"show this document on CDLI\" sec=\"P510562 reverse:7\">P510562 reverse:7</a></td><td class=\"tf\"><a href=\"https://cdli.ucla.edu/search/search_results.php?SearchMode=Text&amp;ObjectID=P510562\" title=\"P510562 reverse:7\" sec=\"P510562 reverse:7\"><span class=\"txtp\"><span  class=\"hl hlup\" >i-</span><span  class=\"hl hlup\" >na </span></span></a></td><td class=\"tf\"><span class=\"txtp\"><span  class=\"hl hlup\" >i-</span></span></td><td class=\"tf\"><span class=\"txtp\"><span  class=\"hl hlup\" >na </span></span></td></tr>\n",
       "<tr class=\"tf\"><td class=\"tf\">50</td><td class=\"tf\"> <a href=\"https://cdli.ucla.edu/search/search_results.php?SearchMode=Text&amp;ObjectID=P510562\" title=\"show this document on CDLI\" sec=\"P510562 reverse:15\">P510562 reverse:15</a></td><td class=\"tf\"><a href=\"https://cdli.ucla.edu/search/search_results.php?SearchMode=Text&amp;ObjectID=P510562\" title=\"P510562 reverse:15\" sec=\"P510562 reverse:15\"><span class=\"txtp\"><span  class=\"hl hlup\" >i-</span><span  class=\"hl hlup\" >na </span></span></a></td><td class=\"tf\"><span class=\"txtp\"><span  class=\"hl hlup\" >i-</span></span></td><td class=\"tf\"><span class=\"txtp\"><span  class=\"hl hlup\" >na </span></span></td></tr>\n",
       "<tr class=\"tf\"><td class=\"tf\">51</td><td class=\"tf\"> <a href=\"https://cdli.ucla.edu/search/search_results.php?SearchMode=Text&amp;ObjectID=P510563\" title=\"show this document on CDLI\" sec=\"P510563 obverse:7\">P510563 obverse:7</a></td><td class=\"tf\"><a href=\"https://cdli.ucla.edu/search/search_results.php?SearchMode=Text&amp;ObjectID=P510563\" title=\"P510563 obverse:7\" sec=\"P510563 obverse:7\"><span class=\"txtp\"><span  class=\"hl hlup\" >i-</span><span  class=\"hl hlup\" >na </span></span></a></td><td class=\"tf\"><span class=\"txtp\"><span  class=\"hl hlup\" >i-</span></span></td><td class=\"tf\"><span class=\"txtp\"><span  class=\"hl hlup\" >na </span></span></td></tr>\n",
       "<tr class=\"tf\"><td class=\"tf\">52</td><td class=\"tf\"> <a href=\"https://cdli.ucla.edu/search/search_results.php?SearchMode=Text&amp;ObjectID=P510563\" title=\"show this document on CDLI\" sec=\"P510563 reverse:8\">P510563 reverse:8</a></td><td class=\"tf\"><a href=\"https://cdli.ucla.edu/search/search_results.php?SearchMode=Text&amp;ObjectID=P510563\" title=\"P510563 reverse:8\" sec=\"P510563 reverse:8\"><span class=\"txtp\"><span  class=\"hl hlup\" >i-</span><span  class=\"hl hlup\" >na </span></span></a></td><td class=\"tf\"><span class=\"txtp\"><span  class=\"hl hlup\" >i-</span></span></td><td class=\"tf\"><span class=\"txtp\"><span  class=\"hl hlup\" >na </span></span></td></tr>\n",
       "<tr class=\"tf\"><td class=\"tf\">53</td><td class=\"tf\"> <a href=\"https://cdli.ucla.edu/search/search_results.php?SearchMode=Text&amp;ObjectID=P510564\" title=\"show this document on CDLI\" sec=\"P510564 obverse:6\">P510564 obverse:6</a></td><td class=\"tf\"><a href=\"https://cdli.ucla.edu/search/search_results.php?SearchMode=Text&amp;ObjectID=P510564\" title=\"P510564 obverse:6\" sec=\"P510564 obverse:6\"><span class=\"txtp\"><span  class=\"hl hlup\" >i-</span><span  class=\"hl hlup\" >na </span></span></a></td><td class=\"tf\"><span class=\"txtp\"><span  class=\"hl hlup\" >i-</span></span></td><td class=\"tf\"><span class=\"txtp\"><span  class=\"hl hlup\" >na </span></span></td></tr>\n",
       "<tr class=\"tf\"><td class=\"tf\">54</td><td class=\"tf\"> <a href=\"https://cdli.ucla.edu/search/search_results.php?SearchMode=Text&amp;ObjectID=P510564\" title=\"show this document on CDLI\" sec=\"P510564 obverse:9\">P510564 obverse:9</a></td><td class=\"tf\"><a href=\"https://cdli.ucla.edu/search/search_results.php?SearchMode=Text&amp;ObjectID=P510564\" title=\"P510564 obverse:9\" sec=\"P510564 obverse:9\"><span class=\"txtp\"><span  class=\"hl hlup\" >i-</span><span  class=\"hl hlup\" >na </span></span></a></td><td class=\"tf\"><span class=\"txtp\"><span  class=\"hl hlup\" >i-</span></span></td><td class=\"tf\"><span class=\"txtp\"><span  class=\"hl hlup\" >na </span></span></td></tr>\n",
       "<tr class=\"tf\"><td class=\"tf\">55</td><td class=\"tf\"> <a href=\"https://cdli.ucla.edu/search/search_results.php?SearchMode=Text&amp;ObjectID=P510567\" title=\"show this document on CDLI\" sec=\"P510567 obverse:6\">P510567 obverse:6</a></td><td class=\"tf\"><a href=\"https://cdli.ucla.edu/search/search_results.php?SearchMode=Text&amp;ObjectID=P510567\" title=\"P510567 obverse:6\" sec=\"P510567 obverse:6\"><span class=\"txtp\"><span  class=\"hl hlup\" >i-</span><span  class=\"hl hlup\" >na </span></span></a></td><td class=\"tf\"><span class=\"txtp\"><span  class=\"hl hlup\" >i-</span></span></td><td class=\"tf\"><span class=\"txtp\"><span  class=\"hl hlup\" >na </span></span></td></tr>\n",
       "<tr class=\"tf\"><td class=\"tf\">56</td><td class=\"tf\"> <a href=\"https://cdli.ucla.edu/search/search_results.php?SearchMode=Text&amp;ObjectID=P510567\" title=\"show this document on CDLI\" sec=\"P510567 reverse:7\">P510567 reverse:7</a></td><td class=\"tf\"><a href=\"https://cdli.ucla.edu/search/search_results.php?SearchMode=Text&amp;ObjectID=P510567\" title=\"P510567 reverse:7\" sec=\"P510567 reverse:7\"><span class=\"txtp\"><span  class=\"hl hlup\" >[i-</span><span  class=\"hl hlup\" >na] </span></span></a></td><td class=\"tf\"><span class=\"txtp\"><span  class=\"hl hlup\" >[i-</span></span></td><td class=\"tf\"><span class=\"txtp\"><span  class=\"hl hlup\" >na] </span></span></td></tr>\n",
       "<tr class=\"tf\"><td class=\"tf\">57</td><td class=\"tf\"> <a href=\"https://cdli.ucla.edu/search/search_results.php?SearchMode=Text&amp;ObjectID=P510570\" title=\"show this document on CDLI\" sec=\"P510570 obverse:6\">P510570 obverse:6</a></td><td class=\"tf\"><a href=\"https://cdli.ucla.edu/search/search_results.php?SearchMode=Text&amp;ObjectID=P510570\" title=\"P510570 obverse:6\" sec=\"P510570 obverse:6\"><span class=\"txtp\"><span  class=\"hl hlup\" >i-</span><span  class=\"hl hlup\" >na# </span></span></a></td><td class=\"tf\"><span class=\"txtp\"><span  class=\"hl hlup\" >i-</span></span></td><td class=\"tf\"><span class=\"txtp\"><span  class=\"hl hlup\" >na# </span></span></td></tr>\n",
       "<tr class=\"tf\"><td class=\"tf\">58</td><td class=\"tf\"> <a href=\"https://cdli.ucla.edu/search/search_results.php?SearchMode=Text&amp;ObjectID=P510570\" title=\"show this document on CDLI\" sec=\"P510570 reverse:8\">P510570 reverse:8</a></td><td class=\"tf\"><a href=\"https://cdli.ucla.edu/search/search_results.php?SearchMode=Text&amp;ObjectID=P510570\" title=\"P510570 reverse:8\" sec=\"P510570 reverse:8\"><span class=\"txtp\"><span  class=\"hl hlup\" >i-</span><span  class=\"hl hlup\" >na] </span></span></a></td><td class=\"tf\"><span class=\"txtp\"><span  class=\"hl hlup\" >i-</span></span></td><td class=\"tf\"><span class=\"txtp\"><span  class=\"hl hlup\" >na] </span></span></td></tr>\n",
       "<tr class=\"tf\"><td class=\"tf\">59</td><td class=\"tf\"> <a href=\"https://cdli.ucla.edu/search/search_results.php?SearchMode=Text&amp;ObjectID=P510571\" title=\"show this document on CDLI\" sec=\"P510571 reverse:13\">P510571 reverse:13</a></td><td class=\"tf\"><a href=\"https://cdli.ucla.edu/search/search_results.php?SearchMode=Text&amp;ObjectID=P510571\" title=\"P510571 reverse:13\" sec=\"P510571 reverse:13\"><span class=\"txtp\"><span  class=\"hl hlup\" >i-</span><span  class=\"hl hlup\" >na </span></span></a></td><td class=\"tf\"><span class=\"txtp\"><span  class=\"hl hlup\" >i-</span></span></td><td class=\"tf\"><span class=\"txtp\"><span  class=\"hl hlup\" >na </span></span></td></tr>\n",
       "<tr class=\"tf\"><td class=\"tf\">60</td><td class=\"tf\"> <a href=\"https://cdli.ucla.edu/search/search_results.php?SearchMode=Text&amp;ObjectID=P510573\" title=\"show this document on CDLI\" sec=\"P510573 reverse:1\">P510573 reverse:1</a></td><td class=\"tf\"><a href=\"https://cdli.ucla.edu/search/search_results.php?SearchMode=Text&amp;ObjectID=P510573\" title=\"P510573 reverse:1\" sec=\"P510573 reverse:1\"><span class=\"txtp\"><span  class=\"hl hlup\" >i-</span><span  class=\"hl hlup\" >na </span></span></a></td><td class=\"tf\"><span class=\"txtp\"><span  class=\"hl hlup\" >i-</span></span></td><td class=\"tf\"><span class=\"txtp\"><span  class=\"hl hlup\" >na </span></span></td></tr>\n",
       "<tr class=\"tf\"><td class=\"tf\">61</td><td class=\"tf\"> <a href=\"https://cdli.ucla.edu/search/search_results.php?SearchMode=Text&amp;ObjectID=P510574\" title=\"show this document on CDLI\" sec=\"P510574 obverse:8\">P510574 obverse:8</a></td><td class=\"tf\"><a href=\"https://cdli.ucla.edu/search/search_results.php?SearchMode=Text&amp;ObjectID=P510574\" title=\"P510574 obverse:8\" sec=\"P510574 obverse:8\"><span class=\"txtp\"><span  class=\"hl hlup\" >i-</span><span  class=\"hl hlup\" >na </span></span></a></td><td class=\"tf\"><span class=\"txtp\"><span  class=\"hl hlup\" >i-</span></span></td><td class=\"tf\"><span class=\"txtp\"><span  class=\"hl hlup\" >na </span></span></td></tr>\n",
       "<tr class=\"tf\"><td class=\"tf\">62</td><td class=\"tf\"> <a href=\"https://cdli.ucla.edu/search/search_results.php?SearchMode=Text&amp;ObjectID=P510575\" title=\"show this document on CDLI\" sec=\"P510575 obverse:9\">P510575 obverse:9</a></td><td class=\"tf\"><a href=\"https://cdli.ucla.edu/search/search_results.php?SearchMode=Text&amp;ObjectID=P510575\" title=\"P510575 obverse:9\" sec=\"P510575 obverse:9\"><span class=\"txtp\"><span  class=\"hl hlup\" >i-</span><span  class=\"hl hlup\" >na </span></span></a></td><td class=\"tf\"><span class=\"txtp\"><span  class=\"hl hlup\" >i-</span></span></td><td class=\"tf\"><span class=\"txtp\"><span  class=\"hl hlup\" >na </span></span></td></tr>\n",
       "<tr class=\"tf\"><td class=\"tf\">63</td><td class=\"tf\"> <a href=\"https://cdli.ucla.edu/search/search_results.php?SearchMode=Text&amp;ObjectID=P510575\" title=\"show this document on CDLI\" sec=\"P510575 obverse:11\">P510575 obverse:11</a></td><td class=\"tf\"><a href=\"https://cdli.ucla.edu/search/search_results.php?SearchMode=Text&amp;ObjectID=P510575\" title=\"P510575 obverse:11\" sec=\"P510575 obverse:11\"><span class=\"txtp\"><span  class=\"hl hlup\" >[i]-</span><span  class=\"hl hlup\" >na# </span></span></a></td><td class=\"tf\"><span class=\"txtp\"><span  class=\"hl hlup\" >[i]-</span></span></td><td class=\"tf\"><span class=\"txtp\"><span  class=\"hl hlup\" >na# </span></span></td></tr>\n",
       "<tr class=\"tf\"><td class=\"tf\">64</td><td class=\"tf\"> <a href=\"https://cdli.ucla.edu/search/search_results.php?SearchMode=Text&amp;ObjectID=P510576\" title=\"show this document on CDLI\" sec=\"P510576 obverse:7\">P510576 obverse:7</a></td><td class=\"tf\"><a href=\"https://cdli.ucla.edu/search/search_results.php?SearchMode=Text&amp;ObjectID=P510576\" title=\"P510576 obverse:7\" sec=\"P510576 obverse:7\"><span class=\"txtp\"><span  class=\"hl hlup\" >i-</span><span  class=\"hl hlup\" >na </span></span></a></td><td class=\"tf\"><span class=\"txtp\"><span  class=\"hl hlup\" >i-</span></span></td><td class=\"tf\"><span class=\"txtp\"><span  class=\"hl hlup\" >na </span></span></td></tr>\n",
       "<tr class=\"tf\"><td class=\"tf\">65</td><td class=\"tf\"> <a href=\"https://cdli.ucla.edu/search/search_results.php?SearchMode=Text&amp;ObjectID=P510577\" title=\"show this document on CDLI\" sec=\"P510577 reverse:2\">P510577 reverse:2</a></td><td class=\"tf\"><a href=\"https://cdli.ucla.edu/search/search_results.php?SearchMode=Text&amp;ObjectID=P510577\" title=\"P510577 reverse:2\" sec=\"P510577 reverse:2\"><span class=\"txtp\"><span  class=\"hl hlup\" >i-</span><span  class=\"hl hlup\" >na </span></span></a></td><td class=\"tf\"><span class=\"txtp\"><span  class=\"hl hlup\" >i-</span></span></td><td class=\"tf\"><span class=\"txtp\"><span  class=\"hl hlup\" >na </span></span></td></tr>\n",
       "<tr class=\"tf\"><td class=\"tf\">66</td><td class=\"tf\"> <a href=\"https://cdli.ucla.edu/search/search_results.php?SearchMode=Text&amp;ObjectID=P510577\" title=\"show this document on CDLI\" sec=\"P510577 left:6\">P510577 left:6</a></td><td class=\"tf\"><a href=\"https://cdli.ucla.edu/search/search_results.php?SearchMode=Text&amp;ObjectID=P510577\" title=\"P510577 left:6\" sec=\"P510577 left:6\"><span class=\"txtp\"><span  class=\"hl hlup\" >i-</span><span  class=\"hl hlup\" >na </span></span></a></td><td class=\"tf\"><span class=\"txtp\"><span  class=\"hl hlup\" >i-</span></span></td><td class=\"tf\"><span class=\"txtp\"><span  class=\"hl hlup\" >na </span></span></td></tr>\n",
       "<tr class=\"tf\"><td class=\"tf\">67</td><td class=\"tf\"> <a href=\"https://cdli.ucla.edu/search/search_results.php?SearchMode=Text&amp;ObjectID=P510578\" title=\"show this document on CDLI\" sec=\"P510578 obverse:10\">P510578 obverse:10</a></td><td class=\"tf\"><a href=\"https://cdli.ucla.edu/search/search_results.php?SearchMode=Text&amp;ObjectID=P510578\" title=\"P510578 obverse:10\" sec=\"P510578 obverse:10\"><span class=\"txtp\"><span  class=\"hl hlup\" >i-</span><span  class=\"hl hlup\" >na </span></span></a></td><td class=\"tf\"><span class=\"txtp\"><span  class=\"hl hlup\" >i-</span></span></td><td class=\"tf\"><span class=\"txtp\"><span  class=\"hl hlup\" >na </span></span></td></tr>\n",
       "<tr class=\"tf\"><td class=\"tf\">68</td><td class=\"tf\"> <a href=\"https://cdli.ucla.edu/search/search_results.php?SearchMode=Text&amp;ObjectID=P510579\" title=\"show this document on CDLI\" sec=\"P510579 reverse:4\">P510579 reverse:4</a></td><td class=\"tf\"><a href=\"https://cdli.ucla.edu/search/search_results.php?SearchMode=Text&amp;ObjectID=P510579\" title=\"P510579 reverse:4\" sec=\"P510579 reverse:4\"><span class=\"txtp\"><span  class=\"hl hlup\" >i-</span><span  class=\"hl hlup\" >na </span></span></a></td><td class=\"tf\"><span class=\"txtp\"><span  class=\"hl hlup\" >i-</span></span></td><td class=\"tf\"><span class=\"txtp\"><span  class=\"hl hlup\" >na </span></span></td></tr>\n",
       "<tr class=\"tf\"><td class=\"tf\">69</td><td class=\"tf\"> <a href=\"https://cdli.ucla.edu/search/search_results.php?SearchMode=Text&amp;ObjectID=P510580\" title=\"show this document on CDLI\" sec=\"P510580 reverse:6\">P510580 reverse:6</a></td><td class=\"tf\"><a href=\"https://cdli.ucla.edu/search/search_results.php?SearchMode=Text&amp;ObjectID=P510580\" title=\"P510580 reverse:6\" sec=\"P510580 reverse:6\"><span class=\"txtp\"><span  class=\"hl hlup\" >i-</span><span  class=\"hl hlup\" >na </span></span></a></td><td class=\"tf\"><span class=\"txtp\"><span  class=\"hl hlup\" >i-</span></span></td><td class=\"tf\"><span class=\"txtp\"><span  class=\"hl hlup\" >na </span></span></td></tr>\n",
       "<tr class=\"tf\"><td class=\"tf\">70</td><td class=\"tf\"> <a href=\"https://cdli.ucla.edu/search/search_results.php?SearchMode=Text&amp;ObjectID=P510580\" title=\"show this document on CDLI\" sec=\"P510580 reverse:10\">P510580 reverse:10</a></td><td class=\"tf\"><a href=\"https://cdli.ucla.edu/search/search_results.php?SearchMode=Text&amp;ObjectID=P510580\" title=\"P510580 reverse:10\" sec=\"P510580 reverse:10\"><span class=\"txtp\"><span  class=\"hl hlup\" >i-</span><span  class=\"hl hlup\" >na </span></span></a></td><td class=\"tf\"><span class=\"txtp\"><span  class=\"hl hlup\" >i-</span></span></td><td class=\"tf\"><span class=\"txtp\"><span  class=\"hl hlup\" >na </span></span></td></tr>\n",
       "<tr class=\"tf\"><td class=\"tf\">71</td><td class=\"tf\"> <a href=\"https://cdli.ucla.edu/search/search_results.php?SearchMode=Text&amp;ObjectID=P510580\" title=\"show this document on CDLI\" sec=\"P510580 left:2\">P510580 left:2</a></td><td class=\"tf\"><a href=\"https://cdli.ucla.edu/search/search_results.php?SearchMode=Text&amp;ObjectID=P510580\" title=\"P510580 left:2\" sec=\"P510580 left:2\"><span class=\"txtp\"><span  class=\"hl hlup\" >i-</span><span  class=\"hl hlup\" >na </span></span></a></td><td class=\"tf\"><span class=\"txtp\"><span  class=\"hl hlup\" >i-</span></span></td><td class=\"tf\"><span class=\"txtp\"><span  class=\"hl hlup\" >na </span></span></td></tr>\n",
       "<tr class=\"tf\"><td class=\"tf\">72</td><td class=\"tf\"> <a href=\"https://cdli.ucla.edu/search/search_results.php?SearchMode=Text&amp;ObjectID=P510582\" title=\"show this document on CDLI\" sec=\"P510582 obverse:6\">P510582 obverse:6</a></td><td class=\"tf\"><a href=\"https://cdli.ucla.edu/search/search_results.php?SearchMode=Text&amp;ObjectID=P510582\" title=\"P510582 obverse:6\" sec=\"P510582 obverse:6\"><span class=\"txtp\"><span  class=\"hl hlup\" >i-</span><span  class=\"hl hlup\" >na </span></span></a></td><td class=\"tf\"><span class=\"txtp\"><span  class=\"hl hlup\" >i-</span></span></td><td class=\"tf\"><span class=\"txtp\"><span  class=\"hl hlup\" >na </span></span></td></tr>\n",
       "<tr class=\"tf\"><td class=\"tf\">73</td><td class=\"tf\"> <a href=\"https://cdli.ucla.edu/search/search_results.php?SearchMode=Text&amp;ObjectID=P510582\" title=\"show this document on CDLI\" sec=\"P510582 reverse:3\">P510582 reverse:3</a></td><td class=\"tf\"><a href=\"https://cdli.ucla.edu/search/search_results.php?SearchMode=Text&amp;ObjectID=P510582\" title=\"P510582 reverse:3\" sec=\"P510582 reverse:3\"><span class=\"txtp\"><span  class=\"hl hlup\" >i-</span><span  class=\"hl hlup\" >na </span></span></a></td><td class=\"tf\"><span class=\"txtp\"><span  class=\"hl hlup\" >i-</span></span></td><td class=\"tf\"><span class=\"txtp\"><span  class=\"hl hlup\" >na </span></span></td></tr>\n",
       "<tr class=\"tf\"><td class=\"tf\">74</td><td class=\"tf\"> <a href=\"https://cdli.ucla.edu/search/search_results.php?SearchMode=Text&amp;ObjectID=P510584\" title=\"show this document on CDLI\" sec=\"P510584 obverse:11\">P510584 obverse:11</a></td><td class=\"tf\"><a href=\"https://cdli.ucla.edu/search/search_results.php?SearchMode=Text&amp;ObjectID=P510584\" title=\"P510584 obverse:11\" sec=\"P510584 obverse:11\"><span class=\"txtp\"><span  class=\"hl hlup\" >i-</span><span  class=\"hl hlup\" >na </span></span></a></td><td class=\"tf\"><span class=\"txtp\"><span  class=\"hl hlup\" >i-</span></span></td><td class=\"tf\"><span class=\"txtp\"><span  class=\"hl hlup\" >na </span></span></td></tr>\n",
       "<tr class=\"tf\"><td class=\"tf\">75</td><td class=\"tf\"> <a href=\"https://cdli.ucla.edu/search/search_results.php?SearchMode=Text&amp;ObjectID=P510587\" title=\"show this document on CDLI\" sec=\"P510587 reverse:11\">P510587 reverse:11</a></td><td class=\"tf\"><a href=\"https://cdli.ucla.edu/search/search_results.php?SearchMode=Text&amp;ObjectID=P510587\" title=\"P510587 reverse:11\" sec=\"P510587 reverse:11\"><span class=\"txtp\"><span  class=\"hl hlup\" >i-</span><span  class=\"hl hlup\" >na </span></span></a></td><td class=\"tf\"><span class=\"txtp\"><span  class=\"hl hlup\" >i-</span></span></td><td class=\"tf\"><span class=\"txtp\"><span  class=\"hl hlup\" >na </span></span></td></tr>\n",
       "<tr class=\"tf\"><td class=\"tf\">76</td><td class=\"tf\"> <a href=\"https://cdli.ucla.edu/search/search_results.php?SearchMode=Text&amp;ObjectID=P510588\" title=\"show this document on CDLI\" sec=\"P510588 obverse:4\">P510588 obverse:4</a></td><td class=\"tf\"><a href=\"https://cdli.ucla.edu/search/search_results.php?SearchMode=Text&amp;ObjectID=P510588\" title=\"P510588 obverse:4\" sec=\"P510588 obverse:4\"><span class=\"txtp\"><span  class=\"hl hlup\" >[i-</span><span  class=\"hl hlup\" >na] </span></span></a></td><td class=\"tf\"><span class=\"txtp\"><span  class=\"hl hlup\" >[i-</span></span></td><td class=\"tf\"><span class=\"txtp\"><span  class=\"hl hlup\" >na] </span></span></td></tr>\n",
       "<tr class=\"tf\"><td class=\"tf\">77</td><td class=\"tf\"> <a href=\"https://cdli.ucla.edu/search/search_results.php?SearchMode=Text&amp;ObjectID=P510588\" title=\"show this document on CDLI\" sec=\"P510588 obverse:10\">P510588 obverse:10</a></td><td class=\"tf\"><a href=\"https://cdli.ucla.edu/search/search_results.php?SearchMode=Text&amp;ObjectID=P510588\" title=\"P510588 obverse:10\" sec=\"P510588 obverse:10\"><span class=\"txtp\"><span  class=\"hl hlup\" >i-</span><span  class=\"hl hlup\" >na </span></span></a></td><td class=\"tf\"><span class=\"txtp\"><span  class=\"hl hlup\" >i-</span></span></td><td class=\"tf\"><span class=\"txtp\"><span  class=\"hl hlup\" >na </span></span></td></tr>\n",
       "<tr class=\"tf\"><td class=\"tf\">78</td><td class=\"tf\"> <a href=\"https://cdli.ucla.edu/search/search_results.php?SearchMode=Text&amp;ObjectID=P510588\" title=\"show this document on CDLI\" sec=\"P510588 left:1':2\">P510588 left:1':2</a></td><td class=\"tf\"><a href=\"https://cdli.ucla.edu/search/search_results.php?SearchMode=Text&amp;ObjectID=P510588\" title=\"P510588 left:1':2\" sec=\"P510588 left:1':2\"><span class=\"txtp\"><span  class=\"hl hlup\" >[i?]-</span><span  class=\"hl hlup\" >na# </span></span></a></td><td class=\"tf\"><span class=\"txtp\"><span  class=\"hl hlup\" >[i?]-</span></span></td><td class=\"tf\"><span class=\"txtp\"><span  class=\"hl hlup\" >na# </span></span></td></tr>\n",
       "<tr class=\"tf\"><td class=\"tf\">79</td><td class=\"tf\"> <a href=\"https://cdli.ucla.edu/search/search_results.php?SearchMode=Text&amp;ObjectID=P510589\" title=\"show this document on CDLI\" sec=\"P510589 reverse:6\">P510589 reverse:6</a></td><td class=\"tf\"><a href=\"https://cdli.ucla.edu/search/search_results.php?SearchMode=Text&amp;ObjectID=P510589\" title=\"P510589 reverse:6\" sec=\"P510589 reverse:6\"><span class=\"txtp\"><span  class=\"hl hlup\" >i-</span><span  class=\"hl hlup\" >na </span></span></a></td><td class=\"tf\"><span class=\"txtp\"><span  class=\"hl hlup\" >i-</span></span></td><td class=\"tf\"><span class=\"txtp\"><span  class=\"hl hlup\" >na </span></span></td></tr>\n",
       "<tr class=\"tf\"><td class=\"tf\">80</td><td class=\"tf\"> <a href=\"https://cdli.ucla.edu/search/search_results.php?SearchMode=Text&amp;ObjectID=P510589\" title=\"show this document on CDLI\" sec=\"P510589 reverse:13\">P510589 reverse:13</a></td><td class=\"tf\"><a href=\"https://cdli.ucla.edu/search/search_results.php?SearchMode=Text&amp;ObjectID=P510589\" title=\"P510589 reverse:13\" sec=\"P510589 reverse:13\"><span class=\"txtp\"><span  class=\"hl hlup\" >i-</span><span  class=\"hl hlup\" >na </span></span></a></td><td class=\"tf\"><span class=\"txtp\"><span  class=\"hl hlup\" >i-</span></span></td><td class=\"tf\"><span class=\"txtp\"><span  class=\"hl hlup\" >na </span></span></td></tr>\n",
       "<tr class=\"tf\"><td class=\"tf\">81</td><td class=\"tf\"> <a href=\"https://cdli.ucla.edu/search/search_results.php?SearchMode=Text&amp;ObjectID=P510590\" title=\"show this document on CDLI\" sec=\"P510590 obverse:16'\">P510590 obverse:16'</a></td><td class=\"tf\"><a href=\"https://cdli.ucla.edu/search/search_results.php?SearchMode=Text&amp;ObjectID=P510590\" title=\"P510590 obverse:16'\" sec=\"P510590 obverse:16'\"><span class=\"txtp\"><span  class=\"hl hlup\" >i-</span><span  class=\"hl hlup\" >na </span></span></a></td><td class=\"tf\"><span class=\"txtp\"><span  class=\"hl hlup\" >i-</span></span></td><td class=\"tf\"><span class=\"txtp\"><span  class=\"hl hlup\" >na </span></span></td></tr>\n",
       "<tr class=\"tf\"><td class=\"tf\">82</td><td class=\"tf\"> <a href=\"https://cdli.ucla.edu/search/search_results.php?SearchMode=Text&amp;ObjectID=P510590\" title=\"show this document on CDLI\" sec=\"P510590 obverse:19'\">P510590 obverse:19'</a></td><td class=\"tf\"><a href=\"https://cdli.ucla.edu/search/search_results.php?SearchMode=Text&amp;ObjectID=P510590\" title=\"P510590 obverse:19'\" sec=\"P510590 obverse:19'\"><span class=\"txtp\"><span  class=\"hl hlup\" >i-</span><span  class=\"hl hlup\" >na </span></span></a></td><td class=\"tf\"><span class=\"txtp\"><span  class=\"hl hlup\" >i-</span></span></td><td class=\"tf\"><span class=\"txtp\"><span  class=\"hl hlup\" >na </span></span></td></tr>\n",
       "<tr class=\"tf\"><td class=\"tf\">83</td><td class=\"tf\"> <a href=\"https://cdli.ucla.edu/search/search_results.php?SearchMode=Text&amp;ObjectID=P510591\" title=\"show this document on CDLI\" sec=\"P510591 reverse:6\">P510591 reverse:6</a></td><td class=\"tf\"><a href=\"https://cdli.ucla.edu/search/search_results.php?SearchMode=Text&amp;ObjectID=P510591\" title=\"P510591 reverse:6\" sec=\"P510591 reverse:6\"><span class=\"txtp\"><span  class=\"hl hlup\" >i-</span><span  class=\"hl hlup\" >na </span></span></a></td><td class=\"tf\"><span class=\"txtp\"><span  class=\"hl hlup\" >i-</span></span></td><td class=\"tf\"><span class=\"txtp\"><span  class=\"hl hlup\" >na </span></span></td></tr>\n",
       "<tr class=\"tf\"><td class=\"tf\">84</td><td class=\"tf\"> <a href=\"https://cdli.ucla.edu/search/search_results.php?SearchMode=Text&amp;ObjectID=P510591\" title=\"show this document on CDLI\" sec=\"P510591 reverse:14\">P510591 reverse:14</a></td><td class=\"tf\"><a href=\"https://cdli.ucla.edu/search/search_results.php?SearchMode=Text&amp;ObjectID=P510591\" title=\"P510591 reverse:14\" sec=\"P510591 reverse:14\"><span class=\"txtp\"><span  class=\"hl hlup\" >i-</span><span  class=\"hl hlup\" >na </span></span></a></td><td class=\"tf\"><span class=\"txtp\"><span  class=\"hl hlup\" >i-</span></span></td><td class=\"tf\"><span class=\"txtp\"><span  class=\"hl hlup\" >na </span></span></td></tr>\n",
       "<tr class=\"tf\"><td class=\"tf\">85</td><td class=\"tf\"> <a href=\"https://cdli.ucla.edu/search/search_results.php?SearchMode=Text&amp;ObjectID=P510592\" title=\"show this document on CDLI\" sec=\"P510592 obverse:9\">P510592 obverse:9</a></td><td class=\"tf\"><a href=\"https://cdli.ucla.edu/search/search_results.php?SearchMode=Text&amp;ObjectID=P510592\" title=\"P510592 obverse:9\" sec=\"P510592 obverse:9\"><span class=\"txtp\"><span  class=\"hl hlup\" >i-</span><span  class=\"hl hlup\" >na </span></span></a></td><td class=\"tf\"><span class=\"txtp\"><span  class=\"hl hlup\" >i-</span></span></td><td class=\"tf\"><span class=\"txtp\"><span  class=\"hl hlup\" >na </span></span></td></tr>\n",
       "<tr class=\"tf\"><td class=\"tf\">86</td><td class=\"tf\"> <a href=\"https://cdli.ucla.edu/search/search_results.php?SearchMode=Text&amp;ObjectID=P510592\" title=\"show this document on CDLI\" sec=\"P510592 obverse:13\">P510592 obverse:13</a></td><td class=\"tf\"><a href=\"https://cdli.ucla.edu/search/search_results.php?SearchMode=Text&amp;ObjectID=P510592\" title=\"P510592 obverse:13\" sec=\"P510592 obverse:13\"><span class=\"txtp\"><span  class=\"hl hlup\" >i-</span><span  class=\"hl hlup\" >na </span></span></a></td><td class=\"tf\"><span class=\"txtp\"><span  class=\"hl hlup\" >i-</span></span></td><td class=\"tf\"><span class=\"txtp\"><span  class=\"hl hlup\" >na </span></span></td></tr>\n",
       "<tr class=\"tf\"><td class=\"tf\">87</td><td class=\"tf\"> <a href=\"https://cdli.ucla.edu/search/search_results.php?SearchMode=Text&amp;ObjectID=P510593\" title=\"show this document on CDLI\" sec=\"P510593 obverse:8\">P510593 obverse:8</a></td><td class=\"tf\"><a href=\"https://cdli.ucla.edu/search/search_results.php?SearchMode=Text&amp;ObjectID=P510593\" title=\"P510593 obverse:8\" sec=\"P510593 obverse:8\"><span class=\"txtp\"><span  class=\"hl hlup\" >i-</span><span  class=\"hl hlup\" >na </span></span></a></td><td class=\"tf\"><span class=\"txtp\"><span  class=\"hl hlup\" >i-</span></span></td><td class=\"tf\"><span class=\"txtp\"><span  class=\"hl hlup\" >na </span></span></td></tr>\n",
       "<tr class=\"tf\"><td class=\"tf\">88</td><td class=\"tf\"> <a href=\"https://cdli.ucla.edu/search/search_results.php?SearchMode=Text&amp;ObjectID=P510593\" title=\"show this document on CDLI\" sec=\"P510593 obverse:13\">P510593 obverse:13</a></td><td class=\"tf\"><a href=\"https://cdli.ucla.edu/search/search_results.php?SearchMode=Text&amp;ObjectID=P510593\" title=\"P510593 obverse:13\" sec=\"P510593 obverse:13\"><span class=\"txtp\"><span  class=\"hl hlup\" >i-</span><span  class=\"hl hlup\" >na </span></span></a></td><td class=\"tf\"><span class=\"txtp\"><span  class=\"hl hlup\" >i-</span></span></td><td class=\"tf\"><span class=\"txtp\"><span  class=\"hl hlup\" >na </span></span></td></tr>\n",
       "<tr class=\"tf\"><td class=\"tf\">89</td><td class=\"tf\"> <a href=\"https://cdli.ucla.edu/search/search_results.php?SearchMode=Text&amp;ObjectID=P510594\" title=\"show this document on CDLI\" sec=\"P510594 obverse:5'\">P510594 obverse:5'</a></td><td class=\"tf\"><a href=\"https://cdli.ucla.edu/search/search_results.php?SearchMode=Text&amp;ObjectID=P510594\" title=\"P510594 obverse:5'\" sec=\"P510594 obverse:5'\"><span class=\"txtp\"><span  class=\"hl hlup\" >i-</span><span  class=\"hl hlup\" >na </span></span></a></td><td class=\"tf\"><span class=\"txtp\"><span  class=\"hl hlup\" >i-</span></span></td><td class=\"tf\"><span class=\"txtp\"><span  class=\"hl hlup\" >na </span></span></td></tr>\n",
       "<tr class=\"tf\"><td class=\"tf\">90</td><td class=\"tf\"> <a href=\"https://cdli.ucla.edu/search/search_results.php?SearchMode=Text&amp;ObjectID=P510594\" title=\"show this document on CDLI\" sec=\"P510594 obverse:7'\">P510594 obverse:7'</a></td><td class=\"tf\"><a href=\"https://cdli.ucla.edu/search/search_results.php?SearchMode=Text&amp;ObjectID=P510594\" title=\"P510594 obverse:7'\" sec=\"P510594 obverse:7'\"><span class=\"txtp\"><span  class=\"hl hlup\" >i-</span><span  class=\"hl hlup\" >na </span></span></a></td><td class=\"tf\"><span class=\"txtp\"><span  class=\"hl hlup\" >i-</span></span></td><td class=\"tf\"><span class=\"txtp\"><span  class=\"hl hlup\" >na </span></span></td></tr>\n",
       "<tr class=\"tf\"><td class=\"tf\">91</td><td class=\"tf\"> <a href=\"https://cdli.ucla.edu/search/search_results.php?SearchMode=Text&amp;ObjectID=P510594\" title=\"show this document on CDLI\" sec=\"P510594 obverse:9'\">P510594 obverse:9'</a></td><td class=\"tf\"><a href=\"https://cdli.ucla.edu/search/search_results.php?SearchMode=Text&amp;ObjectID=P510594\" title=\"P510594 obverse:9'\" sec=\"P510594 obverse:9'\"><span class=\"txtp\"><span  class=\"hl hlup\" >i-</span><span  class=\"hl hlup\" >na </span></span></a></td><td class=\"tf\"><span class=\"txtp\"><span  class=\"hl hlup\" >i-</span></span></td><td class=\"tf\"><span class=\"txtp\"><span  class=\"hl hlup\" >na </span></span></td></tr>\n",
       "<tr class=\"tf\"><td class=\"tf\">92</td><td class=\"tf\"> <a href=\"https://cdli.ucla.edu/search/search_results.php?SearchMode=Text&amp;ObjectID=P510594\" title=\"show this document on CDLI\" sec=\"P510594 reverse:3\">P510594 reverse:3</a></td><td class=\"tf\"><a href=\"https://cdli.ucla.edu/search/search_results.php?SearchMode=Text&amp;ObjectID=P510594\" title=\"P510594 reverse:3\" sec=\"P510594 reverse:3\"><span class=\"txtp\"><span  class=\"hl hlup\" >i-</span><span  class=\"hl hlup\" >na </span></span></a></td><td class=\"tf\"><span class=\"txtp\"><span  class=\"hl hlup\" >i-</span></span></td><td class=\"tf\"><span class=\"txtp\"><span  class=\"hl hlup\" >na </span></span></td></tr>\n",
       "<tr class=\"tf\"><td class=\"tf\">93</td><td class=\"tf\"> <a href=\"https://cdli.ucla.edu/search/search_results.php?SearchMode=Text&amp;ObjectID=P510596\" title=\"show this document on CDLI\" sec=\"P510596 obverse:11\">P510596 obverse:11</a></td><td class=\"tf\"><a href=\"https://cdli.ucla.edu/search/search_results.php?SearchMode=Text&amp;ObjectID=P510596\" title=\"P510596 obverse:11\" sec=\"P510596 obverse:11\"><span class=\"txtp\"><span  class=\"hl hlup\" >i-</span><span  class=\"hl hlup\" >na </span></span></a></td><td class=\"tf\"><span class=\"txtp\"><span  class=\"hl hlup\" >i-</span></span></td><td class=\"tf\"><span class=\"txtp\"><span  class=\"hl hlup\" >na </span></span></td></tr>\n",
       "<tr class=\"tf\"><td class=\"tf\">94</td><td class=\"tf\"> <a href=\"https://cdli.ucla.edu/search/search_results.php?SearchMode=Text&amp;ObjectID=P510596\" title=\"show this document on CDLI\" sec=\"P510596 reverse:20\">P510596 reverse:20</a></td><td class=\"tf\"><a href=\"https://cdli.ucla.edu/search/search_results.php?SearchMode=Text&amp;ObjectID=P510596\" title=\"P510596 reverse:20\" sec=\"P510596 reverse:20\"><span class=\"txtp\"><span  class=\"hl hlup\" >i-</span><span  class=\"hl hlup\" >na </span></span></a></td><td class=\"tf\"><span class=\"txtp\"><span  class=\"hl hlup\" >i-</span></span></td><td class=\"tf\"><span class=\"txtp\"><span  class=\"hl hlup\" >na </span></span></td></tr>\n",
       "<tr class=\"tf\"><td class=\"tf\">95</td><td class=\"tf\"> <a href=\"https://cdli.ucla.edu/search/search_results.php?SearchMode=Text&amp;ObjectID=P510598\" title=\"show this document on CDLI\" sec=\"P510598 obverse:7'\">P510598 obverse:7'</a></td><td class=\"tf\"><a href=\"https://cdli.ucla.edu/search/search_results.php?SearchMode=Text&amp;ObjectID=P510598\" title=\"P510598 obverse:7'\" sec=\"P510598 obverse:7'\"><span class=\"txtp\"><span  class=\"hl hlup\" >i-</span><span  class=\"hl hlup\" >na </span></span></a></td><td class=\"tf\"><span class=\"txtp\"><span  class=\"hl hlup\" >i-</span></span></td><td class=\"tf\"><span class=\"txtp\"><span  class=\"hl hlup\" >na </span></span></td></tr>\n",
       "<tr class=\"tf\"><td class=\"tf\">96</td><td class=\"tf\"> <a href=\"https://cdli.ucla.edu/search/search_results.php?SearchMode=Text&amp;ObjectID=P510602\" title=\"show this document on CDLI\" sec=\"P510602 reverse:6\">P510602 reverse:6</a></td><td class=\"tf\"><a href=\"https://cdli.ucla.edu/search/search_results.php?SearchMode=Text&amp;ObjectID=P510602\" title=\"P510602 reverse:6\" sec=\"P510602 reverse:6\"><span class=\"txtp\"><span  class=\"hl hlup\" >i-</span><span  class=\"hl hlup\" >na </span></span></a></td><td class=\"tf\"><span class=\"txtp\"><span  class=\"hl hlup\" >i-</span></span></td><td class=\"tf\"><span class=\"txtp\"><span  class=\"hl hlup\" >na </span></span></td></tr>\n",
       "<tr class=\"tf\"><td class=\"tf\">97</td><td class=\"tf\"> <a href=\"https://cdli.ucla.edu/search/search_results.php?SearchMode=Text&amp;ObjectID=P510602\" title=\"show this document on CDLI\" sec=\"P510602 reverse:8\">P510602 reverse:8</a></td><td class=\"tf\"><a href=\"https://cdli.ucla.edu/search/search_results.php?SearchMode=Text&amp;ObjectID=P510602\" title=\"P510602 reverse:8\" sec=\"P510602 reverse:8\"><span class=\"txtp\"><span  class=\"hl hlup\" >i-</span><span  class=\"hl hlup\" >na </span></span></a></td><td class=\"tf\"><span class=\"txtp\"><span  class=\"hl hlup\" >i-</span></span></td><td class=\"tf\"><span class=\"txtp\"><span  class=\"hl hlup\" >na </span></span></td></tr>\n",
       "<tr class=\"tf\"><td class=\"tf\">98</td><td class=\"tf\"> <a href=\"https://cdli.ucla.edu/search/search_results.php?SearchMode=Text&amp;ObjectID=P510602\" title=\"show this document on CDLI\" sec=\"P510602 reverse:10\">P510602 reverse:10</a></td><td class=\"tf\"><a href=\"https://cdli.ucla.edu/search/search_results.php?SearchMode=Text&amp;ObjectID=P510602\" title=\"P510602 reverse:10\" sec=\"P510602 reverse:10\"><span class=\"txtp\"><span  class=\"hl hlup\" >i-</span><span  class=\"hl hlup\" >na </span></span></a></td><td class=\"tf\"><span class=\"txtp\"><span  class=\"hl hlup\" >i-</span></span></td><td class=\"tf\"><span class=\"txtp\"><span  class=\"hl hlup\" >na </span></span></td></tr>\n",
       "<tr class=\"tf\"><td class=\"tf\">99</td><td class=\"tf\"> <a href=\"https://cdli.ucla.edu/search/search_results.php?SearchMode=Text&amp;ObjectID=P510606\" title=\"show this document on CDLI\" sec=\"P510606 reverse:6\">P510606 reverse:6</a></td><td class=\"tf\"><a href=\"https://cdli.ucla.edu/search/search_results.php?SearchMode=Text&amp;ObjectID=P510606\" title=\"P510606 reverse:6\" sec=\"P510606 reverse:6\"><span class=\"txtp\"><span  class=\"hl hlup\" >i-</span><span  class=\"hl hlup\" >na </span></span></a></td><td class=\"tf\"><span class=\"txtp\"><span  class=\"hl hlup\" >i-</span></span></td><td class=\"tf\"><span class=\"txtp\"><span  class=\"hl hlup\" >na </span></span></td></tr>\n",
       "<tr class=\"tf\"><td class=\"tf\">100</td><td class=\"tf\"> <a href=\"https://cdli.ucla.edu/search/search_results.php?SearchMode=Text&amp;ObjectID=P510606\" title=\"show this document on CDLI\" sec=\"P510606 reverse:13\">P510606 reverse:13</a></td><td class=\"tf\"><a href=\"https://cdli.ucla.edu/search/search_results.php?SearchMode=Text&amp;ObjectID=P510606\" title=\"P510606 reverse:13\" sec=\"P510606 reverse:13\"><span class=\"txtp\"><span  class=\"hl hlup\" >i-</span><span  class=\"hl hlup\" >na </span></span></a></td><td class=\"tf\"><span class=\"txtp\"><span  class=\"hl hlup\" >i-</span></span></td><td class=\"tf\"><span class=\"txtp\"><span  class=\"hl hlup\" >na </span></span></td></tr></table>"
      ],
      "text/plain": [
       "<IPython.core.display.HTML object>"
      ]
     },
     "metadata": {},
     "output_type": "display_data"
    }
   ],
   "source": [
    "A.table(resultsW, end=100)"
   ]
  },
  {
   "cell_type": "markdown",
   "metadata": {},
   "source": [
    "These are the first 100 occurrences of the preposition i-na \"in, at\" and if you click on the highlighted p-number, you will be taken to the CDLI page for that document. If you click on P510606 reverse:6 in no. 99, you'll be taken to the the corresponding CDLI page, otherwise accessible at [http://cdli.ucla.edu/P510606]. There, on line 6 of the reverse, we find: 6. hi-sze#-eh-tam ma-la i-na ka#-\\[ap-ri-im\\]."
   ]
  },
  {
   "cell_type": "markdown",
   "metadata": {},
   "source": [
    "Since most prepositions are followed by a syllabically written noun in the genitive case, the different prepositions provide us with an easy way of identifying a large group of nouns in a particular case. So let's look at the words that immediately follow the preposition ina and see what kinds of words show up in that position."
   ]
  },
  {
   "cell_type": "code",
   "execution_count": 7,
   "metadata": {},
   "outputs": [
    {
     "name": "stdout",
     "output_type": "stream",
     "text": [
      "  0.61s 1433 results\n"
     ]
    },
    {
     "data": {
      "text/html": [
       "<table>\n",
       "<tr class=\"tf\">\n",
       "  <th class=\"tf\">n</th><th class=\"tf\">p</th>\n",
       "  <th class=\"tf\">line</th><th>word</th><th>sign</th><th>sign</th><th>word</th>\n",
       "</tr>\n",
       "\n",
       "<tr class=\"tf\"><td class=\"tf\">1</td><td class=\"tf\"> <a href=\"https://cdli.ucla.edu/search/search_results.php?SearchMode=Text&amp;ObjectID=P509373\" title=\"show this document on CDLI\" sec=\"P509373 obverse:12\">P509373 obverse:12</a></td><td class=\"tf\"><span class=\"txtp\">u3 <span  class=\"hl hlup\" >i-</span><span  class=\"hl hlup\" >na </span><span  class=\"hlup\" >_uru_ </span>x-szum{ki} sza-ak-nu id-di-a-am-ma</span></td><td class=\"tf\"><span class=\"txtp\"><span  class=\"hl hlup\" >i-</span><span  class=\"hl hlup\" >na </span></span></td><td class=\"tf\"><span class=\"txtp\"><span  class=\"hl hlup\" >i-</span></span></td><td class=\"tf\"><span class=\"txtp\"><span  class=\"hl hlup\" >na </span></span></td><td class=\"tf\"><span class=\"txtp\"><span  class=\"hlup\" >_uru_ </span></span></td></tr>\n",
       "<tr class=\"tf\"><td class=\"tf\">2</td><td class=\"tf\"> <a href=\"https://cdli.ucla.edu/search/search_results.php?SearchMode=Text&amp;ObjectID=P509373\" title=\"show this document on CDLI\" sec=\"P509373 reverse:11'\">P509373 reverse:11'</a></td><td class=\"tf\"><span class=\"txtp\">a-na ki-ma <span  class=\"hl hlup\" >i-</span><span  class=\"hl hlup\" >[na] </span><span  class=\"hlup\" >_dub </span>e2-gal_-lim</span></td><td class=\"tf\"><span class=\"txtp\"><span  class=\"hl hlup\" >i-</span><span  class=\"hl hlup\" >[na] </span></span></td><td class=\"tf\"><span class=\"txtp\"><span  class=\"hl hlup\" >i-</span></span></td><td class=\"tf\"><span class=\"txtp\"><span  class=\"hl hlup\" >[na] </span></span></td><td class=\"tf\"><span class=\"txtp\"><span  class=\"hlup\" >_dub </span></span></td></tr>\n",
       "<tr class=\"tf\"><td class=\"tf\">3</td><td class=\"tf\"> <a href=\"https://cdli.ucla.edu/search/search_results.php?SearchMode=Text&amp;ObjectID=P509374\" title=\"show this document on CDLI\" sec=\"P509374 obverse:15\">P509374 obverse:15</a></td><td class=\"tf\"><span class=\"txtp\"><span  class=\"hl hlup\" >i-</span><span  class=\"hl hlup\" >na </span><span  class=\"hlup\" >_ka2 </span>ki-lam_ sza-mi-im-ma</span></td><td class=\"tf\"><span class=\"txtp\"><span  class=\"hl hlup\" >i-</span><span  class=\"hl hlup\" >na </span></span></td><td class=\"tf\"><span class=\"txtp\"><span  class=\"hl hlup\" >i-</span></span></td><td class=\"tf\"><span class=\"txtp\"><span  class=\"hl hlup\" >na </span></span></td><td class=\"tf\"><span class=\"txtp\"><span  class=\"hlup\" >_ka2 </span></span></td></tr>\n",
       "<tr class=\"tf\"><td class=\"tf\">4</td><td class=\"tf\"> <a href=\"https://cdli.ucla.edu/search/search_results.php?SearchMode=Text&amp;ObjectID=P509375\" title=\"show this document on CDLI\" sec=\"P509375 reverse:9\">P509375 reverse:9</a></td><td class=\"tf\"><span class=\"txtp\"><span  class=\"hl hlup\" >i-</span><span  class=\"hl hlup\" >na </span><span  class=\"hlup\" >la-</span><span  class=\"hlup\" >hi-</span><span  class=\"hlup\" >a-</span><span  class=\"hlup\" >nim</span></span></td><td class=\"tf\"><span class=\"txtp\"><span  class=\"hl hlup\" >i-</span><span  class=\"hl hlup\" >na </span></span></td><td class=\"tf\"><span class=\"txtp\"><span  class=\"hl hlup\" >i-</span></span></td><td class=\"tf\"><span class=\"txtp\"><span  class=\"hl hlup\" >na </span></span></td><td class=\"tf\"><span class=\"txtp\"><span  class=\"hlup\" >la-</span><span  class=\"hlup\" >hi-</span><span  class=\"hlup\" >a-</span><span  class=\"hlup\" >nim</span></span></td></tr>\n",
       "<tr class=\"tf\"><td class=\"tf\">5</td><td class=\"tf\"> <a href=\"https://cdli.ucla.edu/search/search_results.php?SearchMode=Text&amp;ObjectID=P509376\" title=\"show this document on CDLI\" sec=\"P509376 reverse:4\">P509376 reverse:4</a></td><td class=\"tf\"><span class=\"txtp\"><span  class=\"hl hlup\" >i-</span><span  class=\"hl hlup\" >na </span><span  class=\"hlup\" >tup-</span><span  class=\"hlup\" >pi2-</span><span  class=\"hlup\" >ka </span>pa-nam szu-ur2-szi-a-am-ma</span></td><td class=\"tf\"><span class=\"txtp\"><span  class=\"hl hlup\" >i-</span><span  class=\"hl hlup\" >na </span></span></td><td class=\"tf\"><span class=\"txtp\"><span  class=\"hl hlup\" >i-</span></span></td><td class=\"tf\"><span class=\"txtp\"><span  class=\"hl hlup\" >na </span></span></td><td class=\"tf\"><span class=\"txtp\"><span  class=\"hlup\" >tup-</span><span  class=\"hlup\" >pi2-</span><span  class=\"hlup\" >ka </span></span></td></tr>\n",
       "<tr class=\"tf\"><td class=\"tf\">6</td><td class=\"tf\"> <a href=\"https://cdli.ucla.edu/search/search_results.php?SearchMode=Text&amp;ObjectID=P509377\" title=\"show this document on CDLI\" sec=\"P509377 obverse:1\">P509377 obverse:1</a></td><td class=\"tf\"><span class=\"txtp\">i-nu-ma <span  class=\"hl hlup\" >i-</span><span  class=\"hl hlup\" >na </span><span  class=\"hlup\" >_e2_ </span>da-[...]</span></td><td class=\"tf\"><span class=\"txtp\"><span  class=\"hl hlup\" >i-</span><span  class=\"hl hlup\" >na </span></span></td><td class=\"tf\"><span class=\"txtp\"><span  class=\"hl hlup\" >i-</span></span></td><td class=\"tf\"><span class=\"txtp\"><span  class=\"hl hlup\" >na </span></span></td><td class=\"tf\"><span class=\"txtp\"><span  class=\"hlup\" >_e2_ </span></span></td></tr>\n",
       "<tr class=\"tf\"><td class=\"tf\">7</td><td class=\"tf\"> <a href=\"https://cdli.ucla.edu/search/search_results.php?SearchMode=Text&amp;ObjectID=P509377\" title=\"show this document on CDLI\" sec=\"P509377 reverse:4\">P509377 reverse:4</a></td><td class=\"tf\"><span class=\"txtp\">1(disz) _amar mu_ 3(disz) <span  class=\"hl hlup\" >i-</span><span  class=\"hl hlup\" >na </span><span  class=\"hlup\" >i-</span><span  class=\"hlup\" >ni-</span><span  class=\"hlup\" >ia </span>ta#-[...]</span></td><td class=\"tf\"><span class=\"txtp\"><span  class=\"hl hlup\" >i-</span><span  class=\"hl hlup\" >na </span></span></td><td class=\"tf\"><span class=\"txtp\"><span  class=\"hl hlup\" >i-</span></span></td><td class=\"tf\"><span class=\"txtp\"><span  class=\"hl hlup\" >na </span></span></td><td class=\"tf\"><span class=\"txtp\"><span  class=\"hlup\" >i-</span><span  class=\"hlup\" >ni-</span><span  class=\"hlup\" >ia </span></span></td></tr>\n",
       "<tr class=\"tf\"><td class=\"tf\">8</td><td class=\"tf\"> <a href=\"https://cdli.ucla.edu/search/search_results.php?SearchMode=Text&amp;ObjectID=P509377\" title=\"show this document on CDLI\" sec=\"P509377 reverse:5\">P509377 reverse:5</a></td><td class=\"tf\"><span class=\"txtp\"><span  class=\"hl hlup\" >i-</span><span  class=\"hl hlup\" >na </span><span  class=\"hlup\" >_gu4-</span><span  class=\"hlup\" >hi-</span><span  class=\"hlup\" >a_-</span><span  class=\"hlup\" >ia </span>ta-as-su2-uq-ma a-na# [...]</span></td><td class=\"tf\"><span class=\"txtp\"><span  class=\"hl hlup\" >i-</span><span  class=\"hl hlup\" >na </span></span></td><td class=\"tf\"><span class=\"txtp\"><span  class=\"hl hlup\" >i-</span></span></td><td class=\"tf\"><span class=\"txtp\"><span  class=\"hl hlup\" >na </span></span></td><td class=\"tf\"><span class=\"txtp\"><span  class=\"hlup\" >_gu4-</span><span  class=\"hlup\" >hi-</span><span  class=\"hlup\" >a_-</span><span  class=\"hlup\" >ia </span></span></td></tr>\n",
       "<tr class=\"tf\"><td class=\"tf\">9</td><td class=\"tf\"> <a href=\"https://cdli.ucla.edu/search/search_results.php?SearchMode=Text&amp;ObjectID=P509377\" title=\"show this document on CDLI\" sec=\"P509377 reverse:12\">P509377 reverse:12</a></td><td class=\"tf\"><span class=\"txtp\"><span  class=\"hl hlup\" >i-</span><span  class=\"hl hlup\" >na </span><span  class=\"hlup\" >la </span>_sza3-gal_ la i-mu#-[tu]</span></td><td class=\"tf\"><span class=\"txtp\"><span  class=\"hl hlup\" >i-</span><span  class=\"hl hlup\" >na </span></span></td><td class=\"tf\"><span class=\"txtp\"><span  class=\"hl hlup\" >i-</span></span></td><td class=\"tf\"><span class=\"txtp\"><span  class=\"hl hlup\" >na </span></span></td><td class=\"tf\"><span class=\"txtp\"><span  class=\"hlup\" >la </span></span></td></tr>\n",
       "<tr class=\"tf\"><td class=\"tf\">10</td><td class=\"tf\"> <a href=\"https://cdli.ucla.edu/search/search_results.php?SearchMode=Text&amp;ObjectID=P481192\" title=\"show this document on CDLI\" sec=\"P481192 reverse:1'\">P481192 reverse:1'</a></td><td class=\"tf\"><span class=\"txtp\"><span  class=\"hl hlup\" >i-</span><span  class=\"hl hlup\" >na </span><span  class=\"hlup\" >pu#-</span><span  class=\"hlup\" >uh2#-</span><span  class=\"hlup\" >ri </span>i-na ma-har# a-wi#-[le-e]</span></td><td class=\"tf\"><span class=\"txtp\"><span  class=\"hl hlup\" >i-</span><span  class=\"hl hlup\" >na </span></span></td><td class=\"tf\"><span class=\"txtp\"><span  class=\"hl hlup\" >i-</span></span></td><td class=\"tf\"><span class=\"txtp\"><span  class=\"hl hlup\" >na </span></span></td><td class=\"tf\"><span class=\"txtp\"><span  class=\"hlup\" >pu#-</span><span  class=\"hlup\" >uh2#-</span><span  class=\"hlup\" >ri </span></span></td></tr>\n",
       "<tr class=\"tf\"><td class=\"tf\">11</td><td class=\"tf\"> <a href=\"https://cdli.ucla.edu/search/search_results.php?SearchMode=Text&amp;ObjectID=P481192\" title=\"show this document on CDLI\" sec=\"P481192 reverse:1'\">P481192 reverse:1'</a></td><td class=\"tf\"><span class=\"txtp\">i-na pu#-uh2#-ri <span  class=\"hl hlup\" >i-</span><span  class=\"hl hlup\" >na </span><span  class=\"hlup\" >ma-</span><span  class=\"hlup\" >har# </span>a-wi#-[le-e]</span></td><td class=\"tf\"><span class=\"txtp\"><span  class=\"hl hlup\" >i-</span><span  class=\"hl hlup\" >na </span></span></td><td class=\"tf\"><span class=\"txtp\"><span  class=\"hl hlup\" >i-</span></span></td><td class=\"tf\"><span class=\"txtp\"><span  class=\"hl hlup\" >na </span></span></td><td class=\"tf\"><span class=\"txtp\"><span  class=\"hlup\" >ma-</span><span  class=\"hlup\" >har# </span></span></td></tr>\n",
       "<tr class=\"tf\"><td class=\"tf\">12</td><td class=\"tf\"> <a href=\"https://cdli.ucla.edu/search/search_results.php?SearchMode=Text&amp;ObjectID=P481192\" title=\"show this document on CDLI\" sec=\"P481192 reverse:10'\">P481192 reverse:10'</a></td><td class=\"tf\"><span class=\"txtp\">an-ni-tam <span  class=\"hl hlup\" >i-</span><span  class=\"hl hlup\" >na </span><span  class=\"hlup\" >pu-</span><span  class=\"hlup\" >uh2-</span><span  class=\"hlup\" >ri </span>iq-bi#-i</span></td><td class=\"tf\"><span class=\"txtp\"><span  class=\"hl hlup\" >i-</span><span  class=\"hl hlup\" >na </span></span></td><td class=\"tf\"><span class=\"txtp\"><span  class=\"hl hlup\" >i-</span></span></td><td class=\"tf\"><span class=\"txtp\"><span  class=\"hl hlup\" >na </span></span></td><td class=\"tf\"><span class=\"txtp\"><span  class=\"hlup\" >pu-</span><span  class=\"hlup\" >uh2-</span><span  class=\"hlup\" >ri </span></span></td></tr>\n",
       "<tr class=\"tf\"><td class=\"tf\">13</td><td class=\"tf\"> <a href=\"https://cdli.ucla.edu/search/search_results.php?SearchMode=Text&amp;ObjectID=P389958\" title=\"show this document on CDLI\" sec=\"P389958 reverse:2\">P389958 reverse:2</a></td><td class=\"tf\"><span class=\"txtp\">u3 <span  class=\"hl hlup\" >i-</span><span  class=\"hl hlup\" >na </span><span  class=\"hlup\" >ur-</span><span  class=\"hlup\" >ra-</span><span  class=\"hlup\" >am</span></span></td><td class=\"tf\"><span class=\"txtp\"><span  class=\"hl hlup\" >i-</span><span  class=\"hl hlup\" >na </span></span></td><td class=\"tf\"><span class=\"txtp\"><span  class=\"hl hlup\" >i-</span></span></td><td class=\"tf\"><span class=\"txtp\"><span  class=\"hl hlup\" >na </span></span></td><td class=\"tf\"><span class=\"txtp\"><span  class=\"hlup\" >ur-</span><span  class=\"hlup\" >ra-</span><span  class=\"hlup\" >am</span></span></td></tr>\n",
       "<tr class=\"tf\"><td class=\"tf\">14</td><td class=\"tf\"> <a href=\"https://cdli.ucla.edu/search/search_results.php?SearchMode=Text&amp;ObjectID=P510527\" title=\"show this document on CDLI\" sec=\"P510527 obverse:6\">P510527 obverse:6</a></td><td class=\"tf\"><span class=\"txtp\">{disz}ip-qu2-i3-li2-szu _di-ku5_ <span  class=\"hl hlup\" >i-</span><span  class=\"hl hlup\" >na </span><span  class=\"hlup\" >pu-</span><span  class=\"hlup\" >uh2-</span><span  class=\"hlup\" >ri-</span><span  class=\"hlup\" >im</span></span></td><td class=\"tf\"><span class=\"txtp\"><span  class=\"hl hlup\" >i-</span><span  class=\"hl hlup\" >na </span></span></td><td class=\"tf\"><span class=\"txtp\"><span  class=\"hl hlup\" >i-</span></span></td><td class=\"tf\"><span class=\"txtp\"><span  class=\"hl hlup\" >na </span></span></td><td class=\"tf\"><span class=\"txtp\"><span  class=\"hlup\" >pu-</span><span  class=\"hlup\" >uh2-</span><span  class=\"hlup\" >ri-</span><span  class=\"hlup\" >im</span></span></td></tr>\n",
       "<tr class=\"tf\"><td class=\"tf\">15</td><td class=\"tf\"> <a href=\"https://cdli.ucla.edu/search/search_results.php?SearchMode=Text&amp;ObjectID=P510527\" title=\"show this document on CDLI\" sec=\"P510527 obverse:15\">P510527 obverse:15</a></td><td class=\"tf\"><span class=\"txtp\"><span  class=\"hl hlup\" >i-</span><span  class=\"hl hlup\" >na </span><span  class=\"hlup\" >pu-</span><span  class=\"hlup\" >uh2-</span><span  class=\"hlup\" >ri-</span><span  class=\"hlup\" >im </span>i-na da-ba-bi-im</span></td><td class=\"tf\"><span class=\"txtp\"><span  class=\"hl hlup\" >i-</span><span  class=\"hl hlup\" >na </span></span></td><td class=\"tf\"><span class=\"txtp\"><span  class=\"hl hlup\" >i-</span></span></td><td class=\"tf\"><span class=\"txtp\"><span  class=\"hl hlup\" >na </span></span></td><td class=\"tf\"><span class=\"txtp\"><span  class=\"hlup\" >pu-</span><span  class=\"hlup\" >uh2-</span><span  class=\"hlup\" >ri-</span><span  class=\"hlup\" >im </span></span></td></tr>\n",
       "<tr class=\"tf\"><td class=\"tf\">16</td><td class=\"tf\"> <a href=\"https://cdli.ucla.edu/search/search_results.php?SearchMode=Text&amp;ObjectID=P510527\" title=\"show this document on CDLI\" sec=\"P510527 obverse:15\">P510527 obverse:15</a></td><td class=\"tf\"><span class=\"txtp\">i-na pu-uh2-ri-im <span  class=\"hl hlup\" >i-</span><span  class=\"hl hlup\" >na </span><span  class=\"hlup\" >da-</span><span  class=\"hlup\" >ba-</span><span  class=\"hlup\" >bi-</span><span  class=\"hlup\" >im</span></span></td><td class=\"tf\"><span class=\"txtp\"><span  class=\"hl hlup\" >i-</span><span  class=\"hl hlup\" >na </span></span></td><td class=\"tf\"><span class=\"txtp\"><span  class=\"hl hlup\" >i-</span></span></td><td class=\"tf\"><span class=\"txtp\"><span  class=\"hl hlup\" >na </span></span></td><td class=\"tf\"><span class=\"txtp\"><span  class=\"hlup\" >da-</span><span  class=\"hlup\" >ba-</span><span  class=\"hlup\" >bi-</span><span  class=\"hlup\" >im</span></span></td></tr>\n",
       "<tr class=\"tf\"><td class=\"tf\">17</td><td class=\"tf\"> <a href=\"https://cdli.ucla.edu/search/search_results.php?SearchMode=Text&amp;ObjectID=P510527\" title=\"show this document on CDLI\" sec=\"P510527 obverse:18\">P510527 obverse:18</a></td><td class=\"tf\"><span class=\"txtp\"><span  class=\"hl hlup\" >i-</span><span  class=\"hl hlup\" >na </span><span  class=\"hlup\" >pu-</span><span  class=\"hlup\" >uh2-</span><span  class=\"hlup\" >ri </span>a-wi-lum a-na pa-ni a-wi-lim</span></td><td class=\"tf\"><span class=\"txtp\"><span  class=\"hl hlup\" >i-</span><span  class=\"hl hlup\" >na </span></span></td><td class=\"tf\"><span class=\"txtp\"><span  class=\"hl hlup\" >i-</span></span></td><td class=\"tf\"><span class=\"txtp\"><span  class=\"hl hlup\" >na </span></span></td><td class=\"tf\"><span class=\"txtp\"><span  class=\"hlup\" >pu-</span><span  class=\"hlup\" >uh2-</span><span  class=\"hlup\" >ri </span></span></td></tr>\n",
       "<tr class=\"tf\"><td class=\"tf\">18</td><td class=\"tf\"> <a href=\"https://cdli.ucla.edu/search/search_results.php?SearchMode=Text&amp;ObjectID=P510527\" title=\"show this document on CDLI\" sec=\"P510527 reverse:1\">P510527 reverse:1</a></td><td class=\"tf\"><span class=\"txtp\">[a-wi]-lu#-u2 <span  class=\"hl hlup\" >i-</span><span  class=\"hl hlup\" >na </span><span  class=\"hlup\" >mu-</span><span  class=\"hlup\" >uh2-</span><span  class=\"hlup\" >hi </span>ip-qu2-i3-li2-szu _di-ku5_</span></td><td class=\"tf\"><span class=\"txtp\"><span  class=\"hl hlup\" >i-</span><span  class=\"hl hlup\" >na </span></span></td><td class=\"tf\"><span class=\"txtp\"><span  class=\"hl hlup\" >i-</span></span></td><td class=\"tf\"><span class=\"txtp\"><span  class=\"hl hlup\" >na </span></span></td><td class=\"tf\"><span class=\"txtp\"><span  class=\"hlup\" >mu-</span><span  class=\"hlup\" >uh2-</span><span  class=\"hlup\" >hi </span></span></td></tr>\n",
       "<tr class=\"tf\"><td class=\"tf\">19</td><td class=\"tf\"> <a href=\"https://cdli.ucla.edu/search/search_results.php?SearchMode=Text&amp;ObjectID=P510530\" title=\"show this document on CDLI\" sec=\"P510530 reverse:18\">P510530 reverse:18</a></td><td class=\"tf\"><span class=\"txtp\">sza <span  class=\"hl hlup\" >i-</span><span  class=\"hl hlup\" >na </span><span  class=\"hlup\" >qa2-</span><span  class=\"hlup\" >ti </span>ARAD-{d}ul-masz-szi-tum _ugula gidri_ szu-ud-du-nim</span></td><td class=\"tf\"><span class=\"txtp\"><span  class=\"hl hlup\" >i-</span><span  class=\"hl hlup\" >na </span></span></td><td class=\"tf\"><span class=\"txtp\"><span  class=\"hl hlup\" >i-</span></span></td><td class=\"tf\"><span class=\"txtp\"><span  class=\"hl hlup\" >na </span></span></td><td class=\"tf\"><span class=\"txtp\"><span  class=\"hlup\" >qa2-</span><span  class=\"hlup\" >ti </span></span></td></tr>\n",
       "<tr class=\"tf\"><td class=\"tf\">20</td><td class=\"tf\"> <a href=\"https://cdli.ucla.edu/search/search_results.php?SearchMode=Text&amp;ObjectID=P510534\" title=\"show this document on CDLI\" sec=\"P510534 obverse:9\">P510534 obverse:9</a></td><td class=\"tf\"><span class=\"txtp\"><span  class=\"hl hlup\" >i-</span><span  class=\"hl hlup\" >na </span><span  class=\"hlup\" >_abul-</span><span  class=\"hlup\" >mesz_ </span>zimbir{ki} asz-bu-ma</span></td><td class=\"tf\"><span class=\"txtp\"><span  class=\"hl hlup\" >i-</span><span  class=\"hl hlup\" >na </span></span></td><td class=\"tf\"><span class=\"txtp\"><span  class=\"hl hlup\" >i-</span></span></td><td class=\"tf\"><span class=\"txtp\"><span  class=\"hl hlup\" >na </span></span></td><td class=\"tf\"><span class=\"txtp\"><span  class=\"hlup\" >_abul-</span><span  class=\"hlup\" >mesz_ </span></span></td></tr>\n",
       "<tr class=\"tf\"><td class=\"tf\">21</td><td class=\"tf\"> <a href=\"https://cdli.ucla.edu/search/search_results.php?SearchMode=Text&amp;ObjectID=P510534\" title=\"show this document on CDLI\" sec=\"P510534 reverse:7'\">P510534 reverse:7'</a></td><td class=\"tf\"><span class=\"txtp\">1(disz) a-hu-szu sza <span  class=\"hl hlup\" >i-</span><span  class=\"hl hlup\" >na </span><span  class=\"hlup\" >babila2#</span><span  class=\"hlup\" >[{ki}]</span></span></td><td class=\"tf\"><span class=\"txtp\"><span  class=\"hl hlup\" >i-</span><span  class=\"hl hlup\" >na </span></span></td><td class=\"tf\"><span class=\"txtp\"><span  class=\"hl hlup\" >i-</span></span></td><td class=\"tf\"><span class=\"txtp\"><span  class=\"hl hlup\" >na </span></span></td><td class=\"tf\"><span class=\"txtp\"><span  class=\"hlup\" >babila2#</span><span  class=\"hlup\" >[{ki}]</span></span></td></tr>\n",
       "<tr class=\"tf\"><td class=\"tf\">22</td><td class=\"tf\"> <a href=\"https://cdli.ucla.edu/search/search_results.php?SearchMode=Text&amp;ObjectID=P510536\" title=\"show this document on CDLI\" sec=\"P510536 obverse:9\">P510536 obverse:9</a></td><td class=\"tf\"><span class=\"txtp\">um-ma-mi <span  class=\"hl hlup\" >i-</span><span  class=\"hl hlup\" >na# </span><span  class=\"hlup\" >_u4 </span>1(u) 3(disz)-kam#_</span></td><td class=\"tf\"><span class=\"txtp\"><span  class=\"hl hlup\" >i-</span><span  class=\"hl hlup\" >na# </span></span></td><td class=\"tf\"><span class=\"txtp\"><span  class=\"hl hlup\" >i-</span></span></td><td class=\"tf\"><span class=\"txtp\"><span  class=\"hl hlup\" >na# </span></span></td><td class=\"tf\"><span class=\"txtp\"><span  class=\"hlup\" >_u4 </span></span></td></tr>\n",
       "<tr class=\"tf\"><td class=\"tf\">23</td><td class=\"tf\"> <a href=\"https://cdli.ucla.edu/search/search_results.php?SearchMode=Text&amp;ObjectID=P510536\" title=\"show this document on CDLI\" sec=\"P510536 reverse:4\">P510536 reverse:4</a></td><td class=\"tf\"><span class=\"txtp\"><span  class=\"hl hlup\" >i-</span><span  class=\"hl hlup\" >na </span><span  class=\"hlup\" >pi4 </span>_i7_ {d}utu a-na-ku</span></td><td class=\"tf\"><span class=\"txtp\"><span  class=\"hl hlup\" >i-</span><span  class=\"hl hlup\" >na </span></span></td><td class=\"tf\"><span class=\"txtp\"><span  class=\"hl hlup\" >i-</span></span></td><td class=\"tf\"><span class=\"txtp\"><span  class=\"hl hlup\" >na </span></span></td><td class=\"tf\"><span class=\"txtp\"><span  class=\"hlup\" >pi4 </span></span></td></tr>\n",
       "<tr class=\"tf\"><td class=\"tf\">24</td><td class=\"tf\"> <a href=\"https://cdli.ucla.edu/search/search_results.php?SearchMode=Text&amp;ObjectID=P510538\" title=\"show this document on CDLI\" sec=\"P510538 obverse:10\">P510538 obverse:10</a></td><td class=\"tf\"><span class=\"txtp\"><span  class=\"hl hlup\" >i-</span><span  class=\"hl hlup\" >na </span><span  class=\"hlup\" >tam-</span><span  class=\"hlup\" >li-</span><span  class=\"hlup\" >tim</span></span></td><td class=\"tf\"><span class=\"txtp\"><span  class=\"hl hlup\" >i-</span><span  class=\"hl hlup\" >na </span></span></td><td class=\"tf\"><span class=\"txtp\"><span  class=\"hl hlup\" >i-</span></span></td><td class=\"tf\"><span class=\"txtp\"><span  class=\"hl hlup\" >na </span></span></td><td class=\"tf\"><span class=\"txtp\"><span  class=\"hlup\" >tam-</span><span  class=\"hlup\" >li-</span><span  class=\"hlup\" >tim</span></span></td></tr>\n",
       "<tr class=\"tf\"><td class=\"tf\">25</td><td class=\"tf\"> <a href=\"https://cdli.ucla.edu/search/search_results.php?SearchMode=Text&amp;ObjectID=P510541\" title=\"show this document on CDLI\" sec=\"P510541 obverse:13\">P510541 obverse:13</a></td><td class=\"tf\"><span class=\"txtp\"><span  class=\"hl hlup\" >i-</span><span  class=\"hl hlup\" >na </span><span  class=\"hlup\" >qa2-</span><span  class=\"hlup\" >be2-</span><span  class=\"hlup\" >e-</span><span  class=\"hlup\" >ka </span>_1(bur3) 1(esze3) GAN2 a-sza3_ szu-a-ti</span></td><td class=\"tf\"><span class=\"txtp\"><span  class=\"hl hlup\" >i-</span><span  class=\"hl hlup\" >na </span></span></td><td class=\"tf\"><span class=\"txtp\"><span  class=\"hl hlup\" >i-</span></span></td><td class=\"tf\"><span class=\"txtp\"><span  class=\"hl hlup\" >na </span></span></td><td class=\"tf\"><span class=\"txtp\"><span  class=\"hlup\" >qa2-</span><span  class=\"hlup\" >be2-</span><span  class=\"hlup\" >e-</span><span  class=\"hlup\" >ka </span></span></td></tr>\n",
       "<tr class=\"tf\"><td class=\"tf\">26</td><td class=\"tf\"> <a href=\"https://cdli.ucla.edu/search/search_results.php?SearchMode=Text&amp;ObjectID=P510541\" title=\"show this document on CDLI\" sec=\"P510541 reverse:5\">P510541 reverse:5</a></td><td class=\"tf\"><span class=\"txtp\"><span  class=\"hl hlup\" >i-</span><span  class=\"hl hlup\" >na# </span><span  class=\"hlup\" >qa2#-</span><span  class=\"hlup\" >be-</span><span  class=\"hlup\" >e-</span><span  class=\"hlup\" >ka </span>_a-sza3_ szu-a-ti</span></td><td class=\"tf\"><span class=\"txtp\"><span  class=\"hl hlup\" >i-</span><span  class=\"hl hlup\" >na# </span></span></td><td class=\"tf\"><span class=\"txtp\"><span  class=\"hl hlup\" >i-</span></span></td><td class=\"tf\"><span class=\"txtp\"><span  class=\"hl hlup\" >na# </span></span></td><td class=\"tf\"><span class=\"txtp\"><span  class=\"hlup\" >qa2#-</span><span  class=\"hlup\" >be-</span><span  class=\"hlup\" >e-</span><span  class=\"hlup\" >ka </span></span></td></tr>\n",
       "<tr class=\"tf\"><td class=\"tf\">27</td><td class=\"tf\"> <a href=\"https://cdli.ucla.edu/search/search_results.php?SearchMode=Text&amp;ObjectID=P510541\" title=\"show this document on CDLI\" sec=\"P510541 reverse:12\">P510541 reverse:12</a></td><td class=\"tf\"><span class=\"txtp\"><span  class=\"hl hlup\" >i-</span><span  class=\"hl hlup\" >na# </span><span  class=\"hlup\" >_gu4 </span>hi-a_-ia 4(disz) _gu4_ is-su2-qu2-u2-ma</span></td><td class=\"tf\"><span class=\"txtp\"><span  class=\"hl hlup\" >i-</span><span  class=\"hl hlup\" >na# </span></span></td><td class=\"tf\"><span class=\"txtp\"><span  class=\"hl hlup\" >i-</span></span></td><td class=\"tf\"><span class=\"txtp\"><span  class=\"hl hlup\" >na# </span></span></td><td class=\"tf\"><span class=\"txtp\"><span  class=\"hlup\" >_gu4 </span></span></td></tr>\n",
       "<tr class=\"tf\"><td class=\"tf\">28</td><td class=\"tf\"> <a href=\"https://cdli.ucla.edu/search/search_results.php?SearchMode=Text&amp;ObjectID=P510541\" title=\"show this document on CDLI\" sec=\"P510541 reverse:15\">P510541 reverse:15</a></td><td class=\"tf\"><span class=\"txtp\">um-ma szu-ma <span  class=\"hl hlup\" >i-</span><span  class=\"hl hlup\" >na </span><span  class=\"hlup\" >4(disz) </span>_gu4 nig2-szu_ {d}da-gan-ra-bi</span></td><td class=\"tf\"><span class=\"txtp\"><span  class=\"hl hlup\" >i-</span><span  class=\"hl hlup\" >na </span></span></td><td class=\"tf\"><span class=\"txtp\"><span  class=\"hl hlup\" >i-</span></span></td><td class=\"tf\"><span class=\"txtp\"><span  class=\"hl hlup\" >na </span></span></td><td class=\"tf\"><span class=\"txtp\"><span  class=\"hlup\" >4(disz) </span></span></td></tr>\n",
       "<tr class=\"tf\"><td class=\"tf\">29</td><td class=\"tf\"> <a href=\"https://cdli.ucla.edu/search/search_results.php?SearchMode=Text&amp;ObjectID=P510541\" title=\"show this document on CDLI\" sec=\"P510541 reverse:16\">P510541 reverse:16</a></td><td class=\"tf\"><span class=\"txtp\">u3 2(disz) _gu4 nig2-szu_ i3-li2-u3-{d}utu <span  class=\"hl hlup\" >i-</span><span  class=\"hl hlup\" >na </span><span  class=\"hlup\" >6(disz) </span>_gu4 hi-a_</span></td><td class=\"tf\"><span class=\"txtp\"><span  class=\"hl hlup\" >i-</span><span  class=\"hl hlup\" >na </span></span></td><td class=\"tf\"><span class=\"txtp\"><span  class=\"hl hlup\" >i-</span></span></td><td class=\"tf\"><span class=\"txtp\"><span  class=\"hl hlup\" >na </span></span></td><td class=\"tf\"><span class=\"txtp\"><span  class=\"hlup\" >6(disz) </span></span></td></tr>\n",
       "<tr class=\"tf\"><td class=\"tf\">30</td><td class=\"tf\"> <a href=\"https://cdli.ucla.edu/search/search_results.php?SearchMode=Text&amp;ObjectID=P510542\" title=\"show this document on CDLI\" sec=\"P510542 obverse:10\">P510542 obverse:10</a></td><td class=\"tf\"><span class=\"txtp\"><span  class=\"hl hlup\" >i-</span><span  class=\"hl hlup\" >na </span><span  class=\"hlup\" >se-</span><span  class=\"hlup\" >ri-</span><span  class=\"hlup\" >ku-</span><span  class=\"hlup\" >nu</span></span></td><td class=\"tf\"><span class=\"txtp\"><span  class=\"hl hlup\" >i-</span><span  class=\"hl hlup\" >na </span></span></td><td class=\"tf\"><span class=\"txtp\"><span  class=\"hl hlup\" >i-</span></span></td><td class=\"tf\"><span class=\"txtp\"><span  class=\"hl hlup\" >na </span></span></td><td class=\"tf\"><span class=\"txtp\"><span  class=\"hlup\" >se-</span><span  class=\"hlup\" >ri-</span><span  class=\"hlup\" >ku-</span><span  class=\"hlup\" >nu</span></span></td></tr></table>"
      ],
      "text/plain": [
       "<IPython.core.display.HTML object>"
      ]
     },
     "metadata": {},
     "output_type": "display_data"
    }
   ],
   "source": [
    "queryL = '''\n",
    "line\n",
    "  word\n",
    "    =: sign reading=i\n",
    "    <: sign reading=na\n",
    "    :=\n",
    "  <: word\n",
    "'''\n",
    "results = A.search(queryL)\n",
    "A.table(results, end=30)"
   ]
  },
  {
   "cell_type": "markdown",
   "metadata": {},
   "source": [
    "These are only the first 30 items out of the more than 1400 currently in the corpus. In fact, in these first 30 occurrences there are only a couple that exhibit a syllabically written noun in the genitive singular such as i-na pu-uh2-ri-im in item numbers 14 or 15. The entire line 6 in P510527, which corresponds to AbB 12, 2, reads as follows: 6. {disz}ip-qu2-i3-li2-szu \\_di-ku5\\_ i-na pu-uh2-ri-im. AbB 12 is an abbreviation for W. H. van Soldt's Letters in the British Museum, published in 1990. Reasonably enough, van Soldt translates the line as follows: \"Ipqu-ilišu the judge (has spoken at length against me) in the assembly,\" where i-na pu-uh2-ri-im corresponds to \"in the assembly\".\n",
    "\n",
    "Besides syllabically written nouns, there are many other typse of nouns that follow i-na in this small subset: (i) logograms such as URU, DUB, E2 or GU4.HI.A, (ii) numerals such as 4(disz) or 6(disz), (iii) following nouns in construct, which do not explictly show the genitive case, such as qa2-ti in P510530 and (iv) last but not least, a number of examples in which i-na combines with an infinitive to form a temporal clause."
   ]
  },
  {
   "cell_type": "markdown",
   "metadata": {},
   "source": [
    "# WORK IN PROGRESS"
   ]
  },
  {
   "cell_type": "code",
   "execution_count": null,
   "metadata": {},
   "outputs": [],
   "source": []
  },
  {
   "cell_type": "code",
   "execution_count": null,
   "metadata": {},
   "outputs": [],
   "source": []
  },
  {
   "cell_type": "code",
   "execution_count": null,
   "metadata": {},
   "outputs": [],
   "source": []
  },
  {
   "cell_type": "code",
   "execution_count": 8,
   "metadata": {},
   "outputs": [
    {
     "name": "stdout",
     "output_type": "stream",
     "text": [
      "  0.58s 251 results\n"
     ]
    },
    {
     "data": {
      "text/html": [
       "<table>\n",
       "<tr class=\"tf\">\n",
       "  <th class=\"tf\">n</th><th class=\"tf\">p</th>\n",
       "  <th class=\"tf\">line</th><th>word</th><th>sign</th><th>sign</th><th>word</th>\n",
       "</tr>\n",
       "\n",
       "<tr class=\"tf\"><td class=\"tf\">1</td><td class=\"tf\"> <a href=\"https://cdli.ucla.edu/search/search_results.php?SearchMode=Text&amp;ObjectID=P509373\" title=\"show this document on CDLI\" sec=\"P509373 obverse:11\">P509373 obverse:11</a></td><td class=\"tf\"><span class=\"txtp\">sza _{d}utu_-ha-zi-[ir] <span  class=\"hl hlup\" >isz-</span><span  class=\"hl hlup\" >tu </span><span  class=\"hlup\" >_mu </span>7(disz) kam_ id-di-nu-szum</span></td><td class=\"tf\"><span class=\"txtp\"><span  class=\"hl hlup\" >isz-</span><span  class=\"hl hlup\" >tu </span></span></td><td class=\"tf\"><span class=\"txtp\"><span  class=\"hl hlup\" >isz-</span></span></td><td class=\"tf\"><span class=\"txtp\"><span  class=\"hl hlup\" >tu </span></span></td><td class=\"tf\"><span class=\"txtp\"><span  class=\"hlup\" >_mu </span></span></td></tr>\n",
       "<tr class=\"tf\"><td class=\"tf\">2</td><td class=\"tf\"> <a href=\"https://cdli.ucla.edu/search/search_results.php?SearchMode=Text&amp;ObjectID=P509376\" title=\"show this document on CDLI\" sec=\"P509376 obverse:1\">P509376 obverse:1</a></td><td class=\"tf\"><span class=\"txtp\"><span  class=\"hl hlup\" >isz-</span><span  class=\"hl hlup\" >tu </span><span  class=\"hlup\" >_iti </span>sig4-a_</span></td><td class=\"tf\"><span class=\"txtp\"><span  class=\"hl hlup\" >isz-</span><span  class=\"hl hlup\" >tu </span></span></td><td class=\"tf\"><span class=\"txtp\"><span  class=\"hl hlup\" >isz-</span></span></td><td class=\"tf\"><span class=\"txtp\"><span  class=\"hl hlup\" >tu </span></span></td><td class=\"tf\"><span class=\"txtp\"><span  class=\"hlup\" >_iti </span></span></td></tr>\n",
       "<tr class=\"tf\"><td class=\"tf\">3</td><td class=\"tf\"> <a href=\"https://cdli.ucla.edu/search/search_results.php?SearchMode=Text&amp;ObjectID=P510535\" title=\"show this document on CDLI\" sec=\"P510535 obverse:11\">P510535 obverse:11</a></td><td class=\"tf\"><span class=\"txtp\"><span  class=\"hl hlup\" >isz-</span><span  class=\"hl hlup\" >tu </span><span  class=\"hlup\" >i-</span><span  class=\"hlup\" >na-</span><span  class=\"hlup\" >an-</span><span  class=\"hlup\" >na </span>_u4 2(disz)-kam_</span></td><td class=\"tf\"><span class=\"txtp\"><span  class=\"hl hlup\" >isz-</span><span  class=\"hl hlup\" >tu </span></span></td><td class=\"tf\"><span class=\"txtp\"><span  class=\"hl hlup\" >isz-</span></span></td><td class=\"tf\"><span class=\"txtp\"><span  class=\"hl hlup\" >tu </span></span></td><td class=\"tf\"><span class=\"txtp\"><span  class=\"hlup\" >i-</span><span  class=\"hlup\" >na-</span><span  class=\"hlup\" >an-</span><span  class=\"hlup\" >na </span></span></td></tr>\n",
       "<tr class=\"tf\"><td class=\"tf\">4</td><td class=\"tf\"> <a href=\"https://cdli.ucla.edu/search/search_results.php?SearchMode=Text&amp;ObjectID=P510542\" title=\"show this document on CDLI\" sec=\"P510542 reverse:5\">P510542 reverse:5</a></td><td class=\"tf\"><span class=\"txtp\"><span  class=\"hl hlup\" >isz#-</span><span  class=\"hl hlup\" >tu </span><span  class=\"hlup\" >u2-</span><span  class=\"hlup\" >ur# </span>_e2 i3-dub_</span></td><td class=\"tf\"><span class=\"txtp\"><span  class=\"hl hlup\" >isz#-</span><span  class=\"hl hlup\" >tu </span></span></td><td class=\"tf\"><span class=\"txtp\"><span  class=\"hl hlup\" >isz#-</span></span></td><td class=\"tf\"><span class=\"txtp\"><span  class=\"hl hlup\" >tu </span></span></td><td class=\"tf\"><span class=\"txtp\"><span  class=\"hlup\" >u2-</span><span  class=\"hlup\" >ur# </span></span></td></tr>\n",
       "<tr class=\"tf\"><td class=\"tf\">5</td><td class=\"tf\"> <a href=\"https://cdli.ucla.edu/search/search_results.php?SearchMode=Text&amp;ObjectID=P510543\" title=\"show this document on CDLI\" sec=\"P510543 obverse:11\">P510543 obverse:11</a></td><td class=\"tf\"><span class=\"txtp\">[am-mi]-nim# <span  class=\"hl hlup\" >isz-</span><span  class=\"hl hlup\" >tu </span><span  class=\"hlup\" >ta-</span><span  class=\"hlup\" >al-</span><span  class=\"hlup\" >li-</span><span  class=\"hlup\" >&lt;&lt;li>>-</span><span  class=\"hlup\" >ku</span></span></td><td class=\"tf\"><span class=\"txtp\"><span  class=\"hl hlup\" >isz-</span><span  class=\"hl hlup\" >tu </span></span></td><td class=\"tf\"><span class=\"txtp\"><span  class=\"hl hlup\" >isz-</span></span></td><td class=\"tf\"><span class=\"txtp\"><span  class=\"hl hlup\" >tu </span></span></td><td class=\"tf\"><span class=\"txtp\"><span  class=\"hlup\" >ta-</span><span  class=\"hlup\" >al-</span><span  class=\"hlup\" >li-</span><span  class=\"hlup\" >&lt;&lt;li>>-</span><span  class=\"hlup\" >ku</span></span></td></tr>\n",
       "<tr class=\"tf\"><td class=\"tf\">6</td><td class=\"tf\"> <a href=\"https://cdli.ucla.edu/search/search_results.php?SearchMode=Text&amp;ObjectID=P510556\" title=\"show this document on CDLI\" sec=\"P510556 obverse:10\">P510556 obverse:10</a></td><td class=\"tf\"><span class=\"txtp\"><span  class=\"hl hlup\" >isz-</span><span  class=\"hl hlup\" >tu </span><span  class=\"hlup\" >du#-</span><span  class=\"hlup\" >ri-</span><span  class=\"hlup\" >im </span>ma-ti-ma sze-am# i-na pa-ni-ia#</span></td><td class=\"tf\"><span class=\"txtp\"><span  class=\"hl hlup\" >isz-</span><span  class=\"hl hlup\" >tu </span></span></td><td class=\"tf\"><span class=\"txtp\"><span  class=\"hl hlup\" >isz-</span></span></td><td class=\"tf\"><span class=\"txtp\"><span  class=\"hl hlup\" >tu </span></span></td><td class=\"tf\"><span class=\"txtp\"><span  class=\"hlup\" >du#-</span><span  class=\"hlup\" >ri-</span><span  class=\"hlup\" >im </span></span></td></tr>\n",
       "<tr class=\"tf\"><td class=\"tf\">7</td><td class=\"tf\"> <a href=\"https://cdli.ucla.edu/search/search_results.php?SearchMode=Text&amp;ObjectID=P510556\" title=\"show this document on CDLI\" sec=\"P510556 obverse:15\">P510556 obverse:15</a></td><td class=\"tf\"><span class=\"txtp\"><span  class=\"hl hlup\" >isz-</span><span  class=\"hl hlup\" >tu </span><span  class=\"hlup\" >sze-</span><span  class=\"hlup\" >um </span>a-na ma-asz-ka-nim i-lu-u2</span></td><td class=\"tf\"><span class=\"txtp\"><span  class=\"hl hlup\" >isz-</span><span  class=\"hl hlup\" >tu </span></span></td><td class=\"tf\"><span class=\"txtp\"><span  class=\"hl hlup\" >isz-</span></span></td><td class=\"tf\"><span class=\"txtp\"><span  class=\"hl hlup\" >tu </span></span></td><td class=\"tf\"><span class=\"txtp\"><span  class=\"hlup\" >sze-</span><span  class=\"hlup\" >um </span></span></td></tr>\n",
       "<tr class=\"tf\"><td class=\"tf\">8</td><td class=\"tf\"> <a href=\"https://cdli.ucla.edu/search/search_results.php?SearchMode=Text&amp;ObjectID=P510562\" title=\"show this document on CDLI\" sec=\"P510562 reverse:1\">P510562 reverse:1</a></td><td class=\"tf\"><span class=\"txtp\">i-na#-an-na <span  class=\"hl hlup\" >isz-</span><span  class=\"hl hlup\" >tu </span><span  class=\"hlup\" >_sza3_ </span>ma-tim _iti 1(disz)-kam_</span></td><td class=\"tf\"><span class=\"txtp\"><span  class=\"hl hlup\" >isz-</span><span  class=\"hl hlup\" >tu </span></span></td><td class=\"tf\"><span class=\"txtp\"><span  class=\"hl hlup\" >isz-</span></span></td><td class=\"tf\"><span class=\"txtp\"><span  class=\"hl hlup\" >tu </span></span></td><td class=\"tf\"><span class=\"txtp\"><span  class=\"hlup\" >_sza3_ </span></span></td></tr>\n",
       "<tr class=\"tf\"><td class=\"tf\">9</td><td class=\"tf\"> <a href=\"https://cdli.ucla.edu/search/search_results.php?SearchMode=Text&amp;ObjectID=P510572\" title=\"show this document on CDLI\" sec=\"P510572 reverse:9\">P510572 reverse:9</a></td><td class=\"tf\"><span class=\"txtp\"><span  class=\"hl hlup\" >[isz]-</span><span  class=\"hl hlup\" >tu# </span><span  class=\"hlup\" >_mu </span>2(disz)-kam_ aq-bi-kum</span></td><td class=\"tf\"><span class=\"txtp\"><span  class=\"hl hlup\" >[isz]-</span><span  class=\"hl hlup\" >tu# </span></span></td><td class=\"tf\"><span class=\"txtp\"><span  class=\"hl hlup\" >[isz]-</span></span></td><td class=\"tf\"><span class=\"txtp\"><span  class=\"hl hlup\" >tu# </span></span></td><td class=\"tf\"><span class=\"txtp\"><span  class=\"hlup\" >_mu </span></span></td></tr>\n",
       "<tr class=\"tf\"><td class=\"tf\">10</td><td class=\"tf\"> <a href=\"https://cdli.ucla.edu/search/search_results.php?SearchMode=Text&amp;ObjectID=P510583\" title=\"show this document on CDLI\" sec=\"P510583 obverse:14\">P510583 obverse:14</a></td><td class=\"tf\"><span class=\"txtp\"><span  class=\"hl hlup\" >isz-</span><span  class=\"hl hlup\" >tu </span><span  class=\"hlup\" >ma-</span><span  class=\"hlup\" >at</span></span></td><td class=\"tf\"><span class=\"txtp\"><span  class=\"hl hlup\" >isz-</span><span  class=\"hl hlup\" >tu </span></span></td><td class=\"tf\"><span class=\"txtp\"><span  class=\"hl hlup\" >isz-</span></span></td><td class=\"tf\"><span class=\"txtp\"><span  class=\"hl hlup\" >tu </span></span></td><td class=\"tf\"><span class=\"txtp\"><span  class=\"hlup\" >ma-</span><span  class=\"hlup\" >at</span></span></td></tr>\n",
       "<tr class=\"tf\"><td class=\"tf\">11</td><td class=\"tf\"> <a href=\"https://cdli.ucla.edu/search/search_results.php?SearchMode=Text&amp;ObjectID=P510587\" title=\"show this document on CDLI\" sec=\"P510587 obverse:6\">P510587 obverse:6</a></td><td class=\"tf\"><span class=\"txtp\"><span  class=\"hl hlup\" >isz-</span><span  class=\"hl hlup\" >tu </span><span  class=\"hlup\" >s,e-</span><span  class=\"hlup\" >eh-</span><span  class=\"hlup\" >re-</span><span  class=\"hlup\" >et-</span><span  class=\"hlup\" >ma</span></span></td><td class=\"tf\"><span class=\"txtp\"><span  class=\"hl hlup\" >isz-</span><span  class=\"hl hlup\" >tu </span></span></td><td class=\"tf\"><span class=\"txtp\"><span  class=\"hl hlup\" >isz-</span></span></td><td class=\"tf\"><span class=\"txtp\"><span  class=\"hl hlup\" >tu </span></span></td><td class=\"tf\"><span class=\"txtp\"><span  class=\"hlup\" >s,e-</span><span  class=\"hlup\" >eh-</span><span  class=\"hlup\" >re-</span><span  class=\"hlup\" >et-</span><span  class=\"hlup\" >ma</span></span></td></tr>\n",
       "<tr class=\"tf\"><td class=\"tf\">12</td><td class=\"tf\"> <a href=\"https://cdli.ucla.edu/search/search_results.php?SearchMode=Text&amp;ObjectID=P510589\" title=\"show this document on CDLI\" sec=\"P510589 obverse:18\">P510589 obverse:18</a></td><td class=\"tf\"><span class=\"txtp\">sze#-er-tam-ma <span  class=\"hl hlup\" >isz-</span><span  class=\"hl hlup\" >tu </span><span  class=\"hlup\" >zimbir</span><span  class=\"hlup\" >{ki}-</span><span  class=\"hlup\" >am#-</span><span  class=\"hlup\" >[na-</span><span  class=\"hlup\" >num]</span></span></td><td class=\"tf\"><span class=\"txtp\"><span  class=\"hl hlup\" >isz-</span><span  class=\"hl hlup\" >tu </span></span></td><td class=\"tf\"><span class=\"txtp\"><span  class=\"hl hlup\" >isz-</span></span></td><td class=\"tf\"><span class=\"txtp\"><span  class=\"hl hlup\" >tu </span></span></td><td class=\"tf\"><span class=\"txtp\"><span  class=\"hlup\" >zimbir</span><span  class=\"hlup\" >{ki}-</span><span  class=\"hlup\" >am#-</span><span  class=\"hlup\" >[na-</span><span  class=\"hlup\" >num]</span></span></td></tr>\n",
       "<tr class=\"tf\"><td class=\"tf\">13</td><td class=\"tf\"> <a href=\"https://cdli.ucla.edu/search/search_results.php?SearchMode=Text&amp;ObjectID=P510589\" title=\"show this document on CDLI\" sec=\"P510589 reverse:11\">P510589 reverse:11</a></td><td class=\"tf\"><span class=\"txtp\"><span  class=\"hl hlup\" >isz-</span><span  class=\"hl hlup\" >tu# </span><span  class=\"hlup\" >_iti </span>gu4-si-sa2 u4 2(disz)-kam_</span></td><td class=\"tf\"><span class=\"txtp\"><span  class=\"hl hlup\" >isz-</span><span  class=\"hl hlup\" >tu# </span></span></td><td class=\"tf\"><span class=\"txtp\"><span  class=\"hl hlup\" >isz-</span></span></td><td class=\"tf\"><span class=\"txtp\"><span  class=\"hl hlup\" >tu# </span></span></td><td class=\"tf\"><span class=\"txtp\"><span  class=\"hlup\" >_iti </span></span></td></tr>\n",
       "<tr class=\"tf\"><td class=\"tf\">14</td><td class=\"tf\"> <a href=\"https://cdli.ucla.edu/search/search_results.php?SearchMode=Text&amp;ObjectID=P510591\" title=\"show this document on CDLI\" sec=\"P510591 obverse:15\">P510591 obverse:15</a></td><td class=\"tf\"><span class=\"txtp\"><span  class=\"hl hlup\" >isz#-</span><span  class=\"hl hlup\" >tu </span><span  class=\"hlup\" >a-</span><span  class=\"hlup\" >na </span>_zimbir{ki}_</span></td><td class=\"tf\"><span class=\"txtp\"><span  class=\"hl hlup\" >isz#-</span><span  class=\"hl hlup\" >tu </span></span></td><td class=\"tf\"><span class=\"txtp\"><span  class=\"hl hlup\" >isz#-</span></span></td><td class=\"tf\"><span class=\"txtp\"><span  class=\"hl hlup\" >tu </span></span></td><td class=\"tf\"><span class=\"txtp\"><span  class=\"hlup\" >a-</span><span  class=\"hlup\" >na </span></span></td></tr>\n",
       "<tr class=\"tf\"><td class=\"tf\">15</td><td class=\"tf\"> <a href=\"https://cdli.ucla.edu/search/search_results.php?SearchMode=Text&amp;ObjectID=P510591\" title=\"show this document on CDLI\" sec=\"P510591 reverse:4\">P510591 reverse:4</a></td><td class=\"tf\"><span class=\"txtp\"><span  class=\"hl hlup\" >isz-</span><span  class=\"hl hlup\" >tu </span><span  class=\"hlup\" >_u4 </span>5(disz)-kam_ ba-ri-a-ku-u2</span></td><td class=\"tf\"><span class=\"txtp\"><span  class=\"hl hlup\" >isz-</span><span  class=\"hl hlup\" >tu </span></span></td><td class=\"tf\"><span class=\"txtp\"><span  class=\"hl hlup\" >isz-</span></span></td><td class=\"tf\"><span class=\"txtp\"><span  class=\"hl hlup\" >tu </span></span></td><td class=\"tf\"><span class=\"txtp\"><span  class=\"hlup\" >_u4 </span></span></td></tr>\n",
       "<tr class=\"tf\"><td class=\"tf\">16</td><td class=\"tf\"> <a href=\"https://cdli.ucla.edu/search/search_results.php?SearchMode=Text&amp;ObjectID=P510596\" title=\"show this document on CDLI\" sec=\"P510596 reverse:2\">P510596 reverse:2</a></td><td class=\"tf\"><span class=\"txtp\"><span  class=\"hl hlup\" >isz#-</span><span  class=\"hl hlup\" >tu </span><span  class=\"hlup\" >a-</span><span  class=\"hlup\" >na </span>pi2-i ri-ik-sa-ti-ia# [(x) (x)]</span></td><td class=\"tf\"><span class=\"txtp\"><span  class=\"hl hlup\" >isz#-</span><span  class=\"hl hlup\" >tu </span></span></td><td class=\"tf\"><span class=\"txtp\"><span  class=\"hl hlup\" >isz#-</span></span></td><td class=\"tf\"><span class=\"txtp\"><span  class=\"hl hlup\" >tu </span></span></td><td class=\"tf\"><span class=\"txtp\"><span  class=\"hlup\" >a-</span><span  class=\"hlup\" >na </span></span></td></tr>\n",
       "<tr class=\"tf\"><td class=\"tf\">17</td><td class=\"tf\"> <a href=\"https://cdli.ucla.edu/search/search_results.php?SearchMode=Text&amp;ObjectID=P510596\" title=\"show this document on CDLI\" sec=\"P510596 reverse:10\">P510596 reverse:10</a></td><td class=\"tf\"><span class=\"txtp\">[a]-na# sa-na-qi2-im u3 _gu2-un hi-a a-sza3_ sza <span  class=\"hl hlup\" >isz#-</span><span  class=\"hl hlup\" >[tu </span><span  class=\"hlup\" >_mu] </span>3(disz)-kam_</span></td><td class=\"tf\"><span class=\"txtp\"><span  class=\"hl hlup\" >isz#-</span><span  class=\"hl hlup\" >[tu </span></span></td><td class=\"tf\"><span class=\"txtp\"><span  class=\"hl hlup\" >isz#-</span></span></td><td class=\"tf\"><span class=\"txtp\"><span  class=\"hl hlup\" >[tu </span></span></td><td class=\"tf\"><span class=\"txtp\"><span  class=\"hlup\" >_mu] </span></span></td></tr>\n",
       "<tr class=\"tf\"><td class=\"tf\">18</td><td class=\"tf\"> <a href=\"https://cdli.ucla.edu/search/search_results.php?SearchMode=Text&amp;ObjectID=P510612\" title=\"show this document on CDLI\" sec=\"P510612 reverse:1\">P510612 reverse:1</a></td><td class=\"tf\"><span class=\"txtp\">ki-ma <span  class=\"hl hlup\" >isz-</span><span  class=\"hl hlup\" >tu </span><span  class=\"hlup\" >pa-</span><span  class=\"hlup\" >na </span>ta-ag-mi-la-ni</span></td><td class=\"tf\"><span class=\"txtp\"><span  class=\"hl hlup\" >isz-</span><span  class=\"hl hlup\" >tu </span></span></td><td class=\"tf\"><span class=\"txtp\"><span  class=\"hl hlup\" >isz-</span></span></td><td class=\"tf\"><span class=\"txtp\"><span  class=\"hl hlup\" >tu </span></span></td><td class=\"tf\"><span class=\"txtp\"><span  class=\"hlup\" >pa-</span><span  class=\"hlup\" >na </span></span></td></tr>\n",
       "<tr class=\"tf\"><td class=\"tf\">19</td><td class=\"tf\"> <a href=\"https://cdli.ucla.edu/search/search_results.php?SearchMode=Text&amp;ObjectID=P510623\" title=\"show this document on CDLI\" sec=\"P510623 obverse:6\">P510623 obverse:6</a></td><td class=\"tf\"><span class=\"txtp\"><span  class=\"hl hlup\" >isz-</span><span  class=\"hl hlup\" >tu </span><span  class=\"hlup\" >sza-</span><span  class=\"hlup\" >ad-</span><span  class=\"hlup\" >da-</span><span  class=\"hlup\" >aq-</span><span  class=\"hlup\" >dam# </span>a-na _sze#-[numun?_]</span></td><td class=\"tf\"><span class=\"txtp\"><span  class=\"hl hlup\" >isz-</span><span  class=\"hl hlup\" >tu </span></span></td><td class=\"tf\"><span class=\"txtp\"><span  class=\"hl hlup\" >isz-</span></span></td><td class=\"tf\"><span class=\"txtp\"><span  class=\"hl hlup\" >tu </span></span></td><td class=\"tf\"><span class=\"txtp\"><span  class=\"hlup\" >sza-</span><span  class=\"hlup\" >ad-</span><span  class=\"hlup\" >da-</span><span  class=\"hlup\" >aq-</span><span  class=\"hlup\" >dam# </span></span></td></tr>\n",
       "<tr class=\"tf\"><td class=\"tf\">20</td><td class=\"tf\"> <a href=\"https://cdli.ucla.edu/search/search_results.php?SearchMode=Text&amp;ObjectID=P510635\" title=\"show this document on CDLI\" sec=\"P510635 obverse:6\">P510635 obverse:6</a></td><td class=\"tf\"><span class=\"txtp\"><span  class=\"hl hlup\" >isz-</span><span  class=\"hl hlup\" >tu </span><span  class=\"hlup\" >i-</span><span  class=\"hlup\" >id</span></span></td><td class=\"tf\"><span class=\"txtp\"><span  class=\"hl hlup\" >isz-</span><span  class=\"hl hlup\" >tu </span></span></td><td class=\"tf\"><span class=\"txtp\"><span  class=\"hl hlup\" >isz-</span></span></td><td class=\"tf\"><span class=\"txtp\"><span  class=\"hl hlup\" >tu </span></span></td><td class=\"tf\"><span class=\"txtp\"><span  class=\"hlup\" >i-</span><span  class=\"hlup\" >id</span></span></td></tr>\n",
       "<tr class=\"tf\"><td class=\"tf\">21</td><td class=\"tf\"> <a href=\"https://cdli.ucla.edu/search/search_results.php?SearchMode=Text&amp;ObjectID=P510658\" title=\"show this document on CDLI\" sec=\"P510658 obverse:17\">P510658 obverse:17</a></td><td class=\"tf\"><span class=\"txtp\"><span  class=\"hl hlup\" >[isz]-</span><span  class=\"hl hlup\" >tu# </span><span  class=\"hlup\" >_mu </span>4(disz)-kam#_ [...]</span></td><td class=\"tf\"><span class=\"txtp\"><span  class=\"hl hlup\" >[isz]-</span><span  class=\"hl hlup\" >tu# </span></span></td><td class=\"tf\"><span class=\"txtp\"><span  class=\"hl hlup\" >[isz]-</span></span></td><td class=\"tf\"><span class=\"txtp\"><span  class=\"hl hlup\" >tu# </span></span></td><td class=\"tf\"><span class=\"txtp\"><span  class=\"hlup\" >_mu </span></span></td></tr>\n",
       "<tr class=\"tf\"><td class=\"tf\">22</td><td class=\"tf\"> <a href=\"https://cdli.ucla.edu/search/search_results.php?SearchMode=Text&amp;ObjectID=P510660\" title=\"show this document on CDLI\" sec=\"P510660 reverse:1\">P510660 reverse:1</a></td><td class=\"tf\"><span class=\"txtp\"><span  class=\"hl hlup\" >isz-</span><span  class=\"hl hlup\" >tu </span><span  class=\"hlup\" >ta-</span><span  class=\"hlup\" >al-</span><span  class=\"hlup\" >li-</span><span  class=\"hlup\" >ku</span></span></td><td class=\"tf\"><span class=\"txtp\"><span  class=\"hl hlup\" >isz-</span><span  class=\"hl hlup\" >tu </span></span></td><td class=\"tf\"><span class=\"txtp\"><span  class=\"hl hlup\" >isz-</span></span></td><td class=\"tf\"><span class=\"txtp\"><span  class=\"hl hlup\" >tu </span></span></td><td class=\"tf\"><span class=\"txtp\"><span  class=\"hlup\" >ta-</span><span  class=\"hlup\" >al-</span><span  class=\"hlup\" >li-</span><span  class=\"hlup\" >ku</span></span></td></tr>\n",
       "<tr class=\"tf\"><td class=\"tf\">23</td><td class=\"tf\"> <a href=\"https://cdli.ucla.edu/search/search_results.php?SearchMode=Text&amp;ObjectID=P510679\" title=\"show this document on CDLI\" sec=\"P510679 obverse:4\">P510679 obverse:4</a></td><td class=\"tf\"><span class=\"txtp\"><span  class=\"hl hlup\" >isz-</span><span  class=\"hl hlup\" >tu </span><span  class=\"hlup\" >ib-</span><span  class=\"hlup\" >ni-</span><span  class=\"hlup\" >{d}</span><span  class=\"hlup\" >marduk</span></span></td><td class=\"tf\"><span class=\"txtp\"><span  class=\"hl hlup\" >isz-</span><span  class=\"hl hlup\" >tu </span></span></td><td class=\"tf\"><span class=\"txtp\"><span  class=\"hl hlup\" >isz-</span></span></td><td class=\"tf\"><span class=\"txtp\"><span  class=\"hl hlup\" >tu </span></span></td><td class=\"tf\"><span class=\"txtp\"><span  class=\"hlup\" >ib-</span><span  class=\"hlup\" >ni-</span><span  class=\"hlup\" >{d}</span><span  class=\"hlup\" >marduk</span></span></td></tr>\n",
       "<tr class=\"tf\"><td class=\"tf\">24</td><td class=\"tf\"> <a href=\"https://cdli.ucla.edu/search/search_results.php?SearchMode=Text&amp;ObjectID=P510688\" title=\"show this document on CDLI\" sec=\"P510688 reverse:5\">P510688 reverse:5</a></td><td class=\"tf\"><span class=\"txtp\">u3 at#-ta# <span  class=\"hl hlup\" >isz-</span><span  class=\"hl hlup\" >tu# </span><span  class=\"hlup\" >_u4_-</span><span  class=\"hlup\" >mi-</span><span  class=\"hlup\" >im</span></span></td><td class=\"tf\"><span class=\"txtp\"><span  class=\"hl hlup\" >isz-</span><span  class=\"hl hlup\" >tu# </span></span></td><td class=\"tf\"><span class=\"txtp\"><span  class=\"hl hlup\" >isz-</span></span></td><td class=\"tf\"><span class=\"txtp\"><span  class=\"hl hlup\" >tu# </span></span></td><td class=\"tf\"><span class=\"txtp\"><span  class=\"hlup\" >_u4_-</span><span  class=\"hlup\" >mi-</span><span  class=\"hlup\" >im</span></span></td></tr>\n",
       "<tr class=\"tf\"><td class=\"tf\">25</td><td class=\"tf\"> <a href=\"https://cdli.ucla.edu/search/search_results.php?SearchMode=Text&amp;ObjectID=P510700\" title=\"show this document on CDLI\" sec=\"P510700 obverse:6\">P510700 obverse:6</a></td><td class=\"tf\"><span class=\"txtp\">_gu4_ <span  class=\"hl hlup\" >isz-</span><span  class=\"hl hlup\" >tu </span><span  class=\"hlup\" >szi-</span><span  class=\"hlup\" >ip-</span><span  class=\"hlup\" >ri </span>ki-ma pa-t,a-ri-szu-nu</span></td><td class=\"tf\"><span class=\"txtp\"><span  class=\"hl hlup\" >isz-</span><span  class=\"hl hlup\" >tu </span></span></td><td class=\"tf\"><span class=\"txtp\"><span  class=\"hl hlup\" >isz-</span></span></td><td class=\"tf\"><span class=\"txtp\"><span  class=\"hl hlup\" >tu </span></span></td><td class=\"tf\"><span class=\"txtp\"><span  class=\"hlup\" >szi-</span><span  class=\"hlup\" >ip-</span><span  class=\"hlup\" >ri </span></span></td></tr>\n",
       "<tr class=\"tf\"><td class=\"tf\">26</td><td class=\"tf\"> <a href=\"https://cdli.ucla.edu/search/search_results.php?SearchMode=Text&amp;ObjectID=P510705\" title=\"show this document on CDLI\" sec=\"P510705 obverse:4'\">P510705 obverse:4'</a></td><td class=\"tf\"><span class=\"txtp\">_sze_-am u3 _ku3-babbar_ <span  class=\"hl hlup\" >isz-</span><span  class=\"hl hlup\" >tu </span><span  class=\"hlup\" >_u4_-</span><span  class=\"hlup\" >mi </span>[...]</span></td><td class=\"tf\"><span class=\"txtp\"><span  class=\"hl hlup\" >isz-</span><span  class=\"hl hlup\" >tu </span></span></td><td class=\"tf\"><span class=\"txtp\"><span  class=\"hl hlup\" >isz-</span></span></td><td class=\"tf\"><span class=\"txtp\"><span  class=\"hl hlup\" >tu </span></span></td><td class=\"tf\"><span class=\"txtp\"><span  class=\"hlup\" >_u4_-</span><span  class=\"hlup\" >mi </span></span></td></tr>\n",
       "<tr class=\"tf\"><td class=\"tf\">27</td><td class=\"tf\"> <a href=\"https://cdli.ucla.edu/search/search_results.php?SearchMode=Text&amp;ObjectID=P510716\" title=\"show this document on CDLI\" sec=\"P510716 obverse:1\">P510716 obverse:1</a></td><td class=\"tf\"><span class=\"txtp\"><span  class=\"hl hlup\" >isz-</span><span  class=\"hl hlup\" >tu </span><span  class=\"hlup\" >_iti </span>2(disz)-kam_</span></td><td class=\"tf\"><span class=\"txtp\"><span  class=\"hl hlup\" >isz-</span><span  class=\"hl hlup\" >tu </span></span></td><td class=\"tf\"><span class=\"txtp\"><span  class=\"hl hlup\" >isz-</span></span></td><td class=\"tf\"><span class=\"txtp\"><span  class=\"hl hlup\" >tu </span></span></td><td class=\"tf\"><span class=\"txtp\"><span  class=\"hlup\" >_iti </span></span></td></tr>\n",
       "<tr class=\"tf\"><td class=\"tf\">28</td><td class=\"tf\"> <a href=\"https://cdli.ucla.edu/search/search_results.php?SearchMode=Text&amp;ObjectID=P510718\" title=\"show this document on CDLI\" sec=\"P510718 obverse:5\">P510718 obverse:5</a></td><td class=\"tf\"><span class=\"txtp\">um-ma at-ta-ma <span  class=\"hl hlup\" >isz-</span><span  class=\"hl hlup\" >tu </span><span  class=\"hlup\" >i-</span><span  class=\"hlup\" >na-</span><span  class=\"hlup\" >an-</span><span  class=\"hlup\" >na</span></span></td><td class=\"tf\"><span class=\"txtp\"><span  class=\"hl hlup\" >isz-</span><span  class=\"hl hlup\" >tu </span></span></td><td class=\"tf\"><span class=\"txtp\"><span  class=\"hl hlup\" >isz-</span></span></td><td class=\"tf\"><span class=\"txtp\"><span  class=\"hl hlup\" >tu </span></span></td><td class=\"tf\"><span class=\"txtp\"><span  class=\"hlup\" >i-</span><span  class=\"hlup\" >na-</span><span  class=\"hlup\" >an-</span><span  class=\"hlup\" >na</span></span></td></tr>\n",
       "<tr class=\"tf\"><td class=\"tf\">29</td><td class=\"tf\"> <a href=\"https://cdli.ucla.edu/search/search_results.php?SearchMode=Text&amp;ObjectID=P510718\" title=\"show this document on CDLI\" sec=\"P510718 obverse:7\">P510718 obverse:7</a></td><td class=\"tf\"><span class=\"txtp\">i-na-an-na <span  class=\"hl hlup\" >isz-</span><span  class=\"hl hlup\" >tu </span><span  class=\"hlup\" >al-</span><span  class=\"hlup\" >li-</span><span  class=\"hlup\" >kam-</span><span  class=\"hlup\" >ma </span>[x x]</span></td><td class=\"tf\"><span class=\"txtp\"><span  class=\"hl hlup\" >isz-</span><span  class=\"hl hlup\" >tu </span></span></td><td class=\"tf\"><span class=\"txtp\"><span  class=\"hl hlup\" >isz-</span></span></td><td class=\"tf\"><span class=\"txtp\"><span  class=\"hl hlup\" >tu </span></span></td><td class=\"tf\"><span class=\"txtp\"><span  class=\"hlup\" >al-</span><span  class=\"hlup\" >li-</span><span  class=\"hlup\" >kam-</span><span  class=\"hlup\" >ma </span></span></td></tr>\n",
       "<tr class=\"tf\"><td class=\"tf\">30</td><td class=\"tf\"> <a href=\"https://cdli.ucla.edu/search/search_results.php?SearchMode=Text&amp;ObjectID=P510718\" title=\"show this document on CDLI\" sec=\"P510718 reverse:8'\">P510718 reverse:8'</a></td><td class=\"tf\"><span class=\"txtp\"><span  class=\"hl hlup\" >isz-</span><span  class=\"hl hlup\" >tu </span><span  class=\"hlup\" >i-</span><span  class=\"hlup\" >na-</span><span  class=\"hlup\" >an-</span><span  class=\"hlup\" >na </span>_u4 5(disz)-kam_</span></td><td class=\"tf\"><span class=\"txtp\"><span  class=\"hl hlup\" >isz-</span><span  class=\"hl hlup\" >tu </span></span></td><td class=\"tf\"><span class=\"txtp\"><span  class=\"hl hlup\" >isz-</span></span></td><td class=\"tf\"><span class=\"txtp\"><span  class=\"hl hlup\" >tu </span></span></td><td class=\"tf\"><span class=\"txtp\"><span  class=\"hlup\" >i-</span><span  class=\"hlup\" >na-</span><span  class=\"hlup\" >an-</span><span  class=\"hlup\" >na </span></span></td></tr></table>"
      ],
      "text/plain": [
       "<IPython.core.display.HTML object>"
      ]
     },
     "metadata": {},
     "output_type": "display_data"
    }
   ],
   "source": [
    "queryL = '''\n",
    "line\n",
    "  word\n",
    "    =: sign reading=isz\n",
    "    <: sign reading=tu\n",
    "    :=\n",
    "  <: word\n",
    "'''\n",
    "results = A.search(queryL)\n",
    "A.table(results, end=30)"
   ]
  },
  {
   "cell_type": "code",
   "execution_count": null,
   "metadata": {},
   "outputs": [],
   "source": []
  },
  {
   "cell_type": "code",
   "execution_count": null,
   "metadata": {},
   "outputs": [],
   "source": []
  },
  {
   "cell_type": "code",
   "execution_count": 9,
   "metadata": {},
   "outputs": [
    {
     "name": "stdout",
     "output_type": "stream",
     "text": [
      "  0.59s 141 results\n"
     ]
    },
    {
     "data": {
      "text/html": [
       "<table>\n",
       "<tr class=\"tf\">\n",
       "  <th class=\"tf\">n</th><th class=\"tf\">p</th>\n",
       "  <th class=\"tf\">line</th><th>word</th><th>sign</th><th>sign</th><th>word</th>\n",
       "</tr>\n",
       "\n",
       "<tr class=\"tf\"><td class=\"tf\">1</td><td class=\"tf\"> <a href=\"https://cdli.ucla.edu/search/search_results.php?SearchMode=Text&amp;ObjectID=P509375\" title=\"show this document on CDLI\" sec=\"P509375 reverse:2\">P509375 reverse:2</a></td><td class=\"tf\"><span class=\"txtp\"><span  class=\"hl hlup\" >it-</span><span  class=\"hl hlup\" >ti </span><span  class=\"hlup\" >_dam-</span><span  class=\"hlup\" >gar3_</span></span></td><td class=\"tf\"><span class=\"txtp\"><span  class=\"hl hlup\" >it-</span><span  class=\"hl hlup\" >ti </span></span></td><td class=\"tf\"><span class=\"txtp\"><span  class=\"hl hlup\" >it-</span></span></td><td class=\"tf\"><span class=\"txtp\"><span  class=\"hl hlup\" >ti </span></span></td><td class=\"tf\"><span class=\"txtp\"><span  class=\"hlup\" >_dam-</span><span  class=\"hlup\" >gar3_</span></span></td></tr>\n",
       "<tr class=\"tf\"><td class=\"tf\">2</td><td class=\"tf\"> <a href=\"https://cdli.ucla.edu/search/search_results.php?SearchMode=Text&amp;ObjectID=P509376\" title=\"show this document on CDLI\" sec=\"P509376 reverse:10\">P509376 reverse:10</a></td><td class=\"tf\"><span class=\"txtp\"><span  class=\"hl hlup\" >it-</span><span  class=\"hl hlup\" >ti </span><span  class=\"hlup\" >na-</span><span  class=\"hlup\" >bi-</span><span  class=\"hlup\" >{d}</span><span  class=\"hlup\" >suen </span>a-na _babila2{ki}_</span></td><td class=\"tf\"><span class=\"txtp\"><span  class=\"hl hlup\" >it-</span><span  class=\"hl hlup\" >ti </span></span></td><td class=\"tf\"><span class=\"txtp\"><span  class=\"hl hlup\" >it-</span></span></td><td class=\"tf\"><span class=\"txtp\"><span  class=\"hl hlup\" >ti </span></span></td><td class=\"tf\"><span class=\"txtp\"><span  class=\"hlup\" >na-</span><span  class=\"hlup\" >bi-</span><span  class=\"hlup\" >{d}</span><span  class=\"hlup\" >suen </span></span></td></tr>\n",
       "<tr class=\"tf\"><td class=\"tf\">3</td><td class=\"tf\"> <a href=\"https://cdli.ucla.edu/search/search_results.php?SearchMode=Text&amp;ObjectID=P510532\" title=\"show this document on CDLI\" sec=\"P510532 reverse:8\">P510532 reverse:8</a></td><td class=\"tf\"><span class=\"txtp\"><span  class=\"hl hlup\" >it#-</span><span  class=\"hl hlup\" >ti# </span><span  class=\"hlup\" >ip#-</span><span  class=\"hlup\" >qu2-</span><span  class=\"hlup\" >i3-</span><span  class=\"hlup\" >li2-</span><span  class=\"hlup\" >szu </span>szu-a-ti</span></td><td class=\"tf\"><span class=\"txtp\"><span  class=\"hl hlup\" >it#-</span><span  class=\"hl hlup\" >ti# </span></span></td><td class=\"tf\"><span class=\"txtp\"><span  class=\"hl hlup\" >it#-</span></span></td><td class=\"tf\"><span class=\"txtp\"><span  class=\"hl hlup\" >ti# </span></span></td><td class=\"tf\"><span class=\"txtp\"><span  class=\"hlup\" >ip#-</span><span  class=\"hlup\" >qu2-</span><span  class=\"hlup\" >i3-</span><span  class=\"hlup\" >li2-</span><span  class=\"hlup\" >szu </span></span></td></tr>\n",
       "<tr class=\"tf\"><td class=\"tf\">4</td><td class=\"tf\"> <a href=\"https://cdli.ucla.edu/search/search_results.php?SearchMode=Text&amp;ObjectID=P510571\" title=\"show this document on CDLI\" sec=\"P510571 reverse:9\">P510571 reverse:9</a></td><td class=\"tf\"><span class=\"txtp\"><span  class=\"hl hlup\" >it-</span><span  class=\"hl hlup\" >ti </span><span  class=\"hlup\" >ib-</span><span  class=\"hlup\" >ri-</span><span  class=\"hlup\" >ka</span></span></td><td class=\"tf\"><span class=\"txtp\"><span  class=\"hl hlup\" >it-</span><span  class=\"hl hlup\" >ti </span></span></td><td class=\"tf\"><span class=\"txtp\"><span  class=\"hl hlup\" >it-</span></span></td><td class=\"tf\"><span class=\"txtp\"><span  class=\"hl hlup\" >ti </span></span></td><td class=\"tf\"><span class=\"txtp\"><span  class=\"hlup\" >ib-</span><span  class=\"hlup\" >ri-</span><span  class=\"hlup\" >ka</span></span></td></tr>\n",
       "<tr class=\"tf\"><td class=\"tf\">5</td><td class=\"tf\"> <a href=\"https://cdli.ucla.edu/search/search_results.php?SearchMode=Text&amp;ObjectID=P510579\" title=\"show this document on CDLI\" sec=\"P510579 obverse:9\">P510579 obverse:9</a></td><td class=\"tf\"><span class=\"txtp\"><span  class=\"hl hlup\" >it-</span><span  class=\"hl hlup\" >ti </span><span  class=\"hlup\" >i-</span><span  class=\"hlup\" >la-</span><span  class=\"hlup\" >tim</span></span></td><td class=\"tf\"><span class=\"txtp\"><span  class=\"hl hlup\" >it-</span><span  class=\"hl hlup\" >ti </span></span></td><td class=\"tf\"><span class=\"txtp\"><span  class=\"hl hlup\" >it-</span></span></td><td class=\"tf\"><span class=\"txtp\"><span  class=\"hl hlup\" >ti </span></span></td><td class=\"tf\"><span class=\"txtp\"><span  class=\"hlup\" >i-</span><span  class=\"hlup\" >la-</span><span  class=\"hlup\" >tim</span></span></td></tr>\n",
       "<tr class=\"tf\"><td class=\"tf\">6</td><td class=\"tf\"> <a href=\"https://cdli.ucla.edu/search/search_results.php?SearchMode=Text&amp;ObjectID=P510580\" title=\"show this document on CDLI\" sec=\"P510580 obverse:11\">P510580 obverse:11</a></td><td class=\"tf\"><span class=\"txtp\"><span  class=\"hl hlup\" >it-</span><span  class=\"hl hlup\" >ti </span><span  class=\"hlup\" >su-</span><span  class=\"hlup\" >mu-</span><span  class=\"hlup\" >ha-</span><span  class=\"hlup\" >am-</span><span  class=\"hlup\" >mu</span></span></td><td class=\"tf\"><span class=\"txtp\"><span  class=\"hl hlup\" >it-</span><span  class=\"hl hlup\" >ti </span></span></td><td class=\"tf\"><span class=\"txtp\"><span  class=\"hl hlup\" >it-</span></span></td><td class=\"tf\"><span class=\"txtp\"><span  class=\"hl hlup\" >ti </span></span></td><td class=\"tf\"><span class=\"txtp\"><span  class=\"hlup\" >su-</span><span  class=\"hlup\" >mu-</span><span  class=\"hlup\" >ha-</span><span  class=\"hlup\" >am-</span><span  class=\"hlup\" >mu</span></span></td></tr>\n",
       "<tr class=\"tf\"><td class=\"tf\">7</td><td class=\"tf\"> <a href=\"https://cdli.ucla.edu/search/search_results.php?SearchMode=Text&amp;ObjectID=P510583\" title=\"show this document on CDLI\" sec=\"P510583 reverse:19\">P510583 reverse:19</a></td><td class=\"tf\"><span class=\"txtp\">t,u2-ur-da-asz-szi <span  class=\"hl hlup\" >it-</span><span  class=\"hl hlup\" >ti </span><span  class=\"hlup\" >{d}</span><span  class=\"hlup\" >suen-</span><span  class=\"hlup\" >i-</span><span  class=\"hlup\" >din-</span><span  class=\"hlup\" >nam</span></span></td><td class=\"tf\"><span class=\"txtp\"><span  class=\"hl hlup\" >it-</span><span  class=\"hl hlup\" >ti </span></span></td><td class=\"tf\"><span class=\"txtp\"><span  class=\"hl hlup\" >it-</span></span></td><td class=\"tf\"><span class=\"txtp\"><span  class=\"hl hlup\" >ti </span></span></td><td class=\"tf\"><span class=\"txtp\"><span  class=\"hlup\" >{d}</span><span  class=\"hlup\" >suen-</span><span  class=\"hlup\" >i-</span><span  class=\"hlup\" >din-</span><span  class=\"hlup\" >nam</span></span></td></tr>\n",
       "<tr class=\"tf\"><td class=\"tf\">8</td><td class=\"tf\"> <a href=\"https://cdli.ucla.edu/search/search_results.php?SearchMode=Text&amp;ObjectID=P510584\" title=\"show this document on CDLI\" sec=\"P510584 reverse:18\">P510584 reverse:18</a></td><td class=\"tf\"><span class=\"txtp\"><span  class=\"hl hlup\" >it-</span><span  class=\"hl hlup\" >ti </span><span  class=\"hlup\" >{d}</span><span  class=\"hlup\" >suen-</span><span  class=\"hlup\" >i-</span><span  class=\"hlup\" >din-</span><span  class=\"hlup\" >nam#</span></span></td><td class=\"tf\"><span class=\"txtp\"><span  class=\"hl hlup\" >it-</span><span  class=\"hl hlup\" >ti </span></span></td><td class=\"tf\"><span class=\"txtp\"><span  class=\"hl hlup\" >it-</span></span></td><td class=\"tf\"><span class=\"txtp\"><span  class=\"hl hlup\" >ti </span></span></td><td class=\"tf\"><span class=\"txtp\"><span  class=\"hlup\" >{d}</span><span  class=\"hlup\" >suen-</span><span  class=\"hlup\" >i-</span><span  class=\"hlup\" >din-</span><span  class=\"hlup\" >nam#</span></span></td></tr>\n",
       "<tr class=\"tf\"><td class=\"tf\">9</td><td class=\"tf\"> <a href=\"https://cdli.ucla.edu/search/search_results.php?SearchMode=Text&amp;ObjectID=P510585\" title=\"show this document on CDLI\" sec=\"P510585 obverse:11\">P510585 obverse:11</a></td><td class=\"tf\"><span class=\"txtp\"><span  class=\"hl hlup\" >it#-</span><span  class=\"hl hlup\" >ti </span><span  class=\"hlup\" >{d}</span><span  class=\"hlup\" >marduk-</span><span  class=\"hlup\" >mu-</span><span  class=\"hlup\" >sza-</span><span  class=\"hlup\" >lim </span>_dub#-sar_ [(x)]</span></td><td class=\"tf\"><span class=\"txtp\"><span  class=\"hl hlup\" >it#-</span><span  class=\"hl hlup\" >ti </span></span></td><td class=\"tf\"><span class=\"txtp\"><span  class=\"hl hlup\" >it#-</span></span></td><td class=\"tf\"><span class=\"txtp\"><span  class=\"hl hlup\" >ti </span></span></td><td class=\"tf\"><span class=\"txtp\"><span  class=\"hlup\" >{d}</span><span  class=\"hlup\" >marduk-</span><span  class=\"hlup\" >mu-</span><span  class=\"hlup\" >sza-</span><span  class=\"hlup\" >lim </span></span></td></tr>\n",
       "<tr class=\"tf\"><td class=\"tf\">10</td><td class=\"tf\"> <a href=\"https://cdli.ucla.edu/search/search_results.php?SearchMode=Text&amp;ObjectID=P510589\" title=\"show this document on CDLI\" sec=\"P510589 reverse:13\">P510589 reverse:13</a></td><td class=\"tf\"><span class=\"txtp\"><span  class=\"hl hlup\" >it#-</span><span  class=\"hl hlup\" >[ti] </span><span  class=\"hlup\" >_ugula# </span>e2_ i-na zimbir{ki}-am-na-num a-na-ku</span></td><td class=\"tf\"><span class=\"txtp\"><span  class=\"hl hlup\" >it#-</span><span  class=\"hl hlup\" >[ti] </span></span></td><td class=\"tf\"><span class=\"txtp\"><span  class=\"hl hlup\" >it#-</span></span></td><td class=\"tf\"><span class=\"txtp\"><span  class=\"hl hlup\" >[ti] </span></span></td><td class=\"tf\"><span class=\"txtp\"><span  class=\"hlup\" >_ugula# </span></span></td></tr>\n",
       "<tr class=\"tf\"><td class=\"tf\">11</td><td class=\"tf\"> <a href=\"https://cdli.ucla.edu/search/search_results.php?SearchMode=Text&amp;ObjectID=P510589\" title=\"show this document on CDLI\" sec=\"P510589 reverse:15\">P510589 reverse:15</a></td><td class=\"tf\"><span class=\"txtp\">li-[iq]-bi# a-na-ku <span  class=\"hl hlup\" >it-</span><span  class=\"hl hlup\" >ti </span><span  class=\"hlup\" >_ugula </span>e2_</span></td><td class=\"tf\"><span class=\"txtp\"><span  class=\"hl hlup\" >it-</span><span  class=\"hl hlup\" >ti </span></span></td><td class=\"tf\"><span class=\"txtp\"><span  class=\"hl hlup\" >it-</span></span></td><td class=\"tf\"><span class=\"txtp\"><span  class=\"hl hlup\" >ti </span></span></td><td class=\"tf\"><span class=\"txtp\"><span  class=\"hlup\" >_ugula </span></span></td></tr>\n",
       "<tr class=\"tf\"><td class=\"tf\">12</td><td class=\"tf\"> <a href=\"https://cdli.ucla.edu/search/search_results.php?SearchMode=Text&amp;ObjectID=P510611\" title=\"show this document on CDLI\" sec=\"P510611 obverse:8\">P510611 obverse:8</a></td><td class=\"tf\"><span class=\"txtp\">asz-szum _sag-ARAD_ <span  class=\"hl hlup\" >it-</span><span  class=\"hl hlup\" >ti </span><span  class=\"hlup\" >{d}</span><span  class=\"hlup\" >x-</span><span  class=\"hlup\" >lugal</span></span></td><td class=\"tf\"><span class=\"txtp\"><span  class=\"hl hlup\" >it-</span><span  class=\"hl hlup\" >ti </span></span></td><td class=\"tf\"><span class=\"txtp\"><span  class=\"hl hlup\" >it-</span></span></td><td class=\"tf\"><span class=\"txtp\"><span  class=\"hl hlup\" >ti </span></span></td><td class=\"tf\"><span class=\"txtp\"><span  class=\"hlup\" >{d}</span><span  class=\"hlup\" >x-</span><span  class=\"hlup\" >lugal</span></span></td></tr>\n",
       "<tr class=\"tf\"><td class=\"tf\">13</td><td class=\"tf\"> <a href=\"https://cdli.ucla.edu/search/search_results.php?SearchMode=Text&amp;ObjectID=P510612\" title=\"show this document on CDLI\" sec=\"P510612 reverse:11\">P510612 reverse:11</a></td><td class=\"tf\"><span class=\"txtp\">a-na szi-im _sze_-im <span  class=\"hl hlup\" >it-</span><span  class=\"hl hlup\" >ti </span><span  class=\"hlup\" >_dam-</span><span  class=\"hlup\" >gar3_</span></span></td><td class=\"tf\"><span class=\"txtp\"><span  class=\"hl hlup\" >it-</span><span  class=\"hl hlup\" >ti </span></span></td><td class=\"tf\"><span class=\"txtp\"><span  class=\"hl hlup\" >it-</span></span></td><td class=\"tf\"><span class=\"txtp\"><span  class=\"hl hlup\" >ti </span></span></td><td class=\"tf\"><span class=\"txtp\"><span  class=\"hlup\" >_dam-</span><span  class=\"hlup\" >gar3_</span></span></td></tr>\n",
       "<tr class=\"tf\"><td class=\"tf\">14</td><td class=\"tf\"> <a href=\"https://cdli.ucla.edu/search/search_results.php?SearchMode=Text&amp;ObjectID=P510621\" title=\"show this document on CDLI\" sec=\"P510621 reverse:1\">P510621 reverse:1</a></td><td class=\"tf\"><span class=\"txtp\"><span  class=\"hl hlup\" >it-</span><span  class=\"hl hlup\" >ti </span><span  class=\"hlup\" >zalag2-</span><span  class=\"hlup\" >ba-</span><span  class=\"hlup\" >ni-</span><span  class=\"hlup\" >ti </span>a-bi-i-szu-nu &lt;&lt;ti>></span></td><td class=\"tf\"><span class=\"txtp\"><span  class=\"hl hlup\" >it-</span><span  class=\"hl hlup\" >ti </span></span></td><td class=\"tf\"><span class=\"txtp\"><span  class=\"hl hlup\" >it-</span></span></td><td class=\"tf\"><span class=\"txtp\"><span  class=\"hl hlup\" >ti </span></span></td><td class=\"tf\"><span class=\"txtp\"><span  class=\"hlup\" >zalag2-</span><span  class=\"hlup\" >ba-</span><span  class=\"hlup\" >ni-</span><span  class=\"hlup\" >ti </span></span></td></tr>\n",
       "<tr class=\"tf\"><td class=\"tf\">15</td><td class=\"tf\"> <a href=\"https://cdli.ucla.edu/search/search_results.php?SearchMode=Text&amp;ObjectID=P510622\" title=\"show this document on CDLI\" sec=\"P510622 reverse:8\">P510622 reverse:8</a></td><td class=\"tf\"><span class=\"txtp\"><span  class=\"hl hlup\" >it-</span><span  class=\"hl hlup\" >ti </span><span  class=\"hlup\" >_ku3-</span><span  class=\"hlup\" >babbar_ </span>a-hu-ka</span></td><td class=\"tf\"><span class=\"txtp\"><span  class=\"hl hlup\" >it-</span><span  class=\"hl hlup\" >ti </span></span></td><td class=\"tf\"><span class=\"txtp\"><span  class=\"hl hlup\" >it-</span></span></td><td class=\"tf\"><span class=\"txtp\"><span  class=\"hl hlup\" >ti </span></span></td><td class=\"tf\"><span class=\"txtp\"><span  class=\"hlup\" >_ku3-</span><span  class=\"hlup\" >babbar_ </span></span></td></tr>\n",
       "<tr class=\"tf\"><td class=\"tf\">16</td><td class=\"tf\"> <a href=\"https://cdli.ucla.edu/search/search_results.php?SearchMode=Text&amp;ObjectID=P497370\" title=\"show this document on CDLI\" sec=\"P497370 obverse:5\">P497370 obverse:5</a></td><td class=\"tf\"><span class=\"txtp\"><span  class=\"hl hlup\" >it-</span><span  class=\"hl hlup\" >&lt;ti> </span><span  class=\"hlup\" >a-</span><span  class=\"hlup\" >mi-</span><span  class=\"hlup\" >li </span>ta-ab-na-an-ni-ma su-qa3-am</span></td><td class=\"tf\"><span class=\"txtp\"><span  class=\"hl hlup\" >it-</span><span  class=\"hl hlup\" >&lt;ti> </span></span></td><td class=\"tf\"><span class=\"txtp\"><span  class=\"hl hlup\" >it-</span></span></td><td class=\"tf\"><span class=\"txtp\"><span  class=\"hl hlup\" >&lt;ti> </span></span></td><td class=\"tf\"><span class=\"txtp\"><span  class=\"hlup\" >a-</span><span  class=\"hlup\" >mi-</span><span  class=\"hlup\" >li </span></span></td></tr>\n",
       "<tr class=\"tf\"><td class=\"tf\">17</td><td class=\"tf\"> <a href=\"https://cdli.ucla.edu/search/search_results.php?SearchMode=Text&amp;ObjectID=P510629\" title=\"show this document on CDLI\" sec=\"P510629 reverse:8\">P510629 reverse:8</a></td><td class=\"tf\"><span class=\"txtp\"><span  class=\"hl hlup\" >it-</span><span  class=\"hl hlup\" >ti </span><span  class=\"hlup\" >{disz}</span><span  class=\"hlup\" >{d}</span><span  class=\"hlup\" >na-</span><span  class=\"hlup\" >bi-</span><span  class=\"hlup\" >um-</span><span  class=\"hlup\" >at#?-</span><span  class=\"hlup\" >[pa-</span><span  class=\"hlup\" >lam?]</span></span></td><td class=\"tf\"><span class=\"txtp\"><span  class=\"hl hlup\" >it-</span><span  class=\"hl hlup\" >ti </span></span></td><td class=\"tf\"><span class=\"txtp\"><span  class=\"hl hlup\" >it-</span></span></td><td class=\"tf\"><span class=\"txtp\"><span  class=\"hl hlup\" >ti </span></span></td><td class=\"tf\"><span class=\"txtp\"><span  class=\"hlup\" >{disz}</span><span  class=\"hlup\" >{d}</span><span  class=\"hlup\" >na-</span><span  class=\"hlup\" >bi-</span><span  class=\"hlup\" >um-</span><span  class=\"hlup\" >at#?-</span><span  class=\"hlup\" >[pa-</span><span  class=\"hlup\" >lam?]</span></span></td></tr>\n",
       "<tr class=\"tf\"><td class=\"tf\">18</td><td class=\"tf\"> <a href=\"https://cdli.ucla.edu/search/search_results.php?SearchMode=Text&amp;ObjectID=P510643\" title=\"show this document on CDLI\" sec=\"P510643 reverse:1\">P510643 reverse:1</a></td><td class=\"tf\"><span class=\"txtp\"><span  class=\"hl hlup\" >it-</span><span  class=\"hl hlup\" >ti </span><span  class=\"hlup\" >gi-</span><span  class=\"hlup\" >ir-</span><span  class=\"hlup\" >ri </span>s,a-am-di</span></td><td class=\"tf\"><span class=\"txtp\"><span  class=\"hl hlup\" >it-</span><span  class=\"hl hlup\" >ti </span></span></td><td class=\"tf\"><span class=\"txtp\"><span  class=\"hl hlup\" >it-</span></span></td><td class=\"tf\"><span class=\"txtp\"><span  class=\"hl hlup\" >ti </span></span></td><td class=\"tf\"><span class=\"txtp\"><span  class=\"hlup\" >gi-</span><span  class=\"hlup\" >ir-</span><span  class=\"hlup\" >ri </span></span></td></tr>\n",
       "<tr class=\"tf\"><td class=\"tf\">19</td><td class=\"tf\"> <a href=\"https://cdli.ucla.edu/search/search_results.php?SearchMode=Text&amp;ObjectID=P510647\" title=\"show this document on CDLI\" sec=\"P510647 obverse:5\">P510647 obverse:5</a></td><td class=\"tf\"><span class=\"txtp\"><span  class=\"hl hlup\" >it-</span><span  class=\"hl hlup\" >ti </span><span  class=\"hlup\" >um-</span><span  class=\"hlup\" >mi-</span><span  class=\"hlup\" >ia </span>u2-ul am#-ta-li#-ik#</span></td><td class=\"tf\"><span class=\"txtp\"><span  class=\"hl hlup\" >it-</span><span  class=\"hl hlup\" >ti </span></span></td><td class=\"tf\"><span class=\"txtp\"><span  class=\"hl hlup\" >it-</span></span></td><td class=\"tf\"><span class=\"txtp\"><span  class=\"hl hlup\" >ti </span></span></td><td class=\"tf\"><span class=\"txtp\"><span  class=\"hlup\" >um-</span><span  class=\"hlup\" >mi-</span><span  class=\"hlup\" >ia </span></span></td></tr>\n",
       "<tr class=\"tf\"><td class=\"tf\">20</td><td class=\"tf\"> <a href=\"https://cdli.ucla.edu/search/search_results.php?SearchMode=Text&amp;ObjectID=P510648\" title=\"show this document on CDLI\" sec=\"P510648 reverse:6\">P510648 reverse:6</a></td><td class=\"tf\"><span class=\"txtp\"><span  class=\"hl hlup\" >it-</span><span  class=\"hl hlup\" >ti </span><span  class=\"hlup\" >_{gesz}</span><span  class=\"hlup\" >ma2 </span>hi-a_ sza# i-il#-la-ka#-[(nim)]</span></td><td class=\"tf\"><span class=\"txtp\"><span  class=\"hl hlup\" >it-</span><span  class=\"hl hlup\" >ti </span></span></td><td class=\"tf\"><span class=\"txtp\"><span  class=\"hl hlup\" >it-</span></span></td><td class=\"tf\"><span class=\"txtp\"><span  class=\"hl hlup\" >ti </span></span></td><td class=\"tf\"><span class=\"txtp\"><span  class=\"hlup\" >_{gesz}</span><span  class=\"hlup\" >ma2 </span></span></td></tr>\n",
       "<tr class=\"tf\"><td class=\"tf\">21</td><td class=\"tf\"> <a href=\"https://cdli.ucla.edu/search/search_results.php?SearchMode=Text&amp;ObjectID=P510658\" title=\"show this document on CDLI\" sec=\"P510658 reverse:13\">P510658 reverse:13</a></td><td class=\"tf\"><span class=\"txtp\">u3 ne#-eb-ri-tam <span  class=\"hl hlup\" >it-</span><span  class=\"hl hlup\" >ti </span><span  class=\"hlup\" >_aga-</span><span  class=\"hlup\" >us2_ </span>bi-ru-tim</span></td><td class=\"tf\"><span class=\"txtp\"><span  class=\"hl hlup\" >it-</span><span  class=\"hl hlup\" >ti </span></span></td><td class=\"tf\"><span class=\"txtp\"><span  class=\"hl hlup\" >it-</span></span></td><td class=\"tf\"><span class=\"txtp\"><span  class=\"hl hlup\" >ti </span></span></td><td class=\"tf\"><span class=\"txtp\"><span  class=\"hlup\" >_aga-</span><span  class=\"hlup\" >us2_ </span></span></td></tr>\n",
       "<tr class=\"tf\"><td class=\"tf\">22</td><td class=\"tf\"> <a href=\"https://cdli.ucla.edu/search/search_results.php?SearchMode=Text&amp;ObjectID=P510668\" title=\"show this document on CDLI\" sec=\"P510668 obverse:12\">P510668 obverse:12</a></td><td class=\"tf\"><span class=\"txtp\"><span  class=\"hl hlup\" >it#-</span><span  class=\"hl hlup\" >ti </span><span  class=\"hlup\" >_ugula </span>szu-i_ ma-di-isz usz-te-s,i2</span></td><td class=\"tf\"><span class=\"txtp\"><span  class=\"hl hlup\" >it#-</span><span  class=\"hl hlup\" >ti </span></span></td><td class=\"tf\"><span class=\"txtp\"><span  class=\"hl hlup\" >it#-</span></span></td><td class=\"tf\"><span class=\"txtp\"><span  class=\"hl hlup\" >ti </span></span></td><td class=\"tf\"><span class=\"txtp\"><span  class=\"hlup\" >_ugula </span></span></td></tr>\n",
       "<tr class=\"tf\"><td class=\"tf\">23</td><td class=\"tf\"> <a href=\"https://cdli.ucla.edu/search/search_results.php?SearchMode=Text&amp;ObjectID=P510675\" title=\"show this document on CDLI\" sec=\"P510675 obverse:2'\">P510675 obverse:2'</a></td><td class=\"tf\"><span class=\"txtp\"><span  class=\"hl hlup\" >it-</span><span  class=\"hl hlup\" >ti </span><span  class=\"hlup\" >ak-</span><span  class=\"hlup\" >ka-</span><span  class=\"hlup\" >di-</span><span  class=\"hlup\" >i</span></span></td><td class=\"tf\"><span class=\"txtp\"><span  class=\"hl hlup\" >it-</span><span  class=\"hl hlup\" >ti </span></span></td><td class=\"tf\"><span class=\"txtp\"><span  class=\"hl hlup\" >it-</span></span></td><td class=\"tf\"><span class=\"txtp\"><span  class=\"hl hlup\" >ti </span></span></td><td class=\"tf\"><span class=\"txtp\"><span  class=\"hlup\" >ak-</span><span  class=\"hlup\" >ka-</span><span  class=\"hlup\" >di-</span><span  class=\"hlup\" >i</span></span></td></tr>\n",
       "<tr class=\"tf\"><td class=\"tf\">24</td><td class=\"tf\"> <a href=\"https://cdli.ucla.edu/search/search_results.php?SearchMode=Text&amp;ObjectID=P510676\" title=\"show this document on CDLI\" sec=\"P510676 obverse:5'\">P510676 obverse:5'</a></td><td class=\"tf\"><span class=\"txtp\">sza <span  class=\"hl hlup\" >it-</span><span  class=\"hl hlup\" >ti </span><span  class=\"hlup\" >mu-</span><span  class=\"hlup\" >ti-</span><span  class=\"hlup\" >ia </span>a-di-nu-ma</span></td><td class=\"tf\"><span class=\"txtp\"><span  class=\"hl hlup\" >it-</span><span  class=\"hl hlup\" >ti </span></span></td><td class=\"tf\"><span class=\"txtp\"><span  class=\"hl hlup\" >it-</span></span></td><td class=\"tf\"><span class=\"txtp\"><span  class=\"hl hlup\" >ti </span></span></td><td class=\"tf\"><span class=\"txtp\"><span  class=\"hlup\" >mu-</span><span  class=\"hlup\" >ti-</span><span  class=\"hlup\" >ia </span></span></td></tr>\n",
       "<tr class=\"tf\"><td class=\"tf\">25</td><td class=\"tf\"> <a href=\"https://cdli.ucla.edu/search/search_results.php?SearchMode=Text&amp;ObjectID=P510679\" title=\"show this document on CDLI\" sec=\"P510679 reverse:4\">P510679 reverse:4</a></td><td class=\"tf\"><span class=\"txtp\"><span  class=\"hl hlup\" >[it-</span><span  class=\"hl hlup\" >ti] </span><span  class=\"hlup\" >ib#-</span><span  class=\"hlup\" >ni-</span><span  class=\"hlup\" >{d}</span><span  class=\"hlup\" >marduk</span></span></td><td class=\"tf\"><span class=\"txtp\"><span  class=\"hl hlup\" >[it-</span><span  class=\"hl hlup\" >ti] </span></span></td><td class=\"tf\"><span class=\"txtp\"><span  class=\"hl hlup\" >[it-</span></span></td><td class=\"tf\"><span class=\"txtp\"><span  class=\"hl hlup\" >ti] </span></span></td><td class=\"tf\"><span class=\"txtp\"><span  class=\"hlup\" >ib#-</span><span  class=\"hlup\" >ni-</span><span  class=\"hlup\" >{d}</span><span  class=\"hlup\" >marduk</span></span></td></tr>\n",
       "<tr class=\"tf\"><td class=\"tf\">26</td><td class=\"tf\"> <a href=\"https://cdli.ucla.edu/search/search_results.php?SearchMode=Text&amp;ObjectID=P510682\" title=\"show this document on CDLI\" sec=\"P510682 reverse:6'\">P510682 reverse:6'</a></td><td class=\"tf\"><span class=\"txtp\"><span  class=\"hl hlup\" >it-</span><span  class=\"hl hlup\" >ti </span><span  class=\"hlup\" >ah-</span><span  class=\"hlup\" >hi-</span><span  class=\"hlup\" >sza </span>li-il#-[li]-ka#</span></td><td class=\"tf\"><span class=\"txtp\"><span  class=\"hl hlup\" >it-</span><span  class=\"hl hlup\" >ti </span></span></td><td class=\"tf\"><span class=\"txtp\"><span  class=\"hl hlup\" >it-</span></span></td><td class=\"tf\"><span class=\"txtp\"><span  class=\"hl hlup\" >ti </span></span></td><td class=\"tf\"><span class=\"txtp\"><span  class=\"hlup\" >ah-</span><span  class=\"hlup\" >hi-</span><span  class=\"hlup\" >sza </span></span></td></tr>\n",
       "<tr class=\"tf\"><td class=\"tf\">27</td><td class=\"tf\"> <a href=\"https://cdli.ucla.edu/search/search_results.php?SearchMode=Text&amp;ObjectID=P510683\" title=\"show this document on CDLI\" sec=\"P510683 reverse:5\">P510683 reverse:5</a></td><td class=\"tf\"><span class=\"txtp\">a-na <span  class=\"hl hlup\" >it-</span><span  class=\"hl hlup\" >ti </span><span  class=\"hlup\" >ki-</span><span  class=\"hlup\" >it-</span><span  class=\"hlup\" >ti</span></span></td><td class=\"tf\"><span class=\"txtp\"><span  class=\"hl hlup\" >it-</span><span  class=\"hl hlup\" >ti </span></span></td><td class=\"tf\"><span class=\"txtp\"><span  class=\"hl hlup\" >it-</span></span></td><td class=\"tf\"><span class=\"txtp\"><span  class=\"hl hlup\" >ti </span></span></td><td class=\"tf\"><span class=\"txtp\"><span  class=\"hlup\" >ki-</span><span  class=\"hlup\" >it-</span><span  class=\"hlup\" >ti</span></span></td></tr>\n",
       "<tr class=\"tf\"><td class=\"tf\">28</td><td class=\"tf\"> <a href=\"https://cdli.ucla.edu/search/search_results.php?SearchMode=Text&amp;ObjectID=P510720\" title=\"show this document on CDLI\" sec=\"P510720 obverse:7\">P510720 obverse:7</a></td><td class=\"tf\"><span class=\"txtp\">sza-at-ta _a-sza3#_ <span  class=\"hl hlup\" >it-</span><span  class=\"hl hlup\" >ti </span><span  class=\"hlup\" >x </span>x x x x</span></td><td class=\"tf\"><span class=\"txtp\"><span  class=\"hl hlup\" >it-</span><span  class=\"hl hlup\" >ti </span></span></td><td class=\"tf\"><span class=\"txtp\"><span  class=\"hl hlup\" >it-</span></span></td><td class=\"tf\"><span class=\"txtp\"><span  class=\"hl hlup\" >ti </span></span></td><td class=\"tf\"><span class=\"txtp\"><span  class=\"hlup\" >x </span></span></td></tr>\n",
       "<tr class=\"tf\"><td class=\"tf\">29</td><td class=\"tf\"> <a href=\"https://cdli.ucla.edu/search/search_results.php?SearchMode=Text&amp;ObjectID=P510726\" title=\"show this document on CDLI\" sec=\"P510726 obverse:7\">P510726 obverse:7</a></td><td class=\"tf\"><span class=\"txtp\"><span  class=\"hl hlup\" >it-</span><span  class=\"hl hlup\" >ti </span><span  class=\"hlup\" >_dam-</span><span  class=\"hlup\" >gar3_ </span>il-qe2-e ma-na-ha-tim ra-bi-a-tim asz-ku-un-ma</span></td><td class=\"tf\"><span class=\"txtp\"><span  class=\"hl hlup\" >it-</span><span  class=\"hl hlup\" >ti </span></span></td><td class=\"tf\"><span class=\"txtp\"><span  class=\"hl hlup\" >it-</span></span></td><td class=\"tf\"><span class=\"txtp\"><span  class=\"hl hlup\" >ti </span></span></td><td class=\"tf\"><span class=\"txtp\"><span  class=\"hlup\" >_dam-</span><span  class=\"hlup\" >gar3_ </span></span></td></tr>\n",
       "<tr class=\"tf\"><td class=\"tf\">30</td><td class=\"tf\"> <a href=\"https://cdli.ucla.edu/search/search_results.php?SearchMode=Text&amp;ObjectID=P510728\" title=\"show this document on CDLI\" sec=\"P510728 obverse:6\">P510728 obverse:6</a></td><td class=\"tf\"><span class=\"txtp\">_5(gesz2) gur_ <span  class=\"hl hlup\" >it#-</span><span  class=\"hl hlup\" >ti </span><span  class=\"hlup\" >a-</span><span  class=\"hlup\" >bu-</span><span  class=\"hlup\" >wa-</span><span  class=\"hlup\" >qar </span>_5(gesz2) gur#_ [it-ti] sze-ep-{d}suen</span></td><td class=\"tf\"><span class=\"txtp\"><span  class=\"hl hlup\" >it#-</span><span  class=\"hl hlup\" >ti </span></span></td><td class=\"tf\"><span class=\"txtp\"><span  class=\"hl hlup\" >it#-</span></span></td><td class=\"tf\"><span class=\"txtp\"><span  class=\"hl hlup\" >ti </span></span></td><td class=\"tf\"><span class=\"txtp\"><span  class=\"hlup\" >a-</span><span  class=\"hlup\" >bu-</span><span  class=\"hlup\" >wa-</span><span  class=\"hlup\" >qar </span></span></td></tr></table>"
      ],
      "text/plain": [
       "<IPython.core.display.HTML object>"
      ]
     },
     "metadata": {},
     "output_type": "display_data"
    }
   ],
   "source": [
    "queryL = '''\n",
    "line\n",
    "  word\n",
    "    =: sign reading=it\n",
    "    <: sign reading=ti\n",
    "    :=\n",
    "  <: word\n",
    "'''\n",
    "results = A.search(queryL)\n",
    "A.table(results, end=30)"
   ]
  },
  {
   "cell_type": "code",
   "execution_count": null,
   "metadata": {},
   "outputs": [],
   "source": []
  },
  {
   "cell_type": "code",
   "execution_count": null,
   "metadata": {},
   "outputs": [],
   "source": []
  },
  {
   "cell_type": "code",
   "execution_count": null,
   "metadata": {},
   "outputs": [],
   "source": []
  },
  {
   "cell_type": "markdown",
   "metadata": {},
   "source": [
    "Just in case you wonder whether a word can cross a line boundary, let us check that."
   ]
  },
  {
   "cell_type": "code",
   "execution_count": 10,
   "metadata": {},
   "outputs": [
    {
     "data": {
      "text/plain": [
       "0"
      ]
     },
     "execution_count": 10,
     "metadata": {},
     "output_type": "execute_result"
    }
   ],
   "source": [
    "suspect = []\n",
    "\n",
    "for w in F.otype.s('word'):\n",
    "  signs = L.d(w, otype='sign')\n",
    "  firstSign = signs[0]\n",
    "  lastSign = signs[-1]\n",
    "  firstLine = L.u(firstSign, otype='line')[0]\n",
    "  lastLine = L.u(lastSign, otype='line')[0]\n",
    "  if firstLine != lastLine:\n",
    "    suspect.append((w, firstLine, lastLine))\n",
    "    \n",
    "len(suspect)"
   ]
  },
  {
   "cell_type": "markdown",
   "metadata": {},
   "source": [
    "Rest reassured: every word lies neatly in its own single line."
   ]
  },
  {
   "cell_type": "markdown",
   "metadata": {},
   "source": [
    "## `i` followed by `na` anywhere\n",
    "\n",
    "Now we look for adjacent pairs of signs of which the first has reading `i` and the second reading `na`.\n",
    "We do not care whether both signs are in the same word or even the same line, or face or document!"
   ]
  },
  {
   "cell_type": "code",
   "execution_count": 11,
   "metadata": {},
   "outputs": [],
   "source": [
    "query = '''\n",
    "sign reading=i\n",
    "<: sign reading=na\n",
    "'''"
   ]
  },
  {
   "cell_type": "code",
   "execution_count": 12,
   "metadata": {},
   "outputs": [
    {
     "name": "stdout",
     "output_type": "stream",
     "text": [
      "  0.50s 1768 results\n"
     ]
    }
   ],
   "source": [
    "results = A.search(query)"
   ]
  },
  {
   "cell_type": "markdown",
   "metadata": {},
   "source": [
    "Definitely more results. We want to show the extra cases.\n",
    "\n",
    "There are two possibilities:\n",
    "\n",
    "* the signs lie within a bigger word\n",
    "* the signs lie in two distinct words\n",
    "\n",
    "Let's query for them separately and see whether the numbers add up."
   ]
  },
  {
   "cell_type": "code",
   "execution_count": 13,
   "metadata": {},
   "outputs": [],
   "source": [
    "queryB = '''\n",
    "word\n",
    "/with/\n",
    "  sign\n",
    "  <: sign\n",
    "  <: sign\n",
    "/-/\n",
    "  sign reading=i\n",
    "  <: sign reading=na\n",
    "'''"
   ]
  },
  {
   "cell_type": "markdown",
   "metadata": {},
   "source": [
    "Explanation: in this query you see a new construct: a *quantifier*, namely `/with/` ... `/-/`.\n",
    "\n",
    "The *with* imposes a condition on the preceding atom: `word`.\n",
    "This particular condition states that the word must have at least three consecutive signs.\n",
    "These three signs will not be listed in the results.\n",
    "\n",
    "Words that satisfy this condition, will then be matched against the rest: that there are adjacent signs with `i` and `ma`.\n",
    "\n",
    "For more quantifiers, read the\n",
    "[docs](https://annotation.github.io/text-fabric/Use/Search/#quantifiers)"
   ]
  },
  {
   "cell_type": "code",
   "execution_count": 14,
   "metadata": {},
   "outputs": [
    {
     "name": "stdout",
     "output_type": "stream",
     "text": [
      "  1.79s 325 results\n"
     ]
    }
   ],
   "source": [
    "resultsB = A.search(queryB)"
   ]
  },
  {
   "cell_type": "code",
   "execution_count": 15,
   "metadata": {},
   "outputs": [
    {
     "data": {
      "text/html": [
       "<table>\n",
       "<tr class=\"tf\">\n",
       "  <th class=\"tf\">n</th><th class=\"tf\">p</th>\n",
       "  <th class=\"tf\">word</th><th>sign</th><th>sign</th>\n",
       "</tr>\n",
       "\n",
       "<tr class=\"tf\"><td class=\"tf\">1</td><td class=\"tf\"> <a href=\"https://cdli.ucla.edu/search/search_results.php?SearchMode=Text&amp;ObjectID=P509376\" title=\"show this document on CDLI\" sec=\"P509376 obverse:4\">P509376 obverse:4</a></td><td class=\"tf\"><a href=\"https://cdli.ucla.edu/search/search_results.php?SearchMode=Text&amp;ObjectID=P509376\" title=\"P509376 obverse:4\" sec=\"P509376 obverse:4\"><span class=\"txtp\"><span  class=\"hl hlup\" >i-</span><span  class=\"hl hlup\" >na-</span><span  class=\"hlup\" >an-</span><span  class=\"hlup\" >na</span></span></a></td><td class=\"tf\"><span class=\"txtp\"><span  class=\"hl hlup\" >i-</span></span></td><td class=\"tf\"><span class=\"txtp\"><span  class=\"hl hlup\" >na-</span></span></td></tr>\n",
       "<tr class=\"tf\"><td class=\"tf\">2</td><td class=\"tf\"> <a href=\"https://cdli.ucla.edu/search/search_results.php?SearchMode=Text&amp;ObjectID=P509376\" title=\"show this document on CDLI\" sec=\"P509376 obverse:9\">P509376 obverse:9</a></td><td class=\"tf\"><a href=\"https://cdli.ucla.edu/search/search_results.php?SearchMode=Text&amp;ObjectID=P509376\" title=\"P509376 obverse:9\" sec=\"P509376 obverse:9\"><span class=\"txtp\"><span  class=\"hl hlup\" >i-</span><span  class=\"hl hlup\" >na-</span><span  class=\"hlup\" >an-</span><span  class=\"hlup\" >na </span></span></a></td><td class=\"tf\"><span class=\"txtp\"><span  class=\"hl hlup\" >i-</span></span></td><td class=\"tf\"><span class=\"txtp\"><span  class=\"hl hlup\" >na-</span></span></td></tr>\n",
       "<tr class=\"tf\"><td class=\"tf\">3</td><td class=\"tf\"> <a href=\"https://cdli.ucla.edu/search/search_results.php?SearchMode=Text&amp;ObjectID=P510530\" title=\"show this document on CDLI\" sec=\"P510530 obverse:14\">P510530 obverse:14</a></td><td class=\"tf\"><a href=\"https://cdli.ucla.edu/search/search_results.php?SearchMode=Text&amp;ObjectID=P510530\" title=\"P510530 obverse:14\" sec=\"P510530 obverse:14\"><span class=\"txtp\"><span  class=\"hl hlup\" >i-</span><span  class=\"hl hlup\" >na-</span><span  class=\"hlup\" >an-</span><span  class=\"hlup\" >na </span></span></a></td><td class=\"tf\"><span class=\"txtp\"><span  class=\"hl hlup\" >i-</span></span></td><td class=\"tf\"><span class=\"txtp\"><span  class=\"hl hlup\" >na-</span></span></td></tr>\n",
       "<tr class=\"tf\"><td class=\"tf\">4</td><td class=\"tf\"> <a href=\"https://cdli.ucla.edu/search/search_results.php?SearchMode=Text&amp;ObjectID=P510534\" title=\"show this document on CDLI\" sec=\"P510534 reverse:11'\">P510534 reverse:11'</a></td><td class=\"tf\"><a href=\"https://cdli.ucla.edu/search/search_results.php?SearchMode=Text&amp;ObjectID=P510534\" title=\"P510534 reverse:11'\" sec=\"P510534 reverse:11'\"><span class=\"txtp\"><span  class=\"hl hlup\" >i-</span><span  class=\"hl hlup\" >na-</span><span  class=\"hlup\" >an-</span><span  class=\"hlup\" >na </span></span></a></td><td class=\"tf\"><span class=\"txtp\"><span  class=\"hl hlup\" >i-</span></span></td><td class=\"tf\"><span class=\"txtp\"><span  class=\"hl hlup\" >na-</span></span></td></tr>\n",
       "<tr class=\"tf\"><td class=\"tf\">5</td><td class=\"tf\"> <a href=\"https://cdli.ucla.edu/search/search_results.php?SearchMode=Text&amp;ObjectID=P510535\" title=\"show this document on CDLI\" sec=\"P510535 obverse:11\">P510535 obverse:11</a></td><td class=\"tf\"><a href=\"https://cdli.ucla.edu/search/search_results.php?SearchMode=Text&amp;ObjectID=P510535\" title=\"P510535 obverse:11\" sec=\"P510535 obverse:11\"><span class=\"txtp\"><span  class=\"hl hlup\" >i-</span><span  class=\"hl hlup\" >na-</span><span  class=\"hlup\" >an-</span><span  class=\"hlup\" >na </span></span></a></td><td class=\"tf\"><span class=\"txtp\"><span  class=\"hl hlup\" >i-</span></span></td><td class=\"tf\"><span class=\"txtp\"><span  class=\"hl hlup\" >na-</span></span></td></tr>\n",
       "<tr class=\"tf\"><td class=\"tf\">6</td><td class=\"tf\"> <a href=\"https://cdli.ucla.edu/search/search_results.php?SearchMode=Text&amp;ObjectID=P510535\" title=\"show this document on CDLI\" sec=\"P510535 reverse:4\">P510535 reverse:4</a></td><td class=\"tf\"><a href=\"https://cdli.ucla.edu/search/search_results.php?SearchMode=Text&amp;ObjectID=P510535\" title=\"P510535 reverse:4\" sec=\"P510535 reverse:4\"><span class=\"txtp\"><span  class=\"hl hlup\" >i-</span><span  class=\"hl hlup\" >na-</span><span  class=\"hlup\" >ad-</span><span  class=\"hlup\" >di-</span><span  class=\"hlup\" >na-</span><span  class=\"hlup\" >ak-</span><span  class=\"hlup\" >kum</span></span></a></td><td class=\"tf\"><span class=\"txtp\"><span  class=\"hl hlup\" >i-</span></span></td><td class=\"tf\"><span class=\"txtp\"><span  class=\"hl hlup\" >na-</span></span></td></tr>\n",
       "<tr class=\"tf\"><td class=\"tf\">7</td><td class=\"tf\"> <a href=\"https://cdli.ucla.edu/search/search_results.php?SearchMode=Text&amp;ObjectID=P510536\" title=\"show this document on CDLI\" sec=\"P510536 reverse:1\">P510536 reverse:1</a></td><td class=\"tf\"><a href=\"https://cdli.ucla.edu/search/search_results.php?SearchMode=Text&amp;ObjectID=P510536\" title=\"P510536 reverse:1\" sec=\"P510536 reverse:1\"><span class=\"txtp\"><span  class=\"hl hlup\" >i-</span><span  class=\"hl hlup\" >na-</span><span  class=\"hlup\" >an-</span><span  class=\"hlup\" >na</span></span></a></td><td class=\"tf\"><span class=\"txtp\"><span  class=\"hl hlup\" >i-</span></span></td><td class=\"tf\"><span class=\"txtp\"><span  class=\"hl hlup\" >na-</span></span></td></tr>\n",
       "<tr class=\"tf\"><td class=\"tf\">8</td><td class=\"tf\"> <a href=\"https://cdli.ucla.edu/search/search_results.php?SearchMode=Text&amp;ObjectID=P510541\" title=\"show this document on CDLI\" sec=\"P510541 reverse:7\">P510541 reverse:7</a></td><td class=\"tf\"><a href=\"https://cdli.ucla.edu/search/search_results.php?SearchMode=Text&amp;ObjectID=P510541\" title=\"P510541 reverse:7\" sec=\"P510541 reverse:7\"><span class=\"txtp\"><span  class=\"hl hlup\" >i-</span><span  class=\"hl hlup\" >na#-</span><span  class=\"hlup\" >an#-</span><span  class=\"hlup\" >na# </span></span></a></td><td class=\"tf\"><span class=\"txtp\"><span  class=\"hl hlup\" >i-</span></span></td><td class=\"tf\"><span class=\"txtp\"><span  class=\"hl hlup\" >na#-</span></span></td></tr>\n",
       "<tr class=\"tf\"><td class=\"tf\">9</td><td class=\"tf\"> <a href=\"https://cdli.ucla.edu/search/search_results.php?SearchMode=Text&amp;ObjectID=P510544\" title=\"show this document on CDLI\" sec=\"P510544 reverse:1\">P510544 reverse:1</a></td><td class=\"tf\"><a href=\"https://cdli.ucla.edu/search/search_results.php?SearchMode=Text&amp;ObjectID=P510544\" title=\"P510544 reverse:1\" sec=\"P510544 reverse:1\"><span class=\"txtp\"><span  class=\"hl hlup\" >i-</span><span  class=\"hl hlup\" >na#-</span><span  class=\"hlup\" >an#-</span><span  class=\"hlup\" >na# </span></span></a></td><td class=\"tf\"><span class=\"txtp\"><span  class=\"hl hlup\" >i-</span></span></td><td class=\"tf\"><span class=\"txtp\"><span  class=\"hl hlup\" >na#-</span></span></td></tr>\n",
       "<tr class=\"tf\"><td class=\"tf\">10</td><td class=\"tf\"> <a href=\"https://cdli.ucla.edu/search/search_results.php?SearchMode=Text&amp;ObjectID=P510546\" title=\"show this document on CDLI\" sec=\"P510546 obverse:11\">P510546 obverse:11</a></td><td class=\"tf\"><a href=\"https://cdli.ucla.edu/search/search_results.php?SearchMode=Text&amp;ObjectID=P510546\" title=\"P510546 obverse:11\" sec=\"P510546 obverse:11\"><span class=\"txtp\"><span  class=\"hl hlup\" >i-</span><span  class=\"hl hlup\" >na-</span><span  class=\"hlup\" >ad-</span><span  class=\"hlup\" >di-</span><span  class=\"hlup\" >na-</span><span  class=\"hlup\" >ak#-</span><span  class=\"hlup\" >[kum]</span></span></a></td><td class=\"tf\"><span class=\"txtp\"><span  class=\"hl hlup\" >i-</span></span></td><td class=\"tf\"><span class=\"txtp\"><span  class=\"hl hlup\" >na-</span></span></td></tr></table>"
      ],
      "text/plain": [
       "<IPython.core.display.HTML object>"
      ]
     },
     "metadata": {},
     "output_type": "display_data"
    }
   ],
   "source": [
    "A.table(resultsB, end=10)"
   ]
  },
  {
   "cell_type": "markdown",
   "metadata": {},
   "source": [
    "It seems that these words happen to start with `i-na`. Is that the case for all of these?\n",
    "\n",
    "Let's filter out the ones that do not start with `i`."
   ]
  },
  {
   "cell_type": "code",
   "execution_count": 16,
   "metadata": {},
   "outputs": [
    {
     "data": {
      "text/plain": [
       "0"
      ]
     },
     "execution_count": 16,
     "metadata": {},
     "output_type": "execute_result"
    }
   ],
   "source": [
    "nonIstart = [(w, s1, s2) for (w, s1, s2) in resultsB if F.reading.v(s1) != 'i']\n",
    "len(nonIstart)"
   ]
  },
  {
   "cell_type": "markdown",
   "metadata": {},
   "source": [
    "So, indeed, all these cases are words that start with `i-na`, so we can consider these as words with the preposition `i-na` prefixed."
   ]
  },
  {
   "cell_type": "markdown",
   "metadata": {},
   "source": [
    "Well, 1440 + 325 = 1765, so we expect 3 cases where the `i` and `na` split a word."
   ]
  },
  {
   "cell_type": "code",
   "execution_count": 17,
   "metadata": {},
   "outputs": [],
   "source": [
    "queryS = '''\n",
    "w1:word\n",
    "  s1:sign reading=i\n",
    "\n",
    "w2:word\n",
    "  s2:sign reading=na\n",
    "  \n",
    "w1 < w2\n",
    "s1 <: s2\n",
    "'''"
   ]
  },
  {
   "cell_type": "markdown",
   "metadata": {},
   "source": [
    "Explanation. Again something new: we can give *names* to the objects in our query and use those names\n",
    "to state relational constraints later on.\n",
    "\n",
    "So here we look for two words, one containing a sign `i` and the other containing a sign `na`.\n",
    "\n",
    "The extra conditions are that `w1` and `w2` are not equal (in fact, we state that `w1` comes before `w2`.\n",
    "\n",
    "And the two signs must be adjacent: `s1 <: s2`."
   ]
  },
  {
   "cell_type": "code",
   "execution_count": 18,
   "metadata": {},
   "outputs": [
    {
     "name": "stdout",
     "output_type": "stream",
     "text": [
      "  0.54s 3 results\n"
     ]
    }
   ],
   "source": [
    "resultsS = A.search(queryS)"
   ]
  },
  {
   "cell_type": "code",
   "execution_count": 19,
   "metadata": {},
   "outputs": [
    {
     "data": {
      "text/html": [
       "<table>\n",
       "<tr class=\"tf\">\n",
       "  <th class=\"tf\">n</th><th class=\"tf\">p</th>\n",
       "  <th class=\"tf\">word</th><th>sign</th><th>word</th><th>sign</th>\n",
       "</tr>\n",
       "\n",
       "<tr class=\"tf\"><td class=\"tf\">1</td><td class=\"tf\"> <a href=\"https://cdli.ucla.edu/search/search_results.php?SearchMode=Text&amp;ObjectID=P313316\" title=\"show this document on CDLI\" sec=\"P313316 obverse:9\">P313316 obverse:9</a></td><td class=\"tf\"><a href=\"https://cdli.ucla.edu/search/search_results.php?SearchMode=Text&amp;ObjectID=P313316\" title=\"P313316 obverse:9\" sec=\"P313316 obverse:9\"><span class=\"txtp\"><span  class=\"hlup\" >ni-</span><span  class=\"hlup\" >qi2-</span><span  class=\"hl hlup\" >i </span></span></a></td><td class=\"tf\"><span class=\"txtp\"><span  class=\"hl hlup\" >i </span></span></td><td class=\"tf\"><span class=\"txtp\"><span  class=\"hl hlup\" >na-</span><span  class=\"hlup\" >mu-</span><span  class=\"hlup\" >[x </span></span></td><td class=\"tf\"><span class=\"txtp\"><span  class=\"hl hlup\" >na-</span></span></td></tr>\n",
       "<tr class=\"tf\"><td class=\"tf\">2</td><td class=\"tf\"> <a href=\"https://cdli.ucla.edu/search/search_results.php?SearchMode=Text&amp;ObjectID=P313347\" title=\"show this document on CDLI\" sec=\"P313347 obverse:10\">P313347 obverse:10</a></td><td class=\"tf\"><a href=\"https://cdli.ucla.edu/search/search_results.php?SearchMode=Text&amp;ObjectID=P313347\" title=\"P313347 obverse:10\" sec=\"P313347 obverse:10\"><span class=\"txtp\"><span  class=\"hl hlup\" >i </span></span></a></td><td class=\"tf\"><span class=\"txtp\"><span  class=\"hl hlup\" >i </span></span></td><td class=\"tf\"><span class=\"txtp\"><span  class=\"hl hlup\" >na </span></span></td><td class=\"tf\"><span class=\"txtp\"><span  class=\"hl hlup\" >na </span></span></td></tr>\n",
       "<tr class=\"tf\"><td class=\"tf\">3</td><td class=\"tf\"> <a href=\"https://cdli.ucla.edu/search/search_results.php?SearchMode=Text&amp;ObjectID=P387297\" title=\"show this document on CDLI\" sec=\"P387297 obverse:6\">P387297 obverse:6</a></td><td class=\"tf\"><a href=\"https://cdli.ucla.edu/search/search_results.php?SearchMode=Text&amp;ObjectID=P387297\" title=\"P387297 obverse:6\" sec=\"P387297 obverse:6\"><span class=\"txtp\"><span  class=\"hlup\" >pi-</span><span  class=\"hl hlup\" >i </span></span></a></td><td class=\"tf\"><span class=\"txtp\"><span  class=\"hl hlup\" >i </span></span></td><td class=\"tf\"><span class=\"txtp\"><span  class=\"hl hlup\" >na-</span><span  class=\"hlup\" >ri-</span><span  class=\"hlup\" >i-</span><span  class=\"hlup\" >im</span></span></td><td class=\"tf\"><span class=\"txtp\"><span  class=\"hl hlup\" >na-</span></span></td></tr></table>"
      ],
      "text/plain": [
       "<IPython.core.display.HTML object>"
      ]
     },
     "metadata": {},
     "output_type": "display_data"
    }
   ],
   "source": [
    "A.table(resultsS)"
   ]
  },
  {
   "cell_type": "markdown",
   "metadata": {},
   "source": [
    "For context, we query them in their lines:"
   ]
  },
  {
   "cell_type": "code",
   "execution_count": 20,
   "metadata": {},
   "outputs": [],
   "source": [
    "queryS = '''\n",
    "line\n",
    "  w1:word\n",
    "    s1:sign reading=i\n",
    "\n",
    "  w2:word\n",
    "    s2:sign reading=na\n",
    "  \n",
    "w1 < w2\n",
    "s1 <: s2\n",
    "'''"
   ]
  },
  {
   "cell_type": "code",
   "execution_count": 21,
   "metadata": {},
   "outputs": [
    {
     "name": "stdout",
     "output_type": "stream",
     "text": [
      "  0.57s 3 results\n"
     ]
    }
   ],
   "source": [
    "resultsS = A.search(queryS)"
   ]
  },
  {
   "cell_type": "code",
   "execution_count": 22,
   "metadata": {},
   "outputs": [
    {
     "data": {
      "text/html": [
       "<table>\n",
       "<tr class=\"tf\">\n",
       "  <th class=\"tf\">n</th><th class=\"tf\">p</th>\n",
       "  <th class=\"tf\">line</th><th>word</th><th>sign</th><th>word</th><th>sign</th>\n",
       "</tr>\n",
       "\n",
       "<tr class=\"tf\"><td class=\"tf\">1</td><td class=\"tf\"> <a href=\"https://cdli.ucla.edu/search/search_results.php?SearchMode=Text&amp;ObjectID=P313316\" title=\"show this document on CDLI\" sec=\"P313316 obverse:9\">P313316 obverse:9</a></td><td class=\"tf\"><span class=\"txtp\">i-na <span  class=\"hlup\" >ni-</span><span  class=\"hlup\" >qi2-</span><span  class=\"hl hlup\" >i </span><span  class=\"hl hlup\" >na-</span><span  class=\"hlup\" >mu-</span><span  class=\"hlup\" >[x </span>x] im</span></td><td class=\"tf\"><span class=\"txtp\"><span  class=\"hlup\" >ni-</span><span  class=\"hlup\" >qi2-</span><span  class=\"hl hlup\" >i </span></span></td><td class=\"tf\"><span class=\"txtp\"><span  class=\"hl hlup\" >i </span></span></td><td class=\"tf\"><span class=\"txtp\"><span  class=\"hl hlup\" >na-</span><span  class=\"hlup\" >mu-</span><span  class=\"hlup\" >[x </span></span></td><td class=\"tf\"><span class=\"txtp\"><span  class=\"hl hlup\" >na-</span></span></td></tr>\n",
       "<tr class=\"tf\"><td class=\"tf\">2</td><td class=\"tf\"> <a href=\"https://cdli.ucla.edu/search/search_results.php?SearchMode=Text&amp;ObjectID=P313347\" title=\"show this document on CDLI\" sec=\"P313347 obverse:10\">P313347 obverse:10</a></td><td class=\"tf\"><span class=\"txtp\">u3 a-di <span  class=\"hl hlup\" >i </span><span  class=\"hl hlup\" >na </span>x x gu-na-ak-kum</span></td><td class=\"tf\"><span class=\"txtp\"><span  class=\"hl hlup\" >i </span></span></td><td class=\"tf\"><span class=\"txtp\"><span  class=\"hl hlup\" >i </span></span></td><td class=\"tf\"><span class=\"txtp\"><span  class=\"hl hlup\" >na </span></span></td><td class=\"tf\"><span class=\"txtp\"><span  class=\"hl hlup\" >na </span></span></td></tr>\n",
       "<tr class=\"tf\"><td class=\"tf\">3</td><td class=\"tf\"> <a href=\"https://cdli.ucla.edu/search/search_results.php?SearchMode=Text&amp;ObjectID=P387297\" title=\"show this document on CDLI\" sec=\"P387297 obverse:6\">P387297 obverse:6</a></td><td class=\"tf\"><span class=\"txtp\">_5(gesz2) gur_ a-na <span  class=\"hlup\" >pi-</span><span  class=\"hl hlup\" >i </span><span  class=\"hl hlup\" >na-</span><span  class=\"hlup\" >ri-</span><span  class=\"hlup\" >i-</span><span  class=\"hlup\" >im</span></span></td><td class=\"tf\"><span class=\"txtp\"><span  class=\"hlup\" >pi-</span><span  class=\"hl hlup\" >i </span></span></td><td class=\"tf\"><span class=\"txtp\"><span  class=\"hl hlup\" >i </span></span></td><td class=\"tf\"><span class=\"txtp\"><span  class=\"hl hlup\" >na-</span><span  class=\"hlup\" >ri-</span><span  class=\"hlup\" >i-</span><span  class=\"hlup\" >im</span></span></td><td class=\"tf\"><span class=\"txtp\"><span  class=\"hl hlup\" >na-</span></span></td></tr></table>"
      ],
      "text/plain": [
       "<IPython.core.display.HTML object>"
      ]
     },
     "metadata": {},
     "output_type": "display_data"
    }
   ],
   "source": [
    "A.table(resultsS)"
   ]
  },
  {
   "cell_type": "markdown",
   "metadata": {},
   "source": [
    "Finally, we come up with a query that looks for all `i-na` that are at the start of a word, including the cases where \n",
    "`i-na` is the whole word. In that case, we also want the next word included in our query.\n",
    "\n",
    "We cannot easily express this kind of if statement within our query, so we just ask for the words starting with `i-na`\n",
    "and we'll process the results to get the following word, if needed.\n",
    "\n",
    "If there is an `i-na` at the end of a line, we are not interested in it."
   ]
  },
  {
   "cell_type": "code",
   "execution_count": 23,
   "metadata": {},
   "outputs": [],
   "source": [
    "query = '''\n",
    "line\n",
    "  word\n",
    "    =: sign reading=i\n",
    "    <: sign reading=na\n",
    "'''"
   ]
  },
  {
   "cell_type": "code",
   "execution_count": 24,
   "metadata": {},
   "outputs": [
    {
     "name": "stdout",
     "output_type": "stream",
     "text": [
      "  0.61s 1760 results\n"
     ]
    }
   ],
   "source": [
    "results = A.search(query)"
   ]
  },
  {
   "cell_type": "code",
   "execution_count": 25,
   "metadata": {},
   "outputs": [
    {
     "data": {
      "text/html": [
       "<table>\n",
       "<tr class=\"tf\">\n",
       "  <th class=\"tf\">n</th><th class=\"tf\">p</th>\n",
       "  <th class=\"tf\">line</th><th>word</th><th>sign</th><th>sign</th>\n",
       "</tr>\n",
       "\n",
       "<tr class=\"tf\"><td class=\"tf\">1</td><td class=\"tf\"> <a href=\"https://cdli.ucla.edu/search/search_results.php?SearchMode=Text&amp;ObjectID=P509373\" title=\"show this document on CDLI\" sec=\"P509373 obverse:12\">P509373 obverse:12</a></td><td class=\"tf\"><span class=\"txtp\">u3 <span  class=\"hl hlup\" >i-</span><span  class=\"hl hlup\" >na </span>_uru_ x-szum{ki} sza-ak-nu id-di-a-am-ma</span></td><td class=\"tf\"><span class=\"txtp\"><span  class=\"hl hlup\" >i-</span><span  class=\"hl hlup\" >na </span></span></td><td class=\"tf\"><span class=\"txtp\"><span  class=\"hl hlup\" >i-</span></span></td><td class=\"tf\"><span class=\"txtp\"><span  class=\"hl hlup\" >na </span></span></td></tr>\n",
       "<tr class=\"tf\"><td class=\"tf\">2</td><td class=\"tf\"> <a href=\"https://cdli.ucla.edu/search/search_results.php?SearchMode=Text&amp;ObjectID=P509373\" title=\"show this document on CDLI\" sec=\"P509373 reverse:11'\">P509373 reverse:11'</a></td><td class=\"tf\"><span class=\"txtp\">a-na ki-ma <span  class=\"hl hlup\" >i-</span><span  class=\"hl hlup\" >[na] </span>_dub e2-gal_-lim</span></td><td class=\"tf\"><span class=\"txtp\"><span  class=\"hl hlup\" >i-</span><span  class=\"hl hlup\" >[na] </span></span></td><td class=\"tf\"><span class=\"txtp\"><span  class=\"hl hlup\" >i-</span></span></td><td class=\"tf\"><span class=\"txtp\"><span  class=\"hl hlup\" >[na] </span></span></td></tr>\n",
       "<tr class=\"tf\"><td class=\"tf\">3</td><td class=\"tf\"> <a href=\"https://cdli.ucla.edu/search/search_results.php?SearchMode=Text&amp;ObjectID=P509374\" title=\"show this document on CDLI\" sec=\"P509374 obverse:15\">P509374 obverse:15</a></td><td class=\"tf\"><span class=\"txtp\"><span  class=\"hl hlup\" >i-</span><span  class=\"hl hlup\" >na </span>_ka2 ki-lam_ sza-mi-im-ma</span></td><td class=\"tf\"><span class=\"txtp\"><span  class=\"hl hlup\" >i-</span><span  class=\"hl hlup\" >na </span></span></td><td class=\"tf\"><span class=\"txtp\"><span  class=\"hl hlup\" >i-</span></span></td><td class=\"tf\"><span class=\"txtp\"><span  class=\"hl hlup\" >na </span></span></td></tr>\n",
       "<tr class=\"tf\"><td class=\"tf\">4</td><td class=\"tf\"> <a href=\"https://cdli.ucla.edu/search/search_results.php?SearchMode=Text&amp;ObjectID=P509375\" title=\"show this document on CDLI\" sec=\"P509375 reverse:9\">P509375 reverse:9</a></td><td class=\"tf\"><span class=\"txtp\"><span  class=\"hl hlup\" >i-</span><span  class=\"hl hlup\" >na </span>la-hi-a-nim</span></td><td class=\"tf\"><span class=\"txtp\"><span  class=\"hl hlup\" >i-</span><span  class=\"hl hlup\" >na </span></span></td><td class=\"tf\"><span class=\"txtp\"><span  class=\"hl hlup\" >i-</span></span></td><td class=\"tf\"><span class=\"txtp\"><span  class=\"hl hlup\" >na </span></span></td></tr>\n",
       "<tr class=\"tf\"><td class=\"tf\">5</td><td class=\"tf\"> <a href=\"https://cdli.ucla.edu/search/search_results.php?SearchMode=Text&amp;ObjectID=P509376\" title=\"show this document on CDLI\" sec=\"P509376 obverse:4\">P509376 obverse:4</a></td><td class=\"tf\"><span class=\"txtp\">_u4 4(disz)-kam_ a-di <span  class=\"hl hlup\" >i-</span><span  class=\"hl hlup\" >na-</span><span  class=\"hlup\" >an-</span><span  class=\"hlup\" >na</span></span></td><td class=\"tf\"><span class=\"txtp\"><span  class=\"hl hlup\" >i-</span><span  class=\"hl hlup\" >na-</span><span  class=\"hlup\" >an-</span><span  class=\"hlup\" >na</span></span></td><td class=\"tf\"><span class=\"txtp\"><span  class=\"hl hlup\" >i-</span></span></td><td class=\"tf\"><span class=\"txtp\"><span  class=\"hl hlup\" >na-</span></span></td></tr>\n",
       "<tr class=\"tf\"><td class=\"tf\">6</td><td class=\"tf\"> <a href=\"https://cdli.ucla.edu/search/search_results.php?SearchMode=Text&amp;ObjectID=P509376\" title=\"show this document on CDLI\" sec=\"P509376 obverse:9\">P509376 obverse:9</a></td><td class=\"tf\"><span class=\"txtp\"><span  class=\"hl hlup\" >i-</span><span  class=\"hl hlup\" >na-</span><span  class=\"hlup\" >an-</span><span  class=\"hlup\" >na </span>na-bi-{d}suen</span></td><td class=\"tf\"><span class=\"txtp\"><span  class=\"hl hlup\" >i-</span><span  class=\"hl hlup\" >na-</span><span  class=\"hlup\" >an-</span><span  class=\"hlup\" >na </span></span></td><td class=\"tf\"><span class=\"txtp\"><span  class=\"hl hlup\" >i-</span></span></td><td class=\"tf\"><span class=\"txtp\"><span  class=\"hl hlup\" >na-</span></span></td></tr>\n",
       "<tr class=\"tf\"><td class=\"tf\">7</td><td class=\"tf\"> <a href=\"https://cdli.ucla.edu/search/search_results.php?SearchMode=Text&amp;ObjectID=P509376\" title=\"show this document on CDLI\" sec=\"P509376 reverse:4\">P509376 reverse:4</a></td><td class=\"tf\"><span class=\"txtp\"><span  class=\"hl hlup\" >i-</span><span  class=\"hl hlup\" >na </span>tup-pi2-ka pa-nam szu-ur2-szi-a-am-ma</span></td><td class=\"tf\"><span class=\"txtp\"><span  class=\"hl hlup\" >i-</span><span  class=\"hl hlup\" >na </span></span></td><td class=\"tf\"><span class=\"txtp\"><span  class=\"hl hlup\" >i-</span></span></td><td class=\"tf\"><span class=\"txtp\"><span  class=\"hl hlup\" >na </span></span></td></tr>\n",
       "<tr class=\"tf\"><td class=\"tf\">8</td><td class=\"tf\"> <a href=\"https://cdli.ucla.edu/search/search_results.php?SearchMode=Text&amp;ObjectID=P509377\" title=\"show this document on CDLI\" sec=\"P509377 obverse:1\">P509377 obverse:1</a></td><td class=\"tf\"><span class=\"txtp\">i-nu-ma <span  class=\"hl hlup\" >i-</span><span  class=\"hl hlup\" >na </span>_e2_ da-[...]</span></td><td class=\"tf\"><span class=\"txtp\"><span  class=\"hl hlup\" >i-</span><span  class=\"hl hlup\" >na </span></span></td><td class=\"tf\"><span class=\"txtp\"><span  class=\"hl hlup\" >i-</span></span></td><td class=\"tf\"><span class=\"txtp\"><span  class=\"hl hlup\" >na </span></span></td></tr>\n",
       "<tr class=\"tf\"><td class=\"tf\">9</td><td class=\"tf\"> <a href=\"https://cdli.ucla.edu/search/search_results.php?SearchMode=Text&amp;ObjectID=P509377\" title=\"show this document on CDLI\" sec=\"P509377 reverse:4\">P509377 reverse:4</a></td><td class=\"tf\"><span class=\"txtp\">1(disz) _amar mu_ 3(disz) <span  class=\"hl hlup\" >i-</span><span  class=\"hl hlup\" >na </span>i-ni-ia ta#-[...]</span></td><td class=\"tf\"><span class=\"txtp\"><span  class=\"hl hlup\" >i-</span><span  class=\"hl hlup\" >na </span></span></td><td class=\"tf\"><span class=\"txtp\"><span  class=\"hl hlup\" >i-</span></span></td><td class=\"tf\"><span class=\"txtp\"><span  class=\"hl hlup\" >na </span></span></td></tr>\n",
       "<tr class=\"tf\"><td class=\"tf\">10</td><td class=\"tf\"> <a href=\"https://cdli.ucla.edu/search/search_results.php?SearchMode=Text&amp;ObjectID=P509377\" title=\"show this document on CDLI\" sec=\"P509377 reverse:5\">P509377 reverse:5</a></td><td class=\"tf\"><span class=\"txtp\"><span  class=\"hl hlup\" >i-</span><span  class=\"hl hlup\" >na </span>_gu4-hi-a_-ia ta-as-su2-uq-ma a-na# [...]</span></td><td class=\"tf\"><span class=\"txtp\"><span  class=\"hl hlup\" >i-</span><span  class=\"hl hlup\" >na </span></span></td><td class=\"tf\"><span class=\"txtp\"><span  class=\"hl hlup\" >i-</span></span></td><td class=\"tf\"><span class=\"txtp\"><span  class=\"hl hlup\" >na </span></span></td></tr></table>"
      ],
      "text/plain": [
       "<IPython.core.display.HTML object>"
      ]
     },
     "metadata": {},
     "output_type": "display_data"
    }
   ],
   "source": [
    "A.table(results, end=10)"
   ]
  },
  {
   "cell_type": "markdown",
   "metadata": {},
   "source": [
    "# All propositions\n",
    "\n",
    "Now let's query for all words that start with a proposition."
   ]
  },
  {
   "cell_type": "code",
   "execution_count": 26,
   "metadata": {},
   "outputs": [],
   "source": [
    "query = '''\n",
    "word\n",
    "/with/\n",
    "  =: sign reading=i\n",
    "  <: sign reading=na\n",
    "/or/\n",
    "  =: sign reading=a\n",
    "  <: sign reading=na\n",
    "/or/\n",
    "  =: sign reading=e\n",
    "  <: sign reading=li\n",
    "/or/\n",
    "  =: sign reading=isz\n",
    "  <: sign reading=tu\n",
    "/or/\n",
    "  =: sign reading=it\n",
    "  <: sign reading=ti\n",
    "/-/\n",
    "'''"
   ]
  },
  {
   "cell_type": "markdown",
   "metadata": {},
   "source": [
    "Explanation: we have already encountered the `/with/` quantifiers. Now we see it in its full form: as a list of alternatives.\n",
    "\n",
    "Again: none of the sign nodes that attest the alternatives, end up in the results.\n",
    "\n",
    "That does not matter, we only want the words.\n",
    "\n",
    "With the list of words in hand, we are going to make a hand-coded tuple of all cases with nice highlighting."
   ]
  },
  {
   "cell_type": "code",
   "execution_count": 27,
   "metadata": {},
   "outputs": [
    {
     "name": "stdout",
     "output_type": "stream",
     "text": [
      "  0.56s 6840 results\n"
     ]
    }
   ],
   "source": [
    "rawResults = A.search(query)"
   ]
  },
  {
   "cell_type": "code",
   "execution_count": 28,
   "metadata": {},
   "outputs": [
    {
     "data": {
      "text/plain": [
       "[(258163,),\n",
       " (258171,),\n",
       " (258199,),\n",
       " (258205,),\n",
       " (258261,),\n",
       " (258274,),\n",
       " (258276,),\n",
       " (258314,),\n",
       " (258336,),\n",
       " (258362,)]"
      ]
     },
     "execution_count": 28,
     "metadata": {},
     "output_type": "execute_result"
    }
   ],
   "source": [
    "rawResults[0:10]"
   ]
  },
  {
   "cell_type": "markdown",
   "metadata": {},
   "source": [
    "`rawResults` is a tuple of singleton tuples, each containing just a word node.\n",
    "\n",
    "In the following code, we walk through all the results, and\n",
    "\n",
    "* retrieve the containing line\n",
    "* highlight the preposition within the word\n",
    "* highlight the remaining material in the word in a different color\n",
    "* if there is no remaining material in the word, draw in the next word and highlight that."
   ]
  },
  {
   "cell_type": "code",
   "execution_count": 29,
   "metadata": {},
   "outputs": [],
   "source": [
    "results = []\n",
    "highlights = {}\n",
    "\n",
    "for (w,) in rawResults:\n",
    "  line = L.u(w, otype='line')[0]\n",
    "  signs = L.d(w, otype='sign')\n",
    "  highlights[signs[0]] = 'orange'\n",
    "  highlights[signs[1]] = 'orange'\n",
    "  if len(signs) > 2:\n",
    "    noun = signs[2:]\n",
    "  else:\n",
    "    nextWord = L.n(w, otype='word')[0]\n",
    "    noun = L.d(nextWord, otype='sign')\n",
    "  for s in noun:\n",
    "    highlights[s] = 'aquamarine'\n",
    "  results.append((line, w, nextWord))"
   ]
  },
  {
   "cell_type": "code",
   "execution_count": 30,
   "metadata": {},
   "outputs": [
    {
     "data": {
      "text/html": [
       "<table>\n",
       "<tr class=\"tf\">\n",
       "  <th class=\"tf\">n</th><th class=\"tf\">p</th>\n",
       "  <th class=\"tf\">line</th><th>word</th><th>word</th>\n",
       "</tr>\n",
       "\n",
       "<tr class=\"tf\"><td class=\"tf\">1</td><td class=\"tf\"> <a href=\"https://cdli.ucla.edu/search/search_results.php?SearchMode=Text&amp;ObjectID=P509373\" title=\"show this document on CDLI\" sec=\"P509373 obverse:1\">P509373 obverse:1</a></td><td class=\"tf\"><span class=\"txtp\"><span  class=\"hl\"  style=\"background-color: orange;\" >[a-</span><span  class=\"hl\"  style=\"background-color: orange;\" >na] </span><span  class=\"hl\"  style=\"background-color: aquamarine;\" >_{d}</span><span  class=\"hl\"  style=\"background-color: aquamarine;\" >suen_-</span><span  class=\"hl\"  style=\"background-color: aquamarine;\" >i-</span><span  class=\"hl\"  style=\"background-color: aquamarine;\" >[din-</span><span  class=\"hl\"  style=\"background-color: aquamarine;\" >nam]</span></span></td><td class=\"tf\"><span class=\"txtp\"><span  class=\"hl\"  style=\"background-color: orange;\" >[a-</span><span  class=\"hl\"  style=\"background-color: orange;\" >na] </span></span></td><td class=\"tf\"><span class=\"txtp\"><span  class=\"hl\"  style=\"background-color: aquamarine;\" >_{d}</span><span  class=\"hl\"  style=\"background-color: aquamarine;\" >suen_-</span><span  class=\"hl\"  style=\"background-color: aquamarine;\" >i-</span><span  class=\"hl\"  style=\"background-color: aquamarine;\" >[din-</span><span  class=\"hl\"  style=\"background-color: aquamarine;\" >nam]</span></span></td></tr>\n",
       "<tr class=\"tf\"><td class=\"tf\">2</td><td class=\"tf\"> <a href=\"https://cdli.ucla.edu/search/search_results.php?SearchMode=Text&amp;ObjectID=P509373\" title=\"show this document on CDLI\" sec=\"P509373 obverse:4\">P509373 obverse:4</a></td><td class=\"tf\"><span class=\"txtp\">_{d}utu_ u3 _{d}[marduk]_ <span  class=\"hl\"  style=\"background-color: orange;\" >a-</span><span  class=\"hl\"  style=\"background-color: orange;\" >na </span><span  class=\"hl\"  style=\"background-color: aquamarine;\" >da-</span><span  class=\"hl\"  style=\"background-color: aquamarine;\" >ri-</span><span  class=\"hl\"  style=\"background-color: aquamarine;\" >a-</span><span  class=\"hl\"  style=\"background-color: aquamarine;\" >[tim]</span></span></td><td class=\"tf\"><span class=\"txtp\"><span  class=\"hl\"  style=\"background-color: orange;\" >a-</span><span  class=\"hl\"  style=\"background-color: orange;\" >na </span></span></td><td class=\"tf\"><span class=\"txtp\"><span  class=\"hl\"  style=\"background-color: aquamarine;\" >da-</span><span  class=\"hl\"  style=\"background-color: aquamarine;\" >ri-</span><span  class=\"hl\"  style=\"background-color: aquamarine;\" >a-</span><span  class=\"hl\"  style=\"background-color: aquamarine;\" >[tim]</span></span></td></tr>\n",
       "<tr class=\"tf\"><td class=\"tf\">3</td><td class=\"tf\"> <a href=\"https://cdli.ucla.edu/search/search_results.php?SearchMode=Text&amp;ObjectID=P509373\" title=\"show this document on CDLI\" sec=\"P509373 obverse:11\">P509373 obverse:11</a></td><td class=\"tf\"><span class=\"txtp\">sza _{d}utu_-ha-zi-[ir] <span  class=\"hl\"  style=\"background-color: orange;\" >isz-</span><span  class=\"hl\"  style=\"background-color: orange;\" >tu </span><span  class=\"hl\"  style=\"background-color: aquamarine;\" >_mu </span>7(disz) kam_ id-di-nu-szum</span></td><td class=\"tf\"><span class=\"txtp\"><span  class=\"hl\"  style=\"background-color: orange;\" >isz-</span><span  class=\"hl\"  style=\"background-color: orange;\" >tu </span></span></td><td class=\"tf\"><span class=\"txtp\"><span  class=\"hl\"  style=\"background-color: aquamarine;\" >_mu </span></span></td></tr>\n",
       "<tr class=\"tf\"><td class=\"tf\">4</td><td class=\"tf\"> <a href=\"https://cdli.ucla.edu/search/search_results.php?SearchMode=Text&amp;ObjectID=P509373\" title=\"show this document on CDLI\" sec=\"P509373 obverse:12\">P509373 obverse:12</a></td><td class=\"tf\"><span class=\"txtp\">u3 <span  class=\"hl\"  style=\"background-color: orange;\" >i-</span><span  class=\"hl\"  style=\"background-color: orange;\" >na </span><span  class=\"hl\"  style=\"background-color: aquamarine;\" >_uru_ </span>x-szum{ki} sza-ak-nu id-di-a-am-ma</span></td><td class=\"tf\"><span class=\"txtp\"><span  class=\"hl\"  style=\"background-color: orange;\" >i-</span><span  class=\"hl\"  style=\"background-color: orange;\" >na </span></span></td><td class=\"tf\"><span class=\"txtp\"><span  class=\"hl\"  style=\"background-color: aquamarine;\" >_uru_ </span></span></td></tr>\n",
       "<tr class=\"tf\"><td class=\"tf\">5</td><td class=\"tf\"> <a href=\"https://cdli.ucla.edu/search/search_results.php?SearchMode=Text&amp;ObjectID=P509373\" title=\"show this document on CDLI\" sec=\"P509373 reverse:8'\">P509373 reverse:8'</a></td><td class=\"tf\"><span class=\"txtp\"><span  class=\"hl\"  style=\"background-color: orange;\" >a-</span><span  class=\"hl\"  style=\"background-color: orange;\" >[na] </span><span  class=\"hl\"  style=\"background-color: aquamarine;\" >sa-</span><span  class=\"hl\"  style=\"background-color: aquamarine;\" >[am-</span><span  class=\"hl\"  style=\"background-color: aquamarine;\" >su]-</span><span  class=\"hl\"  style=\"background-color: aquamarine;\" >ba-</span><span  class=\"hl\"  style=\"background-color: aquamarine;\" >ah-</span><span  class=\"hl\"  style=\"background-color: aquamarine;\" >[la] </span>x x li ig bu</span></td><td class=\"tf\"><span class=\"txtp\"><span  class=\"hl\"  style=\"background-color: orange;\" >a-</span><span  class=\"hl\"  style=\"background-color: orange;\" >[na] </span></span></td><td class=\"tf\"><span class=\"txtp\"><span  class=\"hl\"  style=\"background-color: aquamarine;\" >sa-</span><span  class=\"hl\"  style=\"background-color: aquamarine;\" >[am-</span><span  class=\"hl\"  style=\"background-color: aquamarine;\" >su]-</span><span  class=\"hl\"  style=\"background-color: aquamarine;\" >ba-</span><span  class=\"hl\"  style=\"background-color: aquamarine;\" >ah-</span><span  class=\"hl\"  style=\"background-color: aquamarine;\" >[la] </span></span></td></tr>\n",
       "<tr class=\"tf\"><td class=\"tf\">6</td><td class=\"tf\"> <a href=\"https://cdli.ucla.edu/search/search_results.php?SearchMode=Text&amp;ObjectID=P509373\" title=\"show this document on CDLI\" sec=\"P509373 reverse:11'\">P509373 reverse:11'</a></td><td class=\"tf\"><span class=\"txtp\"><span  class=\"hl\"  style=\"background-color: orange;\" >a-</span><span  class=\"hl\"  style=\"background-color: orange;\" >na </span><span  class=\"hl\"  style=\"background-color: aquamarine;\" >ki-</span><span  class=\"hl\"  style=\"background-color: aquamarine;\" >ma </span><span  class=\"hl\"  style=\"background-color: orange;\" >i-</span><span  class=\"hl\"  style=\"background-color: orange;\" >[na] </span><span  class=\"hl\"  style=\"background-color: aquamarine;\" >_dub </span>e2-gal_-lim</span></td><td class=\"tf\"><span class=\"txtp\"><span  class=\"hl\"  style=\"background-color: orange;\" >a-</span><span  class=\"hl\"  style=\"background-color: orange;\" >na </span></span></td><td class=\"tf\"><span class=\"txtp\"><span  class=\"hl\"  style=\"background-color: aquamarine;\" >ki-</span><span  class=\"hl\"  style=\"background-color: aquamarine;\" >ma </span></span></td></tr>\n",
       "<tr class=\"tf\"><td class=\"tf\">7</td><td class=\"tf\"> <a href=\"https://cdli.ucla.edu/search/search_results.php?SearchMode=Text&amp;ObjectID=P509373\" title=\"show this document on CDLI\" sec=\"P509373 reverse:11'\">P509373 reverse:11'</a></td><td class=\"tf\"><span class=\"txtp\"><span  class=\"hl\"  style=\"background-color: orange;\" >a-</span><span  class=\"hl\"  style=\"background-color: orange;\" >na </span><span  class=\"hl\"  style=\"background-color: aquamarine;\" >ki-</span><span  class=\"hl\"  style=\"background-color: aquamarine;\" >ma </span><span  class=\"hl\"  style=\"background-color: orange;\" >i-</span><span  class=\"hl\"  style=\"background-color: orange;\" >[na] </span><span  class=\"hl\"  style=\"background-color: aquamarine;\" >_dub </span>e2-gal_-lim</span></td><td class=\"tf\"><span class=\"txtp\"><span  class=\"hl\"  style=\"background-color: orange;\" >i-</span><span  class=\"hl\"  style=\"background-color: orange;\" >[na] </span></span></td><td class=\"tf\"><span class=\"txtp\"><span  class=\"hl\"  style=\"background-color: aquamarine;\" >_dub </span></span></td></tr>\n",
       "<tr class=\"tf\"><td class=\"tf\">8</td><td class=\"tf\"> <a href=\"https://cdli.ucla.edu/search/search_results.php?SearchMode=Text&amp;ObjectID=P509374\" title=\"show this document on CDLI\" sec=\"P509374 obverse:1\">P509374 obverse:1</a></td><td class=\"tf\"><span class=\"txtp\"><span  class=\"hl\"  style=\"background-color: orange;\" >a-</span><span  class=\"hl\"  style=\"background-color: orange;\" >[na] </span><span  class=\"hl\"  style=\"background-color: aquamarine;\" >i3-</span><span  class=\"hl\"  style=\"background-color: aquamarine;\" >li2-</span><span  class=\"hl\"  style=\"background-color: aquamarine;\" >i-</span><span  class=\"hl\"  style=\"background-color: aquamarine;\" >qi2-</span><span  class=\"hl\"  style=\"background-color: aquamarine;\" >sza-</span><span  class=\"hl\"  style=\"background-color: aquamarine;\" >am</span></span></td><td class=\"tf\"><span class=\"txtp\"><span  class=\"hl\"  style=\"background-color: orange;\" >a-</span><span  class=\"hl\"  style=\"background-color: orange;\" >[na] </span></span></td><td class=\"tf\"><span class=\"txtp\"><span  class=\"hl\"  style=\"background-color: aquamarine;\" >i3-</span><span  class=\"hl\"  style=\"background-color: aquamarine;\" >li2-</span><span  class=\"hl\"  style=\"background-color: aquamarine;\" >i-</span><span  class=\"hl\"  style=\"background-color: aquamarine;\" >qi2-</span><span  class=\"hl\"  style=\"background-color: aquamarine;\" >sza-</span><span  class=\"hl\"  style=\"background-color: aquamarine;\" >am</span></span></td></tr>\n",
       "<tr class=\"tf\"><td class=\"tf\">9</td><td class=\"tf\"> <a href=\"https://cdli.ucla.edu/search/search_results.php?SearchMode=Text&amp;ObjectID=P509374\" title=\"show this document on CDLI\" sec=\"P509374 obverse:7\">P509374 obverse:7</a></td><td class=\"tf\"><span class=\"txtp\">_dub_-pi2 <span  class=\"hl\"  style=\"background-color: orange;\" >a-</span><span  class=\"hl\"  style=\"background-color: orange;\" >na </span><span  class=\"hl\"  style=\"background-color: aquamarine;\" >nu-</span><span  class=\"hl\"  style=\"background-color: aquamarine;\" >un-</span><span  class=\"hl\"  style=\"background-color: aquamarine;\" >na-</span><span  class=\"hl\"  style=\"background-color: aquamarine;\" >tum</span></span></td><td class=\"tf\"><span class=\"txtp\"><span  class=\"hl\"  style=\"background-color: orange;\" >a-</span><span  class=\"hl\"  style=\"background-color: orange;\" >na </span></span></td><td class=\"tf\"><span class=\"txtp\"><span  class=\"hl\"  style=\"background-color: aquamarine;\" >nu-</span><span  class=\"hl\"  style=\"background-color: aquamarine;\" >un-</span><span  class=\"hl\"  style=\"background-color: aquamarine;\" >na-</span><span  class=\"hl\"  style=\"background-color: aquamarine;\" >tum</span></span></td></tr>\n",
       "<tr class=\"tf\"><td class=\"tf\">10</td><td class=\"tf\"> <a href=\"https://cdli.ucla.edu/search/search_results.php?SearchMode=Text&amp;ObjectID=P509374\" title=\"show this document on CDLI\" sec=\"P509374 obverse:15\">P509374 obverse:15</a></td><td class=\"tf\"><span class=\"txtp\"><span  class=\"hl\"  style=\"background-color: orange;\" >i-</span><span  class=\"hl\"  style=\"background-color: orange;\" >na </span><span  class=\"hl\"  style=\"background-color: aquamarine;\" >_ka2 </span>ki-lam_ sza-mi-im-ma</span></td><td class=\"tf\"><span class=\"txtp\"><span  class=\"hl\"  style=\"background-color: orange;\" >i-</span><span  class=\"hl\"  style=\"background-color: orange;\" >na </span></span></td><td class=\"tf\"><span class=\"txtp\"><span  class=\"hl\"  style=\"background-color: aquamarine;\" >_ka2 </span></span></td></tr></table>"
      ],
      "text/plain": [
       "<IPython.core.display.HTML object>"
      ]
     },
     "metadata": {},
     "output_type": "display_data"
    }
   ],
   "source": [
    "A.table(results, end=10, highlights=highlights)"
   ]
  },
  {
   "cell_type": "code",
   "execution_count": 31,
   "metadata": {},
   "outputs": [
    {
     "data": {
      "text/html": [
       "<table>\n",
       "<tr class=\"tf\">\n",
       "  <th class=\"tf\">n</th><th class=\"tf\">p</th>\n",
       "  <th class=\"tf\">line</th><th>word</th><th>word</th>\n",
       "</tr>\n",
       "\n",
       "<tr class=\"tf\"><td class=\"tf\">1000</td><td class=\"tf\"> <a href=\"https://cdli.ucla.edu/search/search_results.php?SearchMode=Text&amp;ObjectID=P510698\" title=\"show this document on CDLI\" sec=\"P510698 obverse:11\">P510698 obverse:11</a></td><td class=\"tf\"><span class=\"txtp\">szum-ma <span  class=\"hl\"  style=\"background-color: orange;\" >i-</span><span  class=\"hl\"  style=\"background-color: orange;\" >na </span><span  class=\"hl\"  style=\"background-color: aquamarine;\" >ki-</span><span  class=\"hl\"  style=\"background-color: aquamarine;\" >tim </span>a-bi</span></td><td class=\"tf\"><span class=\"txtp\"><span  class=\"hl\"  style=\"background-color: orange;\" >i-</span><span  class=\"hl\"  style=\"background-color: orange;\" >na </span></span></td><td class=\"tf\"><span class=\"txtp\"><span  class=\"hl\"  style=\"background-color: aquamarine;\" >ki-</span><span  class=\"hl\"  style=\"background-color: aquamarine;\" >tim </span></span></td></tr>\n",
       "<tr class=\"tf\"><td class=\"tf\">1001</td><td class=\"tf\"> <a href=\"https://cdli.ucla.edu/search/search_results.php?SearchMode=Text&amp;ObjectID=P510698\" title=\"show this document on CDLI\" sec=\"P510698 obverse:13\">P510698 obverse:13</a></td><td class=\"tf\"><span class=\"txtp\"><span  class=\"hl\"  style=\"background-color: orange;\" >i-</span><span  class=\"hl\"  style=\"background-color: orange;\" >na </span><span  class=\"hl\"  style=\"background-color: aquamarine;\" >an-</span><span  class=\"hl\"  style=\"background-color: aquamarine;\" >ni-</span><span  class=\"hl\"  style=\"background-color: aquamarine;\" >tim </span>et,-ra-an-ni-i-ma</span></td><td class=\"tf\"><span class=\"txtp\"><span  class=\"hl\"  style=\"background-color: orange;\" >i-</span><span  class=\"hl\"  style=\"background-color: orange;\" >na </span></span></td><td class=\"tf\"><span class=\"txtp\"><span  class=\"hl\"  style=\"background-color: aquamarine;\" >an-</span><span  class=\"hl\"  style=\"background-color: aquamarine;\" >ni-</span><span  class=\"hl\"  style=\"background-color: aquamarine;\" >tim </span></span></td></tr>\n",
       "<tr class=\"tf\"><td class=\"tf\">1002</td><td class=\"tf\"> <a href=\"https://cdli.ucla.edu/search/search_results.php?SearchMode=Text&amp;ObjectID=P510698\" title=\"show this document on CDLI\" sec=\"P510698 obverse:14\">P510698 obverse:14</a></td><td class=\"tf\"><span class=\"txtp\">lu wa-ra-ad-ka sza da-ri#-a-tim <span  class=\"hl\"  style=\"background-color: orange;\" >a-</span><span  class=\"hl\"  style=\"background-color: orange;\" >na#-</span><span  class=\"hl\"  style=\"background-color: aquamarine;\" >ku#</span></span></td><td class=\"tf\"><span class=\"txtp\"><span  class=\"hl\"  style=\"background-color: orange;\" >a-</span><span  class=\"hl\"  style=\"background-color: orange;\" >na#-</span><span  class=\"hl\"  style=\"background-color: aquamarine;\" >ku#</span></span></td><td class=\"tf\"><span class=\"txtp\"><span  class=\"hl\"  style=\"background-color: aquamarine;\" >an-</span><span  class=\"hl\"  style=\"background-color: aquamarine;\" >ni-</span><span  class=\"hl\"  style=\"background-color: aquamarine;\" >tim </span></span></td></tr>\n",
       "<tr class=\"tf\"><td class=\"tf\">1003</td><td class=\"tf\"> <a href=\"https://cdli.ucla.edu/search/search_results.php?SearchMode=Text&amp;ObjectID=P510699\" title=\"show this document on CDLI\" sec=\"P510699 obverse:1\">P510699 obverse:1</a></td><td class=\"tf\"><span class=\"txtp\"><span  class=\"hl\"  style=\"background-color: orange;\" >a-</span><span  class=\"hl\"  style=\"background-color: orange;\" >na </span><span  class=\"hl\"  style=\"background-color: aquamarine;\" >i3-</span><span  class=\"hl\"  style=\"background-color: aquamarine;\" >li2-</span><span  class=\"hl\"  style=\"background-color: aquamarine;\" >x-</span><span  class=\"hl\"  style=\"background-color: aquamarine;\" >x-</span><span  class=\"hl\"  style=\"background-color: aquamarine;\" >AD</span></span></td><td class=\"tf\"><span class=\"txtp\"><span  class=\"hl\"  style=\"background-color: orange;\" >a-</span><span  class=\"hl\"  style=\"background-color: orange;\" >na </span></span></td><td class=\"tf\"><span class=\"txtp\"><span  class=\"hl\"  style=\"background-color: aquamarine;\" >i3-</span><span  class=\"hl\"  style=\"background-color: aquamarine;\" >li2-</span><span  class=\"hl\"  style=\"background-color: aquamarine;\" >x-</span><span  class=\"hl\"  style=\"background-color: aquamarine;\" >x-</span><span  class=\"hl\"  style=\"background-color: aquamarine;\" >AD</span></span></td></tr>\n",
       "<tr class=\"tf\"><td class=\"tf\">1004</td><td class=\"tf\"> <a href=\"https://cdli.ucla.edu/search/search_results.php?SearchMode=Text&amp;ObjectID=P510699\" title=\"show this document on CDLI\" sec=\"P510699 obverse:4\">P510699 obverse:4</a></td><td class=\"tf\"><span class=\"txtp\"><span  class=\"hl\"  style=\"background-color: orange;\" >a-</span><span  class=\"hl\"  style=\"background-color: orange;\" >na </span><span  class=\"hl\"  style=\"background-color: aquamarine;\" >mi-</span><span  class=\"hl\"  style=\"background-color: aquamarine;\" >ni-</span><span  class=\"hl\"  style=\"background-color: aquamarine;\" >im</span></span></td><td class=\"tf\"><span class=\"txtp\"><span  class=\"hl\"  style=\"background-color: orange;\" >a-</span><span  class=\"hl\"  style=\"background-color: orange;\" >na </span></span></td><td class=\"tf\"><span class=\"txtp\"><span  class=\"hl\"  style=\"background-color: aquamarine;\" >mi-</span><span  class=\"hl\"  style=\"background-color: aquamarine;\" >ni-</span><span  class=\"hl\"  style=\"background-color: aquamarine;\" >im</span></span></td></tr>\n",
       "<tr class=\"tf\"><td class=\"tf\">1005</td><td class=\"tf\"> <a href=\"https://cdli.ucla.edu/search/search_results.php?SearchMode=Text&amp;ObjectID=P510699\" title=\"show this document on CDLI\" sec=\"P510699 obverse:5\">P510699 obverse:5</a></td><td class=\"tf\"><span class=\"txtp\"><span  class=\"hl\"  style=\"background-color: orange;\" >a-</span><span  class=\"hl\"  style=\"background-color: orange;\" >na </span><span  class=\"hl\"  style=\"background-color: aquamarine;\" >tu-</span><span  class=\"hl\"  style=\"background-color: aquamarine;\" >uk-</span><span  class=\"hl\"  style=\"background-color: aquamarine;\" >la-</span><span  class=\"hl\"  style=\"background-color: aquamarine;\" >ti</span></span></td><td class=\"tf\"><span class=\"txtp\"><span  class=\"hl\"  style=\"background-color: orange;\" >a-</span><span  class=\"hl\"  style=\"background-color: orange;\" >na </span></span></td><td class=\"tf\"><span class=\"txtp\"><span  class=\"hl\"  style=\"background-color: aquamarine;\" >tu-</span><span  class=\"hl\"  style=\"background-color: aquamarine;\" >uk-</span><span  class=\"hl\"  style=\"background-color: aquamarine;\" >la-</span><span  class=\"hl\"  style=\"background-color: aquamarine;\" >ti</span></span></td></tr>\n",
       "<tr class=\"tf\"><td class=\"tf\">1006</td><td class=\"tf\"> <a href=\"https://cdli.ucla.edu/search/search_results.php?SearchMode=Text&amp;ObjectID=P510699\" title=\"show this document on CDLI\" sec=\"P510699 reverse:5\">P510699 reverse:5</a></td><td class=\"tf\"><span class=\"txtp\"><span  class=\"hl\"  style=\"background-color: orange;\" >a-</span><span  class=\"hl\"  style=\"background-color: orange;\" >na </span><span  class=\"hl\"  style=\"background-color: aquamarine;\" >szu-</span><span  class=\"hl\"  style=\"background-color: aquamarine;\" >mi-</span><span  class=\"hl\"  style=\"background-color: aquamarine;\" >a-</span><span  class=\"hl\"  style=\"background-color: aquamarine;\" >hi-</span><span  class=\"hl\"  style=\"background-color: aquamarine;\" >ia</span></span></td><td class=\"tf\"><span class=\"txtp\"><span  class=\"hl\"  style=\"background-color: orange;\" >a-</span><span  class=\"hl\"  style=\"background-color: orange;\" >na </span></span></td><td class=\"tf\"><span class=\"txtp\"><span  class=\"hl\"  style=\"background-color: aquamarine;\" >szu-</span><span  class=\"hl\"  style=\"background-color: aquamarine;\" >mi-</span><span  class=\"hl\"  style=\"background-color: aquamarine;\" >a-</span><span  class=\"hl\"  style=\"background-color: aquamarine;\" >hi-</span><span  class=\"hl\"  style=\"background-color: aquamarine;\" >ia</span></span></td></tr>\n",
       "<tr class=\"tf\"><td class=\"tf\">1007</td><td class=\"tf\"> <a href=\"https://cdli.ucla.edu/search/search_results.php?SearchMode=Text&amp;ObjectID=P510699\" title=\"show this document on CDLI\" sec=\"P510699 reverse:8\">P510699 reverse:8</a></td><td class=\"tf\"><span class=\"txtp\"><span  class=\"hl\"  style=\"background-color: orange;\" >a-</span><span  class=\"hl\"  style=\"background-color: orange;\" >na-</span><span  class=\"hl\"  style=\"background-color: aquamarine;\" >ku </span>_ku3-babbar_</span></td><td class=\"tf\"><span class=\"txtp\"><span  class=\"hl\"  style=\"background-color: orange;\" >a-</span><span  class=\"hl\"  style=\"background-color: orange;\" >na-</span><span  class=\"hl\"  style=\"background-color: aquamarine;\" >ku </span></span></td><td class=\"tf\"><span class=\"txtp\"><span  class=\"hl\"  style=\"background-color: aquamarine;\" >szu-</span><span  class=\"hl\"  style=\"background-color: aquamarine;\" >mi-</span><span  class=\"hl\"  style=\"background-color: aquamarine;\" >a-</span><span  class=\"hl\"  style=\"background-color: aquamarine;\" >hi-</span><span  class=\"hl\"  style=\"background-color: aquamarine;\" >ia</span></span></td></tr>\n",
       "<tr class=\"tf\"><td class=\"tf\">1008</td><td class=\"tf\"> <a href=\"https://cdli.ucla.edu/search/search_results.php?SearchMode=Text&amp;ObjectID=P510700\" title=\"show this document on CDLI\" sec=\"P510700 obverse:1\">P510700 obverse:1</a></td><td class=\"tf\"><span class=\"txtp\"><span  class=\"hl\"  style=\"background-color: orange;\" >a-</span><span  class=\"hl\"  style=\"background-color: orange;\" >na </span><span  class=\"hl\"  style=\"background-color: aquamarine;\" >sza-</span><span  class=\"hl\"  style=\"background-color: aquamarine;\" >pi2-</span><span  class=\"hl\"  style=\"background-color: aquamarine;\" >ri-</span><span  class=\"hl\"  style=\"background-color: aquamarine;\" >ia!(I) </span>qi2-bi2-ma</span></td><td class=\"tf\"><span class=\"txtp\"><span  class=\"hl\"  style=\"background-color: orange;\" >a-</span><span  class=\"hl\"  style=\"background-color: orange;\" >na </span></span></td><td class=\"tf\"><span class=\"txtp\"><span  class=\"hl\"  style=\"background-color: aquamarine;\" >sza-</span><span  class=\"hl\"  style=\"background-color: aquamarine;\" >pi2-</span><span  class=\"hl\"  style=\"background-color: aquamarine;\" >ri-</span><span  class=\"hl\"  style=\"background-color: aquamarine;\" >ia!(I) </span></span></td></tr>\n",
       "<tr class=\"tf\"><td class=\"tf\">1009</td><td class=\"tf\"> <a href=\"https://cdli.ucla.edu/search/search_results.php?SearchMode=Text&amp;ObjectID=P510700\" title=\"show this document on CDLI\" sec=\"P510700 obverse:5\">P510700 obverse:5</a></td><td class=\"tf\"><span class=\"txtp\"><span  class=\"hl\"  style=\"background-color: orange;\" >i-</span><span  class=\"hl\"  style=\"background-color: orange;\" >na </span><span  class=\"hl\"  style=\"background-color: aquamarine;\" >{iri}</span><span  class=\"hl\"  style=\"background-color: aquamarine;\" >dag-</span><span  class=\"hl\"  style=\"background-color: aquamarine;\" >la-</span><span  class=\"hl\"  style=\"background-color: aquamarine;\" >a </span>_gu4 hi-a_-ni ka-su2-ma</span></td><td class=\"tf\"><span class=\"txtp\"><span  class=\"hl\"  style=\"background-color: orange;\" >i-</span><span  class=\"hl\"  style=\"background-color: orange;\" >na </span></span></td><td class=\"tf\"><span class=\"txtp\"><span  class=\"hl\"  style=\"background-color: aquamarine;\" >{iri}</span><span  class=\"hl\"  style=\"background-color: aquamarine;\" >dag-</span><span  class=\"hl\"  style=\"background-color: aquamarine;\" >la-</span><span  class=\"hl\"  style=\"background-color: aquamarine;\" >a </span></span></td></tr>\n",
       "<tr class=\"tf\"><td class=\"tf\">1010</td><td class=\"tf\"> <a href=\"https://cdli.ucla.edu/search/search_results.php?SearchMode=Text&amp;ObjectID=P510700\" title=\"show this document on CDLI\" sec=\"P510700 obverse:6\">P510700 obverse:6</a></td><td class=\"tf\"><span class=\"txtp\">_gu4_ <span  class=\"hl\"  style=\"background-color: orange;\" >isz-</span><span  class=\"hl\"  style=\"background-color: orange;\" >tu </span><span  class=\"hl\"  style=\"background-color: aquamarine;\" >szi-</span><span  class=\"hl\"  style=\"background-color: aquamarine;\" >ip-</span><span  class=\"hl\"  style=\"background-color: aquamarine;\" >ri </span>ki-ma pa-t,a-ri-szu-nu</span></td><td class=\"tf\"><span class=\"txtp\"><span  class=\"hl\"  style=\"background-color: orange;\" >isz-</span><span  class=\"hl\"  style=\"background-color: orange;\" >tu </span></span></td><td class=\"tf\"><span class=\"txtp\"><span  class=\"hl\"  style=\"background-color: aquamarine;\" >szi-</span><span  class=\"hl\"  style=\"background-color: aquamarine;\" >ip-</span><span  class=\"hl\"  style=\"background-color: aquamarine;\" >ri </span></span></td></tr></table>"
      ],
      "text/plain": [
       "<IPython.core.display.HTML object>"
      ]
     },
     "metadata": {},
     "output_type": "display_data"
    }
   ],
   "source": [
    "A.table(results, start=1000, end=1010, highlights=highlights)"
   ]
  },
  {
   "cell_type": "code",
   "execution_count": 32,
   "metadata": {},
   "outputs": [
    {
     "data": {
      "text/html": [
       "<table>\n",
       "<tr class=\"tf\">\n",
       "  <th class=\"tf\">n</th><th class=\"tf\">p</th>\n",
       "  <th class=\"tf\">line</th><th>word</th><th>word</th>\n",
       "</tr>\n",
       "\n",
       "<tr class=\"tf\"><td class=\"tf\">6000</td><td class=\"tf\"> <a href=\"https://cdli.ucla.edu/search/search_results.php?SearchMode=Text&amp;ObjectID=P373015\" title=\"show this document on CDLI\" sec=\"P373015 obverse:12\">P373015 obverse:12</a></td><td class=\"tf\"><span class=\"txtp\">ki-ma <span  class=\"hl\"  style=\"background-color: orange;\" >i-</span><span  class=\"hl\"  style=\"background-color: orange;\" >na </span><span  class=\"hl\"  style=\"background-color: aquamarine;\" >u2-</span><span  class=\"hl\"  style=\"background-color: aquamarine;\" >ri-</span><span  class=\"hl\"  style=\"background-color: aquamarine;\" >im-</span><span  class=\"hl\"  style=\"background-color: aquamarine;\" >ma</span></span></td><td class=\"tf\"><span class=\"txtp\"><span  class=\"hl\"  style=\"background-color: orange;\" >i-</span><span  class=\"hl\"  style=\"background-color: orange;\" >na </span></span></td><td class=\"tf\"><span class=\"txtp\"><span  class=\"hl\"  style=\"background-color: aquamarine;\" >u2-</span><span  class=\"hl\"  style=\"background-color: aquamarine;\" >ri-</span><span  class=\"hl\"  style=\"background-color: aquamarine;\" >im-</span><span  class=\"hl\"  style=\"background-color: aquamarine;\" >ma</span></span></td></tr>\n",
       "<tr class=\"tf\"><td class=\"tf\">6001</td><td class=\"tf\"> <a href=\"https://cdli.ucla.edu/search/search_results.php?SearchMode=Text&amp;ObjectID=P373015\" title=\"show this document on CDLI\" sec=\"P373015 left:1\">P373015 left:1</a></td><td class=\"tf\"><span class=\"txtp\">sza a-wa-ti-sza <span  class=\"hl\"  style=\"background-color: orange;\" >a-</span><span  class=\"hl\"  style=\"background-color: orange;\" >na </span><span  class=\"hl\"  style=\"background-color: aquamarine;\" >ga-</span><span  class=\"hl\"  style=\"background-color: aquamarine;\" >gi-</span><span  class=\"hl\"  style=\"background-color: aquamarine;\" >im </span>ga-am-ra-ti#</span></td><td class=\"tf\"><span class=\"txtp\"><span  class=\"hl\"  style=\"background-color: orange;\" >a-</span><span  class=\"hl\"  style=\"background-color: orange;\" >na </span></span></td><td class=\"tf\"><span class=\"txtp\"><span  class=\"hl\"  style=\"background-color: aquamarine;\" >ga-</span><span  class=\"hl\"  style=\"background-color: aquamarine;\" >gi-</span><span  class=\"hl\"  style=\"background-color: aquamarine;\" >im </span></span></td></tr>\n",
       "<tr class=\"tf\"><td class=\"tf\">6002</td><td class=\"tf\"> <a href=\"https://cdli.ucla.edu/search/search_results.php?SearchMode=Text&amp;ObjectID=P373016\" title=\"show this document on CDLI\" sec=\"P373016 obverse:1\">P373016 obverse:1</a></td><td class=\"tf\"><span class=\"txtp\"><span  class=\"hl\"  style=\"background-color: orange;\" >a-</span><span  class=\"hl\"  style=\"background-color: orange;\" >[na </span><span  class=\"hl\"  style=\"background-color: aquamarine;\" >...]</span></span></td><td class=\"tf\"><span class=\"txtp\"><span  class=\"hl\"  style=\"background-color: orange;\" >a-</span><span  class=\"hl\"  style=\"background-color: orange;\" >[na </span></span></td><td class=\"tf\"><span class=\"txtp\"><span  class=\"hl\"  style=\"background-color: aquamarine;\" >...]</span></span></td></tr>\n",
       "<tr class=\"tf\"><td class=\"tf\">6003</td><td class=\"tf\"> <a href=\"https://cdli.ucla.edu/search/search_results.php?SearchMode=Text&amp;ObjectID=P373016\" title=\"show this document on CDLI\" sec=\"P373016 obverse:9\">P373016 obverse:9</a></td><td class=\"tf\"><span class=\"txtp\"><span  class=\"hl\"  style=\"background-color: orange;\" >isz#-</span><span  class=\"hl\"  style=\"background-color: orange;\" >tu </span><span  class=\"hl\"  style=\"background-color: aquamarine;\" >_&lt;iti> </span>sze-sag11-ku5 u4 1(disz)-kam_</span></td><td class=\"tf\"><span class=\"txtp\"><span  class=\"hl\"  style=\"background-color: orange;\" >isz#-</span><span  class=\"hl\"  style=\"background-color: orange;\" >tu </span></span></td><td class=\"tf\"><span class=\"txtp\"><span  class=\"hl\"  style=\"background-color: aquamarine;\" >_&lt;iti> </span></span></td></tr>\n",
       "<tr class=\"tf\"><td class=\"tf\">6004</td><td class=\"tf\"> <a href=\"https://cdli.ucla.edu/search/search_results.php?SearchMode=Text&amp;ObjectID=P373016\" title=\"show this document on CDLI\" sec=\"P373016 reverse:1\">P373016 reverse:1</a></td><td class=\"tf\"><span class=\"txtp\"><span  class=\"hl\"  style=\"background-color: orange;\" >a-</span><span  class=\"hl\"  style=\"background-color: orange;\" >na </span><span  class=\"hl\"  style=\"background-color: aquamarine;\" >_iri_ </span>kisz{ki}</span></td><td class=\"tf\"><span class=\"txtp\"><span  class=\"hl\"  style=\"background-color: orange;\" >a-</span><span  class=\"hl\"  style=\"background-color: orange;\" >na </span></span></td><td class=\"tf\"><span class=\"txtp\"><span  class=\"hl\"  style=\"background-color: aquamarine;\" >_iri_ </span></span></td></tr>\n",
       "<tr class=\"tf\"><td class=\"tf\">6005</td><td class=\"tf\"> <a href=\"https://cdli.ucla.edu/search/search_results.php?SearchMode=Text&amp;ObjectID=P373016\" title=\"show this document on CDLI\" sec=\"P373016 reverse:4\">P373016 reverse:4</a></td><td class=\"tf\"><span class=\"txtp\"><span  class=\"hl\"  style=\"background-color: orange;\" >a-</span><span  class=\"hl\"  style=\"background-color: orange;\" >na </span><span  class=\"hl\"  style=\"background-color: aquamarine;\" >babila2</span><span  class=\"hl\"  style=\"background-color: aquamarine;\" >{ki}</span></span></td><td class=\"tf\"><span class=\"txtp\"><span  class=\"hl\"  style=\"background-color: orange;\" >a-</span><span  class=\"hl\"  style=\"background-color: orange;\" >na </span></span></td><td class=\"tf\"><span class=\"txtp\"><span  class=\"hl\"  style=\"background-color: aquamarine;\" >babila2</span><span  class=\"hl\"  style=\"background-color: aquamarine;\" >{ki}</span></span></td></tr>\n",
       "<tr class=\"tf\"><td class=\"tf\">6006</td><td class=\"tf\"> <a href=\"https://cdli.ucla.edu/search/search_results.php?SearchMode=Text&amp;ObjectID=P373016\" title=\"show this document on CDLI\" sec=\"P373016 left:2\">P373016 left:2</a></td><td class=\"tf\"><span class=\"txtp\">[u3] ARAD2-{d}nin-szubur <span  class=\"hl\"  style=\"background-color: orange;\" >a-</span><span  class=\"hl\"  style=\"background-color: orange;\" >na </span><span  class=\"hl\"  style=\"background-color: aquamarine;\" >_u4 </span>2(disz)-kam_ i-sa-ni-&lt;qa2>-ki</span></td><td class=\"tf\"><span class=\"txtp\"><span  class=\"hl\"  style=\"background-color: orange;\" >a-</span><span  class=\"hl\"  style=\"background-color: orange;\" >na </span></span></td><td class=\"tf\"><span class=\"txtp\"><span  class=\"hl\"  style=\"background-color: aquamarine;\" >_u4 </span></span></td></tr>\n",
       "<tr class=\"tf\"><td class=\"tf\">6007</td><td class=\"tf\"> <a href=\"https://cdli.ucla.edu/search/search_results.php?SearchMode=Text&amp;ObjectID=P373017\" title=\"show this document on CDLI\" sec=\"P373017 obverse:1\">P373017 obverse:1</a></td><td class=\"tf\"><span class=\"txtp\"><span  class=\"hl\"  style=\"background-color: orange;\" >a-</span><span  class=\"hl\"  style=\"background-color: orange;\" >na </span><span  class=\"hl\"  style=\"background-color: aquamarine;\" >{d}</span><span  class=\"hl\"  style=\"background-color: aquamarine;\" >suen-</span><span  class=\"hl\"  style=\"background-color: aquamarine;\" >ma-</span><span  class=\"hl\"  style=\"background-color: aquamarine;\" >[gir]</span></span></td><td class=\"tf\"><span class=\"txtp\"><span  class=\"hl\"  style=\"background-color: orange;\" >a-</span><span  class=\"hl\"  style=\"background-color: orange;\" >na </span></span></td><td class=\"tf\"><span class=\"txtp\"><span  class=\"hl\"  style=\"background-color: aquamarine;\" >{d}</span><span  class=\"hl\"  style=\"background-color: aquamarine;\" >suen-</span><span  class=\"hl\"  style=\"background-color: aquamarine;\" >ma-</span><span  class=\"hl\"  style=\"background-color: aquamarine;\" >[gir]</span></span></td></tr>\n",
       "<tr class=\"tf\"><td class=\"tf\">6008</td><td class=\"tf\"> <a href=\"https://cdli.ucla.edu/search/search_results.php?SearchMode=Text&amp;ObjectID=P373017\" title=\"show this document on CDLI\" sec=\"P373017 obverse:8\">P373017 obverse:8</a></td><td class=\"tf\"><span class=\"txtp\"><span  class=\"hl\"  style=\"background-color: orange;\" >a-</span><span  class=\"hl\"  style=\"background-color: orange;\" >na </span><span  class=\"hl\"  style=\"background-color: aquamarine;\" >_szuku </span>erin2_ <span  class=\"hl\"  style=\"background-color: orange;\" >a-</span><span  class=\"hl\"  style=\"background-color: orange;\" >na </span><span  class=\"hl\"  style=\"background-color: aquamarine;\" >lu2-</span><span  class=\"hl\"  style=\"background-color: aquamarine;\" >{d}</span><span  class=\"hl\"  style=\"background-color: aquamarine;\" >asal-</span><span  class=\"hl\"  style=\"background-color: aquamarine;\" >lu2-</span><span  class=\"hl\"  style=\"background-color: aquamarine;\" >hi</span></span></td><td class=\"tf\"><span class=\"txtp\"><span  class=\"hl\"  style=\"background-color: orange;\" >a-</span><span  class=\"hl\"  style=\"background-color: orange;\" >na </span></span></td><td class=\"tf\"><span class=\"txtp\"><span  class=\"hl\"  style=\"background-color: aquamarine;\" >_szuku </span></span></td></tr>\n",
       "<tr class=\"tf\"><td class=\"tf\">6009</td><td class=\"tf\"> <a href=\"https://cdli.ucla.edu/search/search_results.php?SearchMode=Text&amp;ObjectID=P373017\" title=\"show this document on CDLI\" sec=\"P373017 obverse:8\">P373017 obverse:8</a></td><td class=\"tf\"><span class=\"txtp\"><span  class=\"hl\"  style=\"background-color: orange;\" >a-</span><span  class=\"hl\"  style=\"background-color: orange;\" >na </span><span  class=\"hl\"  style=\"background-color: aquamarine;\" >_szuku </span>erin2_ <span  class=\"hl\"  style=\"background-color: orange;\" >a-</span><span  class=\"hl\"  style=\"background-color: orange;\" >na </span><span  class=\"hl\"  style=\"background-color: aquamarine;\" >lu2-</span><span  class=\"hl\"  style=\"background-color: aquamarine;\" >{d}</span><span  class=\"hl\"  style=\"background-color: aquamarine;\" >asal-</span><span  class=\"hl\"  style=\"background-color: aquamarine;\" >lu2-</span><span  class=\"hl\"  style=\"background-color: aquamarine;\" >hi</span></span></td><td class=\"tf\"><span class=\"txtp\"><span  class=\"hl\"  style=\"background-color: orange;\" >a-</span><span  class=\"hl\"  style=\"background-color: orange;\" >na </span></span></td><td class=\"tf\"><span class=\"txtp\"><span  class=\"hl\"  style=\"background-color: aquamarine;\" >lu2-</span><span  class=\"hl\"  style=\"background-color: aquamarine;\" >{d}</span><span  class=\"hl\"  style=\"background-color: aquamarine;\" >asal-</span><span  class=\"hl\"  style=\"background-color: aquamarine;\" >lu2-</span><span  class=\"hl\"  style=\"background-color: aquamarine;\" >hi</span></span></td></tr>\n",
       "<tr class=\"tf\"><td class=\"tf\">6010</td><td class=\"tf\"> <a href=\"https://cdli.ucla.edu/search/search_results.php?SearchMode=Text&amp;ObjectID=P373018\" title=\"show this document on CDLI\" sec=\"P373018 obverse:1\">P373018 obverse:1</a></td><td class=\"tf\"><span class=\"txtp\"><span  class=\"hl\"  style=\"background-color: orange;\" >a-</span><span  class=\"hl\"  style=\"background-color: orange;\" >na </span><span  class=\"hl\"  style=\"background-color: aquamarine;\" >{d}</span><span  class=\"hl\"  style=\"background-color: aquamarine;\" >suen-</span><span  class=\"hl\"  style=\"background-color: aquamarine;\" >ub-</span><span  class=\"hl\"  style=\"background-color: aquamarine;\" >lam</span></span></td><td class=\"tf\"><span class=\"txtp\"><span  class=\"hl\"  style=\"background-color: orange;\" >a-</span><span  class=\"hl\"  style=\"background-color: orange;\" >na </span></span></td><td class=\"tf\"><span class=\"txtp\"><span  class=\"hl\"  style=\"background-color: aquamarine;\" >{d}</span><span  class=\"hl\"  style=\"background-color: aquamarine;\" >suen-</span><span  class=\"hl\"  style=\"background-color: aquamarine;\" >ub-</span><span  class=\"hl\"  style=\"background-color: aquamarine;\" >lam</span></span></td></tr></table>"
      ],
      "text/plain": [
       "<IPython.core.display.HTML object>"
      ]
     },
     "metadata": {},
     "output_type": "display_data"
    }
   ],
   "source": [
    "A.table(results, start=6000, end=6010, highlights=highlights)"
   ]
  },
  {
   "cell_type": "markdown",
   "metadata": {},
   "source": [
    "Finally, lets export this table to Excel.\n",
    "\n",
    "We use the function [`A.export()`](https://annotation.github.io/text-fabric/Api/App/#display).\n",
    "\n",
    "If we pass it our results and nothing else, it will write them to `results.tsv`, a file you\n",
    "can open in Excel.\n",
    "\n",
    "We will not see the highlights there, though."
   ]
  },
  {
   "cell_type": "code",
   "execution_count": 33,
   "metadata": {},
   "outputs": [],
   "source": [
    "A.export(results)"
   ]
  },
  {
   "cell_type": "markdown",
   "metadata": {},
   "source": [
    "But we also like it in rich text and in unicode:"
   ]
  },
  {
   "cell_type": "code",
   "execution_count": 34,
   "metadata": {},
   "outputs": [],
   "source": [
    "A.export(results, toFile='resultsRich.tsv', fmt='text-orig-rich')\n",
    "A.export(results, toFile='resultsUnicode.tsv', fmt='text-orig-unicode')"
   ]
  },
  {
   "cell_type": "markdown",
   "metadata": {},
   "source": [
    "Here are a few screenshots:\n",
    "\n",
    "![resultsRich](images/prepExcelRich.png)\n",
    "\n",
    "In the next one we have manually set the font to Santakku in Excel for the relevant columns.\n",
    "\n",
    "![resultsUnicode](images/prepExcelUnicode.png)"
   ]
  },
  {
   "cell_type": "markdown",
   "metadata": {},
   "source": [
    "Note that these Excel files have nearly 7000 rows. \n",
    "\n",
    "You can filter as you like. \n",
    "\n",
    "It is also easy to include more columns with refined information on the basis of which you can group and sort in additional ways."
   ]
  },
  {
   "cell_type": "code",
   "execution_count": null,
   "metadata": {},
   "outputs": [],
   "source": []
  },
  {
   "cell_type": "code",
   "execution_count": null,
   "metadata": {},
   "outputs": [],
   "source": []
  }
 ],
 "metadata": {
  "kernelspec": {
   "display_name": "Python 3",
   "language": "python",
   "name": "python3"
  },
  "language_info": {
   "codemirror_mode": {
    "name": "ipython",
    "version": 3
   },
   "file_extension": ".py",
   "mimetype": "text/x-python",
   "name": "python",
   "nbconvert_exporter": "python",
   "pygments_lexer": "ipython3",
   "version": "3.6.7"
  }
 },
 "nbformat": 4,
 "nbformat_minor": 2
}
